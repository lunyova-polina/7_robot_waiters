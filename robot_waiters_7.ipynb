{
 "cells": [
  {
   "cell_type": "markdown",
   "metadata": {},
   "source": [
    "# Рынок заведений общественного питания Москвы\n",
    "\n"
   ]
  },
  {
   "cell_type": "markdown",
   "metadata": {},
   "source": [
    "Решено открыть небольшое кафе в Москве. Оно оригинальное — гостей должны обслуживать роботы. Проект многообещающий, но дорогой. Чтобы обратиться к инвесторам нужно изложить текущее положение дел на рынке и обьяснить как заведение сможет удержать популярность на долгое время, если посетителям наскучат роботы-официанты.\n",
    "\n",
    "Даны открытые данные о заведениях общественного питания в Москве, с помощью которых нужно сделать общие выводы, дать рекомендации о виде заведения, количестве посадочных мест и локации, а также прокомментировать возможность развития сети.\n",
    "\n",
    "Для этого нужно:\n",
    "- Исследовать соотношение видов объектов общественного питания по количеству;\n",
    "- Исследовать соотношение сетевых и несетевых заведений по количеству;\n",
    "- Установать для какого вида объекта общественного питания характерно сетевое распространение;\n",
    "- Узнать, что характерно для сетевых заведений: много заведений с небольшим числом посадочных мест в каждом или мало заведений с большим количеством посадочных мест?\n",
    "- Описать среднее количество посадочных мест для каждого вида объекта общественного питания. Узнать какой вид предоставляет в среднем самое большое количество посадочных мест;\n",
    "- Построить график с топ-10 улиц по количеству объектов общественного питания;\n",
    "- Найти число улиц с одним объектом общественного питания."
   ]
  },
  {
   "cell_type": "markdown",
   "metadata": {},
   "source": [
    "# Описание данных\n",
    "Таблица rest_data: \n",
    "- `id` — идентификатор объекта;\n",
    "- `object_name` — название объекта общественного питания;\n",
    "- `chain` — сетевой ресторан;\n",
    "- `object_type` — тип объекта общественного питания;\n",
    "- `address` — адрес;\n",
    "- `number` — количество посадочных мест."
   ]
  },
  {
   "cell_type": "markdown",
   "metadata": {},
   "source": [
    "## Предобработка данных"
   ]
  },
  {
   "cell_type": "code",
   "execution_count": 54,
   "metadata": {},
   "outputs": [],
   "source": [
    "import pandas as pd\n",
    "import matplotlib.pyplot as plt\n",
    "from plotly import graph_objects as go\n",
    "import seaborn as sns\n",
    "import plotly.express as px\n",
    "from plotly import graph_objects as go\n",
    "import numpy as np\n",
    "from numpy import median\n",
    "import re"
   ]
  },
  {
   "cell_type": "code",
   "execution_count": 55,
   "metadata": {},
   "outputs": [
    {
     "data": {
      "text/html": [
       "<div>\n",
       "<style scoped>\n",
       "    .dataframe tbody tr th:only-of-type {\n",
       "        vertical-align: middle;\n",
       "    }\n",
       "\n",
       "    .dataframe tbody tr th {\n",
       "        vertical-align: top;\n",
       "    }\n",
       "\n",
       "    .dataframe thead th {\n",
       "        text-align: right;\n",
       "    }\n",
       "</style>\n",
       "<table border=\"1\" class=\"dataframe\">\n",
       "  <thead>\n",
       "    <tr style=\"text-align: right;\">\n",
       "      <th></th>\n",
       "      <th>id</th>\n",
       "      <th>object_name</th>\n",
       "      <th>chain</th>\n",
       "      <th>object_type</th>\n",
       "      <th>address</th>\n",
       "      <th>number</th>\n",
       "    </tr>\n",
       "  </thead>\n",
       "  <tbody>\n",
       "    <tr>\n",
       "      <td>0</td>\n",
       "      <td>151635</td>\n",
       "      <td>СМЕТАНА</td>\n",
       "      <td>нет</td>\n",
       "      <td>кафе</td>\n",
       "      <td>город Москва, улица Егора Абакумова, дом 9</td>\n",
       "      <td>48</td>\n",
       "    </tr>\n",
       "    <tr>\n",
       "      <td>1</td>\n",
       "      <td>77874</td>\n",
       "      <td>Родник</td>\n",
       "      <td>нет</td>\n",
       "      <td>кафе</td>\n",
       "      <td>город Москва, улица Талалихина, дом 2/1, корпус 1</td>\n",
       "      <td>35</td>\n",
       "    </tr>\n",
       "    <tr>\n",
       "      <td>2</td>\n",
       "      <td>24309</td>\n",
       "      <td>Кафе «Академия»</td>\n",
       "      <td>нет</td>\n",
       "      <td>кафе</td>\n",
       "      <td>город Москва, Абельмановская улица, дом 6</td>\n",
       "      <td>95</td>\n",
       "    </tr>\n",
       "    <tr>\n",
       "      <td>3</td>\n",
       "      <td>21894</td>\n",
       "      <td>ПИЦЦЕТОРИЯ</td>\n",
       "      <td>да</td>\n",
       "      <td>кафе</td>\n",
       "      <td>город Москва, Абрамцевская улица, дом 1</td>\n",
       "      <td>40</td>\n",
       "    </tr>\n",
       "    <tr>\n",
       "      <td>4</td>\n",
       "      <td>119365</td>\n",
       "      <td>Кафе «Вишневая метель»</td>\n",
       "      <td>нет</td>\n",
       "      <td>кафе</td>\n",
       "      <td>город Москва, Абрамцевская улица, дом 9, корпус 1</td>\n",
       "      <td>50</td>\n",
       "    </tr>\n",
       "  </tbody>\n",
       "</table>\n",
       "</div>"
      ],
      "text/plain": [
       "       id             object_name chain object_type  \\\n",
       "0  151635                 СМЕТАНА   нет        кафе   \n",
       "1   77874                  Родник   нет        кафе   \n",
       "2   24309         Кафе «Академия»   нет        кафе   \n",
       "3   21894              ПИЦЦЕТОРИЯ    да        кафе   \n",
       "4  119365  Кафе «Вишневая метель»   нет        кафе   \n",
       "\n",
       "                                             address  number  \n",
       "0         город Москва, улица Егора Абакумова, дом 9      48  \n",
       "1  город Москва, улица Талалихина, дом 2/1, корпус 1      35  \n",
       "2          город Москва, Абельмановская улица, дом 6      95  \n",
       "3            город Москва, Абрамцевская улица, дом 1      40  \n",
       "4  город Москва, Абрамцевская улица, дом 9, корпус 1      50  "
      ]
     },
     "metadata": {},
     "output_type": "display_data"
    },
    {
     "name": "stdout",
     "output_type": "stream",
     "text": [
      "<class 'pandas.core.frame.DataFrame'>\n",
      "RangeIndex: 15366 entries, 0 to 15365\n",
      "Data columns (total 6 columns):\n",
      "id             15366 non-null int64\n",
      "object_name    15366 non-null object\n",
      "chain          15366 non-null object\n",
      "object_type    15366 non-null object\n",
      "address        15366 non-null object\n",
      "number         15366 non-null int64\n",
      "dtypes: int64(2), object(4)\n",
      "memory usage: 720.4+ KB\n"
     ]
    },
    {
     "data": {
      "text/plain": [
       "None"
      ]
     },
     "metadata": {},
     "output_type": "display_data"
    },
    {
     "data": {
      "text/html": [
       "<div>\n",
       "<style scoped>\n",
       "    .dataframe tbody tr th:only-of-type {\n",
       "        vertical-align: middle;\n",
       "    }\n",
       "\n",
       "    .dataframe tbody tr th {\n",
       "        vertical-align: top;\n",
       "    }\n",
       "\n",
       "    .dataframe thead th {\n",
       "        text-align: right;\n",
       "    }\n",
       "</style>\n",
       "<table border=\"1\" class=\"dataframe\">\n",
       "  <thead>\n",
       "    <tr style=\"text-align: right;\">\n",
       "      <th></th>\n",
       "      <th>id</th>\n",
       "      <th>number</th>\n",
       "    </tr>\n",
       "  </thead>\n",
       "  <tbody>\n",
       "    <tr>\n",
       "      <td>count</td>\n",
       "      <td>15366.000000</td>\n",
       "      <td>15366.000000</td>\n",
       "    </tr>\n",
       "    <tr>\n",
       "      <td>mean</td>\n",
       "      <td>119720.066901</td>\n",
       "      <td>59.547182</td>\n",
       "    </tr>\n",
       "    <tr>\n",
       "      <td>std</td>\n",
       "      <td>73036.130732</td>\n",
       "      <td>74.736833</td>\n",
       "    </tr>\n",
       "    <tr>\n",
       "      <td>min</td>\n",
       "      <td>838.000000</td>\n",
       "      <td>0.000000</td>\n",
       "    </tr>\n",
       "    <tr>\n",
       "      <td>25%</td>\n",
       "      <td>28524.000000</td>\n",
       "      <td>12.000000</td>\n",
       "    </tr>\n",
       "    <tr>\n",
       "      <td>50%</td>\n",
       "      <td>144974.500000</td>\n",
       "      <td>40.000000</td>\n",
       "    </tr>\n",
       "    <tr>\n",
       "      <td>75%</td>\n",
       "      <td>184262.250000</td>\n",
       "      <td>80.000000</td>\n",
       "    </tr>\n",
       "    <tr>\n",
       "      <td>max</td>\n",
       "      <td>223439.000000</td>\n",
       "      <td>1700.000000</td>\n",
       "    </tr>\n",
       "  </tbody>\n",
       "</table>\n",
       "</div>"
      ],
      "text/plain": [
       "                  id        number\n",
       "count   15366.000000  15366.000000\n",
       "mean   119720.066901     59.547182\n",
       "std     73036.130732     74.736833\n",
       "min       838.000000      0.000000\n",
       "25%     28524.000000     12.000000\n",
       "50%    144974.500000     40.000000\n",
       "75%    184262.250000     80.000000\n",
       "max    223439.000000   1700.000000"
      ]
     },
     "metadata": {},
     "output_type": "display_data"
    }
   ],
   "source": [
    "rest_data = pd.read_csv('/Users/polina_lunyova/Documents/It/projects/7_Как_рассказать_историю_с_помощью_данных/rest_data.csv')\n",
    "display(rest_data.head())\n",
    "display(rest_data.info())\n",
    "display(rest_data.describe())"
   ]
  },
  {
   "cell_type": "code",
   "execution_count": 56,
   "metadata": {},
   "outputs": [],
   "source": [
    "# приведем все записи в стодбцах \"object_name\" и \"address\" к нижнему регистру\n",
    "rest_data['object_name'] = rest_data['object_name'].str.lower()\n",
    "rest_data['address'] = rest_data['address'].str.lower()\n",
    "\n",
    "# переименование записей столбца \"chain\" и \"object_type\"\n",
    "rest_data['chain'] = rest_data['chain'].replace(\"да\", \"сетевое заведение\")\n",
    "rest_data['chain'] = rest_data['chain'].replace(\"нет\", \"несетевое заведение\")\n",
    "rest_data['object_type'] = rest_data['object_type'].replace(\"предприятие быстрого обслуживания\", 'фастфуд')\n",
    "rest_data['object_type'] = rest_data['object_type'].replace(\"магазин (отдел кулинарии)\", 'кулинария')"
   ]
  },
  {
   "cell_type": "code",
   "execution_count": 57,
   "metadata": {},
   "outputs": [
    {
     "data": {
      "text/plain": [
       "id             0\n",
       "object_name    0\n",
       "chain          0\n",
       "object_type    0\n",
       "address        0\n",
       "number         0\n",
       "dtype: int64"
      ]
     },
     "metadata": {},
     "output_type": "display_data"
    },
    {
     "data": {
      "text/plain": [
       "0"
      ]
     },
     "execution_count": 57,
     "metadata": {},
     "output_type": "execute_result"
    }
   ],
   "source": [
    "# смотрим наличие пропусков \n",
    "display(rest_data.isna().sum())\n",
    "\n",
    "# наличие дубликатов\n",
    "rest_data.duplicated().sum()"
   ]
  },
  {
   "cell_type": "markdown",
   "metadata": {},
   "source": [
    "Столбцы id  и number могут влиять на наличие дубликатов тем, что адрес, название и тип заведения могут совпадать, поэтому посмотрим дубликаты в самих столбцах с данными. "
   ]
  },
  {
   "cell_type": "code",
   "execution_count": 58,
   "metadata": {},
   "outputs": [
    {
     "name": "stdout",
     "output_type": "stream",
     "text": [
      "Количество дубликатов в данных: 183\n"
     ]
    }
   ],
   "source": [
    "# посмотрим дубликаты в самих столбцах с данными\n",
    "print('Количество дубликатов в данных:', rest_data.duplicated(subset=['object_name', 'chain', 'object_type', 'address']).sum())"
   ]
  },
  {
   "cell_type": "markdown",
   "metadata": {},
   "source": [
    "Действительно, имеются дубликаты. Рассмотрим эти данные ближе, т.к. это могут быть сетевые заведения находящиеся в одном здании."
   ]
  },
  {
   "cell_type": "code",
   "execution_count": 59,
   "metadata": {},
   "outputs": [
    {
     "data": {
      "text/html": [
       "<div>\n",
       "<style scoped>\n",
       "    .dataframe tbody tr th:only-of-type {\n",
       "        vertical-align: middle;\n",
       "    }\n",
       "\n",
       "    .dataframe tbody tr th {\n",
       "        vertical-align: top;\n",
       "    }\n",
       "\n",
       "    .dataframe thead th {\n",
       "        text-align: right;\n",
       "    }\n",
       "</style>\n",
       "<table border=\"1\" class=\"dataframe\">\n",
       "  <thead>\n",
       "    <tr style=\"text-align: right;\">\n",
       "      <th></th>\n",
       "      <th>id</th>\n",
       "      <th>object_name</th>\n",
       "      <th>chain</th>\n",
       "      <th>object_type</th>\n",
       "      <th>address</th>\n",
       "      <th>number</th>\n",
       "    </tr>\n",
       "  </thead>\n",
       "  <tbody>\n",
       "    <tr>\n",
       "      <td>115</td>\n",
       "      <td>28614</td>\n",
       "      <td>комбинат питания мгту им.н.э.баумана</td>\n",
       "      <td>несетевое заведение</td>\n",
       "      <td>буфет</td>\n",
       "      <td>город москва, бригадирский переулок, дом 3-5</td>\n",
       "      <td>12</td>\n",
       "    </tr>\n",
       "    <tr>\n",
       "      <td>580</td>\n",
       "      <td>149205</td>\n",
       "      <td>общественное питание</td>\n",
       "      <td>несетевое заведение</td>\n",
       "      <td>кафе</td>\n",
       "      <td>город москва, павелецкая площадь, дом 1</td>\n",
       "      <td>35</td>\n",
       "    </tr>\n",
       "    <tr>\n",
       "      <td>581</td>\n",
       "      <td>149131</td>\n",
       "      <td>общественное питание</td>\n",
       "      <td>несетевое заведение</td>\n",
       "      <td>кафе</td>\n",
       "      <td>город москва, павелецкая площадь, дом 1</td>\n",
       "      <td>39</td>\n",
       "    </tr>\n",
       "    <tr>\n",
       "      <td>1409</td>\n",
       "      <td>151267</td>\n",
       "      <td>альфорно</td>\n",
       "      <td>несетевое заведение</td>\n",
       "      <td>кафе</td>\n",
       "      <td>город москва, город зеленоград, корпус 438</td>\n",
       "      <td>45</td>\n",
       "    </tr>\n",
       "    <tr>\n",
       "      <td>2375</td>\n",
       "      <td>28604</td>\n",
       "      <td>комбинат питания мгту им.н.э.баумана</td>\n",
       "      <td>несетевое заведение</td>\n",
       "      <td>столовая</td>\n",
       "      <td>город москва, 2-я бауманская улица, дом 5, стр...</td>\n",
       "      <td>150</td>\n",
       "    </tr>\n",
       "  </tbody>\n",
       "</table>\n",
       "</div>"
      ],
      "text/plain": [
       "          id                           object_name                chain  \\\n",
       "115    28614  комбинат питания мгту им.н.э.баумана  несетевое заведение   \n",
       "580   149205                  общественное питание  несетевое заведение   \n",
       "581   149131                  общественное питание  несетевое заведение   \n",
       "1409  151267                              альфорно  несетевое заведение   \n",
       "2375   28604  комбинат питания мгту им.н.э.баумана  несетевое заведение   \n",
       "\n",
       "     object_type                                            address  number  \n",
       "115        буфет       город москва, бригадирский переулок, дом 3-5      12  \n",
       "580         кафе            город москва, павелецкая площадь, дом 1      35  \n",
       "581         кафе            город москва, павелецкая площадь, дом 1      39  \n",
       "1409        кафе         город москва, город зеленоград, корпус 438      45  \n",
       "2375    столовая  город москва, 2-я бауманская улица, дом 5, стр...     150  "
      ]
     },
     "execution_count": 59,
     "metadata": {},
     "output_type": "execute_result"
    }
   ],
   "source": [
    "# посмотрим эти данные \n",
    "rest_data[rest_data.duplicated(subset=['object_name', 'chain', 'object_type', 'address'])].head()"
   ]
  },
  {
   "cell_type": "code",
   "execution_count": 60,
   "metadata": {},
   "outputs": [
    {
     "data": {
      "text/html": [
       "<div>\n",
       "<style scoped>\n",
       "    .dataframe tbody tr th:only-of-type {\n",
       "        vertical-align: middle;\n",
       "    }\n",
       "\n",
       "    .dataframe tbody tr th {\n",
       "        vertical-align: top;\n",
       "    }\n",
       "\n",
       "    .dataframe thead th {\n",
       "        text-align: right;\n",
       "    }\n",
       "</style>\n",
       "<table border=\"1\" class=\"dataframe\">\n",
       "  <thead>\n",
       "    <tr style=\"text-align: right;\">\n",
       "      <th></th>\n",
       "      <th>id</th>\n",
       "      <th>object_name</th>\n",
       "      <th>chain</th>\n",
       "      <th>object_type</th>\n",
       "      <th>address</th>\n",
       "      <th>number</th>\n",
       "    </tr>\n",
       "  </thead>\n",
       "  <tbody>\n",
       "    <tr>\n",
       "      <td>0</td>\n",
       "      <td>151635</td>\n",
       "      <td>сметана</td>\n",
       "      <td>несетевое заведение</td>\n",
       "      <td>кафе</td>\n",
       "      <td>город москва, улица егора абакумова, дом 9</td>\n",
       "      <td>48</td>\n",
       "    </tr>\n",
       "    <tr>\n",
       "      <td>1</td>\n",
       "      <td>77874</td>\n",
       "      <td>родник</td>\n",
       "      <td>несетевое заведение</td>\n",
       "      <td>кафе</td>\n",
       "      <td>город москва, улица талалихина, дом 2/1, корпус 1</td>\n",
       "      <td>35</td>\n",
       "    </tr>\n",
       "    <tr>\n",
       "      <td>2</td>\n",
       "      <td>24309</td>\n",
       "      <td>кафе «академия»</td>\n",
       "      <td>несетевое заведение</td>\n",
       "      <td>кафе</td>\n",
       "      <td>город москва, абельмановская улица, дом 6</td>\n",
       "      <td>95</td>\n",
       "    </tr>\n",
       "    <tr>\n",
       "      <td>3</td>\n",
       "      <td>21894</td>\n",
       "      <td>пиццетория</td>\n",
       "      <td>сетевое заведение</td>\n",
       "      <td>кафе</td>\n",
       "      <td>город москва, абрамцевская улица, дом 1</td>\n",
       "      <td>40</td>\n",
       "    </tr>\n",
       "    <tr>\n",
       "      <td>4</td>\n",
       "      <td>119365</td>\n",
       "      <td>кафе «вишневая метель»</td>\n",
       "      <td>несетевое заведение</td>\n",
       "      <td>кафе</td>\n",
       "      <td>город москва, абрамцевская улица, дом 9, корпус 1</td>\n",
       "      <td>50</td>\n",
       "    </tr>\n",
       "  </tbody>\n",
       "</table>\n",
       "</div>"
      ],
      "text/plain": [
       "       id             object_name                chain object_type  \\\n",
       "0  151635                 сметана  несетевое заведение        кафе   \n",
       "1   77874                  родник  несетевое заведение        кафе   \n",
       "2   24309         кафе «академия»  несетевое заведение        кафе   \n",
       "3   21894              пиццетория    сетевое заведение        кафе   \n",
       "4  119365  кафе «вишневая метель»  несетевое заведение        кафе   \n",
       "\n",
       "                                             address  number  \n",
       "0         город москва, улица егора абакумова, дом 9      48  \n",
       "1  город москва, улица талалихина, дом 2/1, корпус 1      35  \n",
       "2          город москва, абельмановская улица, дом 6      95  \n",
       "3            город москва, абрамцевская улица, дом 1      40  \n",
       "4  город москва, абрамцевская улица, дом 9, корпус 1      50  "
      ]
     },
     "execution_count": 60,
     "metadata": {},
     "output_type": "execute_result"
    }
   ],
   "source": [
    "# удалим имеющиеся дубликаты\n",
    "rest_data = rest_data.drop_duplicates(subset=['object_name', 'chain', 'object_type', 'address']).reset_index(drop=True)\n",
    "rest_data.head()"
   ]
  },
  {
   "cell_type": "code",
   "execution_count": 61,
   "metadata": {},
   "outputs": [
    {
     "data": {
      "text/plain": [
       "0      1583\n",
       "40      826\n",
       "20      716\n",
       "30      678\n",
       "10      627\n",
       "       ... \n",
       "491       1\n",
       "675       1\n",
       "455       1\n",
       "167       1\n",
       "495       1\n",
       "Name: number, Length: 315, dtype: int64"
      ]
     },
     "execution_count": 61,
     "metadata": {},
     "output_type": "execute_result"
    }
   ],
   "source": [
    "# посмотрим распределение значений в столбце 'number'\n",
    "rest_data['number'].value_counts() "
   ]
  },
  {
   "cell_type": "markdown",
   "metadata": {},
   "source": [
    "Данные в столбце с количеством посадочных мест распределены следующим образом: с увеличением количества мест уменьшается количество сетей, т.е. у большенства заведений наименьшее количество посадочных мест. Возможно больших(по количетству) ресторанов не так много(2-3 обьекта на сеть), а маленьких обьектов общественного питания большенство.\n",
    "\n",
    "Удалены дубликаты т.к. это несетевые заведения, что противоречит предположению об метсонахождении в одном здании."
   ]
  },
  {
   "cell_type": "markdown",
   "metadata": {},
   "source": [
    " Данные преобразованы и готовы к дальнейшему анализу."
   ]
  },
  {
   "cell_type": "markdown",
   "metadata": {},
   "source": [
    "## Анализ данных"
   ]
  },
  {
   "cell_type": "markdown",
   "metadata": {},
   "source": [
    "# Cоотношение видов объектов общественного питания по количеству"
   ]
  },
  {
   "cell_type": "code",
   "execution_count": 62,
   "metadata": {},
   "outputs": [
    {
     "data": {
      "text/html": [
       "<div>\n",
       "<style scoped>\n",
       "    .dataframe tbody tr th:only-of-type {\n",
       "        vertical-align: middle;\n",
       "    }\n",
       "\n",
       "    .dataframe tbody tr th {\n",
       "        vertical-align: top;\n",
       "    }\n",
       "\n",
       "    .dataframe thead th {\n",
       "        text-align: right;\n",
       "    }\n",
       "</style>\n",
       "<table border=\"1\" class=\"dataframe\">\n",
       "  <thead>\n",
       "    <tr style=\"text-align: right;\">\n",
       "      <th></th>\n",
       "      <th>object_type</th>\n",
       "      <th>count</th>\n",
       "      <th>persent</th>\n",
       "    </tr>\n",
       "  </thead>\n",
       "  <tbody>\n",
       "    <tr>\n",
       "      <td>0</td>\n",
       "      <td>кафе</td>\n",
       "      <td>6008</td>\n",
       "      <td>39.57</td>\n",
       "    </tr>\n",
       "    <tr>\n",
       "      <td>1</td>\n",
       "      <td>столовая</td>\n",
       "      <td>2575</td>\n",
       "      <td>16.96</td>\n",
       "    </tr>\n",
       "    <tr>\n",
       "      <td>2</td>\n",
       "      <td>ресторан</td>\n",
       "      <td>2275</td>\n",
       "      <td>14.98</td>\n",
       "    </tr>\n",
       "    <tr>\n",
       "      <td>3</td>\n",
       "      <td>фастфуд</td>\n",
       "      <td>1890</td>\n",
       "      <td>12.45</td>\n",
       "    </tr>\n",
       "    <tr>\n",
       "      <td>4</td>\n",
       "      <td>бар</td>\n",
       "      <td>853</td>\n",
       "      <td>5.62</td>\n",
       "    </tr>\n",
       "    <tr>\n",
       "      <td>5</td>\n",
       "      <td>буфет</td>\n",
       "      <td>570</td>\n",
       "      <td>3.75</td>\n",
       "    </tr>\n",
       "    <tr>\n",
       "      <td>6</td>\n",
       "      <td>кафетерий</td>\n",
       "      <td>393</td>\n",
       "      <td>2.59</td>\n",
       "    </tr>\n",
       "    <tr>\n",
       "      <td>7</td>\n",
       "      <td>закусочная</td>\n",
       "      <td>347</td>\n",
       "      <td>2.29</td>\n",
       "    </tr>\n",
       "    <tr>\n",
       "      <td>8</td>\n",
       "      <td>кулинария</td>\n",
       "      <td>272</td>\n",
       "      <td>1.79</td>\n",
       "    </tr>\n",
       "  </tbody>\n",
       "</table>\n",
       "</div>"
      ],
      "text/plain": [
       "  object_type  count  persent\n",
       "0        кафе   6008    39.57\n",
       "1    столовая   2575    16.96\n",
       "2    ресторан   2275    14.98\n",
       "3     фастфуд   1890    12.45\n",
       "4         бар    853     5.62\n",
       "5       буфет    570     3.75\n",
       "6   кафетерий    393     2.59\n",
       "7  закусочная    347     2.29\n",
       "8   кулинария    272     1.79"
      ]
     },
     "execution_count": 62,
     "metadata": {},
     "output_type": "execute_result"
    }
   ],
   "source": [
    "object_type = (\n",
    "    rest_data\n",
    "    .pivot_table(index='object_type', values='id', aggfunc='count')\n",
    "    .sort_values(by='id', ascending=False)\n",
    "    .reset_index()\n",
    ")\n",
    "object_type.columns = ['object_type', 'count']\n",
    "object_type['persent'] = (object_type['count'] / object_type['count'].sum() * 100).round(2)\n",
    "object_type"
   ]
  },
  {
   "cell_type": "code",
   "execution_count": 64,
   "metadata": {
    "scrolled": true
   },
   "outputs": [
    {
     "ename": "ValueError",
     "evalue": "Invalid property specified for object of type plotly.graph_objs.Bar: 'texttemplate'\n\n    Valid properties:\n        alignmentgroup\n            Set several traces linked to the same position axis or\n            matching axes to the same alignmentgroup. This controls\n            whether bars compute their positional range dependently\n            or independently.\n        base\n            Sets where the bar base is drawn (in position axis\n            units). In \"stack\" or \"relative\" barmode, traces that\n            set \"base\" will be excluded and drawn in \"overlay\" mode\n            instead.\n        basesrc\n            Sets the source reference on plot.ly for  base .\n        cliponaxis\n            Determines whether the text nodes are clipped about the\n            subplot axes. To show the text nodes above axis lines\n            and tick labels, make sure to set `xaxis.layer` and\n            `yaxis.layer` to *below traces*.\n        constraintext\n            Constrain the size of text inside or outside a bar to\n            be no larger than the bar itself.\n        customdata\n            Assigns extra data each datum. This may be useful when\n            listening to hover, click and selection events. Note\n            that, \"scatter\" traces also appends customdata items in\n            the markers DOM elements\n        customdatasrc\n            Sets the source reference on plot.ly for  customdata .\n        dx\n            Sets the x coordinate step. See `x0` for more info.\n        dy\n            Sets the y coordinate step. See `y0` for more info.\n        error_x\n            plotly.graph_objects.bar.ErrorX instance or dict with\n            compatible properties\n        error_y\n            plotly.graph_objects.bar.ErrorY instance or dict with\n            compatible properties\n        hoverinfo\n            Determines which trace information appear on hover. If\n            `none` or `skip` are set, no information is displayed\n            upon hovering. But, if `none` is set, click and hover\n            events are still fired.\n        hoverinfosrc\n            Sets the source reference on plot.ly for  hoverinfo .\n        hoverlabel\n            plotly.graph_objects.bar.Hoverlabel instance or dict\n            with compatible properties\n        hovertemplate\n            Template string used for rendering the information that\n            appear on hover box. Note that this will override\n            `hoverinfo`. Variables are inserted using %{variable},\n            for example \"y: %{y}\". Numbers are formatted using\n            d3-format's syntax %{variable:d3-format}, for example\n            \"Price: %{y:$.2f}\". https://github.com/d3/d3-3.x-api-\n            reference/blob/master/Formatting.md#d3_format for\n            details on the formatting syntax. The variables\n            available in `hovertemplate` are the ones emitted as\n            event data described at this link\n            https://plot.ly/javascript/plotlyjs-events/#event-data.\n            Additionally, every attributes that can be specified\n            per-point (the ones that are `arrayOk: true`) are\n            available.  Anything contained in tag `<extra>` is\n            displayed in the secondary box, for example\n            \"<extra>{fullData.name}</extra>\". To hide the secondary\n            box completely, use an empty tag `<extra></extra>`.\n        hovertemplatesrc\n            Sets the source reference on plot.ly for  hovertemplate\n            .\n        hovertext\n            Sets hover text elements associated with each (x,y)\n            pair. If a single string, the same string appears over\n            all the data points. If an array of string, the items\n            are mapped in order to the this trace's (x,y)\n            coordinates. To be seen, trace `hoverinfo` must contain\n            a \"text\" flag.\n        hovertextsrc\n            Sets the source reference on plot.ly for  hovertext .\n        ids\n            Assigns id labels to each datum. These ids for object\n            constancy of data points during animation. Should be an\n            array of strings, not numbers or any other type.\n        idssrc\n            Sets the source reference on plot.ly for  ids .\n        insidetextanchor\n            Determines if texts are kept at center or start/end\n            points in `textposition` \"inside\" mode.\n        insidetextfont\n            Sets the font used for `text` lying inside the bar.\n        legendgroup\n            Sets the legend group for this trace. Traces part of\n            the same legend group hide/show at the same time when\n            toggling legend items.\n        marker\n            plotly.graph_objects.bar.Marker instance or dict with\n            compatible properties\n        meta\n            Assigns extra meta information associated with this\n            trace that can be used in various text attributes.\n            Attributes such as trace `name`, graph, axis and\n            colorbar `title.text`, annotation `text`\n            `rangeselector`, `updatemenues` and `sliders` `label`\n            text all support `meta`. To access the trace `meta`\n            values in an attribute in the same trace, simply use\n            `%{meta[i]}` where `i` is the index or key of the\n            `meta` item in question. To access trace `meta` in\n            layout attributes, use `%{data[n[.meta[i]}` where `i`\n            is the index or key of the `meta` and `n` is the trace\n            index.\n        metasrc\n            Sets the source reference on plot.ly for  meta .\n        name\n            Sets the trace name. The trace name appear as the\n            legend item and on hover.\n        offset\n            Shifts the position where the bar is drawn (in position\n            axis units). In \"group\" barmode, traces that set\n            \"offset\" will be excluded and drawn in \"overlay\" mode\n            instead.\n        offsetgroup\n            Set several traces linked to the same position axis or\n            matching axes to the same offsetgroup where bars of the\n            same position coordinate will line up.\n        offsetsrc\n            Sets the source reference on plot.ly for  offset .\n        opacity\n            Sets the opacity of the trace.\n        orientation\n            Sets the orientation of the bars. With \"v\" (\"h\"), the\n            value of the each bar spans along the vertical\n            (horizontal).\n        outsidetextfont\n            Sets the font used for `text` lying outside the bar.\n        r\n            r coordinates in scatter traces are deprecated!Please\n            switch to the \"scatterpolar\" trace type.Sets the radial\n            coordinatesfor legacy polar chart only.\n        rsrc\n            Sets the source reference on plot.ly for  r .\n        selected\n            plotly.graph_objects.bar.Selected instance or dict with\n            compatible properties\n        selectedpoints\n            Array containing integer indices of selected points.\n            Has an effect only for traces that support selections.\n            Note that an empty array means an empty selection where\n            the `unselected` are turned on for all points, whereas,\n            any other non-array values means no selection all where\n            the `selected` and `unselected` styles have no effect.\n        showlegend\n            Determines whether or not an item corresponding to this\n            trace is shown in the legend.\n        stream\n            plotly.graph_objects.bar.Stream instance or dict with\n            compatible properties\n        t\n            t coordinates in scatter traces are deprecated!Please\n            switch to the \"scatterpolar\" trace type.Sets the\n            angular coordinatesfor legacy polar chart only.\n        text\n            Sets text elements associated with each (x,y) pair. If\n            a single string, the same string appears over all the\n            data points. If an array of string, the items are\n            mapped in order to the this trace's (x,y) coordinates.\n            If trace `hoverinfo` contains a \"text\" flag and\n            \"hovertext\" is not set, these elements will be seen in\n            the hover labels.\n        textangle\n            Sets the angle of the tick labels with respect to the\n            bar. For example, a `tickangle` of -90 draws the tick\n            labels vertically. With \"auto\" the texts may\n            automatically be rotated to fit with the maximum size\n            in bars.\n        textfont\n            Sets the font used for `text`.\n        textposition\n            Specifies the location of the `text`. \"inside\"\n            positions `text` inside, next to the bar end (rotated\n            and scaled if needed). \"outside\" positions `text`\n            outside, next to the bar end (scaled if needed), unless\n            there is another bar stacked on this one, then the text\n            gets pushed inside. \"auto\" tries to position `text`\n            inside the bar, but if the bar is too small and no bar\n            is stacked on this one the text is moved outside.\n        textpositionsrc\n            Sets the source reference on plot.ly for  textposition\n            .\n        textsrc\n            Sets the source reference on plot.ly for  text .\n        tsrc\n            Sets the source reference on plot.ly for  t .\n        uid\n            Assign an id to this trace, Use this to provide object\n            constancy between traces during animations and\n            transitions.\n        uirevision\n            Controls persistence of some user-driven changes to the\n            trace: `constraintrange` in `parcoords` traces, as well\n            as some `editable: true` modifications such as `name`\n            and `colorbar.title`. Defaults to `layout.uirevision`.\n            Note that other user-driven trace attribute changes are\n            controlled by `layout` attributes: `trace.visible` is\n            controlled by `layout.legend.uirevision`,\n            `selectedpoints` is controlled by\n            `layout.selectionrevision`, and `colorbar.(x|y)`\n            (accessible with `config: {editable: true}`) is\n            controlled by `layout.editrevision`. Trace changes are\n            tracked by `uid`, which only falls back on trace index\n            if no `uid` is provided. So if your app can add/remove\n            traces before the end of the `data` array, such that\n            the same trace has a different index, you can still\n            preserve user-driven changes if you give each trace a\n            `uid` that stays with it as it moves.\n        unselected\n            plotly.graph_objects.bar.Unselected instance or dict\n            with compatible properties\n        visible\n            Determines whether or not this trace is visible. If\n            \"legendonly\", the trace is not drawn, but can appear as\n            a legend item (provided that the legend itself is\n            visible).\n        width\n            Sets the bar width (in position axis units).\n        widthsrc\n            Sets the source reference on plot.ly for  width .\n        x\n            Sets the x coordinates.\n        x0\n            Alternate to `x`. Builds a linear space of x\n            coordinates. Use with `dx` where `x0` is the starting\n            coordinate and `dx` the step.\n        xaxis\n            Sets a reference between this trace's x coordinates and\n            a 2D cartesian x axis. If \"x\" (the default value), the\n            x coordinates refer to `layout.xaxis`. If \"x2\", the x\n            coordinates refer to `layout.xaxis2`, and so on.\n        xcalendar\n            Sets the calendar system to use with `x` date data.\n        xsrc\n            Sets the source reference on plot.ly for  x .\n        y\n            Sets the y coordinates.\n        y0\n            Alternate to `y`. Builds a linear space of y\n            coordinates. Use with `dy` where `y0` is the starting\n            coordinate and `dy` the step.\n        yaxis\n            Sets a reference between this trace's y coordinates and\n            a 2D cartesian y axis. If \"y\" (the default value), the\n            y coordinates refer to `layout.yaxis`. If \"y2\", the y\n            coordinates refer to `layout.yaxis2`, and so on.\n        ycalendar\n            Sets the calendar system to use with `y` date data.\n        ysrc\n            Sets the source reference on plot.ly for  y .\n        ",
     "output_type": "error",
     "traceback": [
      "\u001b[0;31m---------------------------------------------------------------------------\u001b[0m",
      "\u001b[0;31mValueError\u001b[0m                                Traceback (most recent call last)",
      "\u001b[0;32m<ipython-input-64-291e81d58fd6>\u001b[0m in \u001b[0;36m<module>\u001b[0;34m\u001b[0m\n\u001b[1;32m      2\u001b[0m \u001b[0mfig\u001b[0m \u001b[0;34m=\u001b[0m \u001b[0mpx\u001b[0m\u001b[0;34m.\u001b[0m\u001b[0mbar\u001b[0m\u001b[0;34m(\u001b[0m\u001b[0mobject_type\u001b[0m\u001b[0;34m,\u001b[0m \u001b[0mx\u001b[0m\u001b[0;34m=\u001b[0m\u001b[0;34m'object_type'\u001b[0m\u001b[0;34m,\u001b[0m \u001b[0my\u001b[0m\u001b[0;34m=\u001b[0m\u001b[0;34m'persent'\u001b[0m\u001b[0;34m,\u001b[0m \u001b[0mtitle\u001b[0m\u001b[0;34m=\u001b[0m\u001b[0;34m'Cоотношение видов объектов общественного питания'\u001b[0m\u001b[0;34m,\u001b[0m \u001b[0mtext\u001b[0m\u001b[0;34m=\u001b[0m\u001b[0;34m'persent'\u001b[0m\u001b[0;34m,\u001b[0m \u001b[0mheight\u001b[0m\u001b[0;34m=\u001b[0m\u001b[0;36m700\u001b[0m\u001b[0;34m,\u001b[0m \u001b[0mwidth\u001b[0m\u001b[0;34m=\u001b[0m\u001b[0;36m700\u001b[0m\u001b[0;34m)\u001b[0m\u001b[0;34m\u001b[0m\u001b[0;34m\u001b[0m\u001b[0m\n\u001b[1;32m      3\u001b[0m \u001b[0mfig\u001b[0m\u001b[0;34m.\u001b[0m\u001b[0mupdate_xaxes\u001b[0m\u001b[0;34m(\u001b[0m\u001b[0mtickangle\u001b[0m\u001b[0;34m=\u001b[0m\u001b[0;36m45\u001b[0m\u001b[0;34m)\u001b[0m\u001b[0;34m\u001b[0m\u001b[0;34m\u001b[0m\u001b[0m\n\u001b[0;32m----> 4\u001b[0;31m \u001b[0mfig\u001b[0m\u001b[0;34m.\u001b[0m\u001b[0mupdate_traces\u001b[0m\u001b[0;34m(\u001b[0m\u001b[0mtexttemplate\u001b[0m\u001b[0;34m=\u001b[0m\u001b[0;34m'%{text:.4s}'\u001b[0m\u001b[0;34m,\u001b[0m \u001b[0mtextposition\u001b[0m\u001b[0;34m=\u001b[0m\u001b[0;34m'inside'\u001b[0m\u001b[0;34m)\u001b[0m\u001b[0;34m\u001b[0m\u001b[0;34m\u001b[0m\u001b[0m\n\u001b[0m\u001b[1;32m      5\u001b[0m \u001b[0mfig\u001b[0m\u001b[0;34m.\u001b[0m\u001b[0mupdate_layout\u001b[0m\u001b[0;34m(\u001b[0m\u001b[0muniformtext_minsize\u001b[0m\u001b[0;34m=\u001b[0m\u001b[0;36m8\u001b[0m\u001b[0;34m,\u001b[0m \u001b[0muniformtext_mode\u001b[0m\u001b[0;34m=\u001b[0m\u001b[0;34m'hide'\u001b[0m\u001b[0;34m,\u001b[0m \u001b[0mxaxis_title\u001b[0m\u001b[0;34m=\u001b[0m\u001b[0;34m\"Тип объекта общественного питания\"\u001b[0m\u001b[0;34m,\u001b[0m \u001b[0myaxis_title\u001b[0m\u001b[0;34m=\u001b[0m\u001b[0;34m\"Доля от общего числа, %\"\u001b[0m\u001b[0;34m)\u001b[0m\u001b[0;34m\u001b[0m\u001b[0;34m\u001b[0m\u001b[0m\n\u001b[1;32m      6\u001b[0m \u001b[0mfig\u001b[0m\u001b[0;34m.\u001b[0m\u001b[0mshow\u001b[0m\u001b[0;34m(\u001b[0m\u001b[0;34m)\u001b[0m\u001b[0;34m\u001b[0m\u001b[0;34m\u001b[0m\u001b[0m\n",
      "\u001b[0;32m~/opt/anaconda3/envs/praktikum_env_macos/lib/python3.7/site-packages/plotly/basedatatypes.py\u001b[0m in \u001b[0;36mupdate_traces\u001b[0;34m(self, patch, selector, row, col, secondary_y, **kwargs)\u001b[0m\n\u001b[1;32m    891\u001b[0m             \u001b[0mselector\u001b[0m\u001b[0;34m=\u001b[0m\u001b[0mselector\u001b[0m\u001b[0;34m,\u001b[0m \u001b[0mrow\u001b[0m\u001b[0;34m=\u001b[0m\u001b[0mrow\u001b[0m\u001b[0;34m,\u001b[0m \u001b[0mcol\u001b[0m\u001b[0;34m=\u001b[0m\u001b[0mcol\u001b[0m\u001b[0;34m,\u001b[0m \u001b[0msecondary_y\u001b[0m\u001b[0;34m=\u001b[0m\u001b[0msecondary_y\u001b[0m\u001b[0;34m\u001b[0m\u001b[0;34m\u001b[0m\u001b[0m\n\u001b[1;32m    892\u001b[0m         ):\n\u001b[0;32m--> 893\u001b[0;31m             \u001b[0mtrace\u001b[0m\u001b[0;34m.\u001b[0m\u001b[0mupdate\u001b[0m\u001b[0;34m(\u001b[0m\u001b[0mpatch\u001b[0m\u001b[0;34m,\u001b[0m \u001b[0;34m**\u001b[0m\u001b[0mkwargs\u001b[0m\u001b[0;34m)\u001b[0m\u001b[0;34m\u001b[0m\u001b[0;34m\u001b[0m\u001b[0m\n\u001b[0m\u001b[1;32m    894\u001b[0m         \u001b[0;32mreturn\u001b[0m \u001b[0mself\u001b[0m\u001b[0;34m\u001b[0m\u001b[0;34m\u001b[0m\u001b[0m\n\u001b[1;32m    895\u001b[0m \u001b[0;34m\u001b[0m\u001b[0m\n",
      "\u001b[0;32m~/opt/anaconda3/envs/praktikum_env_macos/lib/python3.7/site-packages/plotly/basedatatypes.py\u001b[0m in \u001b[0;36mupdate\u001b[0;34m(self, dict1, **kwargs)\u001b[0m\n\u001b[1;32m   3554\u001b[0m             \u001b[0;32mwith\u001b[0m \u001b[0mself\u001b[0m\u001b[0;34m.\u001b[0m\u001b[0mfigure\u001b[0m\u001b[0;34m.\u001b[0m\u001b[0mbatch_update\u001b[0m\u001b[0;34m(\u001b[0m\u001b[0;34m)\u001b[0m\u001b[0;34m:\u001b[0m\u001b[0;34m\u001b[0m\u001b[0;34m\u001b[0m\u001b[0m\n\u001b[1;32m   3555\u001b[0m                 \u001b[0mBaseFigure\u001b[0m\u001b[0;34m.\u001b[0m\u001b[0m_perform_update\u001b[0m\u001b[0;34m(\u001b[0m\u001b[0mself\u001b[0m\u001b[0;34m,\u001b[0m \u001b[0mdict1\u001b[0m\u001b[0;34m)\u001b[0m\u001b[0;34m\u001b[0m\u001b[0;34m\u001b[0m\u001b[0m\n\u001b[0;32m-> 3556\u001b[0;31m                 \u001b[0mBaseFigure\u001b[0m\u001b[0;34m.\u001b[0m\u001b[0m_perform_update\u001b[0m\u001b[0;34m(\u001b[0m\u001b[0mself\u001b[0m\u001b[0;34m,\u001b[0m \u001b[0mkwargs\u001b[0m\u001b[0;34m)\u001b[0m\u001b[0;34m\u001b[0m\u001b[0;34m\u001b[0m\u001b[0m\n\u001b[0m\u001b[1;32m   3557\u001b[0m         \u001b[0;32melse\u001b[0m\u001b[0;34m:\u001b[0m\u001b[0;34m\u001b[0m\u001b[0;34m\u001b[0m\u001b[0m\n\u001b[1;32m   3558\u001b[0m             \u001b[0mBaseFigure\u001b[0m\u001b[0;34m.\u001b[0m\u001b[0m_perform_update\u001b[0m\u001b[0;34m(\u001b[0m\u001b[0mself\u001b[0m\u001b[0;34m,\u001b[0m \u001b[0mdict1\u001b[0m\u001b[0;34m)\u001b[0m\u001b[0;34m\u001b[0m\u001b[0;34m\u001b[0m\u001b[0m\n",
      "\u001b[0;32m~/opt/anaconda3/envs/praktikum_env_macos/lib/python3.7/site-packages/plotly/basedatatypes.py\u001b[0m in \u001b[0;36m_perform_update\u001b[0;34m(plotly_obj, update_obj)\u001b[0m\n\u001b[1;32m   2737\u001b[0m             \u001b[0minvalid_props\u001b[0m \u001b[0;34m=\u001b[0m \u001b[0;34m[\u001b[0m\u001b[0mk\u001b[0m \u001b[0;32mfor\u001b[0m \u001b[0mk\u001b[0m \u001b[0;32min\u001b[0m \u001b[0mupdate_obj\u001b[0m \u001b[0;32mif\u001b[0m \u001b[0mk\u001b[0m \u001b[0;32mnot\u001b[0m \u001b[0;32min\u001b[0m \u001b[0mplotly_obj\u001b[0m\u001b[0;34m]\u001b[0m\u001b[0;34m\u001b[0m\u001b[0;34m\u001b[0m\u001b[0m\n\u001b[1;32m   2738\u001b[0m \u001b[0;34m\u001b[0m\u001b[0m\n\u001b[0;32m-> 2739\u001b[0;31m             \u001b[0mplotly_obj\u001b[0m\u001b[0;34m.\u001b[0m\u001b[0m_raise_on_invalid_property_error\u001b[0m\u001b[0;34m(\u001b[0m\u001b[0;34m*\u001b[0m\u001b[0minvalid_props\u001b[0m\u001b[0;34m)\u001b[0m\u001b[0;34m\u001b[0m\u001b[0;34m\u001b[0m\u001b[0m\n\u001b[0m\u001b[1;32m   2740\u001b[0m \u001b[0;34m\u001b[0m\u001b[0m\n\u001b[1;32m   2741\u001b[0m             \u001b[0;31m# Convert update_obj to dict\u001b[0m\u001b[0;34m\u001b[0m\u001b[0;34m\u001b[0m\u001b[0;34m\u001b[0m\u001b[0m\n",
      "\u001b[0;32m~/opt/anaconda3/envs/praktikum_env_macos/lib/python3.7/site-packages/plotly/basedatatypes.py\u001b[0m in \u001b[0;36m_raise_on_invalid_property_error\u001b[0;34m(self, *args)\u001b[0m\n\u001b[1;32m   3527\u001b[0m                     \u001b[0mfull_obj_name\u001b[0m\u001b[0;34m=\u001b[0m\u001b[0mfull_obj_name\u001b[0m\u001b[0;34m,\u001b[0m\u001b[0;34m\u001b[0m\u001b[0;34m\u001b[0m\u001b[0m\n\u001b[1;32m   3528\u001b[0m                     \u001b[0minvalid_str\u001b[0m\u001b[0;34m=\u001b[0m\u001b[0minvalid_str\u001b[0m\u001b[0;34m,\u001b[0m\u001b[0;34m\u001b[0m\u001b[0;34m\u001b[0m\u001b[0m\n\u001b[0;32m-> 3529\u001b[0;31m                     \u001b[0mprop_descriptions\u001b[0m\u001b[0;34m=\u001b[0m\u001b[0mself\u001b[0m\u001b[0;34m.\u001b[0m\u001b[0m_prop_descriptions\u001b[0m\u001b[0;34m,\u001b[0m\u001b[0;34m\u001b[0m\u001b[0;34m\u001b[0m\u001b[0m\n\u001b[0m\u001b[1;32m   3530\u001b[0m                 )\n\u001b[1;32m   3531\u001b[0m             )\n",
      "\u001b[0;31mValueError\u001b[0m: Invalid property specified for object of type plotly.graph_objs.Bar: 'texttemplate'\n\n    Valid properties:\n        alignmentgroup\n            Set several traces linked to the same position axis or\n            matching axes to the same alignmentgroup. This controls\n            whether bars compute their positional range dependently\n            or independently.\n        base\n            Sets where the bar base is drawn (in position axis\n            units). In \"stack\" or \"relative\" barmode, traces that\n            set \"base\" will be excluded and drawn in \"overlay\" mode\n            instead.\n        basesrc\n            Sets the source reference on plot.ly for  base .\n        cliponaxis\n            Determines whether the text nodes are clipped about the\n            subplot axes. To show the text nodes above axis lines\n            and tick labels, make sure to set `xaxis.layer` and\n            `yaxis.layer` to *below traces*.\n        constraintext\n            Constrain the size of text inside or outside a bar to\n            be no larger than the bar itself.\n        customdata\n            Assigns extra data each datum. This may be useful when\n            listening to hover, click and selection events. Note\n            that, \"scatter\" traces also appends customdata items in\n            the markers DOM elements\n        customdatasrc\n            Sets the source reference on plot.ly for  customdata .\n        dx\n            Sets the x coordinate step. See `x0` for more info.\n        dy\n            Sets the y coordinate step. See `y0` for more info.\n        error_x\n            plotly.graph_objects.bar.ErrorX instance or dict with\n            compatible properties\n        error_y\n            plotly.graph_objects.bar.ErrorY instance or dict with\n            compatible properties\n        hoverinfo\n            Determines which trace information appear on hover. If\n            `none` or `skip` are set, no information is displayed\n            upon hovering. But, if `none` is set, click and hover\n            events are still fired.\n        hoverinfosrc\n            Sets the source reference on plot.ly for  hoverinfo .\n        hoverlabel\n            plotly.graph_objects.bar.Hoverlabel instance or dict\n            with compatible properties\n        hovertemplate\n            Template string used for rendering the information that\n            appear on hover box. Note that this will override\n            `hoverinfo`. Variables are inserted using %{variable},\n            for example \"y: %{y}\". Numbers are formatted using\n            d3-format's syntax %{variable:d3-format}, for example\n            \"Price: %{y:$.2f}\". https://github.com/d3/d3-3.x-api-\n            reference/blob/master/Formatting.md#d3_format for\n            details on the formatting syntax. The variables\n            available in `hovertemplate` are the ones emitted as\n            event data described at this link\n            https://plot.ly/javascript/plotlyjs-events/#event-data.\n            Additionally, every attributes that can be specified\n            per-point (the ones that are `arrayOk: true`) are\n            available.  Anything contained in tag `<extra>` is\n            displayed in the secondary box, for example\n            \"<extra>{fullData.name}</extra>\". To hide the secondary\n            box completely, use an empty tag `<extra></extra>`.\n        hovertemplatesrc\n            Sets the source reference on plot.ly for  hovertemplate\n            .\n        hovertext\n            Sets hover text elements associated with each (x,y)\n            pair. If a single string, the same string appears over\n            all the data points. If an array of string, the items\n            are mapped in order to the this trace's (x,y)\n            coordinates. To be seen, trace `hoverinfo` must contain\n            a \"text\" flag.\n        hovertextsrc\n            Sets the source reference on plot.ly for  hovertext .\n        ids\n            Assigns id labels to each datum. These ids for object\n            constancy of data points during animation. Should be an\n            array of strings, not numbers or any other type.\n        idssrc\n            Sets the source reference on plot.ly for  ids .\n        insidetextanchor\n            Determines if texts are kept at center or start/end\n            points in `textposition` \"inside\" mode.\n        insidetextfont\n            Sets the font used for `text` lying inside the bar.\n        legendgroup\n            Sets the legend group for this trace. Traces part of\n            the same legend group hide/show at the same time when\n            toggling legend items.\n        marker\n            plotly.graph_objects.bar.Marker instance or dict with\n            compatible properties\n        meta\n            Assigns extra meta information associated with this\n            trace that can be used in various text attributes.\n            Attributes such as trace `name`, graph, axis and\n            colorbar `title.text`, annotation `text`\n            `rangeselector`, `updatemenues` and `sliders` `label`\n            text all support `meta`. To access the trace `meta`\n            values in an attribute in the same trace, simply use\n            `%{meta[i]}` where `i` is the index or key of the\n            `meta` item in question. To access trace `meta` in\n            layout attributes, use `%{data[n[.meta[i]}` where `i`\n            is the index or key of the `meta` and `n` is the trace\n            index.\n        metasrc\n            Sets the source reference on plot.ly for  meta .\n        name\n            Sets the trace name. The trace name appear as the\n            legend item and on hover.\n        offset\n            Shifts the position where the bar is drawn (in position\n            axis units). In \"group\" barmode, traces that set\n            \"offset\" will be excluded and drawn in \"overlay\" mode\n            instead.\n        offsetgroup\n            Set several traces linked to the same position axis or\n            matching axes to the same offsetgroup where bars of the\n            same position coordinate will line up.\n        offsetsrc\n            Sets the source reference on plot.ly for  offset .\n        opacity\n            Sets the opacity of the trace.\n        orientation\n            Sets the orientation of the bars. With \"v\" (\"h\"), the\n            value of the each bar spans along the vertical\n            (horizontal).\n        outsidetextfont\n            Sets the font used for `text` lying outside the bar.\n        r\n            r coordinates in scatter traces are deprecated!Please\n            switch to the \"scatterpolar\" trace type.Sets the radial\n            coordinatesfor legacy polar chart only.\n        rsrc\n            Sets the source reference on plot.ly for  r .\n        selected\n            plotly.graph_objects.bar.Selected instance or dict with\n            compatible properties\n        selectedpoints\n            Array containing integer indices of selected points.\n            Has an effect only for traces that support selections.\n            Note that an empty array means an empty selection where\n            the `unselected` are turned on for all points, whereas,\n            any other non-array values means no selection all where\n            the `selected` and `unselected` styles have no effect.\n        showlegend\n            Determines whether or not an item corresponding to this\n            trace is shown in the legend.\n        stream\n            plotly.graph_objects.bar.Stream instance or dict with\n            compatible properties\n        t\n            t coordinates in scatter traces are deprecated!Please\n            switch to the \"scatterpolar\" trace type.Sets the\n            angular coordinatesfor legacy polar chart only.\n        text\n            Sets text elements associated with each (x,y) pair. If\n            a single string, the same string appears over all the\n            data points. If an array of string, the items are\n            mapped in order to the this trace's (x,y) coordinates.\n            If trace `hoverinfo` contains a \"text\" flag and\n            \"hovertext\" is not set, these elements will be seen in\n            the hover labels.\n        textangle\n            Sets the angle of the tick labels with respect to the\n            bar. For example, a `tickangle` of -90 draws the tick\n            labels vertically. With \"auto\" the texts may\n            automatically be rotated to fit with the maximum size\n            in bars.\n        textfont\n            Sets the font used for `text`.\n        textposition\n            Specifies the location of the `text`. \"inside\"\n            positions `text` inside, next to the bar end (rotated\n            and scaled if needed). \"outside\" positions `text`\n            outside, next to the bar end (scaled if needed), unless\n            there is another bar stacked on this one, then the text\n            gets pushed inside. \"auto\" tries to position `text`\n            inside the bar, but if the bar is too small and no bar\n            is stacked on this one the text is moved outside.\n        textpositionsrc\n            Sets the source reference on plot.ly for  textposition\n            .\n        textsrc\n            Sets the source reference on plot.ly for  text .\n        tsrc\n            Sets the source reference on plot.ly for  t .\n        uid\n            Assign an id to this trace, Use this to provide object\n            constancy between traces during animations and\n            transitions.\n        uirevision\n            Controls persistence of some user-driven changes to the\n            trace: `constraintrange` in `parcoords` traces, as well\n            as some `editable: true` modifications such as `name`\n            and `colorbar.title`. Defaults to `layout.uirevision`.\n            Note that other user-driven trace attribute changes are\n            controlled by `layout` attributes: `trace.visible` is\n            controlled by `layout.legend.uirevision`,\n            `selectedpoints` is controlled by\n            `layout.selectionrevision`, and `colorbar.(x|y)`\n            (accessible with `config: {editable: true}`) is\n            controlled by `layout.editrevision`. Trace changes are\n            tracked by `uid`, which only falls back on trace index\n            if no `uid` is provided. So if your app can add/remove\n            traces before the end of the `data` array, such that\n            the same trace has a different index, you can still\n            preserve user-driven changes if you give each trace a\n            `uid` that stays with it as it moves.\n        unselected\n            plotly.graph_objects.bar.Unselected instance or dict\n            with compatible properties\n        visible\n            Determines whether or not this trace is visible. If\n            \"legendonly\", the trace is not drawn, but can appear as\n            a legend item (provided that the legend itself is\n            visible).\n        width\n            Sets the bar width (in position axis units).\n        widthsrc\n            Sets the source reference on plot.ly for  width .\n        x\n            Sets the x coordinates.\n        x0\n            Alternate to `x`. Builds a linear space of x\n            coordinates. Use with `dx` where `x0` is the starting\n            coordinate and `dx` the step.\n        xaxis\n            Sets a reference between this trace's x coordinates and\n            a 2D cartesian x axis. If \"x\" (the default value), the\n            x coordinates refer to `layout.xaxis`. If \"x2\", the x\n            coordinates refer to `layout.xaxis2`, and so on.\n        xcalendar\n            Sets the calendar system to use with `x` date data.\n        xsrc\n            Sets the source reference on plot.ly for  x .\n        y\n            Sets the y coordinates.\n        y0\n            Alternate to `y`. Builds a linear space of y\n            coordinates. Use with `dy` where `y0` is the starting\n            coordinate and `dy` the step.\n        yaxis\n            Sets a reference between this trace's y coordinates and\n            a 2D cartesian y axis. If \"y\" (the default value), the\n            y coordinates refer to `layout.yaxis`. If \"y2\", the y\n            coordinates refer to `layout.yaxis2`, and so on.\n        ycalendar\n            Sets the calendar system to use with `y` date data.\n        ysrc\n            Sets the source reference on plot.ly for  y .\n        "
     ]
    }
   ],
   "source": [
    "# строим график соотношений видов объектов общественного питания\n",
    "fig = px.bar(object_type, x='object_type', y='persent', title='Cоотношение видов объектов общественного питания', text='persent', height=700, width=700)\n",
    "fig.update_xaxes(tickangle=45)\n",
    "fig.update_traces(texttemplate='%{text:.4s}', textposition='inside')\n",
    "fig.update_layout(uniformtext_minsize=8, uniformtext_mode='hide', xaxis_title=\"Тип объекта общественного питания\", yaxis_title=\"Доля от общего числа, %\")\n",
    "fig.show()"
   ]
  },
  {
   "cell_type": "markdown",
   "metadata": {},
   "source": [
    "Наибольшую часть от видов общественного питания составляет \"кафе\"(40%) далее идут \"столовая\", \"ресторан\", \"предприятие быстрого обслуживания\" (по 12-16%)."
   ]
  },
  {
   "cell_type": "markdown",
   "metadata": {},
   "source": [
    "# Cоотношение сетевых и несетевых заведений по количеству"
   ]
  },
  {
   "cell_type": "code",
   "execution_count": 65,
   "metadata": {},
   "outputs": [
    {
     "data": {
      "text/html": [
       "<div>\n",
       "<style scoped>\n",
       "    .dataframe tbody tr th:only-of-type {\n",
       "        vertical-align: middle;\n",
       "    }\n",
       "\n",
       "    .dataframe tbody tr th {\n",
       "        vertical-align: top;\n",
       "    }\n",
       "\n",
       "    .dataframe thead th {\n",
       "        text-align: right;\n",
       "    }\n",
       "</style>\n",
       "<table border=\"1\" class=\"dataframe\">\n",
       "  <thead>\n",
       "    <tr style=\"text-align: right;\">\n",
       "      <th></th>\n",
       "      <th>chain</th>\n",
       "      <th>count</th>\n",
       "      <th>persent</th>\n",
       "    </tr>\n",
       "  </thead>\n",
       "  <tbody>\n",
       "    <tr>\n",
       "      <td>0</td>\n",
       "      <td>несетевое заведение</td>\n",
       "      <td>12234</td>\n",
       "      <td>80.58</td>\n",
       "    </tr>\n",
       "    <tr>\n",
       "      <td>1</td>\n",
       "      <td>сетевое заведение</td>\n",
       "      <td>2949</td>\n",
       "      <td>19.42</td>\n",
       "    </tr>\n",
       "  </tbody>\n",
       "</table>\n",
       "</div>"
      ],
      "text/plain": [
       "                 chain  count  persent\n",
       "0  несетевое заведение  12234    80.58\n",
       "1    сетевое заведение   2949    19.42"
      ]
     },
     "execution_count": 65,
     "metadata": {},
     "output_type": "execute_result"
    }
   ],
   "source": [
    "chain = (\n",
    "    rest_data\n",
    "    .pivot_table(index='chain', values='id', aggfunc='count')\n",
    "    .sort_values(by='id', ascending=False)\n",
    "    .reset_index()\n",
    ")\n",
    "chain.columns = ['chain', 'count']\n",
    "chain['persent'] = (chain['count'] / chain['count'].sum() * 100).round(2)\n",
    "chain"
   ]
  },
  {
   "cell_type": "code",
   "execution_count": 66,
   "metadata": {
    "scrolled": true
   },
   "outputs": [
    {
     "data": {
      "image/png": "[encoded data removed]",
      "text/plain": [
       "<Figure size 720x360 with 1 Axes>"
      ]
     },
     "metadata": {},
     "output_type": "display_data"
    }
   ],
   "source": [
    "# просмотр стилей\n",
    "plt.style.available\n",
    "plt.style.use('seaborn-whitegrid')\n",
    "\n",
    "# строим график сетевых и несетевых заведений\n",
    "sns.barplot(x = 'chain', y='persent', hue = 'persent', data = chain, palette = 'Blues')  #seaborn-whitegrid  Blues  magma  seaborn-whitegrid\n",
    "sns.set(rc={'figure.figsize':(10, 5)})\n",
    "plt.title('Cоотношение сетевых и несетевых заведений')\n",
    "plt.xlabel('Статус заведения')\n",
    "plt.ylabel('Количество, %')\n",
    "plt.show()"
   ]
  },
  {
   "cell_type": "markdown",
   "metadata": {},
   "source": [
    "Основную часть составляют несетевые заведения (80%)."
   ]
  },
  {
   "cell_type": "markdown",
   "metadata": {},
   "source": [
    "# Количество и характерность распространения сетевых объектов общественного питания"
   ]
  },
  {
   "cell_type": "code",
   "execution_count": 67,
   "metadata": {},
   "outputs": [
    {
     "data": {
      "image/png": "[encoded data removed]",
      "text/plain": [
       "<Figure size 720x360 with 1 Axes>"
      ]
     },
     "metadata": {},
     "output_type": "display_data"
    }
   ],
   "source": [
    "# строим график сетевых и несетевых объектов общественного питания\n",
    "sns.countplot(x = 'object_type', hue = 'chain', data = rest_data, palette = 'Blues') \n",
    "plt.xticks(rotation=330)\n",
    "plt.title('Количество сетевых и несетевых объектов общественного питания')\n",
    "plt.xlabel('Тип заведения')\n",
    "plt.ylabel('Количество')\n",
    "plt.show()"
   ]
  },
  {
   "cell_type": "markdown",
   "metadata": {},
   "source": [
    "Сетевое распространение в основном характерно для кафе, предприятий быстрого обслуживания и ресторанов."
   ]
  },
  {
   "cell_type": "markdown",
   "metadata": {},
   "source": [
    "# Характерность сетевых заведений по их количеству и посадочным местам"
   ]
  },
  {
   "cell_type": "code",
   "execution_count": 68,
   "metadata": {},
   "outputs": [
    {
     "data": {
      "text/html": [
       "<div>\n",
       "<style scoped>\n",
       "    .dataframe tbody tr th:only-of-type {\n",
       "        vertical-align: middle;\n",
       "    }\n",
       "\n",
       "    .dataframe tbody tr th {\n",
       "        vertical-align: top;\n",
       "    }\n",
       "\n",
       "    .dataframe thead th {\n",
       "        text-align: right;\n",
       "    }\n",
       "</style>\n",
       "<table border=\"1\" class=\"dataframe\">\n",
       "  <thead>\n",
       "    <tr style=\"text-align: right;\">\n",
       "      <th></th>\n",
       "      <th>object_name</th>\n",
       "      <th>count</th>\n",
       "      <th>number</th>\n",
       "    </tr>\n",
       "  </thead>\n",
       "  <tbody>\n",
       "    <tr>\n",
       "      <td>0</td>\n",
       "      <td>kfc</td>\n",
       "      <td>155</td>\n",
       "      <td>45.0</td>\n",
       "    </tr>\n",
       "    <tr>\n",
       "      <td>1</td>\n",
       "      <td>шоколадница</td>\n",
       "      <td>154</td>\n",
       "      <td>50.0</td>\n",
       "    </tr>\n",
       "    <tr>\n",
       "      <td>2</td>\n",
       "      <td>макдоналдс</td>\n",
       "      <td>148</td>\n",
       "      <td>79.0</td>\n",
       "    </tr>\n",
       "    <tr>\n",
       "      <td>3</td>\n",
       "      <td>бургер кинг</td>\n",
       "      <td>136</td>\n",
       "      <td>45.0</td>\n",
       "    </tr>\n",
       "    <tr>\n",
       "      <td>4</td>\n",
       "      <td>теремок</td>\n",
       "      <td>94</td>\n",
       "      <td>23.0</td>\n",
       "    </tr>\n",
       "    <tr>\n",
       "      <td>...</td>\n",
       "      <td>...</td>\n",
       "      <td>...</td>\n",
       "      <td>...</td>\n",
       "    </tr>\n",
       "    <tr>\n",
       "      <td>572</td>\n",
       "      <td>кафе «торнадо»</td>\n",
       "      <td>1</td>\n",
       "      <td>80.0</td>\n",
       "    </tr>\n",
       "    <tr>\n",
       "      <td>573</td>\n",
       "      <td>кафе «тапчан»</td>\n",
       "      <td>1</td>\n",
       "      <td>70.0</td>\n",
       "    </tr>\n",
       "    <tr>\n",
       "      <td>574</td>\n",
       "      <td>кафе «тануки»</td>\n",
       "      <td>1</td>\n",
       "      <td>150.0</td>\n",
       "    </tr>\n",
       "    <tr>\n",
       "      <td>575</td>\n",
       "      <td>кафе «суши сет»</td>\n",
       "      <td>1</td>\n",
       "      <td>7.0</td>\n",
       "    </tr>\n",
       "    <tr>\n",
       "      <td>576</td>\n",
       "      <td>кофе с собой gate 42</td>\n",
       "      <td>1</td>\n",
       "      <td>4.0</td>\n",
       "    </tr>\n",
       "  </tbody>\n",
       "</table>\n",
       "<p>577 rows × 3 columns</p>\n",
       "</div>"
      ],
      "text/plain": [
       "              object_name  count  number\n",
       "0                     kfc    155    45.0\n",
       "1             шоколадница    154    50.0\n",
       "2              макдоналдс    148    79.0\n",
       "3             бургер кинг    136    45.0\n",
       "4                 теремок     94    23.0\n",
       "..                    ...    ...     ...\n",
       "572        кафе «торнадо»      1    80.0\n",
       "573         кафе «тапчан»      1    70.0\n",
       "574         кафе «тануки»      1   150.0\n",
       "575       кафе «суши сет»      1     7.0\n",
       "576  кофе с собой gate 42      1     4.0\n",
       "\n",
       "[577 rows x 3 columns]"
      ]
     },
     "execution_count": 68,
     "metadata": {},
     "output_type": "execute_result"
    }
   ],
   "source": [
    "# выделяем таблица с сетевыми заведениями\n",
    "rest_chain = rest_data.query('chain == \"сетевое заведение\"') \n",
    "\n",
    "# посчитаем количество сетевых заведений \n",
    "name_group = (\n",
    "    rest_chain\n",
    "    .pivot_table(index='object_name', values='id', aggfunc='count')\n",
    "    .sort_values(by='id', ascending=False)\n",
    "    .reset_index()\n",
    ")\n",
    "name_group.columns = ['object_name', 'count']\n",
    "\n",
    "# найдем среднее значение посадочных мест в заведениях\n",
    "number_group = rest_chain.pivot_table(index='object_name', values='number', aggfunc='median').reset_index()#.plot(x='cityCenters_nearest', y='price_meter', kind='scatter', alpha=0.3, grid=True)\n",
    "\n",
    "# объеденим таблицы\n",
    "chain_group = name_group.merge(number_group, on='object_name', how='left')\n",
    "chain_group"
   ]
  },
  {
   "cell_type": "code",
   "execution_count": 69,
   "metadata": {},
   "outputs": [
    {
     "data": {
      "image/png": "[encoded data removed]",
      "text/plain": [
       "<Figure size 432x432 with 1 Axes>"
      ]
     },
     "metadata": {},
     "output_type": "display_data"
    }
   ],
   "source": [
    "# Посмотрим зависимость между характеристиками сетевых заведений\n",
    "sns.lmplot( x=\"count\", y=\"number\", data=chain_group, fit_reg=False, height=6)\n",
    "plt.title('Зависимость между количеством мест и количеством сетевых заведений')\n",
    "plt.xlabel('Количество заведений')\n",
    "plt.ylabel('Количество посадочных мест')\n",
    "plt.show()"
   ]
  },
  {
   "cell_type": "markdown",
   "metadata": {},
   "source": [
    "Для сетевых заведений характерно множество объектов с небольшим числом посадочных мест."
   ]
  },
  {
   "cell_type": "markdown",
   "metadata": {},
   "source": [
    "# Второй вариант поиска зависимости между заведениями"
   ]
  },
  {
   "cell_type": "code",
   "execution_count": 70,
   "metadata": {},
   "outputs": [
    {
     "data": {
      "text/plain": [
       "kfc            155\n",
       "шоколадница    154\n",
       "макдоналдс     148\n",
       "бургер кинг    136\n",
       "теремок         94\n",
       "Name: object_name, dtype: int64"
      ]
     },
     "execution_count": 70,
     "metadata": {},
     "output_type": "execute_result"
    }
   ],
   "source": [
    "# выделяем таблица с сетевыми заведениями\n",
    "rest_chain = rest_data.query('chain == \"сетевое заведение\"') \n",
    "\n",
    "object_name_chain = rest_chain['object_name'].value_counts()\n",
    "object_name_chain.head()"
   ]
  },
  {
   "cell_type": "code",
   "execution_count": 71,
   "metadata": {
    "scrolled": true
   },
   "outputs": [
    {
     "data": {
      "text/html": [
       "<div>\n",
       "<style scoped>\n",
       "    .dataframe tbody tr th:only-of-type {\n",
       "        vertical-align: middle;\n",
       "    }\n",
       "\n",
       "    .dataframe tbody tr th {\n",
       "        vertical-align: top;\n",
       "    }\n",
       "\n",
       "    .dataframe thead th {\n",
       "        text-align: right;\n",
       "    }\n",
       "</style>\n",
       "<table border=\"1\" class=\"dataframe\">\n",
       "  <thead>\n",
       "    <tr style=\"text-align: right;\">\n",
       "      <th></th>\n",
       "      <th>object_name</th>\n",
       "      <th>size_group</th>\n",
       "    </tr>\n",
       "  </thead>\n",
       "  <tbody>\n",
       "    <tr>\n",
       "      <td>0</td>\n",
       "      <td>kfc</td>\n",
       "      <td>большая сеть</td>\n",
       "    </tr>\n",
       "    <tr>\n",
       "      <td>1</td>\n",
       "      <td>шоколадница</td>\n",
       "      <td>большая сеть</td>\n",
       "    </tr>\n",
       "    <tr>\n",
       "      <td>2</td>\n",
       "      <td>макдоналдс</td>\n",
       "      <td>большая сеть</td>\n",
       "    </tr>\n",
       "    <tr>\n",
       "      <td>3</td>\n",
       "      <td>бургер кинг</td>\n",
       "      <td>большая сеть</td>\n",
       "    </tr>\n",
       "    <tr>\n",
       "      <td>4</td>\n",
       "      <td>теремок</td>\n",
       "      <td>большая сеть</td>\n",
       "    </tr>\n",
       "  </tbody>\n",
       "</table>\n",
       "</div>"
      ],
      "text/plain": [
       "   object_name    size_group\n",
       "0          kfc  большая сеть\n",
       "1  шоколадница  большая сеть\n",
       "2   макдоналдс  большая сеть\n",
       "3  бургер кинг  большая сеть\n",
       "4      теремок  большая сеть"
      ]
     },
     "execution_count": 71,
     "metadata": {},
     "output_type": "execute_result"
    }
   ],
   "source": [
    "# создаем функцию для распределения сетей на большую / маленькую\n",
    "def object_name_group(object_name):\n",
    "    if object_name >= 15:\n",
    "        return 'большая сеть'\n",
    "    return 'маленькая сеть'\n",
    "\n",
    "object_name_chain = object_name_chain.apply(object_name_group)\n",
    "object_name_chain = object_name_chain.reset_index()\n",
    "object_name_chain.columns = ['object_name','size_group']\n",
    "object_name_chain.head()"
   ]
  },
  {
   "cell_type": "code",
   "execution_count": 72,
   "metadata": {},
   "outputs": [
    {
     "data": {
      "text/html": [
       "<div>\n",
       "<style scoped>\n",
       "    .dataframe tbody tr th:only-of-type {\n",
       "        vertical-align: middle;\n",
       "    }\n",
       "\n",
       "    .dataframe tbody tr th {\n",
       "        vertical-align: top;\n",
       "    }\n",
       "\n",
       "    .dataframe thead th {\n",
       "        text-align: right;\n",
       "    }\n",
       "</style>\n",
       "<table border=\"1\" class=\"dataframe\">\n",
       "  <thead>\n",
       "    <tr style=\"text-align: right;\">\n",
       "      <th></th>\n",
       "      <th>id</th>\n",
       "      <th>object_name</th>\n",
       "      <th>chain</th>\n",
       "      <th>object_type</th>\n",
       "      <th>address</th>\n",
       "      <th>number</th>\n",
       "    </tr>\n",
       "  </thead>\n",
       "  <tbody>\n",
       "    <tr>\n",
       "      <td>3</td>\n",
       "      <td>21894</td>\n",
       "      <td>пиццетория</td>\n",
       "      <td>сетевое заведение</td>\n",
       "      <td>кафе</td>\n",
       "      <td>город москва, абрамцевская улица, дом 1</td>\n",
       "      <td>много мест</td>\n",
       "    </tr>\n",
       "    <tr>\n",
       "      <td>6</td>\n",
       "      <td>148815</td>\n",
       "      <td>брусника</td>\n",
       "      <td>сетевое заведение</td>\n",
       "      <td>кафе</td>\n",
       "      <td>город москва, переулок сивцев вражек, дом 6/2</td>\n",
       "      <td>мало мест</td>\n",
       "    </tr>\n",
       "    <tr>\n",
       "      <td>13</td>\n",
       "      <td>22579</td>\n",
       "      <td>алло пицца</td>\n",
       "      <td>сетевое заведение</td>\n",
       "      <td>кафе</td>\n",
       "      <td>город москва, улица авиаторов, дом 14</td>\n",
       "      <td>мало мест</td>\n",
       "    </tr>\n",
       "    <tr>\n",
       "      <td>16</td>\n",
       "      <td>144107</td>\n",
       "      <td>суши wok</td>\n",
       "      <td>сетевое заведение</td>\n",
       "      <td>фастфуд</td>\n",
       "      <td>город москва, азовская улица, дом 3</td>\n",
       "      <td>мало мест</td>\n",
       "    </tr>\n",
       "    <tr>\n",
       "      <td>18</td>\n",
       "      <td>58565</td>\n",
       "      <td>тануки</td>\n",
       "      <td>сетевое заведение</td>\n",
       "      <td>ресторан</td>\n",
       "      <td>город москва, большая академическая улица, дом 65</td>\n",
       "      <td>много мест</td>\n",
       "    </tr>\n",
       "  </tbody>\n",
       "</table>\n",
       "</div>"
      ],
      "text/plain": [
       "        id object_name              chain object_type  \\\n",
       "3    21894  пиццетория  сетевое заведение        кафе   \n",
       "6   148815    брусника  сетевое заведение        кафе   \n",
       "13   22579  алло пицца  сетевое заведение        кафе   \n",
       "16  144107    суши wok  сетевое заведение     фастфуд   \n",
       "18   58565      тануки  сетевое заведение    ресторан   \n",
       "\n",
       "                                              address      number  \n",
       "3             город москва, абрамцевская улица, дом 1  много мест  \n",
       "6       город москва, переулок сивцев вражек, дом 6/2   мало мест  \n",
       "13              город москва, улица авиаторов, дом 14   мало мест  \n",
       "16                город москва, азовская улица, дом 3   мало мест  \n",
       "18  город москва, большая академическая улица, дом 65  много мест  "
      ]
     },
     "execution_count": 72,
     "metadata": {},
     "output_type": "execute_result"
    }
   ],
   "source": [
    "pd.options.mode.chained_assignment = None\n",
    "\n",
    "# создаем функцию с классификациями количества мест\n",
    "def number_group(number):\n",
    "    if number >= 40:\n",
    "        return 'много мест'\n",
    "    return 'мало мест'\n",
    "\n",
    "rest_chain['number'] = rest_chain['number'].apply(number_group)\n",
    "rest_chain.head()\n"
   ]
  },
  {
   "cell_type": "code",
   "execution_count": 73,
   "metadata": {},
   "outputs": [
    {
     "data": {
      "text/html": [
       "<div>\n",
       "<style scoped>\n",
       "    .dataframe tbody tr th:only-of-type {\n",
       "        vertical-align: middle;\n",
       "    }\n",
       "\n",
       "    .dataframe tbody tr th {\n",
       "        vertical-align: top;\n",
       "    }\n",
       "\n",
       "    .dataframe thead th {\n",
       "        text-align: right;\n",
       "    }\n",
       "</style>\n",
       "<table border=\"1\" class=\"dataframe\">\n",
       "  <thead>\n",
       "    <tr style=\"text-align: right;\">\n",
       "      <th></th>\n",
       "      <th>id</th>\n",
       "      <th>object_name</th>\n",
       "      <th>chain</th>\n",
       "      <th>object_type</th>\n",
       "      <th>address</th>\n",
       "      <th>number</th>\n",
       "      <th>size_group</th>\n",
       "    </tr>\n",
       "  </thead>\n",
       "  <tbody>\n",
       "    <tr>\n",
       "      <td>0</td>\n",
       "      <td>21894</td>\n",
       "      <td>пиццетория</td>\n",
       "      <td>сетевое заведение</td>\n",
       "      <td>кафе</td>\n",
       "      <td>город москва, абрамцевская улица, дом 1</td>\n",
       "      <td>много мест</td>\n",
       "      <td>маленькая сеть</td>\n",
       "    </tr>\n",
       "    <tr>\n",
       "      <td>1</td>\n",
       "      <td>148815</td>\n",
       "      <td>брусника</td>\n",
       "      <td>сетевое заведение</td>\n",
       "      <td>кафе</td>\n",
       "      <td>город москва, переулок сивцев вражек, дом 6/2</td>\n",
       "      <td>мало мест</td>\n",
       "      <td>маленькая сеть</td>\n",
       "    </tr>\n",
       "    <tr>\n",
       "      <td>2</td>\n",
       "      <td>22579</td>\n",
       "      <td>алло пицца</td>\n",
       "      <td>сетевое заведение</td>\n",
       "      <td>кафе</td>\n",
       "      <td>город москва, улица авиаторов, дом 14</td>\n",
       "      <td>мало мест</td>\n",
       "      <td>большая сеть</td>\n",
       "    </tr>\n",
       "    <tr>\n",
       "      <td>3</td>\n",
       "      <td>144107</td>\n",
       "      <td>суши wok</td>\n",
       "      <td>сетевое заведение</td>\n",
       "      <td>фастфуд</td>\n",
       "      <td>город москва, азовская улица, дом 3</td>\n",
       "      <td>мало мест</td>\n",
       "      <td>большая сеть</td>\n",
       "    </tr>\n",
       "    <tr>\n",
       "      <td>4</td>\n",
       "      <td>58565</td>\n",
       "      <td>тануки</td>\n",
       "      <td>сетевое заведение</td>\n",
       "      <td>ресторан</td>\n",
       "      <td>город москва, большая академическая улица, дом 65</td>\n",
       "      <td>много мест</td>\n",
       "      <td>большая сеть</td>\n",
       "    </tr>\n",
       "  </tbody>\n",
       "</table>\n",
       "</div>"
      ],
      "text/plain": [
       "       id object_name              chain object_type  \\\n",
       "0   21894  пиццетория  сетевое заведение        кафе   \n",
       "1  148815    брусника  сетевое заведение        кафе   \n",
       "2   22579  алло пицца  сетевое заведение        кафе   \n",
       "3  144107    суши wok  сетевое заведение     фастфуд   \n",
       "4   58565      тануки  сетевое заведение    ресторан   \n",
       "\n",
       "                                             address      number  \\\n",
       "0            город москва, абрамцевская улица, дом 1  много мест   \n",
       "1      город москва, переулок сивцев вражек, дом 6/2   мало мест   \n",
       "2              город москва, улица авиаторов, дом 14   мало мест   \n",
       "3                город москва, азовская улица, дом 3   мало мест   \n",
       "4  город москва, большая академическая улица, дом 65  много мест   \n",
       "\n",
       "       size_group  \n",
       "0  маленькая сеть  \n",
       "1  маленькая сеть  \n",
       "2    большая сеть  \n",
       "3    большая сеть  \n",
       "4    большая сеть  "
      ]
     },
     "execution_count": 73,
     "metadata": {},
     "output_type": "execute_result"
    }
   ],
   "source": [
    "# объединяем таблицы\n",
    "chain_group_full = rest_chain.merge(object_name_chain, on='object_name', how='left')\n",
    "chain_group_full.head()"
   ]
  },
  {
   "cell_type": "code",
   "execution_count": 74,
   "metadata": {},
   "outputs": [
    {
     "name": "stdout",
     "output_type": "stream",
     "text": [
      "Количество больших сетей с большим количеством мест: 831\n",
      "Количество маленьких сетей с небольшим количеством мест: 542\n",
      "Количество больших сетей с небольшим количеством мест: 893\n",
      "Количество маленьких сетей с большим количеством мест: 683\n"
     ]
    }
   ],
   "source": [
    "#\n",
    "df1 = chain_group_full.query('size_group == \"большая сеть\" and number == \"много мест\"').count()\n",
    "df2 = chain_group_full.query('size_group == \"маленькая сеть\" and number == \"мало мест\"').count()\n",
    "df3 = chain_group_full.query('size_group == \"большая сеть\" and number == \"мало мест\"').count()\n",
    "df4 = chain_group_full.query('size_group == \"маленькая сеть\" and number == \"много мест\"').count()\n",
    "\n",
    "print('Количество больших сетей с большим количеством мест:', df1['id']) \n",
    "print('Количество маленьких сетей с небольшим количеством мест:', df2['id']) \n",
    "print('Количество больших сетей с небольшим количеством мест:', df3['id']) \n",
    "print('Количество маленьких сетей с большим количеством мест:', df4['id']) \n"
   ]
  },
  {
   "cell_type": "markdown",
   "metadata": {},
   "source": [
    "Для сетевых заведений характерно множество объектов с небольшим числом посадочных мест. "
   ]
  },
  {
   "cell_type": "markdown",
   "metadata": {},
   "source": [
    "# Среднее количество посадочных мест объектов общественного питания"
   ]
  },
  {
   "cell_type": "code",
   "execution_count": 75,
   "metadata": {},
   "outputs": [
    {
     "data": {
      "image/png": "[encoded data removed]",
      "text/plain": [
       "<Figure size 720x360 with 1 Axes>"
      ]
     },
     "metadata": {},
     "output_type": "display_data"
    }
   ],
   "source": [
    "# строим график среднего количества посадочных мест\n",
    "sns.barplot(x=\"object_type\", y=\"number\", data=rest_data, palette=\"Blues_d\", estimator=median)\n",
    "sns.set(rc={'figure.figsize':(16, 8)})\n",
    "plt.xticks(rotation=330)\n",
    "plt.title('График среднего количества посадочных мест в заведениях')\n",
    "plt.xlabel('Тип заведения')\n",
    "plt.ylabel('Среднее количество посадочных мест')\n",
    "plt.show()"
   ]
  },
  {
   "cell_type": "markdown",
   "metadata": {},
   "source": [
    "В столовых и ресторанах наибольшее среднее количество посадочных мест, далее идут кафе, буфеты и бары. Наименьшее количество посадочных мест в кафетериях и предприятиях быстрого обслуживания. В закусочных и магазинах их вовсе нет."
   ]
  },
  {
   "cell_type": "markdown",
   "metadata": {},
   "source": [
    "# Выделяем в отдельный столбец информацию об улице из столбца address"
   ]
  },
  {
   "cell_type": "code",
   "execution_count": 76,
   "metadata": {},
   "outputs": [],
   "source": [
    "# удаляем лишние пробелы из столбца\n",
    "rest_data.columns = rest_data.columns.str.lstrip()\n",
    "\n",
    "def street_extract(address):\n",
    "    street_list = ['улица', 'проспект', 'переулок', 'поселение',  'шоссе', 'бульвар', 'площадь', 'проезд', 'набережная', 'аллея', 'квартал']   \n",
    "        \n",
    "    for add in address.split(', '):\n",
    "        for t in street_list:\n",
    "            if t in add:\n",
    "                return add\n",
    "rest_data['street'] = rest_data['address'].apply(street_extract)\n",
    "#rest_data['street'].count()"
   ]
  },
  {
   "cell_type": "markdown",
   "metadata": {},
   "source": [
    "# График топ-10 улиц по количеству объектов общественного питания и их районы"
   ]
  },
  {
   "cell_type": "code",
   "execution_count": 77,
   "metadata": {},
   "outputs": [
    {
     "data": {
      "text/html": [
       "<div>\n",
       "<style scoped>\n",
       "    .dataframe tbody tr th:only-of-type {\n",
       "        vertical-align: middle;\n",
       "    }\n",
       "\n",
       "    .dataframe tbody tr th {\n",
       "        vertical-align: top;\n",
       "    }\n",
       "\n",
       "    .dataframe thead th {\n",
       "        text-align: right;\n",
       "    }\n",
       "</style>\n",
       "<table border=\"1\" class=\"dataframe\">\n",
       "  <thead>\n",
       "    <tr style=\"text-align: right;\">\n",
       "      <th></th>\n",
       "      <th>street</th>\n",
       "      <th>number_of_object</th>\n",
       "    </tr>\n",
       "  </thead>\n",
       "  <tbody>\n",
       "    <tr>\n",
       "      <td>0</td>\n",
       "      <td>проспект мира</td>\n",
       "      <td>196</td>\n",
       "    </tr>\n",
       "    <tr>\n",
       "      <td>1</td>\n",
       "      <td>профсоюзная улица</td>\n",
       "      <td>181</td>\n",
       "    </tr>\n",
       "    <tr>\n",
       "      <td>2</td>\n",
       "      <td>ленинградский проспект</td>\n",
       "      <td>172</td>\n",
       "    </tr>\n",
       "    <tr>\n",
       "      <td>3</td>\n",
       "      <td>пресненская набережная</td>\n",
       "      <td>165</td>\n",
       "    </tr>\n",
       "    <tr>\n",
       "      <td>4</td>\n",
       "      <td>варшавское шоссе</td>\n",
       "      <td>162</td>\n",
       "    </tr>\n",
       "  </tbody>\n",
       "</table>\n",
       "</div>"
      ],
      "text/plain": [
       "                   street  number_of_object\n",
       "0           проспект мира               196\n",
       "1       профсоюзная улица               181\n",
       "2  ленинградский проспект               172\n",
       "3  пресненская набережная               165\n",
       "4        варшавское шоссе               162"
      ]
     },
     "execution_count": 77,
     "metadata": {},
     "output_type": "execute_result"
    }
   ],
   "source": [
    "# удаляем лишние пробелы из столбца\n",
    "rest_data['street'] = rest_data['street'].str.lstrip()\n",
    "\n",
    "# улицы с количеством объектов общественного питания \n",
    "rest_data_street = rest_data['street'].value_counts().reset_index()\n",
    "rest_data_street.columns = ['street', 'number_of_object']\n",
    "rest_data_street.head()"
   ]
  },
  {
   "cell_type": "code",
   "execution_count": 78,
   "metadata": {},
   "outputs": [
    {
     "data": {
      "text/html": [
       "<div>\n",
       "<style scoped>\n",
       "    .dataframe tbody tr th:only-of-type {\n",
       "        vertical-align: middle;\n",
       "    }\n",
       "\n",
       "    .dataframe tbody tr th {\n",
       "        vertical-align: top;\n",
       "    }\n",
       "\n",
       "    .dataframe thead th {\n",
       "        text-align: right;\n",
       "    }\n",
       "</style>\n",
       "<table border=\"1\" class=\"dataframe\">\n",
       "  <thead>\n",
       "    <tr style=\"text-align: right;\">\n",
       "      <th></th>\n",
       "      <th>street</th>\n",
       "      <th>number_of_object</th>\n",
       "    </tr>\n",
       "  </thead>\n",
       "  <tbody>\n",
       "    <tr>\n",
       "      <td>0</td>\n",
       "      <td>проспект мира</td>\n",
       "      <td>196</td>\n",
       "    </tr>\n",
       "    <tr>\n",
       "      <td>1</td>\n",
       "      <td>профсоюзная улица</td>\n",
       "      <td>181</td>\n",
       "    </tr>\n",
       "    <tr>\n",
       "      <td>2</td>\n",
       "      <td>ленинградский проспект</td>\n",
       "      <td>172</td>\n",
       "    </tr>\n",
       "    <tr>\n",
       "      <td>3</td>\n",
       "      <td>пресненская набережная</td>\n",
       "      <td>165</td>\n",
       "    </tr>\n",
       "    <tr>\n",
       "      <td>4</td>\n",
       "      <td>варшавское шоссе</td>\n",
       "      <td>162</td>\n",
       "    </tr>\n",
       "    <tr>\n",
       "      <td>5</td>\n",
       "      <td>ленинский проспект</td>\n",
       "      <td>148</td>\n",
       "    </tr>\n",
       "    <tr>\n",
       "      <td>6</td>\n",
       "      <td>поселение сосенское</td>\n",
       "      <td>138</td>\n",
       "    </tr>\n",
       "    <tr>\n",
       "      <td>7</td>\n",
       "      <td>проспект вернадского</td>\n",
       "      <td>126</td>\n",
       "    </tr>\n",
       "    <tr>\n",
       "      <td>8</td>\n",
       "      <td>кутузовский проспект</td>\n",
       "      <td>114</td>\n",
       "    </tr>\n",
       "    <tr>\n",
       "      <td>9</td>\n",
       "      <td>каширское шоссе</td>\n",
       "      <td>110</td>\n",
       "    </tr>\n",
       "  </tbody>\n",
       "</table>\n",
       "</div>"
      ],
      "text/plain": [
       "                   street  number_of_object\n",
       "0           проспект мира               196\n",
       "1       профсоюзная улица               181\n",
       "2  ленинградский проспект               172\n",
       "3  пресненская набережная               165\n",
       "4        варшавское шоссе               162\n",
       "5      ленинский проспект               148\n",
       "6     поселение сосенское               138\n",
       "7    проспект вернадского               126\n",
       "8    кутузовский проспект               114\n",
       "9         каширское шоссе               110"
      ]
     },
     "metadata": {},
     "output_type": "display_data"
    }
   ],
   "source": [
    "# убираем лишний город\n",
    "top_streets = rest_data.query('street != \"город зеленоград\"')\n",
    "\n",
    "# топ 10 улиц по количеству объектов общественного питания \n",
    "top_streets = top_streets['street'].value_counts().head(10).reset_index()\n",
    "top_streets.columns = ['street', 'number_of_object']\n",
    "display(top_streets)"
   ]
  },
  {
   "cell_type": "code",
   "execution_count": 79,
   "metadata": {},
   "outputs": [
    {
     "data": {
      "image/png": "[encoded data removed]",
      "text/plain": [
       "<Figure size 720x360 with 1 Axes>"
      ]
     },
     "metadata": {},
     "output_type": "display_data"
    }
   ],
   "source": [
    "# строим график топ-10 улиц по количеству объектов общественного питания\n",
    "top_streets.plot(x='street', kind='bar', grid=True, color=\"steelblue\", figsize=(10, 5))\n",
    "#plt.xticks(rotation=60)\n",
    "plt.title('Топ-10 улиц по количеству объектов общественного питания')\n",
    "plt.xlabel('Название улицы')\n",
    "plt.ylabel('Количество')\n",
    "plt.show()"
   ]
  },
  {
   "cell_type": "code",
   "execution_count": 80,
   "metadata": {},
   "outputs": [
    {
     "data": {
      "text/html": [
       "<div>\n",
       "<style scoped>\n",
       "    .dataframe tbody tr th:only-of-type {\n",
       "        vertical-align: middle;\n",
       "    }\n",
       "\n",
       "    .dataframe tbody tr th {\n",
       "        vertical-align: top;\n",
       "    }\n",
       "\n",
       "    .dataframe thead th {\n",
       "        text-align: right;\n",
       "    }\n",
       "</style>\n",
       "<table border=\"1\" class=\"dataframe\">\n",
       "  <thead>\n",
       "    <tr style=\"text-align: right;\">\n",
       "      <th></th>\n",
       "      <th>streetname</th>\n",
       "      <th>areaid</th>\n",
       "      <th>okrug</th>\n",
       "      <th>area</th>\n",
       "    </tr>\n",
       "  </thead>\n",
       "  <tbody>\n",
       "    <tr>\n",
       "      <td>0</td>\n",
       "      <td>выставочный переулок</td>\n",
       "      <td>17</td>\n",
       "      <td>ЦАО</td>\n",
       "      <td>пресненский район</td>\n",
       "    </tr>\n",
       "    <tr>\n",
       "      <td>1</td>\n",
       "      <td>улица гашека</td>\n",
       "      <td>17</td>\n",
       "      <td>ЦАО</td>\n",
       "      <td>пресненский район</td>\n",
       "    </tr>\n",
       "    <tr>\n",
       "      <td>2</td>\n",
       "      <td>большая никитская улица</td>\n",
       "      <td>17</td>\n",
       "      <td>ЦАО</td>\n",
       "      <td>пресненский район</td>\n",
       "    </tr>\n",
       "    <tr>\n",
       "      <td>3</td>\n",
       "      <td>глубокий переулок</td>\n",
       "      <td>17</td>\n",
       "      <td>ЦАО</td>\n",
       "      <td>пресненский район</td>\n",
       "    </tr>\n",
       "    <tr>\n",
       "      <td>4</td>\n",
       "      <td>большой гнездниковский переулок</td>\n",
       "      <td>17</td>\n",
       "      <td>ЦАО</td>\n",
       "      <td>пресненский район</td>\n",
       "    </tr>\n",
       "  </tbody>\n",
       "</table>\n",
       "</div>"
      ],
      "text/plain": [
       "                        streetname  areaid okrug               area\n",
       "0             выставочный переулок      17   ЦАО  пресненский район\n",
       "1                     улица гашека      17   ЦАО  пресненский район\n",
       "2          большая никитская улица      17   ЦАО  пресненский район\n",
       "3                глубокий переулок      17   ЦАО  пресненский район\n",
       "4  большой гнездниковский переулок      17   ЦАО  пресненский район"
      ]
     },
     "execution_count": 80,
     "metadata": {},
     "output_type": "execute_result"
    }
   ],
   "source": [
    "# импортируем информацию с названиями округов из источника \"МОСГАЗ\"\n",
    "from io import BytesIO\n",
    "import requests\n",
    "spreadsheet_id = '1K83j_yl9b52m4qg5VidHLxLUNTNUoEH39BqyGdMBSek '\n",
    "file_name = 'https://questhint.ru/wp-content/uploads/2022/04/mosgaz-streets.csv'.format(spreadsheet_id)\n",
    "r = requests.get(file_name)\n",
    "mos_gaz = pd.read_csv(BytesIO(r.content))\n",
    "\n",
    "# удаляем дубликаты\n",
    "mos_gaz = mos_gaz.drop_duplicates().reset_index(drop=True)\n",
    "mos_gaz.duplicated().sum()\n",
    "\n",
    "# приведем все записи в стодбцах \"streetname\" и \"area\" к нижнему регистру\n",
    "mos_gaz['streetname'] = mos_gaz['streetname'].str.lower()\n",
    "mos_gaz['area'] = mos_gaz['area'].str.lower()\n",
    "mos_gaz.head()"
   ]
  },
  {
   "cell_type": "code",
   "execution_count": 81,
   "metadata": {},
   "outputs": [
    {
     "data": {
      "text/html": [
       "<div>\n",
       "<style scoped>\n",
       "    .dataframe tbody tr th:only-of-type {\n",
       "        vertical-align: middle;\n",
       "    }\n",
       "\n",
       "    .dataframe tbody tr th {\n",
       "        vertical-align: top;\n",
       "    }\n",
       "\n",
       "    .dataframe thead th {\n",
       "        text-align: right;\n",
       "    }\n",
       "</style>\n",
       "<table border=\"1\" class=\"dataframe\">\n",
       "  <thead>\n",
       "    <tr style=\"text-align: right;\">\n",
       "      <th></th>\n",
       "      <th>street</th>\n",
       "      <th>number_of_object</th>\n",
       "      <th>areaid</th>\n",
       "      <th>okrug</th>\n",
       "      <th>area</th>\n",
       "    </tr>\n",
       "  </thead>\n",
       "  <tbody>\n",
       "    <tr>\n",
       "      <td>0</td>\n",
       "      <td>проспект мира</td>\n",
       "      <td>196</td>\n",
       "      <td>70.0</td>\n",
       "      <td>СВАО</td>\n",
       "      <td>алексеевский район</td>\n",
       "    </tr>\n",
       "    <tr>\n",
       "      <td>1</td>\n",
       "      <td>проспект мира</td>\n",
       "      <td>196</td>\n",
       "      <td>86.0</td>\n",
       "      <td>СВАО</td>\n",
       "      <td>ярославский район</td>\n",
       "    </tr>\n",
       "    <tr>\n",
       "      <td>2</td>\n",
       "      <td>проспект мира</td>\n",
       "      <td>196</td>\n",
       "      <td>78.0</td>\n",
       "      <td>СВАО</td>\n",
       "      <td>район марьина роща</td>\n",
       "    </tr>\n",
       "    <tr>\n",
       "      <td>3</td>\n",
       "      <td>проспект мира</td>\n",
       "      <td>196</td>\n",
       "      <td>79.0</td>\n",
       "      <td>СВАО</td>\n",
       "      <td>останкинский район</td>\n",
       "    </tr>\n",
       "    <tr>\n",
       "      <td>4</td>\n",
       "      <td>проспект мира</td>\n",
       "      <td>196</td>\n",
       "      <td>81.0</td>\n",
       "      <td>СВАО</td>\n",
       "      <td>район ростокино</td>\n",
       "    </tr>\n",
       "  </tbody>\n",
       "</table>\n",
       "</div>"
      ],
      "text/plain": [
       "          street  number_of_object  areaid okrug                area\n",
       "0  проспект мира               196    70.0  СВАО  алексеевский район\n",
       "1  проспект мира               196    86.0  СВАО   ярославский район\n",
       "2  проспект мира               196    78.0  СВАО  район марьина роща\n",
       "3  проспект мира               196    79.0  СВАО  останкинский район\n",
       "4  проспект мира               196    81.0  СВАО     район ростокино"
      ]
     },
     "execution_count": 81,
     "metadata": {},
     "output_type": "execute_result"
    }
   ],
   "source": [
    "# переименуем столбец\n",
    "mos_gaz = mos_gaz.rename(columns = {'streetname' : 'street'}) \n",
    "\n",
    "# соединяем таблицы \n",
    "full_top_streets = top_streets.merge(mos_gaz, on='street' , how='left')\n",
    "full_top_streets.head()\n"
   ]
  },
  {
   "cell_type": "code",
   "execution_count": 82,
   "metadata": {},
   "outputs": [
    {
     "name": "stdout",
     "output_type": "stream",
     "text": [
      "проспект мира районы: ['алексеевский район' 'ярославский район' 'район марьина роща'\n",
      " 'останкинский район' 'район ростокино' 'район свиблово' 'мещанский район']\n",
      "профсоюзная улица районы: ['академический район' 'район черемушки' 'район ясенево' 'район коньково'\n",
      " 'обручевский район' 'район теплый стан']\n",
      "ленинградский проспект районы: ['район аэропорт' 'район беговой' 'хорошевский район' 'район сокол']\n",
      "пресненская набережная районы: ['пресненский район']\n",
      "варшавское шоссе районы: ['район чертаново центральное' 'район чертаново северное'\n",
      " 'район чертаново южное' 'донской район' 'район нагатино-садовники'\n",
      " 'нагорный район' 'район северное бутово' 'район южное бутово']\n",
      "ленинский проспект районы: ['район проспект вернадского' 'район тропарево-никулино' 'донской район'\n",
      " 'район гагаринский' 'ломоносовский район' 'обручевский район'\n",
      " 'район теплый стан' 'район якиманка']\n",
      "поселение сосенское районы: [nan]\n",
      "проспект вернадского районы: ['район проспект вернадского' 'район раменки' 'район тропарево-никулино'\n",
      " 'район гагаринский' 'ломоносовский район']\n",
      "кутузовский проспект районы: ['район дорогомилово' 'район фили-давыдково']\n",
      "каширское шоссе районы: ['район москворечье-сабурово' 'район нагатино-садовники'\n",
      " 'район орехово-борисово южное' 'район орехово-борисово северное']\n"
     ]
    }
   ],
   "source": [
    "for i in top_streets['street']:\n",
    "    print(i, 'районы:', full_top_streets.query(f'street == \"{i}\"')['area'].unique())\n"
   ]
  },
  {
   "cell_type": "code",
   "execution_count": 83,
   "metadata": {
    "scrolled": true
   },
   "outputs": [
    {
     "data": {
      "text/plain": [
       "'Топ-10 улиц по количеству объектов общественного питания находятся в следующих районах:'"
      ]
     },
     "metadata": {},
     "output_type": "display_data"
    },
    {
     "data": {
      "text/plain": [
       "array(['алексеевский район', 'ярославский район', 'район марьина роща',\n",
       "       'останкинский район', 'район ростокино', 'район свиблово',\n",
       "       'мещанский район', 'академический район', 'район черемушки',\n",
       "       'район ясенево', 'район коньково', 'обручевский район',\n",
       "       'район теплый стан', 'район аэропорт', 'район беговой',\n",
       "       'хорошевский район', 'район сокол', 'пресненский район',\n",
       "       'район чертаново центральное', 'район чертаново северное',\n",
       "       'район чертаново южное', 'донской район',\n",
       "       'район нагатино-садовники', 'нагорный район',\n",
       "       'район северное бутово', 'район южное бутово',\n",
       "       'район проспект вернадского', 'район тропарево-никулино',\n",
       "       'район гагаринский', 'ломоносовский район', 'район якиманка', nan,\n",
       "       'район раменки', 'район дорогомилово', 'район фили-давыдково',\n",
       "       'район москворечье-сабурово', 'район орехово-борисово южное',\n",
       "       'район орехово-борисово северное'], dtype=object)"
      ]
     },
     "metadata": {},
     "output_type": "display_data"
    },
    {
     "name": "stdout",
     "output_type": "stream",
     "text": [
      "Количество районов: 38\n"
     ]
    }
   ],
   "source": [
    "districts = full_top_streets['area'].unique()\n",
    "display('Топ-10 улиц по количеству объектов общественного питания находятся в следующих районах:', districts)\n",
    "count_districts = len(pd.unique(full_top_streets['area'])) \n",
    "print('Количество районов:', count_districts)"
   ]
  },
  {
   "cell_type": "markdown",
   "metadata": {},
   "source": [
    "Топ-10 улицы по количеству объектов общественного питания проходят через 38 районов, которые в основном являются центральными."
   ]
  },
  {
   "cell_type": "markdown",
   "metadata": {},
   "source": [
    "# Количество улиц с одним объектом общественного питания\n"
   ]
  },
  {
   "cell_type": "code",
   "execution_count": 84,
   "metadata": {},
   "outputs": [],
   "source": [
    "# объединяем таблицы\n",
    "top_streets_1 = rest_data_street.merge(mos_gaz, on='street', how='left')"
   ]
  },
  {
   "cell_type": "code",
   "execution_count": 85,
   "metadata": {},
   "outputs": [
    {
     "name": "stdout",
     "output_type": "stream",
     "text": [
      "Количество улиц с одним объектом общественного питания: 570\n"
     ]
    }
   ],
   "source": [
    "top_streets_1 = top_streets_1.query('number_of_object == 1')\n",
    "print('Количество улиц с одним объектом общественного питания:', top_streets_1['street'].count())"
   ]
  },
  {
   "cell_type": "code",
   "execution_count": 86,
   "metadata": {},
   "outputs": [
    {
     "data": {
      "image/png": "[encoded data removed]",
      "text/plain": [
       "<Figure size 720x360 with 1 Axes>"
      ]
     },
     "metadata": {},
     "output_type": "display_data"
    }
   ],
   "source": [
    "# смотрим округ\n",
    "top_streets_1 = top_streets_1.query('okrug != \"Зеленоград\"')\n",
    "top_streets_1.groupby('okrug')['okrug'].count().plot(x='okrug', kind='bar', grid=True, color=\"steelblue\", figsize=(10, 5))\n",
    "plt.xticks(rotation=0)\n",
    "plt.title('Топ округов по количеству объектов общественного питания')\n",
    "plt.xlabel('Округ')\n",
    "plt.ylabel('Количество')\n",
    "plt.show()"
   ]
  },
  {
   "cell_type": "markdown",
   "metadata": {},
   "source": [
    "В основном улицы с одним объектом общественного питания находятся в центральном административном округе (ЦАО)."
   ]
  },
  {
   "cell_type": "markdown",
   "metadata": {},
   "source": [
    "# Количество посадочных мест для улиц с большим количеством объектов общественного питания\n"
   ]
  },
  {
   "cell_type": "code",
   "execution_count": 87,
   "metadata": {},
   "outputs": [
    {
     "data": {
      "image/png": "[encoded data removed]",
      "text/plain": [
       "<Figure size 720x360 with 1 Axes>"
      ]
     },
     "metadata": {},
     "output_type": "display_data"
    }
   ],
   "source": [
    "# количество посадочных мест\n",
    "date_number = top_streets.merge(rest_data[['street', 'number']], on='street', how='left')\n",
    "date_number.groupby('street')['number'].median().plot(x='street', kind='bar', grid=True, color=\"steelblue\", figsize=(10, 5))\n",
    "plt.title('Количество посадочных мест среди топ-10 улиц')\n",
    "plt.xlabel('Улица')\n",
    "plt.ylabel('Количество')\n",
    "plt.show()"
   ]
  },
  {
   "cell_type": "markdown",
   "metadata": {},
   "source": [
    "Для улиц с большим количеством объектов общественного питания характерно в среднем до 50 посадочных мест."
   ]
  },
  {
   "cell_type": "markdown",
   "metadata": {},
   "source": [
    "## Презентация"
   ]
  },
  {
   "cell_type": "markdown",
   "metadata": {},
   "source": [
    "Презентация: https://disk.yandex.ru/d/XdLoQGUkHbVoMw"
   ]
  },
  {
   "cell_type": "markdown",
   "metadata": {},
   "source": [
    "## Вывод"
   ]
  },
  {
   "cell_type": "markdown",
   "metadata": {},
   "source": [
    "В данном анализе было выяснено, что наибольшую часть от видов общественного питания(ОП) составляет \"кафе\"(40%) далее идут \"столовая\", \"ресторан\", \"предприятие быстрого обслуживания\" (по 12-16%). Основную часть на рынке ОП составляют несетевые заведения (80%). Сетевое распространение в основном характерно для кафе, предприятий быстрого обслуживания и ресторанов. Для сетевых заведений характерно множеество объектов с небольшим числом посадочных мест. В столовых и ресторанах наибольшее среднее количество посадочных мест, далее идут кафе, буфеты и бары. Наименьшее количество посадочных мест в кафетериях и предприятиях быстрого обслуживания. В закусочных и магазинах их вовсе нет. На рынке общественного питания имеются 622 улицы с одним заведением, которые в основном находятся в центральном административном округе (ЦАО). На улицах с большим количеством объектов общественного питания характерно в среднем до 50 посадочных мест.\n",
    "\n",
    "\n",
    "Топ-10 улиц по количеству объектов ОП в Москве:\n",
    "1.\tпроспект мира (204)\n",
    "2.\tпрофсоюзная улица (182)\n",
    "3.\tленинградский проспект\t(171)\n",
    "4.\tпресненская набережная\t(167)\n",
    "5.\tваршавское шоссе\t(161)\n",
    "6.\tленинский проспект\t(147)\n",
    "7.\tпроспект вернадского\t(132)\n",
    "8.\tкутузовский проспект\t(114)\n",
    "9.\tкаширское шоссе\t(112)\n",
    "10.\tкировоградская улица\t(110)\n",
    "\n",
    "Рекомендации о виде заведения:  \n",
    "Для начала можно открыть несетевое кафе с небольшим количеством посадочных мест и подробно рассмотреть локацию в центральном административном округе (рассчитать проходимость клиентов, конкуренцию, среднюю окупаемость заведений и т.д.). Далее можно попробовать развить сеть, т.к. для сетевых заведений в основном характерны кафе с небольшим количестом посадочных мест. Для сетевизации заведения в Москве подойдут локации из списка топ-10 улиц по количеству объектов общественного питания.    \n",
    "Роботы-официанты не дешевое оборудование, которое порой нужно ремонтировать, проводить диагностику и т.д., но это хорошее внедрение с точки зрения маркетинга т.к. это новый и уникальный продукт на рынке. Внедрение роботов-официантов поспособствует развитию PR-менеджмента заведения, приобретению постоянных клиентов, а также экономии на сотрудниках."
   ]
  }
 ],
 "metadata": {
  "ExecuteTimeLog": [
   {
    "duration": 4,
    "start_time": "2022-05-03T18:31:29.892Z"
   },
   {
    "duration": 466,
    "start_time": "2022-05-03T18:32:41.853Z"
   },
   {
    "duration": 63,
    "start_time": "2022-05-03T18:32:45.657Z"
   },
   {
    "duration": 50,
    "start_time": "2022-05-03T18:32:57.948Z"
   },
   {
    "duration": 58,
    "start_time": "2022-05-03T18:33:07.500Z"
   },
   {
    "duration": 128,
    "start_time": "2022-05-03T18:33:19.425Z"
   },
   {
    "duration": 73,
    "start_time": "2022-05-03T18:33:30.210Z"
   },
   {
    "duration": 113,
    "start_time": "2022-05-03T18:34:08.362Z"
   },
   {
    "duration": 76,
    "start_time": "2022-05-03T18:34:25.158Z"
   },
   {
    "duration": 78,
    "start_time": "2022-05-03T18:34:31.834Z"
   },
   {
    "duration": 81,
    "start_time": "2022-05-03T18:35:30.489Z"
   },
   {
    "duration": 9,
    "start_time": "2022-05-03T18:47:37.523Z"
   },
   {
    "duration": 73,
    "start_time": "2022-05-03T18:47:41.715Z"
   },
   {
    "duration": 23,
    "start_time": "2022-05-03T18:48:31.660Z"
   },
   {
    "duration": 23,
    "start_time": "2022-05-03T18:48:58.141Z"
   },
   {
    "duration": 20,
    "start_time": "2022-05-03T18:50:35.208Z"
   },
   {
    "duration": 23,
    "start_time": "2022-05-03T18:51:33.070Z"
   },
   {
    "duration": 77,
    "start_time": "2022-05-03T18:59:21.844Z"
   },
   {
    "duration": 22,
    "start_time": "2022-05-03T18:59:21.923Z"
   },
   {
    "duration": 65,
    "start_time": "2022-05-03T18:59:21.954Z"
   },
   {
    "duration": 10,
    "start_time": "2022-05-03T18:59:22.020Z"
   },
   {
    "duration": 25,
    "start_time": "2022-05-03T18:59:26.379Z"
   },
   {
    "duration": 28,
    "start_time": "2022-05-03T18:59:28.234Z"
   },
   {
    "duration": 481,
    "start_time": "2022-05-03T18:59:38.150Z"
   },
   {
    "duration": 25,
    "start_time": "2022-05-03T18:59:38.633Z"
   },
   {
    "duration": 36,
    "start_time": "2022-05-03T18:59:38.660Z"
   },
   {
    "duration": 2,
    "start_time": "2022-05-03T18:59:38.698Z"
   },
   {
    "duration": 31,
    "start_time": "2022-05-03T18:59:49.035Z"
   },
   {
    "duration": 2,
    "start_time": "2022-05-03T19:02:51.241Z"
   },
   {
    "duration": 61,
    "start_time": "2022-05-03T19:05:51.552Z"
   },
   {
    "duration": 73,
    "start_time": "2022-05-03T19:06:11.441Z"
   },
   {
    "duration": 22,
    "start_time": "2022-05-03T19:06:11.516Z"
   },
   {
    "duration": 35,
    "start_time": "2022-05-03T19:06:11.539Z"
   },
   {
    "duration": 2,
    "start_time": "2022-05-03T19:06:11.576Z"
   },
   {
    "duration": 15,
    "start_time": "2022-05-03T19:09:09.549Z"
   },
   {
    "duration": 10,
    "start_time": "2022-05-03T19:09:13.043Z"
   },
   {
    "duration": 14,
    "start_time": "2022-05-03T19:09:22.693Z"
   },
   {
    "duration": 2208,
    "start_time": "2022-05-03T19:13:53.127Z"
   },
   {
    "duration": 17,
    "start_time": "2022-05-03T19:15:29.358Z"
   },
   {
    "duration": 79,
    "start_time": "2022-05-03T19:53:15.670Z"
   },
   {
    "duration": 21,
    "start_time": "2022-05-03T19:53:15.751Z"
   },
   {
    "duration": 25,
    "start_time": "2022-05-03T19:53:15.774Z"
   },
   {
    "duration": 17,
    "start_time": "2022-05-03T19:53:15.801Z"
   },
   {
    "duration": 211,
    "start_time": "2022-05-03T19:53:43.649Z"
   },
   {
    "duration": 75,
    "start_time": "2022-05-03T19:54:41.917Z"
   },
   {
    "duration": 76,
    "start_time": "2022-05-03T19:54:44.717Z"
   },
   {
    "duration": 14,
    "start_time": "2022-05-03T19:55:42.357Z"
   },
   {
    "duration": 20,
    "start_time": "2022-05-03T19:56:02.109Z"
   },
   {
    "duration": 3,
    "start_time": "2022-05-03T19:56:12.767Z"
   },
   {
    "duration": 141,
    "start_time": "2022-05-03T19:56:22.360Z"
   },
   {
    "duration": 572,
    "start_time": "2022-05-04T09:26:32.274Z"
   },
   {
    "duration": 21,
    "start_time": "2022-05-04T09:26:32.848Z"
   },
   {
    "duration": 24,
    "start_time": "2022-05-04T09:26:32.870Z"
   },
   {
    "duration": 43,
    "start_time": "2022-05-04T09:26:32.896Z"
   },
   {
    "duration": 71,
    "start_time": "2022-05-04T10:19:57.751Z"
   },
   {
    "duration": 28,
    "start_time": "2022-05-04T10:19:57.824Z"
   },
   {
    "duration": 27,
    "start_time": "2022-05-04T10:19:57.853Z"
   },
   {
    "duration": 15,
    "start_time": "2022-05-04T10:19:57.882Z"
   },
   {
    "duration": 635,
    "start_time": "2022-05-04T10:23:21.457Z"
   },
   {
    "duration": 79,
    "start_time": "2022-05-04T10:27:00.835Z"
   },
   {
    "duration": 10,
    "start_time": "2022-05-04T10:29:51.185Z"
   },
   {
    "duration": 610,
    "start_time": "2022-05-04T10:32:14.318Z"
   },
   {
    "duration": 18,
    "start_time": "2022-05-04T10:32:17.513Z"
   },
   {
    "duration": 171,
    "start_time": "2022-05-04T10:32:19.963Z"
   },
   {
    "duration": 177,
    "start_time": "2022-05-04T10:32:42.274Z"
   },
   {
    "duration": 39,
    "start_time": "2022-05-04T10:33:05.910Z"
   },
   {
    "duration": 158,
    "start_time": "2022-05-04T10:33:23.698Z"
   },
   {
    "duration": 180,
    "start_time": "2022-05-04T10:33:42.446Z"
   },
   {
    "duration": 178,
    "start_time": "2022-05-04T10:33:52.111Z"
   },
   {
    "duration": 191,
    "start_time": "2022-05-04T10:34:02.225Z"
   },
   {
    "duration": 179,
    "start_time": "2022-05-04T10:34:12.120Z"
   },
   {
    "duration": 268,
    "start_time": "2022-05-04T10:34:25.276Z"
   },
   {
    "duration": 275,
    "start_time": "2022-05-04T10:34:36.576Z"
   },
   {
    "duration": 211,
    "start_time": "2022-05-04T10:34:49.033Z"
   },
   {
    "duration": 272,
    "start_time": "2022-05-04T10:35:36.993Z"
   },
   {
    "duration": 238,
    "start_time": "2022-05-04T10:36:06.428Z"
   },
   {
    "duration": 177,
    "start_time": "2022-05-04T10:45:02.395Z"
   },
   {
    "duration": 170,
    "start_time": "2022-05-04T10:45:28.335Z"
   },
   {
    "duration": 178,
    "start_time": "2022-05-04T10:45:40.804Z"
   },
   {
    "duration": 170,
    "start_time": "2022-05-04T10:45:45.298Z"
   },
   {
    "duration": 180,
    "start_time": "2022-05-04T10:45:51.775Z"
   },
   {
    "duration": 173,
    "start_time": "2022-05-04T10:46:05.172Z"
   },
   {
    "duration": 263,
    "start_time": "2022-05-04T10:46:11.867Z"
   },
   {
    "duration": 164,
    "start_time": "2022-05-04T10:46:19.700Z"
   },
   {
    "duration": 177,
    "start_time": "2022-05-04T10:46:29.455Z"
   },
   {
    "duration": 202,
    "start_time": "2022-05-04T10:47:00.690Z"
   },
   {
    "duration": 183,
    "start_time": "2022-05-04T10:47:15.813Z"
   },
   {
    "duration": 193,
    "start_time": "2022-05-04T10:47:30.036Z"
   },
   {
    "duration": 175,
    "start_time": "2022-05-04T10:47:40.005Z"
   },
   {
    "duration": 218,
    "start_time": "2022-05-04T10:47:48.635Z"
   },
   {
    "duration": 273,
    "start_time": "2022-05-04T10:47:58.877Z"
   },
   {
    "duration": 203,
    "start_time": "2022-05-04T10:48:03.764Z"
   },
   {
    "duration": 936,
    "start_time": "2022-05-04T10:48:10.580Z"
   },
   {
    "duration": 304,
    "start_time": "2022-05-04T10:48:15.566Z"
   },
   {
    "duration": 243,
    "start_time": "2022-05-04T10:48:49.740Z"
   },
   {
    "duration": 248,
    "start_time": "2022-05-04T10:49:17.940Z"
   },
   {
    "duration": 239,
    "start_time": "2022-05-04T10:49:30.412Z"
   },
   {
    "duration": 171,
    "start_time": "2022-05-04T10:49:36.966Z"
   },
   {
    "duration": 197,
    "start_time": "2022-05-04T10:49:49.815Z"
   },
   {
    "duration": 222,
    "start_time": "2022-05-04T10:49:55.698Z"
   },
   {
    "duration": 198,
    "start_time": "2022-05-04T10:50:00.779Z"
   },
   {
    "duration": 193,
    "start_time": "2022-05-04T10:50:07.356Z"
   },
   {
    "duration": 187,
    "start_time": "2022-05-04T10:50:10.780Z"
   },
   {
    "duration": 175,
    "start_time": "2022-05-04T10:50:46.776Z"
   },
   {
    "duration": 299,
    "start_time": "2022-05-04T10:54:37.721Z"
   },
   {
    "duration": 311,
    "start_time": "2022-05-04T10:57:45.326Z"
   },
   {
    "duration": 197,
    "start_time": "2022-05-04T10:57:57.631Z"
   },
   {
    "duration": 225,
    "start_time": "2022-05-04T11:00:25.468Z"
   },
   {
    "duration": 206,
    "start_time": "2022-05-04T11:01:42.153Z"
   },
   {
    "duration": 217,
    "start_time": "2022-05-04T11:01:50.975Z"
   },
   {
    "duration": 222,
    "start_time": "2022-05-04T11:02:01.647Z"
   },
   {
    "duration": 221,
    "start_time": "2022-05-04T11:02:13.513Z"
   },
   {
    "duration": 217,
    "start_time": "2022-05-04T11:02:20.640Z"
   },
   {
    "duration": 35,
    "start_time": "2022-05-04T11:06:43.021Z"
   },
   {
    "duration": 470,
    "start_time": "2022-05-04T11:07:30.555Z"
   },
   {
    "duration": 3,
    "start_time": "2022-05-04T11:08:22.536Z"
   },
   {
    "duration": 71,
    "start_time": "2022-05-04T12:16:44.720Z"
   },
   {
    "duration": 20,
    "start_time": "2022-05-04T12:16:44.793Z"
   },
   {
    "duration": 24,
    "start_time": "2022-05-04T12:16:44.823Z"
   },
   {
    "duration": 16,
    "start_time": "2022-05-04T12:16:44.848Z"
   },
   {
    "duration": 320,
    "start_time": "2022-05-04T12:16:44.866Z"
   },
   {
    "duration": 3,
    "start_time": "2022-05-04T12:16:45.188Z"
   },
   {
    "duration": 23,
    "start_time": "2022-05-04T14:31:38.968Z"
   },
   {
    "duration": 208,
    "start_time": "2022-05-04T14:32:12.472Z"
   },
   {
    "duration": 187,
    "start_time": "2022-05-04T14:32:18.198Z"
   },
   {
    "duration": 204,
    "start_time": "2022-05-04T14:32:24.452Z"
   },
   {
    "duration": 120,
    "start_time": "2022-05-04T14:35:02.589Z"
   },
   {
    "duration": 75,
    "start_time": "2022-05-04T14:46:33.005Z"
   },
   {
    "duration": 231,
    "start_time": "2022-05-04T14:46:40.111Z"
   },
   {
    "duration": 125,
    "start_time": "2022-05-04T14:46:50.168Z"
   },
   {
    "duration": 134,
    "start_time": "2022-05-04T14:47:00.145Z"
   },
   {
    "duration": 118,
    "start_time": "2022-05-04T14:47:15.382Z"
   },
   {
    "duration": 128,
    "start_time": "2022-05-04T14:49:58.425Z"
   },
   {
    "duration": 179,
    "start_time": "2022-05-04T14:50:15.517Z"
   },
   {
    "duration": 174,
    "start_time": "2022-05-04T14:50:35.944Z"
   },
   {
    "duration": 188,
    "start_time": "2022-05-04T14:50:44.742Z"
   },
   {
    "duration": 215,
    "start_time": "2022-05-04T14:52:50.484Z"
   },
   {
    "duration": 137,
    "start_time": "2022-05-04T14:53:01.412Z"
   },
   {
    "duration": 133,
    "start_time": "2022-05-04T14:53:19.712Z"
   },
   {
    "duration": 210,
    "start_time": "2022-05-04T14:53:24.825Z"
   },
   {
    "duration": 145,
    "start_time": "2022-05-04T14:53:35.895Z"
   },
   {
    "duration": 257,
    "start_time": "2022-05-04T14:53:42.788Z"
   },
   {
    "duration": 125,
    "start_time": "2022-05-04T14:54:01.717Z"
   },
   {
    "duration": 123,
    "start_time": "2022-05-04T15:05:08.665Z"
   },
   {
    "duration": 126,
    "start_time": "2022-05-04T15:05:21.753Z"
   },
   {
    "duration": 184,
    "start_time": "2022-05-04T15:05:37.906Z"
   },
   {
    "duration": 121,
    "start_time": "2022-05-04T15:05:44.687Z"
   },
   {
    "duration": 189,
    "start_time": "2022-05-04T15:06:02.052Z"
   },
   {
    "duration": 130,
    "start_time": "2022-05-04T15:06:23.763Z"
   },
   {
    "duration": 117,
    "start_time": "2022-05-04T15:06:35.856Z"
   },
   {
    "duration": 189,
    "start_time": "2022-05-04T15:09:19.755Z"
   },
   {
    "duration": 33,
    "start_time": "2022-05-04T15:16:21.589Z"
   },
   {
    "duration": 26,
    "start_time": "2022-05-04T15:16:31.871Z"
   },
   {
    "duration": 25,
    "start_time": "2022-05-04T15:17:07.519Z"
   },
   {
    "duration": 22,
    "start_time": "2022-05-04T15:17:56.718Z"
   },
   {
    "duration": 121,
    "start_time": "2022-05-04T15:18:04.372Z"
   },
   {
    "duration": 72,
    "start_time": "2022-05-04T15:18:08.496Z"
   },
   {
    "duration": 28,
    "start_time": "2022-05-04T15:18:08.571Z"
   },
   {
    "duration": 46,
    "start_time": "2022-05-04T15:18:08.601Z"
   },
   {
    "duration": 25,
    "start_time": "2022-05-04T15:18:08.651Z"
   },
   {
    "duration": 238,
    "start_time": "2022-05-04T15:18:08.678Z"
   },
   {
    "duration": 20,
    "start_time": "2022-05-04T15:18:08.919Z"
   },
   {
    "duration": 149,
    "start_time": "2022-05-04T15:18:08.941Z"
   },
   {
    "duration": 3,
    "start_time": "2022-05-04T15:18:09.092Z"
   },
   {
    "duration": 120,
    "start_time": "2022-05-04T15:18:54.159Z"
   },
   {
    "duration": 114,
    "start_time": "2022-05-04T15:18:58.849Z"
   },
   {
    "duration": 27,
    "start_time": "2022-05-04T15:19:58.193Z"
   },
   {
    "duration": 26,
    "start_time": "2022-05-04T15:20:41.880Z"
   },
   {
    "duration": 119,
    "start_time": "2022-05-04T15:20:49.587Z"
   },
   {
    "duration": 122,
    "start_time": "2022-05-04T15:24:57.062Z"
   },
   {
    "duration": 909,
    "start_time": "2022-05-04T15:29:13.945Z"
   },
   {
    "duration": 9,
    "start_time": "2022-05-04T15:31:54.441Z"
   },
   {
    "duration": 26,
    "start_time": "2022-05-04T15:32:31.041Z"
   },
   {
    "duration": 649,
    "start_time": "2022-05-04T15:35:56.836Z"
   },
   {
    "duration": 16,
    "start_time": "2022-05-04T15:36:37.502Z"
   },
   {
    "duration": 15,
    "start_time": "2022-05-04T15:37:28.547Z"
   },
   {
    "duration": 9,
    "start_time": "2022-05-04T15:38:50.850Z"
   },
   {
    "duration": 12,
    "start_time": "2022-05-04T15:39:07.602Z"
   },
   {
    "duration": 17,
    "start_time": "2022-05-04T15:39:18.449Z"
   },
   {
    "duration": 12,
    "start_time": "2022-05-04T15:40:21.516Z"
   },
   {
    "duration": 14,
    "start_time": "2022-05-04T15:40:34.891Z"
   },
   {
    "duration": 443,
    "start_time": "2022-05-04T15:40:45.615Z"
   },
   {
    "duration": 469,
    "start_time": "2022-05-04T15:41:00.978Z"
   },
   {
    "duration": 449,
    "start_time": "2022-05-04T15:41:04.420Z"
   },
   {
    "duration": 133,
    "start_time": "2022-05-04T15:42:46.332Z"
   },
   {
    "duration": 447,
    "start_time": "2022-05-04T15:42:52.059Z"
   },
   {
    "duration": 548,
    "start_time": "2022-05-04T15:43:14.420Z"
   },
   {
    "duration": 437,
    "start_time": "2022-05-04T15:43:27.155Z"
   },
   {
    "duration": 116,
    "start_time": "2022-05-04T15:44:07.134Z"
   },
   {
    "duration": 116,
    "start_time": "2022-05-04T15:44:12.356Z"
   },
   {
    "duration": 443,
    "start_time": "2022-05-04T15:45:45.671Z"
   },
   {
    "duration": 16,
    "start_time": "2022-05-04T16:56:03.271Z"
   },
   {
    "duration": 16,
    "start_time": "2022-05-04T16:56:13.311Z"
   },
   {
    "duration": 17,
    "start_time": "2022-05-04T17:04:23.384Z"
   },
   {
    "duration": 148,
    "start_time": "2022-05-04T17:04:58.305Z"
   },
   {
    "duration": 148,
    "start_time": "2022-05-04T17:05:10.398Z"
   },
   {
    "duration": 207,
    "start_time": "2022-05-04T17:05:35.384Z"
   },
   {
    "duration": 111,
    "start_time": "2022-05-04T17:05:40.723Z"
   },
   {
    "duration": 37,
    "start_time": "2022-05-04T17:05:40.837Z"
   },
   {
    "duration": 57,
    "start_time": "2022-05-04T17:05:40.876Z"
   },
   {
    "duration": 23,
    "start_time": "2022-05-04T17:05:40.936Z"
   },
   {
    "duration": 224,
    "start_time": "2022-05-04T17:05:40.961Z"
   },
   {
    "duration": 17,
    "start_time": "2022-05-04T17:05:41.187Z"
   },
   {
    "duration": 135,
    "start_time": "2022-05-04T17:05:41.206Z"
   },
   {
    "duration": 577,
    "start_time": "2022-05-04T17:05:41.343Z"
   },
   {
    "duration": 156,
    "start_time": "2022-05-04T17:05:41.923Z"
   },
   {
    "duration": 103,
    "start_time": "2022-05-04T17:06:07.224Z"
   },
   {
    "duration": 23,
    "start_time": "2022-05-04T17:06:07.329Z"
   },
   {
    "duration": 30,
    "start_time": "2022-05-04T17:06:07.354Z"
   },
   {
    "duration": 42,
    "start_time": "2022-05-04T17:06:07.386Z"
   },
   {
    "duration": 219,
    "start_time": "2022-05-04T17:06:07.429Z"
   },
   {
    "duration": 19,
    "start_time": "2022-05-04T17:06:07.650Z"
   },
   {
    "duration": 142,
    "start_time": "2022-05-04T17:06:07.671Z"
   },
   {
    "duration": 553,
    "start_time": "2022-05-04T17:06:07.815Z"
   },
   {
    "duration": 155,
    "start_time": "2022-05-04T17:06:08.369Z"
   },
   {
    "duration": 20,
    "start_time": "2022-05-04T17:08:34.995Z"
   },
   {
    "duration": 141,
    "start_time": "2022-05-04T17:09:05.045Z"
   },
   {
    "duration": 157,
    "start_time": "2022-05-04T17:09:11.962Z"
   },
   {
    "duration": 12,
    "start_time": "2022-05-04T17:09:39.173Z"
   },
   {
    "duration": 151,
    "start_time": "2022-05-04T17:09:45.034Z"
   },
   {
    "duration": 15,
    "start_time": "2022-05-04T17:09:59.252Z"
   },
   {
    "duration": 146,
    "start_time": "2022-05-04T17:10:07.446Z"
   },
   {
    "duration": 26,
    "start_time": "2022-05-04T17:17:11.973Z"
   },
   {
    "duration": 26,
    "start_time": "2022-05-04T17:17:12.041Z"
   },
   {
    "duration": 16,
    "start_time": "2022-05-04T17:17:12.297Z"
   },
   {
    "duration": 209,
    "start_time": "2022-05-04T17:17:12.340Z"
   },
   {
    "duration": 15,
    "start_time": "2022-05-04T17:17:12.678Z"
   },
   {
    "duration": 115,
    "start_time": "2022-05-04T17:17:13.154Z"
   },
   {
    "duration": 452,
    "start_time": "2022-05-04T17:17:13.286Z"
   },
   {
    "duration": 15,
    "start_time": "2022-05-04T17:17:13.925Z"
   },
   {
    "duration": 176,
    "start_time": "2022-05-04T17:17:14.199Z"
   },
   {
    "duration": 73,
    "start_time": "2022-05-04T17:17:14.377Z"
   },
   {
    "duration": 5,
    "start_time": "2022-05-04T17:17:51.924Z"
   },
   {
    "duration": 163,
    "start_time": "2022-05-04T17:17:55.590Z"
   },
   {
    "duration": 9,
    "start_time": "2022-05-04T17:18:04.544Z"
   },
   {
    "duration": 176,
    "start_time": "2022-05-04T17:18:51.951Z"
   },
   {
    "duration": 8,
    "start_time": "2022-05-04T17:19:03.245Z"
   },
   {
    "duration": 14,
    "start_time": "2022-05-04T17:19:27.082Z"
   },
   {
    "duration": 169,
    "start_time": "2022-05-04T17:19:30.826Z"
   },
   {
    "duration": 8,
    "start_time": "2022-05-04T17:21:34.124Z"
   },
   {
    "duration": 9,
    "start_time": "2022-05-04T17:22:09.848Z"
   },
   {
    "duration": 8,
    "start_time": "2022-05-04T17:22:20.430Z"
   },
   {
    "duration": 18,
    "start_time": "2022-05-04T17:22:40.766Z"
   },
   {
    "duration": 6,
    "start_time": "2022-05-04T17:24:19.491Z"
   },
   {
    "duration": 15,
    "start_time": "2022-05-04T17:24:23.946Z"
   },
   {
    "duration": 30,
    "start_time": "2022-05-04T17:24:35.663Z"
   },
   {
    "duration": 14,
    "start_time": "2022-05-04T17:24:46.703Z"
   },
   {
    "duration": 53,
    "start_time": "2022-05-04T17:25:00.012Z"
   },
   {
    "duration": 78,
    "start_time": "2022-05-04T17:25:03.196Z"
   },
   {
    "duration": 23,
    "start_time": "2022-05-04T17:25:03.276Z"
   },
   {
    "duration": 43,
    "start_time": "2022-05-04T17:25:03.300Z"
   },
   {
    "duration": 18,
    "start_time": "2022-05-04T17:25:03.345Z"
   },
   {
    "duration": 222,
    "start_time": "2022-05-04T17:25:03.365Z"
   },
   {
    "duration": 15,
    "start_time": "2022-05-04T17:25:03.589Z"
   },
   {
    "duration": 138,
    "start_time": "2022-05-04T17:25:03.606Z"
   },
   {
    "duration": 477,
    "start_time": "2022-05-04T17:25:03.746Z"
   },
   {
    "duration": 18,
    "start_time": "2022-05-04T17:25:04.225Z"
   },
   {
    "duration": 195,
    "start_time": "2022-05-04T17:25:04.245Z"
   },
   {
    "duration": 15,
    "start_time": "2022-05-04T17:25:21.851Z"
   },
   {
    "duration": 7,
    "start_time": "2022-05-04T17:27:30.965Z"
   },
   {
    "duration": 171,
    "start_time": "2022-05-04T17:27:35.251Z"
   },
   {
    "duration": 10,
    "start_time": "2022-05-04T17:28:01.737Z"
   },
   {
    "duration": 176,
    "start_time": "2022-05-04T17:28:07.325Z"
   },
   {
    "duration": 21705,
    "start_time": "2022-05-04T17:34:10.273Z"
   },
   {
    "duration": 31529,
    "start_time": "2022-05-04T17:34:57.543Z"
   },
   {
    "duration": 37174,
    "start_time": "2022-05-04T17:36:22.561Z"
   },
   {
    "duration": 23638,
    "start_time": "2022-05-04T17:42:40.287Z"
   },
   {
    "duration": 9499,
    "start_time": "2022-05-04T17:45:41.476Z"
   },
   {
    "duration": 5638,
    "start_time": "2022-05-04T17:46:35.428Z"
   },
   {
    "duration": 199,
    "start_time": "2022-05-04T17:51:14.084Z"
   },
   {
    "duration": 203,
    "start_time": "2022-05-04T17:51:47.164Z"
   },
   {
    "duration": 73,
    "start_time": "2022-05-04T17:53:55.818Z"
   },
   {
    "duration": 92,
    "start_time": "2022-05-04T17:57:46.825Z"
   },
   {
    "duration": 20,
    "start_time": "2022-05-04T18:00:07.466Z"
   },
   {
    "duration": 29,
    "start_time": "2022-05-04T18:00:22.687Z"
   },
   {
    "duration": 21,
    "start_time": "2022-05-04T18:00:35.585Z"
   },
   {
    "duration": 21,
    "start_time": "2022-05-04T18:00:47.515Z"
   },
   {
    "duration": 21,
    "start_time": "2022-05-04T18:01:05.509Z"
   },
   {
    "duration": 20,
    "start_time": "2022-05-04T18:01:18.926Z"
   },
   {
    "duration": 74,
    "start_time": "2022-05-04T18:01:22.893Z"
   },
   {
    "duration": 26,
    "start_time": "2022-05-04T18:01:22.969Z"
   },
   {
    "duration": 43,
    "start_time": "2022-05-04T18:01:22.997Z"
   },
   {
    "duration": 17,
    "start_time": "2022-05-04T18:01:23.041Z"
   },
   {
    "duration": 226,
    "start_time": "2022-05-04T18:01:23.060Z"
   },
   {
    "duration": 18,
    "start_time": "2022-05-04T18:01:23.288Z"
   },
   {
    "duration": 146,
    "start_time": "2022-05-04T18:01:23.307Z"
   },
   {
    "duration": 498,
    "start_time": "2022-05-04T18:01:23.455Z"
   },
   {
    "duration": 210,
    "start_time": "2022-05-04T18:01:23.956Z"
   },
   {
    "duration": 181,
    "start_time": "2022-05-04T18:08:23.705Z"
   },
   {
    "duration": 205,
    "start_time": "2022-05-04T18:10:02.816Z"
   },
   {
    "duration": 199,
    "start_time": "2022-05-04T18:11:20.018Z"
   },
   {
    "duration": 156,
    "start_time": "2022-05-04T18:20:55.432Z"
   },
   {
    "duration": 65,
    "start_time": "2022-05-04T18:21:55.324Z"
   },
   {
    "duration": 79,
    "start_time": "2022-05-04T18:22:33.946Z"
   },
   {
    "duration": 48,
    "start_time": "2022-05-04T18:27:20.871Z"
   },
   {
    "duration": 121,
    "start_time": "2022-05-04T18:28:00.412Z"
   },
   {
    "duration": 63,
    "start_time": "2022-05-04T18:28:03.670Z"
   },
   {
    "duration": 67,
    "start_time": "2022-05-04T18:28:11.587Z"
   },
   {
    "duration": 47,
    "start_time": "2022-05-04T18:29:50.361Z"
   },
   {
    "duration": 78,
    "start_time": "2022-05-04T18:30:20.944Z"
   },
   {
    "duration": 1940,
    "start_time": "2022-05-04T19:06:25.914Z"
   },
   {
    "duration": 32,
    "start_time": "2022-05-04T19:06:27.857Z"
   },
   {
    "duration": 37,
    "start_time": "2022-05-04T19:06:27.893Z"
   },
   {
    "duration": 29,
    "start_time": "2022-05-04T19:06:27.933Z"
   },
   {
    "duration": 390,
    "start_time": "2022-05-04T19:06:27.964Z"
   },
   {
    "duration": 23,
    "start_time": "2022-05-04T19:06:28.356Z"
   },
   {
    "duration": 263,
    "start_time": "2022-05-04T19:06:28.381Z"
   },
   {
    "duration": 863,
    "start_time": "2022-05-04T19:06:28.646Z"
   },
   {
    "duration": 276,
    "start_time": "2022-05-04T19:06:29.512Z"
   },
   {
    "duration": 257,
    "start_time": "2022-05-04T19:06:29.793Z"
   },
   {
    "duration": 161,
    "start_time": "2022-05-04T19:06:30.052Z"
   },
   {
    "duration": 1640,
    "start_time": "2022-05-04T19:08:35.576Z"
   },
   {
    "duration": 36,
    "start_time": "2022-05-04T19:08:37.218Z"
   },
   {
    "duration": 63,
    "start_time": "2022-05-04T19:08:37.256Z"
   },
   {
    "duration": 24,
    "start_time": "2022-05-04T19:08:37.321Z"
   },
   {
    "duration": 378,
    "start_time": "2022-05-04T19:08:37.348Z"
   },
   {
    "duration": 25,
    "start_time": "2022-05-04T19:08:37.728Z"
   },
   {
    "duration": 237,
    "start_time": "2022-05-04T19:08:37.756Z"
   },
   {
    "duration": 728,
    "start_time": "2022-05-04T19:08:37.995Z"
   },
   {
    "duration": 291,
    "start_time": "2022-05-04T19:08:38.726Z"
   },
   {
    "duration": 276,
    "start_time": "2022-05-04T19:08:39.020Z"
   },
   {
    "duration": 68,
    "start_time": "2022-05-04T19:08:39.299Z"
   },
   {
    "duration": 11,
    "start_time": "2022-05-04T19:49:30.249Z"
   },
   {
    "duration": 12,
    "start_time": "2022-05-04T19:49:38.351Z"
   },
   {
    "duration": 209,
    "start_time": "2022-05-04T19:50:27.401Z"
   },
   {
    "duration": 17,
    "start_time": "2022-05-04T19:53:32.811Z"
   },
   {
    "duration": 34,
    "start_time": "2022-05-04T19:54:34.624Z"
   },
   {
    "duration": 19,
    "start_time": "2022-05-04T19:54:45.416Z"
   },
   {
    "duration": 23,
    "start_time": "2022-05-04T19:54:48.714Z"
   },
   {
    "duration": 19,
    "start_time": "2022-05-04T19:55:02.106Z"
   },
   {
    "duration": 19,
    "start_time": "2022-05-04T19:55:07.068Z"
   },
   {
    "duration": 19,
    "start_time": "2022-05-04T19:55:48.915Z"
   },
   {
    "duration": 20,
    "start_time": "2022-05-04T19:55:53.989Z"
   },
   {
    "duration": 116,
    "start_time": "2022-05-04T19:55:57.110Z"
   },
   {
    "duration": 39,
    "start_time": "2022-05-04T19:55:57.230Z"
   },
   {
    "duration": 38,
    "start_time": "2022-05-04T19:55:57.294Z"
   },
   {
    "duration": 28,
    "start_time": "2022-05-04T19:55:57.335Z"
   },
   {
    "duration": 373,
    "start_time": "2022-05-04T19:55:57.395Z"
   },
   {
    "duration": 39,
    "start_time": "2022-05-04T19:55:57.771Z"
   },
   {
    "duration": 218,
    "start_time": "2022-05-04T19:55:57.813Z"
   },
   {
    "duration": 805,
    "start_time": "2022-05-04T19:55:58.034Z"
   },
   {
    "duration": 311,
    "start_time": "2022-05-04T19:55:58.842Z"
   },
   {
    "duration": 282,
    "start_time": "2022-05-04T19:55:59.155Z"
   },
   {
    "duration": 81,
    "start_time": "2022-05-04T19:55:59.439Z"
   },
   {
    "duration": 22,
    "start_time": "2022-05-04T19:55:59.522Z"
   },
   {
    "duration": 110,
    "start_time": "2022-05-04T20:08:46.020Z"
   },
   {
    "duration": 37,
    "start_time": "2022-05-04T20:08:46.133Z"
   },
   {
    "duration": 57,
    "start_time": "2022-05-04T20:08:46.172Z"
   },
   {
    "duration": 27,
    "start_time": "2022-05-04T20:08:46.231Z"
   },
   {
    "duration": 401,
    "start_time": "2022-05-04T20:08:46.261Z"
   },
   {
    "duration": 38,
    "start_time": "2022-05-04T20:08:46.664Z"
   },
   {
    "duration": 222,
    "start_time": "2022-05-04T20:08:46.704Z"
   },
   {
    "duration": 710,
    "start_time": "2022-05-04T20:08:46.929Z"
   },
   {
    "duration": 299,
    "start_time": "2022-05-04T20:08:47.642Z"
   },
   {
    "duration": 352,
    "start_time": "2022-05-04T20:08:47.943Z"
   },
   {
    "duration": 69,
    "start_time": "2022-05-04T20:08:48.298Z"
   },
   {
    "duration": 38,
    "start_time": "2022-05-04T20:08:48.369Z"
   },
   {
    "duration": 39,
    "start_time": "2022-05-04T20:09:02.116Z"
   },
   {
    "duration": 20,
    "start_time": "2022-05-04T20:09:18.140Z"
   },
   {
    "duration": 26,
    "start_time": "2022-05-04T20:09:28.613Z"
   },
   {
    "duration": 25,
    "start_time": "2022-05-04T20:09:43.672Z"
   },
   {
    "duration": 26,
    "start_time": "2022-05-04T20:09:47.654Z"
   },
   {
    "duration": 14,
    "start_time": "2022-05-04T20:10:27.862Z"
   },
   {
    "duration": 29,
    "start_time": "2022-05-04T20:10:39.404Z"
   },
   {
    "duration": 17,
    "start_time": "2022-05-04T20:10:55.388Z"
   },
   {
    "duration": 16,
    "start_time": "2022-05-04T20:11:14.554Z"
   },
   {
    "duration": 17,
    "start_time": "2022-05-04T20:11:47.013Z"
   },
   {
    "duration": 18,
    "start_time": "2022-05-04T20:11:58.629Z"
   },
   {
    "duration": 22,
    "start_time": "2022-05-04T20:12:01.803Z"
   },
   {
    "duration": 21,
    "start_time": "2022-05-04T20:14:01.274Z"
   },
   {
    "duration": 38,
    "start_time": "2022-05-04T20:14:25.171Z"
   },
   {
    "duration": 37,
    "start_time": "2022-05-04T20:14:35.680Z"
   },
   {
    "duration": 27,
    "start_time": "2022-05-04T20:14:54.233Z"
   },
   {
    "duration": 32,
    "start_time": "2022-05-04T20:15:08.231Z"
   },
   {
    "duration": 27,
    "start_time": "2022-05-04T20:15:14.893Z"
   },
   {
    "duration": 28,
    "start_time": "2022-05-04T20:15:22.274Z"
   },
   {
    "duration": 13,
    "start_time": "2022-05-04T20:15:43.642Z"
   },
   {
    "duration": 79,
    "start_time": "2022-05-04T20:16:29.183Z"
   },
   {
    "duration": 79,
    "start_time": "2022-05-04T20:17:12.296Z"
   },
   {
    "duration": 39,
    "start_time": "2022-05-04T20:17:21.793Z"
   },
   {
    "duration": 19,
    "start_time": "2022-05-04T20:17:26.513Z"
   },
   {
    "duration": 26,
    "start_time": "2022-05-04T20:18:13.060Z"
   },
   {
    "duration": 24,
    "start_time": "2022-05-04T20:19:31.138Z"
   },
   {
    "duration": 30,
    "start_time": "2022-05-04T20:19:41.973Z"
   },
   {
    "duration": 37,
    "start_time": "2022-05-04T20:20:03.874Z"
   },
   {
    "duration": 20,
    "start_time": "2022-05-04T20:20:20.813Z"
   },
   {
    "duration": 87,
    "start_time": "2022-05-04T20:21:22.402Z"
   },
   {
    "duration": 115,
    "start_time": "2022-05-04T20:21:53.746Z"
   },
   {
    "duration": 59,
    "start_time": "2022-05-04T20:21:53.864Z"
   },
   {
    "duration": 58,
    "start_time": "2022-05-04T20:21:53.926Z"
   },
   {
    "duration": 31,
    "start_time": "2022-05-04T20:21:53.987Z"
   },
   {
    "duration": 390,
    "start_time": "2022-05-04T20:21:54.020Z"
   },
   {
    "duration": 27,
    "start_time": "2022-05-04T20:21:54.412Z"
   },
   {
    "duration": 239,
    "start_time": "2022-05-04T20:21:54.442Z"
   },
   {
    "duration": 752,
    "start_time": "2022-05-04T20:21:54.683Z"
   },
   {
    "duration": 536,
    "start_time": "2022-05-04T20:21:55.437Z"
   },
   {
    "duration": 288,
    "start_time": "2022-05-04T20:21:55.977Z"
   },
   {
    "duration": 190,
    "start_time": "2022-05-04T20:21:56.267Z"
   },
   {
    "duration": 34,
    "start_time": "2022-05-04T20:21:56.460Z"
   },
   {
    "duration": 75,
    "start_time": "2022-05-04T20:22:09.654Z"
   },
   {
    "duration": 22,
    "start_time": "2022-05-04T20:22:30.254Z"
   },
   {
    "duration": 23,
    "start_time": "2022-05-04T20:23:24.559Z"
   },
   {
    "duration": 42,
    "start_time": "2022-05-04T20:23:30.295Z"
   },
   {
    "duration": 35,
    "start_time": "2022-05-04T20:23:40.510Z"
   },
   {
    "duration": 27,
    "start_time": "2022-05-04T20:23:55.054Z"
   },
   {
    "duration": 16,
    "start_time": "2022-05-04T20:24:27.651Z"
   },
   {
    "duration": 12,
    "start_time": "2022-05-04T20:24:40.120Z"
   },
   {
    "duration": 132,
    "start_time": "2022-05-04T21:20:29.814Z"
   },
   {
    "duration": 68,
    "start_time": "2022-05-04T21:20:29.949Z"
   },
   {
    "duration": 62,
    "start_time": "2022-05-04T21:20:30.019Z"
   },
   {
    "duration": 36,
    "start_time": "2022-05-04T21:20:30.084Z"
   },
   {
    "duration": 488,
    "start_time": "2022-05-04T21:20:30.123Z"
   },
   {
    "duration": 31,
    "start_time": "2022-05-04T21:20:30.614Z"
   },
   {
    "duration": 279,
    "start_time": "2022-05-04T21:20:30.648Z"
   },
   {
    "duration": 968,
    "start_time": "2022-05-04T21:20:30.930Z"
   },
   {
    "duration": 384,
    "start_time": "2022-05-04T21:20:31.901Z"
   },
   {
    "duration": 364,
    "start_time": "2022-05-04T21:20:32.294Z"
   },
   {
    "duration": 232,
    "start_time": "2022-05-04T21:20:32.661Z"
   },
   {
    "duration": 23,
    "start_time": "2022-05-04T21:20:32.895Z"
   },
   {
    "duration": 11,
    "start_time": "2022-05-04T21:20:46.457Z"
   },
   {
    "duration": 12,
    "start_time": "2022-05-04T21:20:51.801Z"
   },
   {
    "duration": 12,
    "start_time": "2022-05-04T21:20:58.794Z"
   },
   {
    "duration": 11,
    "start_time": "2022-05-04T21:21:06.654Z"
   },
   {
    "duration": 8,
    "start_time": "2022-05-04T21:21:10.486Z"
   },
   {
    "duration": 0,
    "start_time": "2022-05-04T21:21:27.711Z"
   },
   {
    "duration": 0,
    "start_time": "2022-05-04T21:21:27.712Z"
   },
   {
    "duration": 0,
    "start_time": "2022-05-04T21:21:27.713Z"
   },
   {
    "duration": 0,
    "start_time": "2022-05-04T21:21:27.715Z"
   },
   {
    "duration": 0,
    "start_time": "2022-05-04T21:21:27.716Z"
   },
   {
    "duration": 0,
    "start_time": "2022-05-04T21:21:27.717Z"
   },
   {
    "duration": 0,
    "start_time": "2022-05-04T21:21:27.718Z"
   },
   {
    "duration": 0,
    "start_time": "2022-05-04T21:21:27.720Z"
   },
   {
    "duration": 0,
    "start_time": "2022-05-04T21:21:27.721Z"
   },
   {
    "duration": 0,
    "start_time": "2022-05-04T21:21:27.723Z"
   },
   {
    "duration": 0,
    "start_time": "2022-05-04T21:21:27.725Z"
   },
   {
    "duration": 0,
    "start_time": "2022-05-04T21:21:27.726Z"
   },
   {
    "duration": 111,
    "start_time": "2022-05-04T21:22:50.188Z"
   },
   {
    "duration": 38,
    "start_time": "2022-05-04T21:22:50.302Z"
   },
   {
    "duration": 59,
    "start_time": "2022-05-04T21:22:50.343Z"
   },
   {
    "duration": 25,
    "start_time": "2022-05-04T21:22:50.405Z"
   },
   {
    "duration": 369,
    "start_time": "2022-05-04T21:22:50.432Z"
   },
   {
    "duration": 24,
    "start_time": "2022-05-04T21:22:50.803Z"
   },
   {
    "duration": 216,
    "start_time": "2022-05-04T21:22:50.830Z"
   },
   {
    "duration": 681,
    "start_time": "2022-05-04T21:22:51.048Z"
   },
   {
    "duration": 272,
    "start_time": "2022-05-04T21:22:51.731Z"
   },
   {
    "duration": 261,
    "start_time": "2022-05-04T21:22:52.007Z"
   },
   {
    "duration": 70,
    "start_time": "2022-05-04T21:22:52.271Z"
   },
   {
    "duration": 13,
    "start_time": "2022-05-04T21:22:52.343Z"
   },
   {
    "duration": 76,
    "start_time": "2022-05-04T21:24:14.655Z"
   },
   {
    "duration": 173,
    "start_time": "2022-05-04T21:24:30.394Z"
   },
   {
    "duration": 77,
    "start_time": "2022-05-04T21:24:37.248Z"
   },
   {
    "duration": 80,
    "start_time": "2022-05-04T21:24:44.347Z"
   },
   {
    "duration": 66,
    "start_time": "2022-05-04T21:25:15.474Z"
   },
   {
    "duration": 81,
    "start_time": "2022-05-04T21:26:03.327Z"
   },
   {
    "duration": 82,
    "start_time": "2022-05-04T21:26:34.467Z"
   },
   {
    "duration": 140,
    "start_time": "2022-05-04T21:26:47.635Z"
   },
   {
    "duration": 74,
    "start_time": "2022-05-04T21:26:56.028Z"
   },
   {
    "duration": 85,
    "start_time": "2022-05-04T21:27:00.795Z"
   },
   {
    "duration": 73,
    "start_time": "2022-05-04T21:27:10.879Z"
   },
   {
    "duration": 83,
    "start_time": "2022-05-04T21:27:20.734Z"
   },
   {
    "duration": 83,
    "start_time": "2022-05-04T21:27:26.814Z"
   },
   {
    "duration": 148,
    "start_time": "2022-05-04T21:27:33.034Z"
   },
   {
    "duration": 74,
    "start_time": "2022-05-04T21:27:37.813Z"
   },
   {
    "duration": 77,
    "start_time": "2022-05-04T21:27:42.887Z"
   },
   {
    "duration": 119,
    "start_time": "2022-05-04T21:27:48.290Z"
   },
   {
    "duration": 84,
    "start_time": "2022-05-04T21:28:06.487Z"
   },
   {
    "duration": 77,
    "start_time": "2022-05-04T21:28:17.914Z"
   },
   {
    "duration": 147,
    "start_time": "2022-05-04T21:28:54.496Z"
   },
   {
    "duration": 82,
    "start_time": "2022-05-04T21:29:01.527Z"
   },
   {
    "duration": 86,
    "start_time": "2022-05-04T21:29:19.494Z"
   },
   {
    "duration": 76,
    "start_time": "2022-05-04T21:29:27.667Z"
   },
   {
    "duration": 78,
    "start_time": "2022-05-04T21:29:33.968Z"
   },
   {
    "duration": 73,
    "start_time": "2022-05-04T21:29:40.756Z"
   },
   {
    "duration": 197,
    "start_time": "2022-05-04T21:29:47.716Z"
   },
   {
    "duration": 121,
    "start_time": "2022-05-04T21:29:53.434Z"
   },
   {
    "duration": 75,
    "start_time": "2022-05-04T21:29:59.247Z"
   },
   {
    "duration": 75,
    "start_time": "2022-05-04T21:30:10.135Z"
   },
   {
    "duration": 124,
    "start_time": "2022-05-04T21:30:19.975Z"
   },
   {
    "duration": 83,
    "start_time": "2022-05-04T21:30:25.355Z"
   },
   {
    "duration": 84,
    "start_time": "2022-05-04T21:30:32.667Z"
   },
   {
    "duration": 137,
    "start_time": "2022-05-04T21:30:37.720Z"
   },
   {
    "duration": 77,
    "start_time": "2022-05-04T21:30:42.038Z"
   },
   {
    "duration": 76,
    "start_time": "2022-05-04T21:30:50.614Z"
   },
   {
    "duration": 79,
    "start_time": "2022-05-04T21:30:56.385Z"
   },
   {
    "duration": 82,
    "start_time": "2022-05-04T21:31:00.515Z"
   },
   {
    "duration": 79,
    "start_time": "2022-05-04T21:31:04.375Z"
   },
   {
    "duration": 134,
    "start_time": "2022-05-04T21:31:12.186Z"
   },
   {
    "duration": 85,
    "start_time": "2022-05-04T21:31:16.695Z"
   },
   {
    "duration": 78,
    "start_time": "2022-05-04T21:31:21.534Z"
   },
   {
    "duration": 79,
    "start_time": "2022-05-04T21:31:26.527Z"
   },
   {
    "duration": 76,
    "start_time": "2022-05-04T21:31:31.847Z"
   },
   {
    "duration": 76,
    "start_time": "2022-05-04T21:31:35.990Z"
   },
   {
    "duration": 141,
    "start_time": "2022-05-04T21:31:42.394Z"
   },
   {
    "duration": 79,
    "start_time": "2022-05-04T21:31:47.214Z"
   },
   {
    "duration": 73,
    "start_time": "2022-05-04T21:31:56.054Z"
   },
   {
    "duration": 83,
    "start_time": "2022-05-04T21:32:01.027Z"
   },
   {
    "duration": 76,
    "start_time": "2022-05-04T21:32:06.975Z"
   },
   {
    "duration": 77,
    "start_time": "2022-05-04T21:32:12.194Z"
   },
   {
    "duration": 142,
    "start_time": "2022-05-04T21:32:16.434Z"
   },
   {
    "duration": 81,
    "start_time": "2022-05-04T21:32:20.867Z"
   },
   {
    "duration": 76,
    "start_time": "2022-05-04T21:32:27.614Z"
   },
   {
    "duration": 121,
    "start_time": "2022-05-04T21:32:31.534Z"
   },
   {
    "duration": 122,
    "start_time": "2022-05-04T21:32:37.874Z"
   },
   {
    "duration": 136,
    "start_time": "2022-05-04T21:32:48.493Z"
   },
   {
    "duration": 209,
    "start_time": "2022-05-04T21:32:52.954Z"
   },
   {
    "duration": 127,
    "start_time": "2022-05-04T21:32:58.806Z"
   },
   {
    "duration": 130,
    "start_time": "2022-05-04T21:33:05.013Z"
   },
   {
    "duration": 114,
    "start_time": "2022-05-04T21:33:09.773Z"
   },
   {
    "duration": 126,
    "start_time": "2022-05-04T21:33:15.267Z"
   },
   {
    "duration": 128,
    "start_time": "2022-05-04T21:33:19.715Z"
   },
   {
    "duration": 152,
    "start_time": "2022-05-04T21:33:31.147Z"
   },
   {
    "duration": 13,
    "start_time": "2022-05-04T21:33:34.866Z"
   },
   {
    "duration": 16,
    "start_time": "2022-05-04T21:33:39.503Z"
   },
   {
    "duration": 8,
    "start_time": "2022-05-04T21:33:54.053Z"
   },
   {
    "duration": 112,
    "start_time": "2022-05-05T11:03:18.551Z"
   },
   {
    "duration": 48,
    "start_time": "2022-05-05T11:03:18.666Z"
   },
   {
    "duration": 40,
    "start_time": "2022-05-05T11:03:18.717Z"
   },
   {
    "duration": 52,
    "start_time": "2022-05-05T11:03:18.759Z"
   },
   {
    "duration": 379,
    "start_time": "2022-05-05T11:03:18.814Z"
   },
   {
    "duration": 25,
    "start_time": "2022-05-05T11:03:19.195Z"
   },
   {
    "duration": 227,
    "start_time": "2022-05-05T11:03:19.222Z"
   },
   {
    "duration": 768,
    "start_time": "2022-05-05T11:03:19.452Z"
   },
   {
    "duration": 297,
    "start_time": "2022-05-05T11:03:20.223Z"
   },
   {
    "duration": 250,
    "start_time": "2022-05-05T11:03:22.624Z"
   },
   {
    "duration": 75,
    "start_time": "2022-05-05T11:03:22.877Z"
   },
   {
    "duration": 37,
    "start_time": "2022-05-05T11:03:22.955Z"
   },
   {
    "duration": 126,
    "start_time": "2022-05-05T11:08:11.368Z"
   },
   {
    "duration": 41,
    "start_time": "2022-05-05T11:08:11.610Z"
   },
   {
    "duration": 47,
    "start_time": "2022-05-05T11:08:11.655Z"
   },
   {
    "duration": 26,
    "start_time": "2022-05-05T11:08:14.241Z"
   },
   {
    "duration": 376,
    "start_time": "2022-05-05T11:08:14.270Z"
   },
   {
    "duration": 45,
    "start_time": "2022-05-05T11:08:14.649Z"
   },
   {
    "duration": 211,
    "start_time": "2022-05-05T11:08:20.286Z"
   },
   {
    "duration": 830,
    "start_time": "2022-05-05T11:08:20.500Z"
   },
   {
    "duration": 415,
    "start_time": "2022-05-05T11:08:21.333Z"
   },
   {
    "duration": 281,
    "start_time": "2022-05-05T11:08:21.751Z"
   },
   {
    "duration": 86,
    "start_time": "2022-05-05T11:08:22.035Z"
   },
   {
    "duration": 16,
    "start_time": "2022-05-05T11:08:22.124Z"
   },
   {
    "duration": 1066,
    "start_time": "2022-05-05T11:13:44.546Z"
   },
   {
    "duration": 1397,
    "start_time": "2022-05-05T11:14:07.617Z"
   },
   {
    "duration": 1500,
    "start_time": "2022-05-05T11:14:20.859Z"
   },
   {
    "duration": 1479,
    "start_time": "2022-05-05T11:15:30.188Z"
   },
   {
    "duration": 2177,
    "start_time": "2022-05-05T11:15:44.571Z"
   },
   {
    "duration": 1751,
    "start_time": "2022-05-05T11:15:55.600Z"
   },
   {
    "duration": 225,
    "start_time": "2022-05-05T11:16:07.070Z"
   },
   {
    "duration": 250,
    "start_time": "2022-05-05T11:16:14.206Z"
   },
   {
    "duration": 1761,
    "start_time": "2022-05-05T11:16:31.847Z"
   },
   {
    "duration": 117,
    "start_time": "2022-05-05T11:16:51.720Z"
   },
   {
    "duration": 68,
    "start_time": "2022-05-05T11:16:51.840Z"
   },
   {
    "duration": 41,
    "start_time": "2022-05-05T11:16:51.911Z"
   },
   {
    "duration": 58,
    "start_time": "2022-05-05T11:16:51.956Z"
   },
   {
    "duration": 408,
    "start_time": "2022-05-05T11:16:52.017Z"
   },
   {
    "duration": 24,
    "start_time": "2022-05-05T11:16:52.428Z"
   },
   {
    "duration": 243,
    "start_time": "2022-05-05T11:16:52.455Z"
   },
   {
    "duration": 1778,
    "start_time": "2022-05-05T11:16:52.701Z"
   },
   {
    "duration": 316,
    "start_time": "2022-05-05T11:16:54.482Z"
   },
   {
    "duration": 314,
    "start_time": "2022-05-05T11:16:54.801Z"
   },
   {
    "duration": 257,
    "start_time": "2022-05-05T11:16:55.118Z"
   },
   {
    "duration": 22,
    "start_time": "2022-05-05T11:16:55.396Z"
   },
   {
    "duration": 6,
    "start_time": "2022-05-05T11:17:03.023Z"
   },
   {
    "duration": 1180,
    "start_time": "2022-05-05T11:17:07.407Z"
   },
   {
    "duration": 126,
    "start_time": "2022-05-05T11:17:12.554Z"
   },
   {
    "duration": 67,
    "start_time": "2022-05-05T11:17:12.692Z"
   },
   {
    "duration": 65,
    "start_time": "2022-05-05T11:17:12.762Z"
   },
   {
    "duration": 26,
    "start_time": "2022-05-05T11:17:12.830Z"
   },
   {
    "duration": 623,
    "start_time": "2022-05-05T11:17:12.858Z"
   },
   {
    "duration": 44,
    "start_time": "2022-05-05T11:17:13.484Z"
   },
   {
    "duration": 346,
    "start_time": "2022-05-05T11:17:13.533Z"
   },
   {
    "duration": 781,
    "start_time": "2022-05-05T11:17:13.882Z"
   },
   {
    "duration": 438,
    "start_time": "2022-05-05T11:17:14.665Z"
   },
   {
    "duration": 415,
    "start_time": "2022-05-05T11:17:15.106Z"
   },
   {
    "duration": 112,
    "start_time": "2022-05-05T11:17:15.525Z"
   },
   {
    "duration": 16,
    "start_time": "2022-05-05T11:17:15.639Z"
   },
   {
    "duration": 493,
    "start_time": "2022-05-05T11:17:32.041Z"
   },
   {
    "duration": 1778,
    "start_time": "2022-05-05T11:17:39.132Z"
   },
   {
    "duration": 2283,
    "start_time": "2022-05-05T11:17:46.036Z"
   },
   {
    "duration": 6976,
    "start_time": "2022-05-05T11:17:54.117Z"
   },
   {
    "duration": 4903,
    "start_time": "2022-05-05T11:18:11.733Z"
   },
   {
    "duration": 1152,
    "start_time": "2022-05-05T11:18:23.918Z"
   },
   {
    "duration": 1127,
    "start_time": "2022-05-05T11:21:06.527Z"
   },
   {
    "duration": 117,
    "start_time": "2022-05-05T11:21:34.982Z"
   },
   {
    "duration": 53,
    "start_time": "2022-05-05T11:21:35.102Z"
   },
   {
    "duration": 64,
    "start_time": "2022-05-05T11:21:35.158Z"
   },
   {
    "duration": 25,
    "start_time": "2022-05-05T11:21:35.225Z"
   },
   {
    "duration": 392,
    "start_time": "2022-05-05T11:21:35.252Z"
   },
   {
    "duration": 25,
    "start_time": "2022-05-05T11:21:35.646Z"
   },
   {
    "duration": 329,
    "start_time": "2022-05-05T11:21:35.673Z"
   },
   {
    "duration": 1259,
    "start_time": "2022-05-05T11:21:36.005Z"
   },
   {
    "duration": 460,
    "start_time": "2022-05-05T11:21:37.268Z"
   },
   {
    "duration": 672,
    "start_time": "2022-05-05T11:21:37.734Z"
   },
   {
    "duration": 147,
    "start_time": "2022-05-05T11:21:38.409Z"
   },
   {
    "duration": 40,
    "start_time": "2022-05-05T11:21:38.559Z"
   },
   {
    "duration": 1773,
    "start_time": "2022-05-05T11:26:40.290Z"
   },
   {
    "duration": 1918,
    "start_time": "2022-05-05T11:26:49.782Z"
   },
   {
    "duration": 1217,
    "start_time": "2022-05-05T11:27:02.470Z"
   },
   {
    "duration": 2262,
    "start_time": "2022-05-05T11:27:55.929Z"
   },
   {
    "duration": 2054,
    "start_time": "2022-05-05T11:28:03.559Z"
   },
   {
    "duration": 1151,
    "start_time": "2022-05-05T11:28:37.390Z"
   },
   {
    "duration": 1874,
    "start_time": "2022-05-05T11:28:50.690Z"
   },
   {
    "duration": 2158,
    "start_time": "2022-05-05T11:29:04.394Z"
   },
   {
    "duration": 1409,
    "start_time": "2022-05-05T11:29:24.257Z"
   },
   {
    "duration": 1562,
    "start_time": "2022-05-05T11:29:39.389Z"
   },
   {
    "duration": 1401,
    "start_time": "2022-05-05T11:29:58.403Z"
   },
   {
    "duration": 2355,
    "start_time": "2022-05-05T11:30:08.550Z"
   },
   {
    "duration": 1921,
    "start_time": "2022-05-05T11:30:35.750Z"
   },
   {
    "duration": 4517,
    "start_time": "2022-05-05T11:42:10.079Z"
   },
   {
    "duration": 4350,
    "start_time": "2022-05-05T11:42:27.893Z"
   },
   {
    "duration": 3598,
    "start_time": "2022-05-05T11:42:46.539Z"
   },
   {
    "duration": 3632,
    "start_time": "2022-05-05T11:42:52.226Z"
   },
   {
    "duration": 1232,
    "start_time": "2022-05-05T11:43:01.264Z"
   },
   {
    "duration": 3700,
    "start_time": "2022-05-05T11:46:21.784Z"
   },
   {
    "duration": 1257,
    "start_time": "2022-05-05T11:46:38.192Z"
   },
   {
    "duration": 66,
    "start_time": "2022-05-05T11:52:01.853Z"
   },
   {
    "duration": 314,
    "start_time": "2022-05-05T11:52:18.293Z"
   },
   {
    "duration": 33,
    "start_time": "2022-05-05T11:52:47.223Z"
   },
   {
    "duration": 15,
    "start_time": "2022-05-05T11:53:43.308Z"
   },
   {
    "duration": 162,
    "start_time": "2022-05-05T13:09:15.780Z"
   },
   {
    "duration": 64,
    "start_time": "2022-05-05T13:09:15.945Z"
   },
   {
    "duration": 46,
    "start_time": "2022-05-05T13:09:16.013Z"
   },
   {
    "duration": 55,
    "start_time": "2022-05-05T13:09:16.062Z"
   },
   {
    "duration": 527,
    "start_time": "2022-05-05T13:09:16.120Z"
   },
   {
    "duration": 24,
    "start_time": "2022-05-05T13:09:16.649Z"
   },
   {
    "duration": 232,
    "start_time": "2022-05-05T13:09:16.699Z"
   },
   {
    "duration": 932,
    "start_time": "2022-05-05T13:09:16.933Z"
   },
   {
    "duration": 325,
    "start_time": "2022-05-05T13:09:17.868Z"
   },
   {
    "duration": 21,
    "start_time": "2022-05-05T13:09:18.198Z"
   },
   {
    "duration": 333,
    "start_time": "2022-05-05T13:09:18.221Z"
   },
   {
    "duration": 96,
    "start_time": "2022-05-05T13:09:18.557Z"
   },
   {
    "duration": 14,
    "start_time": "2022-05-05T13:09:18.656Z"
   },
   {
    "duration": 537,
    "start_time": "2022-05-05T13:12:02.506Z"
   },
   {
    "duration": 123,
    "start_time": "2022-05-05T13:12:21.895Z"
   },
   {
    "duration": 114,
    "start_time": "2022-05-05T13:13:45.119Z"
   },
   {
    "duration": 109,
    "start_time": "2022-05-05T13:13:48.417Z"
   },
   {
    "duration": 38,
    "start_time": "2022-05-05T13:13:48.529Z"
   },
   {
    "duration": 77,
    "start_time": "2022-05-05T13:13:48.569Z"
   },
   {
    "duration": 57,
    "start_time": "2022-05-05T13:13:48.648Z"
   },
   {
    "duration": 396,
    "start_time": "2022-05-05T13:13:48.710Z"
   },
   {
    "duration": 29,
    "start_time": "2022-05-05T13:13:49.108Z"
   },
   {
    "duration": 241,
    "start_time": "2022-05-05T13:13:49.139Z"
   },
   {
    "duration": 898,
    "start_time": "2022-05-05T13:13:49.382Z"
   },
   {
    "duration": 289,
    "start_time": "2022-05-05T13:13:50.293Z"
   },
   {
    "duration": 79,
    "start_time": "2022-05-05T13:13:50.585Z"
   },
   {
    "duration": 129,
    "start_time": "2022-05-05T13:13:50.666Z"
   },
   {
    "duration": 331,
    "start_time": "2022-05-05T13:13:50.798Z"
   },
   {
    "duration": 96,
    "start_time": "2022-05-05T13:13:51.131Z"
   },
   {
    "duration": 14,
    "start_time": "2022-05-05T13:13:51.232Z"
   },
   {
    "duration": 242,
    "start_time": "2022-05-05T13:14:08.673Z"
   },
   {
    "duration": 93,
    "start_time": "2022-05-05T13:15:01.451Z"
   },
   {
    "duration": 57,
    "start_time": "2022-05-05T13:15:26.812Z"
   },
   {
    "duration": 30,
    "start_time": "2022-05-05T13:16:00.017Z"
   },
   {
    "duration": 23,
    "start_time": "2022-05-05T13:16:49.218Z"
   },
   {
    "duration": 15,
    "start_time": "2022-05-05T13:17:05.906Z"
   },
   {
    "duration": 25,
    "start_time": "2022-05-05T13:17:12.756Z"
   },
   {
    "duration": 19,
    "start_time": "2022-05-05T13:23:22.797Z"
   },
   {
    "duration": 244,
    "start_time": "2022-05-05T13:23:46.773Z"
   },
   {
    "duration": 138,
    "start_time": "2022-05-05T13:24:20.124Z"
   },
   {
    "duration": 208,
    "start_time": "2022-05-05T13:24:25.767Z"
   },
   {
    "duration": 257,
    "start_time": "2022-05-05T13:26:19.266Z"
   },
   {
    "duration": 3751,
    "start_time": "2022-05-05T13:27:06.208Z"
   },
   {
    "duration": 239,
    "start_time": "2022-05-05T13:27:16.768Z"
   },
   {
    "duration": 236,
    "start_time": "2022-05-05T13:27:24.528Z"
   },
   {
    "duration": 0,
    "start_time": "2022-05-05T13:32:34.017Z"
   },
   {
    "duration": 0,
    "start_time": "2022-05-05T13:32:34.019Z"
   },
   {
    "duration": 0,
    "start_time": "2022-05-05T13:32:34.020Z"
   },
   {
    "duration": 0,
    "start_time": "2022-05-05T13:32:34.021Z"
   },
   {
    "duration": 0,
    "start_time": "2022-05-05T13:32:34.023Z"
   },
   {
    "duration": 0,
    "start_time": "2022-05-05T13:32:34.024Z"
   },
   {
    "duration": 0,
    "start_time": "2022-05-05T13:32:34.026Z"
   },
   {
    "duration": 0,
    "start_time": "2022-05-05T13:32:34.027Z"
   },
   {
    "duration": 0,
    "start_time": "2022-05-05T13:32:34.029Z"
   },
   {
    "duration": 0,
    "start_time": "2022-05-05T13:32:34.031Z"
   },
   {
    "duration": 0,
    "start_time": "2022-05-05T13:32:34.032Z"
   },
   {
    "duration": 0,
    "start_time": "2022-05-05T13:32:34.033Z"
   },
   {
    "duration": 0,
    "start_time": "2022-05-05T13:32:34.035Z"
   },
   {
    "duration": 0,
    "start_time": "2022-05-05T13:32:34.036Z"
   },
   {
    "duration": 172,
    "start_time": "2022-05-05T13:35:41.553Z"
   },
   {
    "duration": 39,
    "start_time": "2022-05-05T13:35:41.730Z"
   },
   {
    "duration": 75,
    "start_time": "2022-05-05T13:35:41.771Z"
   },
   {
    "duration": 52,
    "start_time": "2022-05-05T13:35:41.849Z"
   },
   {
    "duration": 504,
    "start_time": "2022-05-05T13:35:41.905Z"
   },
   {
    "duration": 33,
    "start_time": "2022-05-05T13:35:42.414Z"
   },
   {
    "duration": 269,
    "start_time": "2022-05-05T13:35:42.449Z"
   },
   {
    "duration": 1052,
    "start_time": "2022-05-05T13:35:42.722Z"
   },
   {
    "duration": 332,
    "start_time": "2022-05-05T13:35:43.777Z"
   },
   {
    "duration": 32,
    "start_time": "2022-05-05T13:35:44.114Z"
   },
   {
    "duration": 0,
    "start_time": "2022-05-05T13:35:44.148Z"
   },
   {
    "duration": 0,
    "start_time": "2022-05-05T13:35:44.150Z"
   },
   {
    "duration": 0,
    "start_time": "2022-05-05T13:35:44.151Z"
   },
   {
    "duration": 0,
    "start_time": "2022-05-05T13:35:44.153Z"
   },
   {
    "duration": 422,
    "start_time": "2022-05-05T13:38:04.211Z"
   },
   {
    "duration": 320,
    "start_time": "2022-05-05T13:38:18.271Z"
   },
   {
    "duration": 74,
    "start_time": "2022-05-05T13:39:25.554Z"
   },
   {
    "duration": 13,
    "start_time": "2022-05-05T13:39:29.310Z"
   },
   {
    "duration": 14,
    "start_time": "2022-05-05T13:39:34.307Z"
   },
   {
    "duration": 12,
    "start_time": "2022-05-05T13:39:36.162Z"
   },
   {
    "duration": 13,
    "start_time": "2022-05-05T13:40:10.035Z"
   },
   {
    "duration": 111,
    "start_time": "2022-05-05T13:40:14.114Z"
   },
   {
    "duration": 35,
    "start_time": "2022-05-05T13:40:14.227Z"
   },
   {
    "duration": 67,
    "start_time": "2022-05-05T13:40:14.265Z"
   },
   {
    "duration": 25,
    "start_time": "2022-05-05T13:40:14.335Z"
   },
   {
    "duration": 402,
    "start_time": "2022-05-05T13:40:14.362Z"
   },
   {
    "duration": 36,
    "start_time": "2022-05-05T13:40:14.767Z"
   },
   {
    "duration": 244,
    "start_time": "2022-05-05T13:40:14.807Z"
   },
   {
    "duration": 863,
    "start_time": "2022-05-05T13:40:15.054Z"
   },
   {
    "duration": 291,
    "start_time": "2022-05-05T13:40:15.919Z"
   },
   {
    "duration": 292,
    "start_time": "2022-05-05T13:40:16.213Z"
   },
   {
    "duration": 88,
    "start_time": "2022-05-05T13:40:16.508Z"
   },
   {
    "duration": 29,
    "start_time": "2022-05-05T13:40:16.599Z"
   },
   {
    "duration": 34,
    "start_time": "2022-05-05T13:43:26.735Z"
   },
   {
    "duration": 31,
    "start_time": "2022-05-05T13:43:36.954Z"
   },
   {
    "duration": 5,
    "start_time": "2022-05-05T14:02:33.264Z"
   },
   {
    "duration": 11,
    "start_time": "2022-05-05T14:02:38.983Z"
   },
   {
    "duration": 9,
    "start_time": "2022-05-05T14:02:48.024Z"
   },
   {
    "duration": 8,
    "start_time": "2022-05-05T14:03:11.368Z"
   },
   {
    "duration": 7,
    "start_time": "2022-05-05T14:03:37.885Z"
   },
   {
    "duration": 8,
    "start_time": "2022-05-05T14:03:39.481Z"
   },
   {
    "duration": 16,
    "start_time": "2022-05-05T14:03:49.566Z"
   },
   {
    "duration": 29,
    "start_time": "2022-05-05T14:03:51.789Z"
   },
   {
    "duration": 17,
    "start_time": "2022-05-05T14:04:08.707Z"
   },
   {
    "duration": 233,
    "start_time": "2022-05-05T14:05:43.007Z"
   },
   {
    "duration": 272,
    "start_time": "2022-05-05T14:09:04.389Z"
   },
   {
    "duration": 11,
    "start_time": "2022-05-05T14:09:10.180Z"
   },
   {
    "duration": 17,
    "start_time": "2022-05-05T14:09:15.231Z"
   },
   {
    "duration": 22,
    "start_time": "2022-05-05T14:09:38.119Z"
   },
   {
    "duration": 15,
    "start_time": "2022-05-05T14:09:45.363Z"
   },
   {
    "duration": 30,
    "start_time": "2022-05-05T14:10:07.579Z"
   },
   {
    "duration": 38,
    "start_time": "2022-05-05T14:10:14.012Z"
   },
   {
    "duration": 17,
    "start_time": "2022-05-05T14:10:49.520Z"
   },
   {
    "duration": 19,
    "start_time": "2022-05-05T14:10:55.268Z"
   },
   {
    "duration": 13,
    "start_time": "2022-05-05T14:11:07.478Z"
   },
   {
    "duration": 18,
    "start_time": "2022-05-05T14:11:52.246Z"
   },
   {
    "duration": 32,
    "start_time": "2022-05-05T14:12:58.476Z"
   },
   {
    "duration": 409,
    "start_time": "2022-05-05T14:13:09.528Z"
   },
   {
    "duration": 330,
    "start_time": "2022-05-05T14:15:07.158Z"
   },
   {
    "duration": 1574,
    "start_time": "2022-05-05T18:14:43.844Z"
   },
   {
    "duration": 40,
    "start_time": "2022-05-05T18:14:45.420Z"
   },
   {
    "duration": 27,
    "start_time": "2022-05-05T18:14:45.462Z"
   },
   {
    "duration": 45,
    "start_time": "2022-05-05T18:14:45.491Z"
   },
   {
    "duration": 246,
    "start_time": "2022-05-05T18:14:45.538Z"
   },
   {
    "duration": 15,
    "start_time": "2022-05-05T18:14:45.786Z"
   },
   {
    "duration": 148,
    "start_time": "2022-05-05T18:14:45.803Z"
   },
   {
    "duration": 591,
    "start_time": "2022-05-05T18:14:45.954Z"
   },
   {
    "duration": 166,
    "start_time": "2022-05-05T18:14:46.551Z"
   },
   {
    "duration": 178,
    "start_time": "2022-05-05T18:14:46.723Z"
   },
   {
    "duration": 122,
    "start_time": "2022-05-05T18:14:46.903Z"
   },
   {
    "duration": 171,
    "start_time": "2022-05-05T18:14:47.027Z"
   },
   {
    "duration": 148,
    "start_time": "2022-05-05T18:15:51.554Z"
   },
   {
    "duration": 153,
    "start_time": "2022-05-05T18:16:03.165Z"
   },
   {
    "duration": 156,
    "start_time": "2022-05-05T18:16:24.915Z"
   },
   {
    "duration": 103,
    "start_time": "2022-05-05T18:16:40.640Z"
   },
   {
    "duration": 26,
    "start_time": "2022-05-05T18:16:40.745Z"
   },
   {
    "duration": 29,
    "start_time": "2022-05-05T18:16:40.773Z"
   },
   {
    "duration": 39,
    "start_time": "2022-05-05T18:16:40.803Z"
   },
   {
    "duration": 226,
    "start_time": "2022-05-05T18:16:40.845Z"
   },
   {
    "duration": 15,
    "start_time": "2022-05-05T18:16:41.073Z"
   },
   {
    "duration": 162,
    "start_time": "2022-05-05T18:16:41.089Z"
   },
   {
    "duration": 576,
    "start_time": "2022-05-05T18:16:41.253Z"
   },
   {
    "duration": 165,
    "start_time": "2022-05-05T18:16:41.833Z"
   },
   {
    "duration": 175,
    "start_time": "2022-05-05T18:16:42.000Z"
   },
   {
    "duration": 178,
    "start_time": "2022-05-05T18:16:42.176Z"
   },
   {
    "duration": 212,
    "start_time": "2022-05-05T18:16:42.355Z"
   },
   {
    "duration": 156,
    "start_time": "2022-05-05T18:17:15.828Z"
   },
   {
    "duration": 158,
    "start_time": "2022-05-05T18:17:25.257Z"
   },
   {
    "duration": 147,
    "start_time": "2022-05-05T18:20:26.971Z"
   },
   {
    "duration": 147,
    "start_time": "2022-05-05T18:21:07.642Z"
   },
   {
    "duration": 117,
    "start_time": "2022-05-05T18:21:12.986Z"
   },
   {
    "duration": 54,
    "start_time": "2022-05-05T18:21:13.105Z"
   },
   {
    "duration": 30,
    "start_time": "2022-05-05T18:21:13.161Z"
   },
   {
    "duration": 35,
    "start_time": "2022-05-05T18:21:13.193Z"
   },
   {
    "duration": 255,
    "start_time": "2022-05-05T18:21:13.230Z"
   },
   {
    "duration": 17,
    "start_time": "2022-05-05T18:21:13.487Z"
   },
   {
    "duration": 158,
    "start_time": "2022-05-05T18:21:13.506Z"
   },
   {
    "duration": 597,
    "start_time": "2022-05-05T18:21:13.667Z"
   },
   {
    "duration": 345,
    "start_time": "2022-05-05T18:21:14.267Z"
   },
   {
    "duration": 231,
    "start_time": "2022-05-05T18:21:14.615Z"
   },
   {
    "duration": 98,
    "start_time": "2022-05-05T18:21:14.849Z"
   },
   {
    "duration": 172,
    "start_time": "2022-05-05T18:21:14.949Z"
   },
   {
    "duration": 255,
    "start_time": "2022-05-05T18:21:25.747Z"
   },
   {
    "duration": 1641,
    "start_time": "2022-05-05T18:21:32.287Z"
   },
   {
    "duration": 45,
    "start_time": "2022-05-05T18:21:33.931Z"
   },
   {
    "duration": 66,
    "start_time": "2022-05-05T18:21:33.979Z"
   },
   {
    "duration": 17,
    "start_time": "2022-05-05T18:21:34.048Z"
   },
   {
    "duration": 212,
    "start_time": "2022-05-05T18:21:34.067Z"
   },
   {
    "duration": 17,
    "start_time": "2022-05-05T18:21:34.280Z"
   },
   {
    "duration": 153,
    "start_time": "2022-05-05T18:21:34.298Z"
   },
   {
    "duration": 498,
    "start_time": "2022-05-05T18:21:34.452Z"
   },
   {
    "duration": 182,
    "start_time": "2022-05-05T18:21:34.951Z"
   },
   {
    "duration": 251,
    "start_time": "2022-05-05T18:21:35.135Z"
   },
   {
    "duration": 58,
    "start_time": "2022-05-05T18:21:35.388Z"
   },
   {
    "duration": 157,
    "start_time": "2022-05-05T18:21:35.448Z"
   },
   {
    "duration": 148,
    "start_time": "2022-05-05T18:21:43.038Z"
   },
   {
    "duration": 94,
    "start_time": "2022-05-05T18:21:46.718Z"
   },
   {
    "duration": 33,
    "start_time": "2022-05-05T18:21:46.814Z"
   },
   {
    "duration": 68,
    "start_time": "2022-05-05T18:21:46.849Z"
   },
   {
    "duration": 17,
    "start_time": "2022-05-05T18:21:46.919Z"
   },
   {
    "duration": 225,
    "start_time": "2022-05-05T18:21:46.938Z"
   },
   {
    "duration": 19,
    "start_time": "2022-05-05T18:21:47.165Z"
   },
   {
    "duration": 142,
    "start_time": "2022-05-05T18:21:47.186Z"
   },
   {
    "duration": 502,
    "start_time": "2022-05-05T18:21:47.330Z"
   },
   {
    "duration": 180,
    "start_time": "2022-05-05T18:21:47.834Z"
   },
   {
    "duration": 171,
    "start_time": "2022-05-05T18:21:48.017Z"
   },
   {
    "duration": 150,
    "start_time": "2022-05-05T18:21:48.191Z"
   },
   {
    "duration": 172,
    "start_time": "2022-05-05T18:21:48.343Z"
   },
   {
    "duration": 165,
    "start_time": "2022-05-05T18:25:43.883Z"
   },
   {
    "duration": 165,
    "start_time": "2022-05-05T18:25:54.056Z"
   },
   {
    "duration": 194,
    "start_time": "2022-05-05T18:26:03.499Z"
   },
   {
    "duration": 176,
    "start_time": "2022-05-05T18:27:28.055Z"
   },
   {
    "duration": 278,
    "start_time": "2022-05-05T18:31:36.690Z"
   },
   {
    "duration": 289,
    "start_time": "2022-05-05T18:31:44.135Z"
   },
   {
    "duration": 113,
    "start_time": "2022-05-05T18:31:47.683Z"
   },
   {
    "duration": 44,
    "start_time": "2022-05-05T18:31:47.797Z"
   },
   {
    "duration": 30,
    "start_time": "2022-05-05T18:31:47.845Z"
   },
   {
    "duration": 16,
    "start_time": "2022-05-05T18:31:47.877Z"
   },
   {
    "duration": 243,
    "start_time": "2022-05-05T18:31:47.895Z"
   },
   {
    "duration": 22,
    "start_time": "2022-05-05T18:31:48.140Z"
   },
   {
    "duration": 147,
    "start_time": "2022-05-05T18:31:48.164Z"
   },
   {
    "duration": 639,
    "start_time": "2022-05-05T18:31:48.313Z"
   },
   {
    "duration": 201,
    "start_time": "2022-05-05T18:31:48.954Z"
   },
   {
    "duration": 183,
    "start_time": "2022-05-05T18:31:49.156Z"
   },
   {
    "duration": 94,
    "start_time": "2022-05-05T18:31:49.341Z"
   },
   {
    "duration": 289,
    "start_time": "2022-05-05T18:31:49.438Z"
   },
   {
    "duration": 176,
    "start_time": "2022-05-05T18:32:01.929Z"
   },
   {
    "duration": 166,
    "start_time": "2022-05-05T18:32:06.096Z"
   },
   {
    "duration": 186,
    "start_time": "2022-05-05T18:32:16.720Z"
   },
   {
    "duration": 217,
    "start_time": "2022-05-05T18:33:04.204Z"
   },
   {
    "duration": 125,
    "start_time": "2022-05-05T18:33:23.682Z"
   },
   {
    "duration": 96,
    "start_time": "2022-05-05T18:33:29.416Z"
   },
   {
    "duration": 34,
    "start_time": "2022-05-05T18:33:29.515Z"
   },
   {
    "duration": 34,
    "start_time": "2022-05-05T18:33:29.551Z"
   },
   {
    "duration": 40,
    "start_time": "2022-05-05T18:33:29.587Z"
   },
   {
    "duration": 216,
    "start_time": "2022-05-05T18:33:29.630Z"
   },
   {
    "duration": 16,
    "start_time": "2022-05-05T18:33:29.848Z"
   },
   {
    "duration": 250,
    "start_time": "2022-05-05T18:33:29.866Z"
   },
   {
    "duration": 596,
    "start_time": "2022-05-05T18:33:30.122Z"
   },
   {
    "duration": 243,
    "start_time": "2022-05-05T18:33:30.723Z"
   },
   {
    "duration": 192,
    "start_time": "2022-05-05T18:33:30.970Z"
   },
   {
    "duration": 69,
    "start_time": "2022-05-05T18:33:31.164Z"
   },
   {
    "duration": 14,
    "start_time": "2022-05-05T18:33:31.235Z"
   },
   {
    "duration": 173,
    "start_time": "2022-05-05T18:33:44.491Z"
   },
   {
    "duration": 161,
    "start_time": "2022-05-05T18:35:11.356Z"
   },
   {
    "duration": 16,
    "start_time": "2022-05-05T18:35:25.226Z"
   },
   {
    "duration": 166,
    "start_time": "2022-05-05T18:35:32.393Z"
   },
   {
    "duration": 160,
    "start_time": "2022-05-05T18:35:34.223Z"
   },
   {
    "duration": 109,
    "start_time": "2022-05-05T18:35:36.511Z"
   },
   {
    "duration": 33,
    "start_time": "2022-05-05T18:35:36.622Z"
   },
   {
    "duration": 28,
    "start_time": "2022-05-05T18:35:36.657Z"
   },
   {
    "duration": 41,
    "start_time": "2022-05-05T18:35:36.687Z"
   },
   {
    "duration": 308,
    "start_time": "2022-05-05T18:35:36.730Z"
   },
   {
    "duration": 18,
    "start_time": "2022-05-05T18:35:37.040Z"
   },
   {
    "duration": 211,
    "start_time": "2022-05-05T18:35:37.060Z"
   },
   {
    "duration": 825,
    "start_time": "2022-05-05T18:35:37.274Z"
   },
   {
    "duration": 189,
    "start_time": "2022-05-05T18:35:38.102Z"
   },
   {
    "duration": 169,
    "start_time": "2022-05-05T18:35:38.292Z"
   },
   {
    "duration": 64,
    "start_time": "2022-05-05T18:35:38.463Z"
   },
   {
    "duration": 176,
    "start_time": "2022-05-05T18:35:38.530Z"
   },
   {
    "duration": 13,
    "start_time": "2022-05-05T18:37:50.264Z"
   },
   {
    "duration": 167,
    "start_time": "2022-05-05T18:37:58.192Z"
   },
   {
    "duration": 166,
    "start_time": "2022-05-05T18:38:04.646Z"
   },
   {
    "duration": 255,
    "start_time": "2022-05-05T18:38:06.169Z"
   },
   {
    "duration": 13,
    "start_time": "2022-05-05T18:39:18.136Z"
   },
   {
    "duration": 104,
    "start_time": "2022-05-05T18:39:24.528Z"
   },
   {
    "duration": 41,
    "start_time": "2022-05-05T18:39:24.635Z"
   },
   {
    "duration": 51,
    "start_time": "2022-05-05T18:39:24.678Z"
   },
   {
    "duration": 23,
    "start_time": "2022-05-05T18:39:24.731Z"
   },
   {
    "duration": 344,
    "start_time": "2022-05-05T18:39:24.756Z"
   },
   {
    "duration": 34,
    "start_time": "2022-05-05T18:39:25.102Z"
   },
   {
    "duration": 137,
    "start_time": "2022-05-05T18:39:25.138Z"
   },
   {
    "duration": 576,
    "start_time": "2022-05-05T18:39:25.277Z"
   },
   {
    "duration": 283,
    "start_time": "2022-05-05T18:39:25.855Z"
   },
   {
    "duration": 183,
    "start_time": "2022-05-05T18:39:26.143Z"
   },
   {
    "duration": 72,
    "start_time": "2022-05-05T18:39:26.328Z"
   },
   {
    "duration": 32,
    "start_time": "2022-05-05T18:39:26.402Z"
   },
   {
    "duration": 9,
    "start_time": "2022-05-05T18:39:37.379Z"
   },
   {
    "duration": 168,
    "start_time": "2022-05-05T18:39:44.317Z"
   },
   {
    "duration": 16,
    "start_time": "2022-05-05T18:41:02.135Z"
   },
   {
    "duration": 21,
    "start_time": "2022-05-05T18:41:10.326Z"
   },
   {
    "duration": 11,
    "start_time": "2022-05-05T18:41:19.140Z"
   },
   {
    "duration": 159,
    "start_time": "2022-05-05T18:41:25.802Z"
   },
   {
    "duration": 11,
    "start_time": "2022-05-05T18:42:38.198Z"
   },
   {
    "duration": 184,
    "start_time": "2022-05-05T18:44:46.849Z"
   },
   {
    "duration": 261,
    "start_time": "2022-05-05T18:44:51.026Z"
   },
   {
    "duration": 177,
    "start_time": "2022-05-05T18:44:57.177Z"
   },
   {
    "duration": 295,
    "start_time": "2022-05-05T18:47:13.170Z"
   },
   {
    "duration": 165,
    "start_time": "2022-05-05T19:25:27.372Z"
   },
   {
    "duration": 9,
    "start_time": "2022-05-05T19:26:53.554Z"
   },
   {
    "duration": 16,
    "start_time": "2022-05-05T19:37:38.985Z"
   },
   {
    "duration": 65,
    "start_time": "2022-05-05T19:50:09.554Z"
   },
   {
    "duration": 35,
    "start_time": "2022-05-05T19:50:22.993Z"
   },
   {
    "duration": 3,
    "start_time": "2022-05-05T20:04:51.037Z"
   },
   {
    "duration": 88,
    "start_time": "2022-05-05T20:21:04.452Z"
   },
   {
    "duration": 189,
    "start_time": "2022-05-05T20:26:36.014Z"
   },
   {
    "duration": 201,
    "start_time": "2022-05-05T20:30:31.236Z"
   },
   {
    "duration": 2877,
    "start_time": "2022-05-06T09:14:18.471Z"
   },
   {
    "duration": 74,
    "start_time": "2022-05-06T09:14:21.351Z"
   },
   {
    "duration": 57,
    "start_time": "2022-05-06T09:14:21.427Z"
   },
   {
    "duration": 59,
    "start_time": "2022-05-06T09:14:21.488Z"
   },
   {
    "duration": 513,
    "start_time": "2022-05-06T09:14:21.550Z"
   },
   {
    "duration": 28,
    "start_time": "2022-05-06T09:14:22.066Z"
   },
   {
    "duration": 331,
    "start_time": "2022-05-06T09:14:22.097Z"
   },
   {
    "duration": 1362,
    "start_time": "2022-05-06T09:14:22.431Z"
   },
   {
    "duration": 420,
    "start_time": "2022-05-06T09:14:23.797Z"
   },
   {
    "duration": 418,
    "start_time": "2022-05-06T09:14:24.221Z"
   },
   {
    "duration": 172,
    "start_time": "2022-05-06T09:14:24.641Z"
   },
   {
    "duration": 291,
    "start_time": "2022-05-06T09:14:24.815Z"
   },
   {
    "duration": 348,
    "start_time": "2022-05-06T09:14:25.108Z"
   },
   {
    "duration": 4,
    "start_time": "2022-05-06T09:14:25.459Z"
   },
   {
    "duration": 113,
    "start_time": "2022-05-06T09:14:46.370Z"
   },
   {
    "duration": 54,
    "start_time": "2022-05-06T09:14:46.486Z"
   },
   {
    "duration": 39,
    "start_time": "2022-05-06T09:14:46.543Z"
   },
   {
    "duration": 52,
    "start_time": "2022-05-06T09:14:46.585Z"
   },
   {
    "duration": 408,
    "start_time": "2022-05-06T09:14:46.641Z"
   },
   {
    "duration": 28,
    "start_time": "2022-05-06T09:14:47.052Z"
   },
   {
    "duration": 244,
    "start_time": "2022-05-06T09:14:47.083Z"
   },
   {
    "duration": 1383,
    "start_time": "2022-05-06T09:14:47.329Z"
   },
   {
    "duration": 286,
    "start_time": "2022-05-06T09:14:48.724Z"
   },
   {
    "duration": 279,
    "start_time": "2022-05-06T09:14:49.014Z"
   },
   {
    "duration": 77,
    "start_time": "2022-05-06T09:14:49.295Z"
   },
   {
    "duration": 539,
    "start_time": "2022-05-06T09:14:49.374Z"
   },
   {
    "duration": 250,
    "start_time": "2022-05-06T09:14:49.924Z"
   },
   {
    "duration": 4,
    "start_time": "2022-05-06T09:14:50.177Z"
   },
   {
    "duration": 142,
    "start_time": "2022-05-06T09:18:00.190Z"
   },
   {
    "duration": 533,
    "start_time": "2022-05-06T09:24:55.654Z"
   },
   {
    "duration": 138,
    "start_time": "2022-05-06T09:31:35.381Z"
   },
   {
    "duration": 47,
    "start_time": "2022-05-06T09:31:40.791Z"
   },
   {
    "duration": 25,
    "start_time": "2022-05-06T09:32:22.673Z"
   },
   {
    "duration": 38,
    "start_time": "2022-05-06T09:33:14.014Z"
   },
   {
    "duration": 36,
    "start_time": "2022-05-06T09:33:17.382Z"
   },
   {
    "duration": 387,
    "start_time": "2022-05-06T09:36:47.516Z"
   },
   {
    "duration": 2118,
    "start_time": "2022-05-06T09:37:42.626Z"
   },
   {
    "duration": 1955,
    "start_time": "2022-05-06T09:38:08.139Z"
   },
   {
    "duration": 2015,
    "start_time": "2022-05-06T09:38:25.898Z"
   },
   {
    "duration": 27,
    "start_time": "2022-05-06T09:42:03.396Z"
   },
   {
    "duration": 32,
    "start_time": "2022-05-06T09:43:59.921Z"
   },
   {
    "duration": 29,
    "start_time": "2022-05-06T09:44:44.469Z"
   },
   {
    "duration": 647,
    "start_time": "2022-05-06T09:45:13.138Z"
   },
   {
    "duration": 88,
    "start_time": "2022-05-06T09:46:23.236Z"
   },
   {
    "duration": 85,
    "start_time": "2022-05-06T09:46:44.086Z"
   },
   {
    "duration": 156,
    "start_time": "2022-05-06T09:46:49.982Z"
   },
   {
    "duration": 100,
    "start_time": "2022-05-06T09:46:59.126Z"
   },
   {
    "duration": 86,
    "start_time": "2022-05-06T09:47:12.927Z"
   },
   {
    "duration": 83,
    "start_time": "2022-05-06T09:48:23.088Z"
   },
   {
    "duration": 81,
    "start_time": "2022-05-06T09:50:27.158Z"
   },
   {
    "duration": 80,
    "start_time": "2022-05-06T09:50:50.872Z"
   },
   {
    "duration": 84,
    "start_time": "2022-05-06T09:51:08.205Z"
   },
   {
    "duration": 16,
    "start_time": "2022-05-06T09:51:20.532Z"
   },
   {
    "duration": 84,
    "start_time": "2022-05-06T09:51:26.332Z"
   },
   {
    "duration": 32,
    "start_time": "2022-05-06T09:53:26.861Z"
   },
   {
    "duration": 44,
    "start_time": "2022-05-06T09:53:34.787Z"
   },
   {
    "duration": 33,
    "start_time": "2022-05-06T09:56:08.270Z"
   },
   {
    "duration": 32,
    "start_time": "2022-05-06T09:57:14.892Z"
   },
   {
    "duration": 33,
    "start_time": "2022-05-06T09:58:55.025Z"
   },
   {
    "duration": 34,
    "start_time": "2022-05-06T09:59:18.836Z"
   },
   {
    "duration": 34,
    "start_time": "2022-05-06T09:59:26.180Z"
   },
   {
    "duration": 35,
    "start_time": "2022-05-06T09:59:30.032Z"
   },
   {
    "duration": 32,
    "start_time": "2022-05-06T10:00:14.483Z"
   },
   {
    "duration": 82,
    "start_time": "2022-05-06T10:02:14.578Z"
   },
   {
    "duration": 83,
    "start_time": "2022-05-06T10:02:38.631Z"
   },
   {
    "duration": 85,
    "start_time": "2022-05-06T10:02:46.417Z"
   },
   {
    "duration": 2198,
    "start_time": "2022-05-06T10:02:56.829Z"
   },
   {
    "duration": 364,
    "start_time": "2022-05-06T10:03:04.669Z"
   },
   {
    "duration": 446,
    "start_time": "2022-05-06T10:03:33.930Z"
   },
   {
    "duration": 107,
    "start_time": "2022-05-06T10:03:44.989Z"
   },
   {
    "duration": 86,
    "start_time": "2022-05-06T10:06:24.245Z"
   },
   {
    "duration": 86,
    "start_time": "2022-05-06T10:06:49.488Z"
   },
   {
    "duration": 100,
    "start_time": "2022-05-06T10:07:17.831Z"
   },
   {
    "duration": 131,
    "start_time": "2022-05-06T10:07:25.651Z"
   },
   {
    "duration": 99,
    "start_time": "2022-05-06T10:07:31.767Z"
   },
   {
    "duration": 108,
    "start_time": "2022-05-06T10:07:36.550Z"
   },
   {
    "duration": 27,
    "start_time": "2022-05-06T10:08:11.879Z"
   },
   {
    "duration": 87,
    "start_time": "2022-05-06T10:08:14.790Z"
   },
   {
    "duration": 372,
    "start_time": "2022-05-06T10:09:03.589Z"
   },
   {
    "duration": 204,
    "start_time": "2022-05-06T10:09:59.662Z"
   },
   {
    "duration": 2249,
    "start_time": "2022-05-06T11:44:13.734Z"
   },
   {
    "duration": 38,
    "start_time": "2022-05-06T11:44:15.986Z"
   },
   {
    "duration": 79,
    "start_time": "2022-05-06T11:44:16.026Z"
   },
   {
    "duration": 45,
    "start_time": "2022-05-06T11:44:16.109Z"
   },
   {
    "duration": 861,
    "start_time": "2022-05-06T11:44:16.157Z"
   },
   {
    "duration": 693,
    "start_time": "2022-05-06T11:44:17.021Z"
   },
   {
    "duration": 38,
    "start_time": "2022-05-06T11:44:17.718Z"
   },
   {
    "duration": 438,
    "start_time": "2022-05-06T11:44:17.782Z"
   },
   {
    "duration": 1294,
    "start_time": "2022-05-06T11:44:18.222Z"
   },
   {
    "duration": 385,
    "start_time": "2022-05-06T11:44:19.521Z"
   },
   {
    "duration": 285,
    "start_time": "2022-05-06T11:44:19.909Z"
   },
   {
    "duration": 67,
    "start_time": "2022-05-06T11:44:20.196Z"
   },
   {
    "duration": 293,
    "start_time": "2022-05-06T11:44:20.283Z"
   },
   {
    "duration": 335,
    "start_time": "2022-05-06T11:44:20.581Z"
   },
   {
    "duration": 4,
    "start_time": "2022-05-06T11:44:20.918Z"
   },
   {
    "duration": 82,
    "start_time": "2022-05-06T11:44:47.067Z"
   },
   {
    "duration": 81,
    "start_time": "2022-05-06T11:44:55.471Z"
   },
   {
    "duration": 210,
    "start_time": "2022-05-06T11:45:36.722Z"
   },
   {
    "duration": 1353,
    "start_time": "2022-05-06T11:49:48.443Z"
   },
   {
    "duration": 1547,
    "start_time": "2022-05-06T11:50:42.084Z"
   },
   {
    "duration": 24,
    "start_time": "2022-05-06T11:51:02.156Z"
   },
   {
    "duration": 24,
    "start_time": "2022-05-06T11:51:37.335Z"
   },
   {
    "duration": 1252,
    "start_time": "2022-05-06T11:51:54.610Z"
   },
   {
    "duration": 26,
    "start_time": "2022-05-06T11:52:08.485Z"
   },
   {
    "duration": 16,
    "start_time": "2022-05-06T11:52:28.783Z"
   },
   {
    "duration": 28,
    "start_time": "2022-05-06T11:52:37.187Z"
   },
   {
    "duration": 1233,
    "start_time": "2022-05-06T11:52:49.963Z"
   },
   {
    "duration": 580,
    "start_time": "2022-05-06T11:53:02.401Z"
   },
   {
    "duration": 1233,
    "start_time": "2022-05-06T11:53:18.202Z"
   },
   {
    "duration": 1368,
    "start_time": "2022-05-06T11:53:55.320Z"
   },
   {
    "duration": 25,
    "start_time": "2022-05-06T11:54:41.001Z"
   },
   {
    "duration": 20,
    "start_time": "2022-05-06T11:54:45.991Z"
   },
   {
    "duration": 25,
    "start_time": "2022-05-06T11:54:58.508Z"
   },
   {
    "duration": 663,
    "start_time": "2022-05-06T11:55:13.065Z"
   },
   {
    "duration": 429,
    "start_time": "2022-05-06T11:55:20.892Z"
   },
   {
    "duration": 23,
    "start_time": "2022-05-06T11:55:26.297Z"
   },
   {
    "duration": 26,
    "start_time": "2022-05-06T11:55:44.798Z"
   },
   {
    "duration": 22,
    "start_time": "2022-05-06T11:55:48.358Z"
   },
   {
    "duration": 27,
    "start_time": "2022-05-06T11:55:55.911Z"
   },
   {
    "duration": 81,
    "start_time": "2022-05-06T11:56:02.488Z"
   },
   {
    "duration": 82,
    "start_time": "2022-05-06T11:56:05.191Z"
   },
   {
    "duration": 26,
    "start_time": "2022-05-06T11:56:14.367Z"
   },
   {
    "duration": 308,
    "start_time": "2022-05-06T11:56:18.389Z"
   },
   {
    "duration": 34,
    "start_time": "2022-05-06T11:56:26.232Z"
   },
   {
    "duration": 30,
    "start_time": "2022-05-06T11:56:55.052Z"
   },
   {
    "duration": 1248,
    "start_time": "2022-05-06T11:57:08.716Z"
   },
   {
    "duration": 26,
    "start_time": "2022-05-06T11:57:44.149Z"
   },
   {
    "duration": 125,
    "start_time": "2022-05-06T11:57:52.757Z"
   },
   {
    "duration": 43,
    "start_time": "2022-05-06T11:57:52.884Z"
   },
   {
    "duration": 63,
    "start_time": "2022-05-06T11:57:52.929Z"
   },
   {
    "duration": 27,
    "start_time": "2022-05-06T11:57:52.995Z"
   },
   {
    "duration": 105,
    "start_time": "2022-05-06T11:57:53.025Z"
   },
   {
    "duration": 396,
    "start_time": "2022-05-06T11:57:53.132Z"
   },
   {
    "duration": 25,
    "start_time": "2022-05-06T11:57:53.531Z"
   },
   {
    "duration": 225,
    "start_time": "2022-05-06T11:57:53.559Z"
   },
   {
    "duration": 867,
    "start_time": "2022-05-06T11:57:53.786Z"
   },
   {
    "duration": 300,
    "start_time": "2022-05-06T11:57:54.656Z"
   },
   {
    "duration": 415,
    "start_time": "2022-05-06T11:57:54.959Z"
   },
   {
    "duration": 72,
    "start_time": "2022-05-06T11:57:55.376Z"
   },
   {
    "duration": 306,
    "start_time": "2022-05-06T11:57:55.450Z"
   },
   {
    "duration": 296,
    "start_time": "2022-05-06T11:57:55.758Z"
   },
   {
    "duration": 3,
    "start_time": "2022-05-06T11:57:56.057Z"
   },
   {
    "duration": 1890,
    "start_time": "2022-05-06T12:04:27.161Z"
   },
   {
    "duration": 585,
    "start_time": "2022-05-06T12:08:00.784Z"
   },
   {
    "duration": 43,
    "start_time": "2022-05-06T12:08:58.232Z"
   },
   {
    "duration": 1104,
    "start_time": "2022-05-06T12:11:12.044Z"
   },
   {
    "duration": 81,
    "start_time": "2022-05-06T12:11:42.724Z"
   },
   {
    "duration": 36,
    "start_time": "2022-05-06T12:11:52.132Z"
   },
   {
    "duration": 373,
    "start_time": "2022-05-06T12:12:03.581Z"
   },
   {
    "duration": 331,
    "start_time": "2022-05-06T12:12:17.017Z"
   },
   {
    "duration": 332,
    "start_time": "2022-05-06T12:12:48.951Z"
   },
   {
    "duration": 364,
    "start_time": "2022-05-06T12:13:35.487Z"
   },
   {
    "duration": 88,
    "start_time": "2022-05-06T12:16:02.416Z"
   },
   {
    "duration": 205,
    "start_time": "2022-05-06T12:16:08.155Z"
   },
   {
    "duration": 52,
    "start_time": "2022-05-06T12:16:38.014Z"
   },
   {
    "duration": 424,
    "start_time": "2022-05-06T12:17:07.060Z"
   },
   {
    "duration": 484,
    "start_time": "2022-05-06T12:17:25.896Z"
   },
   {
    "duration": 567,
    "start_time": "2022-05-06T12:17:33.653Z"
   },
   {
    "duration": 246,
    "start_time": "2022-05-06T12:18:38.878Z"
   },
   {
    "duration": 572,
    "start_time": "2022-05-06T12:19:12.224Z"
   },
   {
    "duration": 883,
    "start_time": "2022-05-06T12:19:35.158Z"
   },
   {
    "duration": 920,
    "start_time": "2022-05-06T12:20:29.018Z"
   },
   {
    "duration": 501,
    "start_time": "2022-05-06T12:22:22.673Z"
   },
   {
    "duration": 590,
    "start_time": "2022-05-06T12:22:33.251Z"
   },
   {
    "duration": 526,
    "start_time": "2022-05-06T12:22:49.802Z"
   },
   {
    "duration": 508,
    "start_time": "2022-05-06T12:22:53.299Z"
   },
   {
    "duration": 165,
    "start_time": "2022-05-06T12:22:56.365Z"
   },
   {
    "duration": 65,
    "start_time": "2022-05-06T12:22:56.533Z"
   },
   {
    "duration": 44,
    "start_time": "2022-05-06T12:22:56.600Z"
   },
   {
    "duration": 54,
    "start_time": "2022-05-06T12:22:56.647Z"
   },
   {
    "duration": 149,
    "start_time": "2022-05-06T12:22:56.705Z"
   },
   {
    "duration": 624,
    "start_time": "2022-05-06T12:22:56.857Z"
   },
   {
    "duration": 30,
    "start_time": "2022-05-06T12:22:57.484Z"
   },
   {
    "duration": 260,
    "start_time": "2022-05-06T12:22:57.517Z"
   },
   {
    "duration": 1194,
    "start_time": "2022-05-06T12:22:57.782Z"
   },
   {
    "duration": 512,
    "start_time": "2022-05-06T12:22:58.983Z"
   },
   {
    "duration": 530,
    "start_time": "2022-05-06T12:22:59.498Z"
   },
   {
    "duration": 623,
    "start_time": "2022-05-06T12:23:00.030Z"
   },
   {
    "duration": 92,
    "start_time": "2022-05-06T12:23:00.655Z"
   },
   {
    "duration": 516,
    "start_time": "2022-05-06T12:23:00.750Z"
   },
   {
    "duration": 276,
    "start_time": "2022-05-06T12:23:01.268Z"
   },
   {
    "duration": 4,
    "start_time": "2022-05-06T12:23:01.546Z"
   },
   {
    "duration": 1829,
    "start_time": "2022-05-06T12:23:11.701Z"
   },
   {
    "duration": 56,
    "start_time": "2022-05-06T12:23:13.532Z"
   },
   {
    "duration": 50,
    "start_time": "2022-05-06T12:23:13.590Z"
   },
   {
    "duration": 27,
    "start_time": "2022-05-06T12:23:13.643Z"
   },
   {
    "duration": 581,
    "start_time": "2022-05-06T12:23:13.671Z"
   },
   {
    "duration": 479,
    "start_time": "2022-05-06T12:23:14.255Z"
   },
   {
    "duration": 24,
    "start_time": "2022-05-06T12:23:14.736Z"
   },
   {
    "duration": 311,
    "start_time": "2022-05-06T12:23:14.762Z"
   },
   {
    "duration": 922,
    "start_time": "2022-05-06T12:23:15.075Z"
   },
   {
    "duration": 343,
    "start_time": "2022-05-06T12:23:16.001Z"
   },
   {
    "duration": 300,
    "start_time": "2022-05-06T12:23:16.346Z"
   },
   {
    "duration": 283,
    "start_time": "2022-05-06T12:23:16.648Z"
   },
   {
    "duration": 84,
    "start_time": "2022-05-06T12:23:16.933Z"
   },
   {
    "duration": 300,
    "start_time": "2022-05-06T12:23:17.019Z"
   },
   {
    "duration": 341,
    "start_time": "2022-05-06T12:23:17.322Z"
   },
   {
    "duration": 4,
    "start_time": "2022-05-06T12:23:17.665Z"
   },
   {
    "duration": 332,
    "start_time": "2022-05-06T12:23:25.474Z"
   },
   {
    "duration": 120,
    "start_time": "2022-05-06T12:23:30.151Z"
   },
   {
    "duration": 46,
    "start_time": "2022-05-06T12:23:30.274Z"
   },
   {
    "duration": 66,
    "start_time": "2022-05-06T12:23:30.322Z"
   },
   {
    "duration": 27,
    "start_time": "2022-05-06T12:23:30.391Z"
   },
   {
    "duration": 262,
    "start_time": "2022-05-06T12:23:30.423Z"
   },
   {
    "duration": 460,
    "start_time": "2022-05-06T12:23:30.688Z"
   },
   {
    "duration": 46,
    "start_time": "2022-05-06T12:23:31.151Z"
   },
   {
    "duration": 251,
    "start_time": "2022-05-06T12:23:31.200Z"
   },
   {
    "duration": 1113,
    "start_time": "2022-05-06T12:23:31.453Z"
   },
   {
    "duration": 518,
    "start_time": "2022-05-06T12:23:32.568Z"
   },
   {
    "duration": 534,
    "start_time": "2022-05-06T12:23:33.089Z"
   },
   {
    "duration": 616,
    "start_time": "2022-05-06T12:23:33.625Z"
   },
   {
    "duration": 82,
    "start_time": "2022-05-06T12:23:34.243Z"
   },
   {
    "duration": 701,
    "start_time": "2022-05-06T12:23:34.331Z"
   },
   {
    "duration": 265,
    "start_time": "2022-05-06T12:23:35.035Z"
   },
   {
    "duration": 3,
    "start_time": "2022-05-06T12:23:35.304Z"
   },
   {
    "duration": 893,
    "start_time": "2022-05-06T12:24:08.119Z"
   },
   {
    "duration": 426,
    "start_time": "2022-05-06T12:24:34.146Z"
   },
   {
    "duration": 747,
    "start_time": "2022-05-06T12:24:40.365Z"
   },
   {
    "duration": 502,
    "start_time": "2022-05-06T12:25:05.980Z"
   },
   {
    "duration": 469,
    "start_time": "2022-05-06T12:25:17.252Z"
   },
   {
    "duration": 447,
    "start_time": "2022-05-06T12:25:27.525Z"
   },
   {
    "duration": 124,
    "start_time": "2022-05-06T12:25:38.422Z"
   },
   {
    "duration": 63,
    "start_time": "2022-05-06T12:25:38.549Z"
   },
   {
    "duration": 40,
    "start_time": "2022-05-06T12:25:38.614Z"
   },
   {
    "duration": 51,
    "start_time": "2022-05-06T12:25:38.658Z"
   },
   {
    "duration": 114,
    "start_time": "2022-05-06T12:25:38.712Z"
   },
   {
    "duration": 437,
    "start_time": "2022-05-06T12:25:38.828Z"
   },
   {
    "duration": 36,
    "start_time": "2022-05-06T12:25:39.267Z"
   },
   {
    "duration": 288,
    "start_time": "2022-05-06T12:25:39.307Z"
   },
   {
    "duration": 1321,
    "start_time": "2022-05-06T12:25:39.601Z"
   },
   {
    "duration": 440,
    "start_time": "2022-05-06T12:25:40.926Z"
   },
   {
    "duration": 553,
    "start_time": "2022-05-06T12:25:41.369Z"
   },
   {
    "duration": 434,
    "start_time": "2022-05-06T12:25:41.924Z"
   },
   {
    "duration": 93,
    "start_time": "2022-05-06T12:25:42.360Z"
   },
   {
    "duration": 597,
    "start_time": "2022-05-06T12:25:42.456Z"
   },
   {
    "duration": 309,
    "start_time": "2022-05-06T12:25:43.056Z"
   },
   {
    "duration": 4,
    "start_time": "2022-05-06T12:25:43.368Z"
   },
   {
    "duration": 602,
    "start_time": "2022-05-06T12:26:04.747Z"
   },
   {
    "duration": 596,
    "start_time": "2022-05-06T12:26:17.929Z"
   },
   {
    "duration": 567,
    "start_time": "2022-05-06T12:26:41.907Z"
   },
   {
    "duration": 554,
    "start_time": "2022-05-06T12:27:21.653Z"
   },
   {
    "duration": 552,
    "start_time": "2022-05-06T12:27:34.590Z"
   },
   {
    "duration": 526,
    "start_time": "2022-05-06T12:27:51.595Z"
   },
   {
    "duration": 886,
    "start_time": "2022-05-06T12:28:27.000Z"
   },
   {
    "duration": 752,
    "start_time": "2022-05-06T12:28:37.321Z"
   },
   {
    "duration": 733,
    "start_time": "2022-05-06T12:28:45.722Z"
   },
   {
    "duration": 518,
    "start_time": "2022-05-06T12:28:57.894Z"
   },
   {
    "duration": 509,
    "start_time": "2022-05-06T12:29:10.048Z"
   },
   {
    "duration": 581,
    "start_time": "2022-05-06T12:29:18.083Z"
   },
   {
    "duration": 582,
    "start_time": "2022-05-06T12:29:27.680Z"
   },
   {
    "duration": 916,
    "start_time": "2022-05-06T12:29:39.643Z"
   },
   {
    "duration": 802,
    "start_time": "2022-05-06T12:29:53.995Z"
   },
   {
    "duration": 669,
    "start_time": "2022-05-06T12:30:12.680Z"
   },
   {
    "duration": 975,
    "start_time": "2022-05-06T12:30:22.293Z"
   },
   {
    "duration": 914,
    "start_time": "2022-05-06T12:30:29.633Z"
   },
   {
    "duration": 594,
    "start_time": "2022-05-06T12:30:43.178Z"
   },
   {
    "duration": 635,
    "start_time": "2022-05-06T12:30:52.457Z"
   },
   {
    "duration": 613,
    "start_time": "2022-05-06T12:31:04.694Z"
   },
   {
    "duration": 702,
    "start_time": "2022-05-06T12:31:13.931Z"
   },
   {
    "duration": 877,
    "start_time": "2022-05-06T12:31:19.924Z"
   },
   {
    "duration": 522,
    "start_time": "2022-05-06T12:31:32.141Z"
   },
   {
    "duration": 416,
    "start_time": "2022-05-06T12:31:47.431Z"
   },
   {
    "duration": 428,
    "start_time": "2022-05-06T12:32:01.951Z"
   },
   {
    "duration": 463,
    "start_time": "2022-05-06T12:32:24.109Z"
   },
   {
    "duration": 619,
    "start_time": "2022-05-06T12:32:29.654Z"
   },
   {
    "duration": 802,
    "start_time": "2022-05-06T12:32:40.356Z"
   },
   {
    "duration": 674,
    "start_time": "2022-05-06T12:32:51.486Z"
   },
   {
    "duration": 474,
    "start_time": "2022-05-06T12:33:10.899Z"
   },
   {
    "duration": 459,
    "start_time": "2022-05-06T12:33:35.196Z"
   },
   {
    "duration": 110,
    "start_time": "2022-05-06T12:33:43.362Z"
   },
   {
    "duration": 40,
    "start_time": "2022-05-06T12:33:43.475Z"
   },
   {
    "duration": 65,
    "start_time": "2022-05-06T12:33:43.517Z"
   },
   {
    "duration": 28,
    "start_time": "2022-05-06T12:33:43.585Z"
   },
   {
    "duration": 113,
    "start_time": "2022-05-06T12:33:43.615Z"
   },
   {
    "duration": 418,
    "start_time": "2022-05-06T12:33:43.730Z"
   },
   {
    "duration": 44,
    "start_time": "2022-05-06T12:33:44.150Z"
   },
   {
    "duration": 247,
    "start_time": "2022-05-06T12:33:44.197Z"
   },
   {
    "duration": 967,
    "start_time": "2022-05-06T12:33:44.446Z"
   },
   {
    "duration": 469,
    "start_time": "2022-05-06T12:33:45.418Z"
   },
   {
    "duration": 425,
    "start_time": "2022-05-06T12:33:45.890Z"
   },
   {
    "duration": 539,
    "start_time": "2022-05-06T12:33:46.317Z"
   },
   {
    "duration": 89,
    "start_time": "2022-05-06T12:33:46.859Z"
   },
   {
    "duration": 423,
    "start_time": "2022-05-06T12:33:46.950Z"
   },
   {
    "duration": 274,
    "start_time": "2022-05-06T12:33:47.376Z"
   },
   {
    "duration": 3,
    "start_time": "2022-05-06T12:33:47.652Z"
   },
   {
    "duration": 76,
    "start_time": "2022-05-06T12:37:32.821Z"
   },
   {
    "duration": 394,
    "start_time": "2022-05-06T12:37:57.711Z"
   },
   {
    "duration": 422,
    "start_time": "2022-05-06T12:38:13.540Z"
   },
   {
    "duration": 430,
    "start_time": "2022-05-06T12:38:29.517Z"
   },
   {
    "duration": 424,
    "start_time": "2022-05-06T12:38:41.101Z"
   },
   {
    "duration": 430,
    "start_time": "2022-05-06T12:38:55.393Z"
   },
   {
    "duration": 560,
    "start_time": "2022-05-06T12:39:10.023Z"
   },
   {
    "duration": 469,
    "start_time": "2022-05-06T12:39:19.218Z"
   },
   {
    "duration": 577,
    "start_time": "2022-05-06T12:39:30.725Z"
   },
   {
    "duration": 462,
    "start_time": "2022-05-06T12:39:36.705Z"
   },
   {
    "duration": 478,
    "start_time": "2022-05-06T12:39:42.509Z"
   },
   {
    "duration": 462,
    "start_time": "2022-05-06T12:39:47.939Z"
   },
   {
    "duration": 447,
    "start_time": "2022-05-06T12:39:59.401Z"
   },
   {
    "duration": 450,
    "start_time": "2022-05-06T12:40:08.891Z"
   },
   {
    "duration": 80,
    "start_time": "2022-05-06T12:40:16.662Z"
   },
   {
    "duration": 450,
    "start_time": "2022-05-06T12:40:22.990Z"
   },
   {
    "duration": 107,
    "start_time": "2022-05-06T12:40:33.726Z"
   },
   {
    "duration": 141,
    "start_time": "2022-05-06T12:40:41.160Z"
   },
   {
    "duration": 422,
    "start_time": "2022-05-06T12:40:52.031Z"
   },
   {
    "duration": 35,
    "start_time": "2022-05-06T12:41:13.926Z"
   },
   {
    "duration": 69,
    "start_time": "2022-05-06T12:41:23.111Z"
   },
   {
    "duration": 234,
    "start_time": "2022-05-06T12:41:28.024Z"
   },
   {
    "duration": 1346,
    "start_time": "2022-05-06T12:41:32.961Z"
   },
   {
    "duration": 63,
    "start_time": "2022-05-06T12:42:09.442Z"
   },
   {
    "duration": 614,
    "start_time": "2022-05-06T12:42:18.845Z"
   },
   {
    "duration": 620,
    "start_time": "2022-05-06T12:42:26.550Z"
   },
   {
    "duration": 232,
    "start_time": "2022-05-06T12:42:31.081Z"
   },
   {
    "duration": 43,
    "start_time": "2022-05-06T12:42:31.317Z"
   },
   {
    "duration": 58,
    "start_time": "2022-05-06T12:42:31.362Z"
   },
   {
    "duration": 26,
    "start_time": "2022-05-06T12:42:31.424Z"
   },
   {
    "duration": 112,
    "start_time": "2022-05-06T12:42:31.452Z"
   },
   {
    "duration": 429,
    "start_time": "2022-05-06T12:42:31.583Z"
   },
   {
    "duration": 26,
    "start_time": "2022-05-06T12:42:32.014Z"
   },
   {
    "duration": 256,
    "start_time": "2022-05-06T12:42:32.042Z"
   },
   {
    "duration": 954,
    "start_time": "2022-05-06T12:42:32.301Z"
   },
   {
    "duration": 503,
    "start_time": "2022-05-06T12:42:33.259Z"
   },
   {
    "duration": 443,
    "start_time": "2022-05-06T12:42:33.764Z"
   },
   {
    "duration": 430,
    "start_time": "2022-05-06T12:42:34.209Z"
   },
   {
    "duration": 213,
    "start_time": "2022-05-06T12:42:34.642Z"
   },
   {
    "duration": 406,
    "start_time": "2022-05-06T12:42:34.857Z"
   },
   {
    "duration": 298,
    "start_time": "2022-05-06T12:42:35.265Z"
   },
   {
    "duration": 3,
    "start_time": "2022-05-06T12:42:35.566Z"
   },
   {
    "duration": 732,
    "start_time": "2022-05-06T12:43:30.383Z"
   },
   {
    "duration": 489,
    "start_time": "2022-05-06T12:43:57.595Z"
   },
   {
    "duration": 26,
    "start_time": "2022-05-06T12:45:13.418Z"
   },
   {
    "duration": 708,
    "start_time": "2022-05-06T12:45:21.503Z"
   },
   {
    "duration": 473,
    "start_time": "2022-05-06T12:46:29.497Z"
   },
   {
    "duration": 469,
    "start_time": "2022-05-06T12:47:16.849Z"
   },
   {
    "duration": 418,
    "start_time": "2022-05-06T12:53:29.792Z"
   },
   {
    "duration": 26,
    "start_time": "2022-05-06T12:56:03.129Z"
   },
   {
    "duration": 422,
    "start_time": "2022-05-06T12:57:03.426Z"
   },
   {
    "duration": 911,
    "start_time": "2022-05-06T12:58:18.564Z"
   },
   {
    "duration": 766,
    "start_time": "2022-05-06T12:58:49.829Z"
   },
   {
    "duration": 773,
    "start_time": "2022-05-06T12:59:17.118Z"
   },
   {
    "duration": 1470,
    "start_time": "2022-05-06T13:00:30.989Z"
   },
   {
    "duration": 840,
    "start_time": "2022-05-06T13:01:40.019Z"
   },
   {
    "duration": 787,
    "start_time": "2022-05-06T13:01:53.090Z"
   },
   {
    "duration": 836,
    "start_time": "2022-05-06T13:02:23.442Z"
   },
   {
    "duration": 601,
    "start_time": "2022-05-06T13:03:55.413Z"
   },
   {
    "duration": 533,
    "start_time": "2022-05-06T13:04:13.678Z"
   },
   {
    "duration": 353,
    "start_time": "2022-05-06T13:04:21.283Z"
   },
   {
    "duration": 221,
    "start_time": "2022-05-06T13:05:14.973Z"
   },
   {
    "duration": 219,
    "start_time": "2022-05-06T13:05:19.440Z"
   },
   {
    "duration": 215,
    "start_time": "2022-05-06T13:05:23.209Z"
   },
   {
    "duration": 341,
    "start_time": "2022-05-06T13:05:30.031Z"
   },
   {
    "duration": 212,
    "start_time": "2022-05-06T13:05:35.412Z"
   },
   {
    "duration": 211,
    "start_time": "2022-05-06T13:05:41.822Z"
   },
   {
    "duration": 345,
    "start_time": "2022-05-06T13:05:49.845Z"
   },
   {
    "duration": 211,
    "start_time": "2022-05-06T13:06:02.049Z"
   },
   {
    "duration": 472,
    "start_time": "2022-05-06T13:06:15.803Z"
   },
   {
    "duration": 866,
    "start_time": "2022-05-06T13:07:10.937Z"
   },
   {
    "duration": 824,
    "start_time": "2022-05-06T13:07:19.348Z"
   },
   {
    "duration": 794,
    "start_time": "2022-05-06T13:07:28.551Z"
   },
   {
    "duration": 1160,
    "start_time": "2022-05-06T13:10:01.150Z"
   },
   {
    "duration": 31,
    "start_time": "2022-05-06T13:10:50.045Z"
   },
   {
    "duration": 1287,
    "start_time": "2022-05-06T13:10:56.187Z"
   },
   {
    "duration": 975,
    "start_time": "2022-05-06T13:11:16.429Z"
   },
   {
    "duration": 946,
    "start_time": "2022-05-06T13:11:30.461Z"
   },
   {
    "duration": 1232,
    "start_time": "2022-05-06T13:16:13.862Z"
   },
   {
    "duration": 1660,
    "start_time": "2022-05-06T13:16:30.152Z"
   },
   {
    "duration": 30,
    "start_time": "2022-05-06T13:18:09.318Z"
   },
   {
    "duration": 1494,
    "start_time": "2022-05-06T13:18:21.671Z"
   },
   {
    "duration": 29,
    "start_time": "2022-05-06T13:19:22.538Z"
   },
   {
    "duration": 18,
    "start_time": "2022-05-06T13:19:58.730Z"
   },
   {
    "duration": 30,
    "start_time": "2022-05-06T13:20:08.948Z"
   },
   {
    "duration": 109,
    "start_time": "2022-05-06T13:20:34.401Z"
   },
   {
    "duration": 47,
    "start_time": "2022-05-06T13:20:43.202Z"
   },
   {
    "duration": 1951,
    "start_time": "2022-05-06T13:20:48.400Z"
   },
   {
    "duration": 1838,
    "start_time": "2022-05-06T13:21:18.609Z"
   },
   {
    "duration": 1410,
    "start_time": "2022-05-06T13:21:39.542Z"
   },
   {
    "duration": 106,
    "start_time": "2022-05-06T13:21:49.842Z"
   },
   {
    "duration": 56,
    "start_time": "2022-05-06T13:21:49.952Z"
   },
   {
    "duration": 49,
    "start_time": "2022-05-06T13:21:50.010Z"
   },
   {
    "duration": 27,
    "start_time": "2022-05-06T13:21:50.082Z"
   },
   {
    "duration": 130,
    "start_time": "2022-05-06T13:21:50.112Z"
   },
   {
    "duration": 538,
    "start_time": "2022-05-06T13:21:50.245Z"
   },
   {
    "duration": 35,
    "start_time": "2022-05-06T13:21:50.786Z"
   },
   {
    "duration": 329,
    "start_time": "2022-05-06T13:21:50.824Z"
   },
   {
    "duration": 449,
    "start_time": "2022-05-06T13:21:51.155Z"
   },
   {
    "duration": 1394,
    "start_time": "2022-05-06T13:21:51.607Z"
   },
   {
    "duration": 1591,
    "start_time": "2022-05-06T13:21:53.004Z"
   },
   {
    "duration": 527,
    "start_time": "2022-05-06T13:21:54.599Z"
   },
   {
    "duration": 95,
    "start_time": "2022-05-06T13:21:55.129Z"
   },
   {
    "duration": 326,
    "start_time": "2022-05-06T13:21:55.230Z"
   },
   {
    "duration": 257,
    "start_time": "2022-05-06T13:21:55.558Z"
   },
   {
    "duration": 4,
    "start_time": "2022-05-06T13:21:55.817Z"
   },
   {
    "duration": 987,
    "start_time": "2022-05-06T13:22:27.661Z"
   },
   {
    "duration": 615,
    "start_time": "2022-05-06T13:22:47.632Z"
   },
   {
    "duration": 1691,
    "start_time": "2022-05-06T13:39:35.510Z"
   },
   {
    "duration": 1355,
    "start_time": "2022-05-06T13:39:49.602Z"
   },
   {
    "duration": 202,
    "start_time": "2022-05-06T13:50:47.509Z"
   },
   {
    "duration": 113,
    "start_time": "2022-05-06T14:11:20.543Z"
   },
   {
    "duration": 59,
    "start_time": "2022-05-06T14:11:20.660Z"
   },
   {
    "duration": 77,
    "start_time": "2022-05-06T14:11:20.722Z"
   },
   {
    "duration": 28,
    "start_time": "2022-05-06T14:11:20.804Z"
   },
   {
    "duration": 113,
    "start_time": "2022-05-06T14:11:20.836Z"
   },
   {
    "duration": 425,
    "start_time": "2022-05-06T14:11:20.951Z"
   },
   {
    "duration": 25,
    "start_time": "2022-05-06T14:11:21.382Z"
   },
   {
    "duration": 250,
    "start_time": "2022-05-06T14:11:21.410Z"
   },
   {
    "duration": 409,
    "start_time": "2022-05-06T14:11:21.663Z"
   },
   {
    "duration": 709,
    "start_time": "2022-05-06T14:11:22.081Z"
   },
   {
    "duration": 920,
    "start_time": "2022-05-06T14:11:22.793Z"
   },
   {
    "duration": 1162,
    "start_time": "2022-05-06T14:11:23.715Z"
   },
   {
    "duration": 74,
    "start_time": "2022-05-06T14:11:24.881Z"
   },
   {
    "duration": 1503,
    "start_time": "2022-05-06T14:11:24.958Z"
   },
   {
    "duration": 258,
    "start_time": "2022-05-06T14:11:26.464Z"
   },
   {
    "duration": 3,
    "start_time": "2022-05-06T14:11:26.724Z"
   },
   {
    "duration": 262,
    "start_time": "2022-05-06T14:16:02.855Z"
   },
   {
    "duration": 344,
    "start_time": "2022-05-06T14:16:07.536Z"
   },
   {
    "duration": 344,
    "start_time": "2022-05-06T14:16:10.845Z"
   },
   {
    "duration": 331,
    "start_time": "2022-05-06T14:16:24.255Z"
   },
   {
    "duration": 238,
    "start_time": "2022-05-06T14:16:30.145Z"
   },
   {
    "duration": 386,
    "start_time": "2022-05-06T14:17:16.723Z"
   },
   {
    "duration": 328,
    "start_time": "2022-05-06T14:17:38.445Z"
   },
   {
    "duration": 338,
    "start_time": "2022-05-06T14:17:41.819Z"
   },
   {
    "duration": 117,
    "start_time": "2022-05-06T14:18:08.638Z"
   },
   {
    "duration": 239,
    "start_time": "2022-05-06T14:18:12.036Z"
   },
   {
    "duration": 224,
    "start_time": "2022-05-06T14:18:26.144Z"
   },
   {
    "duration": 81,
    "start_time": "2022-05-06T14:18:36.456Z"
   },
   {
    "duration": 157,
    "start_time": "2022-05-06T14:18:48.850Z"
   },
   {
    "duration": 40,
    "start_time": "2022-05-06T14:18:49.011Z"
   },
   {
    "duration": 63,
    "start_time": "2022-05-06T14:18:49.054Z"
   },
   {
    "duration": 26,
    "start_time": "2022-05-06T14:18:49.122Z"
   },
   {
    "duration": 110,
    "start_time": "2022-05-06T14:18:49.151Z"
   },
   {
    "duration": 434,
    "start_time": "2022-05-06T14:18:49.263Z"
   },
   {
    "duration": 25,
    "start_time": "2022-05-06T14:18:49.699Z"
   },
   {
    "duration": 250,
    "start_time": "2022-05-06T14:18:49.726Z"
   },
   {
    "duration": 428,
    "start_time": "2022-05-06T14:18:49.981Z"
   },
   {
    "duration": 718,
    "start_time": "2022-05-06T14:18:50.413Z"
   },
   {
    "duration": 921,
    "start_time": "2022-05-06T14:18:51.133Z"
   },
   {
    "duration": 1392,
    "start_time": "2022-05-06T14:18:52.056Z"
   },
   {
    "duration": 84,
    "start_time": "2022-05-06T14:18:53.450Z"
   },
   {
    "duration": 352,
    "start_time": "2022-05-06T14:18:53.536Z"
   },
   {
    "duration": 0,
    "start_time": "2022-05-06T14:18:53.891Z"
   },
   {
    "duration": 0,
    "start_time": "2022-05-06T14:18:53.893Z"
   },
   {
    "duration": 2388,
    "start_time": "2022-05-06T14:19:13.130Z"
   },
   {
    "duration": 39,
    "start_time": "2022-05-06T14:19:15.521Z"
   },
   {
    "duration": 40,
    "start_time": "2022-05-06T14:19:15.581Z"
   },
   {
    "duration": 30,
    "start_time": "2022-05-06T14:19:15.624Z"
   },
   {
    "duration": 560,
    "start_time": "2022-05-06T14:19:15.681Z"
   },
   {
    "duration": 673,
    "start_time": "2022-05-06T14:19:16.243Z"
   },
   {
    "duration": 36,
    "start_time": "2022-05-06T14:19:16.919Z"
   },
   {
    "duration": 334,
    "start_time": "2022-05-06T14:19:16.961Z"
   },
   {
    "duration": 544,
    "start_time": "2022-05-06T14:19:17.298Z"
   },
   {
    "duration": 752,
    "start_time": "2022-05-06T14:19:17.845Z"
   },
   {
    "duration": 915,
    "start_time": "2022-05-06T14:19:18.599Z"
   },
   {
    "duration": 1369,
    "start_time": "2022-05-06T14:19:19.516Z"
   },
   {
    "duration": 71,
    "start_time": "2022-05-06T14:19:20.887Z"
   },
   {
    "duration": 649,
    "start_time": "2022-05-06T14:19:20.961Z"
   },
   {
    "duration": 0,
    "start_time": "2022-05-06T14:19:21.613Z"
   },
   {
    "duration": 0,
    "start_time": "2022-05-06T14:19:21.615Z"
   },
   {
    "duration": 132,
    "start_time": "2022-05-06T14:19:32.649Z"
   },
   {
    "duration": 30,
    "start_time": "2022-05-06T14:21:10.244Z"
   },
   {
    "duration": 134,
    "start_time": "2022-05-06T14:21:15.038Z"
   },
   {
    "duration": 86,
    "start_time": "2022-05-06T14:21:27.389Z"
   },
   {
    "duration": 25,
    "start_time": "2022-05-06T14:27:03.924Z"
   },
   {
    "duration": 22,
    "start_time": "2022-05-06T14:27:26.204Z"
   },
   {
    "duration": 43,
    "start_time": "2022-05-06T14:27:29.683Z"
   },
   {
    "duration": 27,
    "start_time": "2022-05-06T14:28:43.751Z"
   },
   {
    "duration": 94,
    "start_time": "2022-05-06T14:29:16.747Z"
   },
   {
    "duration": 129,
    "start_time": "2022-05-06T14:29:34.191Z"
   },
   {
    "duration": 145,
    "start_time": "2022-05-06T14:29:42.984Z"
   },
   {
    "duration": 30,
    "start_time": "2022-05-06T14:31:01.844Z"
   },
   {
    "duration": 28,
    "start_time": "2022-05-06T14:31:40.524Z"
   },
   {
    "duration": 110,
    "start_time": "2022-05-06T14:32:17.568Z"
   },
   {
    "duration": 104,
    "start_time": "2022-05-06T14:32:28.512Z"
   },
   {
    "duration": 27,
    "start_time": "2022-05-06T14:32:37.341Z"
   },
   {
    "duration": 128,
    "start_time": "2022-05-06T14:33:51.085Z"
   },
   {
    "duration": 105,
    "start_time": "2022-05-06T14:34:14.674Z"
   },
   {
    "duration": 113,
    "start_time": "2022-05-06T14:34:22.009Z"
   },
   {
    "duration": 30,
    "start_time": "2022-05-06T14:34:28.707Z"
   },
   {
    "duration": 96,
    "start_time": "2022-05-06T14:34:36.535Z"
   },
   {
    "duration": 281,
    "start_time": "2022-05-06T14:35:02.735Z"
   },
   {
    "duration": 15,
    "start_time": "2022-05-06T14:35:39.037Z"
   },
   {
    "duration": 27,
    "start_time": "2022-05-06T14:35:43.894Z"
   },
   {
    "duration": 81,
    "start_time": "2022-05-06T14:36:24.420Z"
   },
   {
    "duration": 80,
    "start_time": "2022-05-06T14:37:51.872Z"
   },
   {
    "duration": 79,
    "start_time": "2022-05-06T14:38:18.146Z"
   },
   {
    "duration": 369,
    "start_time": "2022-05-06T14:41:40.567Z"
   },
   {
    "duration": 2122,
    "start_time": "2022-05-06T17:14:29.753Z"
   },
   {
    "duration": 34,
    "start_time": "2022-05-06T17:14:31.883Z"
   },
   {
    "duration": 44,
    "start_time": "2022-05-06T17:14:31.919Z"
   },
   {
    "duration": 54,
    "start_time": "2022-05-06T17:14:31.967Z"
   },
   {
    "duration": 796,
    "start_time": "2022-05-06T17:14:32.024Z"
   },
   {
    "duration": 503,
    "start_time": "2022-05-06T17:14:32.823Z"
   },
   {
    "duration": 27,
    "start_time": "2022-05-06T17:14:33.329Z"
   },
   {
    "duration": 309,
    "start_time": "2022-05-06T17:14:33.358Z"
   },
   {
    "duration": 368,
    "start_time": "2022-05-06T17:14:33.670Z"
   },
   {
    "duration": 1313,
    "start_time": "2022-05-06T17:14:34.043Z"
   },
   {
    "duration": 1580,
    "start_time": "2022-05-06T17:14:35.359Z"
   },
   {
    "duration": 2109,
    "start_time": "2022-05-06T17:14:36.941Z"
   },
   {
    "duration": 123,
    "start_time": "2022-05-06T17:14:39.053Z"
   },
   {
    "duration": 392,
    "start_time": "2022-05-06T17:14:39.182Z"
   },
   {
    "duration": 9,
    "start_time": "2022-05-06T17:14:39.576Z"
   },
   {
    "duration": 320,
    "start_time": "2022-05-06T17:14:39.588Z"
   },
   {
    "duration": 4,
    "start_time": "2022-05-06T17:14:39.911Z"
   },
   {
    "duration": 269,
    "start_time": "2022-05-06T17:32:28.013Z"
   },
   {
    "duration": 290,
    "start_time": "2022-05-06T18:17:22.483Z"
   },
   {
    "duration": 342,
    "start_time": "2022-05-06T18:17:43.179Z"
   },
   {
    "duration": 416,
    "start_time": "2022-05-06T18:18:01.160Z"
   },
   {
    "duration": 249,
    "start_time": "2022-05-06T18:19:05.870Z"
   },
   {
    "duration": 343,
    "start_time": "2022-05-06T18:20:01.689Z"
   },
   {
    "duration": 337,
    "start_time": "2022-05-06T18:20:18.367Z"
   },
   {
    "duration": 437,
    "start_time": "2022-05-06T18:20:48.567Z"
   },
   {
    "duration": 110,
    "start_time": "2022-05-06T18:21:23.443Z"
   },
   {
    "duration": 54,
    "start_time": "2022-05-06T18:21:23.556Z"
   },
   {
    "duration": 36,
    "start_time": "2022-05-06T18:21:23.612Z"
   },
   {
    "duration": 50,
    "start_time": "2022-05-06T18:21:23.650Z"
   },
   {
    "duration": 100,
    "start_time": "2022-05-06T18:21:23.702Z"
   },
   {
    "duration": 24,
    "start_time": "2022-05-06T18:21:23.804Z"
   },
   {
    "duration": 321,
    "start_time": "2022-05-06T18:21:23.830Z"
   },
   {
    "duration": 455,
    "start_time": "2022-05-06T18:21:24.153Z"
   },
   {
    "duration": 894,
    "start_time": "2022-05-06T18:21:24.610Z"
   },
   {
    "duration": 1385,
    "start_time": "2022-05-06T18:21:25.507Z"
   },
   {
    "duration": 1336,
    "start_time": "2022-05-06T18:21:26.894Z"
   },
   {
    "duration": 178,
    "start_time": "2022-05-06T18:21:28.232Z"
   },
   {
    "duration": 415,
    "start_time": "2022-05-06T18:21:28.413Z"
   },
   {
    "duration": 9,
    "start_time": "2022-05-06T18:21:28.830Z"
   },
   {
    "duration": 1947,
    "start_time": "2022-05-06T18:21:28.841Z"
   },
   {
    "duration": 13,
    "start_time": "2022-05-06T18:21:30.790Z"
   },
   {
    "duration": 0,
    "start_time": "2022-05-06T18:21:30.806Z"
   },
   {
    "duration": 140,
    "start_time": "2022-05-06T20:05:15.882Z"
   },
   {
    "duration": 62,
    "start_time": "2022-05-06T20:05:16.026Z"
   },
   {
    "duration": 47,
    "start_time": "2022-05-06T20:05:16.091Z"
   },
   {
    "duration": 46,
    "start_time": "2022-05-06T20:05:16.141Z"
   },
   {
    "duration": 98,
    "start_time": "2022-05-06T20:05:16.190Z"
   },
   {
    "duration": 26,
    "start_time": "2022-05-06T20:05:16.290Z"
   },
   {
    "duration": 447,
    "start_time": "2022-05-06T20:05:16.319Z"
   },
   {
    "duration": 441,
    "start_time": "2022-05-06T20:05:16.769Z"
   },
   {
    "duration": 1198,
    "start_time": "2022-05-06T20:05:17.212Z"
   },
   {
    "duration": 1620,
    "start_time": "2022-05-06T20:05:18.415Z"
   },
   {
    "duration": 1234,
    "start_time": "2022-05-06T20:05:20.038Z"
   },
   {
    "duration": 72,
    "start_time": "2022-05-06T20:05:21.283Z"
   },
   {
    "duration": 402,
    "start_time": "2022-05-06T20:05:21.357Z"
   },
   {
    "duration": 20,
    "start_time": "2022-05-06T20:05:21.761Z"
   },
   {
    "duration": 278,
    "start_time": "2022-05-06T20:05:21.784Z"
   },
   {
    "duration": 19,
    "start_time": "2022-05-06T20:05:22.065Z"
   },
   {
    "duration": 0,
    "start_time": "2022-05-06T20:05:22.088Z"
   },
   {
    "duration": 207,
    "start_time": "2022-05-06T20:05:36.542Z"
   },
   {
    "duration": 168,
    "start_time": "2022-05-06T20:05:50.128Z"
   },
   {
    "duration": 181,
    "start_time": "2022-05-06T20:05:54.257Z"
   },
   {
    "duration": 155,
    "start_time": "2022-05-06T20:06:00.747Z"
   },
   {
    "duration": 186,
    "start_time": "2022-05-06T20:20:00.097Z"
   },
   {
    "duration": 45,
    "start_time": "2022-05-06T20:20:00.287Z"
   },
   {
    "duration": 60,
    "start_time": "2022-05-06T20:20:00.335Z"
   },
   {
    "duration": 28,
    "start_time": "2022-05-06T20:20:00.399Z"
   },
   {
    "duration": 143,
    "start_time": "2022-05-06T20:20:00.430Z"
   },
   {
    "duration": 37,
    "start_time": "2022-05-06T20:20:00.575Z"
   },
   {
    "duration": 323,
    "start_time": "2022-05-06T20:20:00.614Z"
   },
   {
    "duration": 549,
    "start_time": "2022-05-06T20:20:00.939Z"
   },
   {
    "duration": 793,
    "start_time": "2022-05-06T20:20:01.490Z"
   },
   {
    "duration": 974,
    "start_time": "2022-05-06T20:20:02.287Z"
   },
   {
    "duration": 2032,
    "start_time": "2022-05-06T20:20:03.264Z"
   },
   {
    "duration": 118,
    "start_time": "2022-05-06T20:20:05.299Z"
   },
   {
    "duration": 589,
    "start_time": "2022-05-06T20:20:05.420Z"
   },
   {
    "duration": 9,
    "start_time": "2022-05-06T20:20:06.013Z"
   },
   {
    "duration": 186,
    "start_time": "2022-05-06T20:20:06.024Z"
   },
   {
    "duration": 16,
    "start_time": "2022-05-06T20:20:06.212Z"
   },
   {
    "duration": 0,
    "start_time": "2022-05-06T20:20:06.231Z"
   },
   {
    "duration": 164,
    "start_time": "2022-05-06T20:23:54.821Z"
   },
   {
    "duration": 34,
    "start_time": "2022-05-06T20:23:56.933Z"
   },
   {
    "duration": 13,
    "start_time": "2022-05-06T20:24:05.403Z"
   },
   {
    "duration": 29,
    "start_time": "2022-05-06T20:24:14.260Z"
   },
   {
    "duration": 12,
    "start_time": "2022-05-06T20:24:28.985Z"
   },
   {
    "duration": 12,
    "start_time": "2022-05-06T20:24:49.113Z"
   },
   {
    "duration": 19,
    "start_time": "2022-05-06T20:24:54.606Z"
   },
   {
    "duration": 22,
    "start_time": "2022-05-06T20:25:36.605Z"
   },
   {
    "duration": 16,
    "start_time": "2022-05-06T20:26:46.553Z"
   },
   {
    "duration": 17,
    "start_time": "2022-05-06T20:27:04.954Z"
   },
   {
    "duration": 14,
    "start_time": "2022-05-06T20:29:19.166Z"
   },
   {
    "duration": 23,
    "start_time": "2022-05-06T20:29:57.314Z"
   },
   {
    "duration": 17,
    "start_time": "2022-05-06T20:30:18.361Z"
   },
   {
    "duration": 16,
    "start_time": "2022-05-06T20:31:45.894Z"
   },
   {
    "duration": 1770,
    "start_time": "2022-05-06T20:32:02.259Z"
   },
   {
    "duration": 1630,
    "start_time": "2022-05-06T20:33:05.762Z"
   },
   {
    "duration": 16,
    "start_time": "2022-05-06T20:33:11.883Z"
   },
   {
    "duration": 11,
    "start_time": "2022-05-06T20:33:18.463Z"
   },
   {
    "duration": 21,
    "start_time": "2022-05-06T20:33:39.963Z"
   },
   {
    "duration": 24,
    "start_time": "2022-05-06T20:33:46.205Z"
   },
   {
    "duration": 34,
    "start_time": "2022-05-06T20:34:25.103Z"
   },
   {
    "duration": 25,
    "start_time": "2022-05-06T20:34:34.781Z"
   },
   {
    "duration": 36,
    "start_time": "2022-05-06T20:34:41.162Z"
   },
   {
    "duration": 35,
    "start_time": "2022-05-06T20:34:57.204Z"
   },
   {
    "duration": 116,
    "start_time": "2022-05-06T20:35:07.552Z"
   },
   {
    "duration": 39,
    "start_time": "2022-05-06T20:35:07.683Z"
   },
   {
    "duration": 67,
    "start_time": "2022-05-06T20:35:07.725Z"
   },
   {
    "duration": 26,
    "start_time": "2022-05-06T20:35:07.796Z"
   },
   {
    "duration": 103,
    "start_time": "2022-05-06T20:35:07.825Z"
   },
   {
    "duration": 51,
    "start_time": "2022-05-06T20:35:07.931Z"
   },
   {
    "duration": 317,
    "start_time": "2022-05-06T20:35:07.984Z"
   },
   {
    "duration": 433,
    "start_time": "2022-05-06T20:35:08.304Z"
   },
   {
    "duration": 784,
    "start_time": "2022-05-06T20:35:08.740Z"
   },
   {
    "duration": 1110,
    "start_time": "2022-05-06T20:35:09.529Z"
   },
   {
    "duration": 2105,
    "start_time": "2022-05-06T20:35:10.643Z"
   },
   {
    "duration": 90,
    "start_time": "2022-05-06T20:35:12.750Z"
   },
   {
    "duration": 412,
    "start_time": "2022-05-06T20:35:12.843Z"
   },
   {
    "duration": 25,
    "start_time": "2022-05-06T20:35:13.257Z"
   },
   {
    "duration": 221,
    "start_time": "2022-05-06T20:35:13.285Z"
   },
   {
    "duration": 19,
    "start_time": "2022-05-06T20:35:13.509Z"
   },
   {
    "duration": 18,
    "start_time": "2022-05-06T20:35:13.531Z"
   },
   {
    "duration": 0,
    "start_time": "2022-05-06T20:35:13.552Z"
   },
   {
    "duration": 24,
    "start_time": "2022-05-06T20:35:38.528Z"
   },
   {
    "duration": 26,
    "start_time": "2022-05-06T20:35:43.116Z"
   },
   {
    "duration": 20,
    "start_time": "2022-05-06T20:37:02.469Z"
   },
   {
    "duration": 20,
    "start_time": "2022-05-06T20:37:05.640Z"
   },
   {
    "duration": 129,
    "start_time": "2022-05-06T20:37:08.481Z"
   },
   {
    "duration": 39,
    "start_time": "2022-05-06T20:37:08.613Z"
   },
   {
    "duration": 83,
    "start_time": "2022-05-06T20:37:08.654Z"
   },
   {
    "duration": 57,
    "start_time": "2022-05-06T20:37:08.740Z"
   },
   {
    "duration": 97,
    "start_time": "2022-05-06T20:37:08.802Z"
   },
   {
    "duration": 25,
    "start_time": "2022-05-06T20:37:08.902Z"
   },
   {
    "duration": 475,
    "start_time": "2022-05-06T20:37:08.930Z"
   },
   {
    "duration": 632,
    "start_time": "2022-05-06T20:37:09.408Z"
   },
   {
    "duration": 1335,
    "start_time": "2022-05-06T20:37:10.043Z"
   },
   {
    "duration": 1023,
    "start_time": "2022-05-06T20:37:11.382Z"
   },
   {
    "duration": 1330,
    "start_time": "2022-05-06T20:37:12.408Z"
   },
   {
    "duration": 200,
    "start_time": "2022-05-06T20:37:13.741Z"
   },
   {
    "duration": 420,
    "start_time": "2022-05-06T20:37:13.944Z"
   },
   {
    "duration": 22,
    "start_time": "2022-05-06T20:37:14.368Z"
   },
   {
    "duration": 168,
    "start_time": "2022-05-06T20:37:14.393Z"
   },
   {
    "duration": 20,
    "start_time": "2022-05-06T20:37:14.564Z"
   },
   {
    "duration": 20,
    "start_time": "2022-05-06T20:37:14.587Z"
   },
   {
    "duration": 0,
    "start_time": "2022-05-06T20:37:14.610Z"
   },
   {
    "duration": 13,
    "start_time": "2022-05-06T20:37:36.089Z"
   },
   {
    "duration": 20,
    "start_time": "2022-05-06T20:37:37.747Z"
   },
   {
    "duration": 20,
    "start_time": "2022-05-06T20:38:33.603Z"
   },
   {
    "duration": 2459,
    "start_time": "2022-05-06T20:39:15.403Z"
   },
   {
    "duration": 69,
    "start_time": "2022-05-06T20:39:17.865Z"
   },
   {
    "duration": 69,
    "start_time": "2022-05-06T20:39:17.937Z"
   },
   {
    "duration": 28,
    "start_time": "2022-05-06T20:39:18.009Z"
   },
   {
    "duration": 782,
    "start_time": "2022-05-06T20:39:18.040Z"
   },
   {
    "duration": 60,
    "start_time": "2022-05-06T20:39:18.825Z"
   },
   {
    "duration": 471,
    "start_time": "2022-05-06T20:39:18.888Z"
   },
   {
    "duration": 609,
    "start_time": "2022-05-06T20:39:19.362Z"
   },
   {
    "duration": 1188,
    "start_time": "2022-05-06T20:39:19.981Z"
   },
   {
    "duration": 1358,
    "start_time": "2022-05-06T20:39:21.174Z"
   },
   {
    "duration": 1827,
    "start_time": "2022-05-06T20:39:22.535Z"
   },
   {
    "duration": 119,
    "start_time": "2022-05-06T20:39:24.365Z"
   },
   {
    "duration": 599,
    "start_time": "2022-05-06T20:39:24.487Z"
   },
   {
    "duration": 15,
    "start_time": "2022-05-06T20:39:25.090Z"
   },
   {
    "duration": 605,
    "start_time": "2022-05-06T20:39:25.108Z"
   },
   {
    "duration": 14,
    "start_time": "2022-05-06T20:39:25.716Z"
   },
   {
    "duration": 17,
    "start_time": "2022-05-06T20:39:25.733Z"
   },
   {
    "duration": 443,
    "start_time": "2022-05-06T20:39:25.783Z"
   },
   {
    "duration": 0,
    "start_time": "2022-05-06T20:39:26.229Z"
   },
   {
    "duration": 2297,
    "start_time": "2022-05-07T17:36:48.400Z"
   },
   {
    "duration": 60,
    "start_time": "2022-05-07T17:36:50.700Z"
   },
   {
    "duration": 40,
    "start_time": "2022-05-07T17:36:50.763Z"
   },
   {
    "duration": 32,
    "start_time": "2022-05-07T17:36:50.831Z"
   },
   {
    "duration": 612,
    "start_time": "2022-05-07T17:36:50.865Z"
   },
   {
    "duration": 50,
    "start_time": "2022-05-07T17:36:51.479Z"
   },
   {
    "duration": 376,
    "start_time": "2022-05-07T17:36:51.532Z"
   },
   {
    "duration": 448,
    "start_time": "2022-05-07T17:36:51.911Z"
   },
   {
    "duration": 839,
    "start_time": "2022-05-07T17:36:52.361Z"
   },
   {
    "duration": 960,
    "start_time": "2022-05-07T17:36:53.203Z"
   },
   {
    "duration": 1233,
    "start_time": "2022-05-07T17:36:54.166Z"
   },
   {
    "duration": 82,
    "start_time": "2022-05-07T17:36:55.401Z"
   },
   {
    "duration": 416,
    "start_time": "2022-05-07T17:36:55.485Z"
   },
   {
    "duration": 27,
    "start_time": "2022-05-07T17:36:55.903Z"
   },
   {
    "duration": 267,
    "start_time": "2022-05-07T17:36:55.934Z"
   },
   {
    "duration": 10,
    "start_time": "2022-05-07T17:36:56.204Z"
   },
   {
    "duration": 26,
    "start_time": "2022-05-07T17:36:56.216Z"
   },
   {
    "duration": 269,
    "start_time": "2022-05-07T17:36:56.244Z"
   },
   {
    "duration": 0,
    "start_time": "2022-05-07T17:36:56.515Z"
   },
   {
    "duration": 133,
    "start_time": "2022-05-07T17:39:50.180Z"
   },
   {
    "duration": 49,
    "start_time": "2022-05-07T17:39:50.326Z"
   },
   {
    "duration": 82,
    "start_time": "2022-05-07T17:39:50.378Z"
   },
   {
    "duration": 27,
    "start_time": "2022-05-07T17:39:50.464Z"
   },
   {
    "duration": 114,
    "start_time": "2022-05-07T17:39:50.494Z"
   },
   {
    "duration": 41,
    "start_time": "2022-05-07T17:39:50.610Z"
   },
   {
    "duration": 347,
    "start_time": "2022-05-07T17:39:50.654Z"
   },
   {
    "duration": 448,
    "start_time": "2022-05-07T17:39:51.003Z"
   },
   {
    "duration": 798,
    "start_time": "2022-05-07T17:39:51.453Z"
   },
   {
    "duration": 1096,
    "start_time": "2022-05-07T17:39:52.254Z"
   },
   {
    "duration": 1255,
    "start_time": "2022-05-07T17:39:53.353Z"
   },
   {
    "duration": 86,
    "start_time": "2022-05-07T17:39:54.610Z"
   },
   {
    "duration": 413,
    "start_time": "2022-05-07T17:39:54.698Z"
   },
   {
    "duration": 23,
    "start_time": "2022-05-07T17:39:55.113Z"
   },
   {
    "duration": 175,
    "start_time": "2022-05-07T17:39:55.139Z"
   },
   {
    "duration": 11,
    "start_time": "2022-05-07T17:39:55.316Z"
   },
   {
    "duration": 21,
    "start_time": "2022-05-07T17:39:55.330Z"
   },
   {
    "duration": 18,
    "start_time": "2022-05-07T17:39:55.353Z"
   },
   {
    "duration": 0,
    "start_time": "2022-05-07T17:39:55.374Z"
   },
   {
    "duration": 21,
    "start_time": "2022-05-07T17:50:15.332Z"
   },
   {
    "duration": 56,
    "start_time": "2022-05-07T17:50:20.619Z"
   },
   {
    "duration": 48,
    "start_time": "2022-05-07T17:51:19.141Z"
   },
   {
    "duration": 45,
    "start_time": "2022-05-07T17:51:48.520Z"
   },
   {
    "duration": 21,
    "start_time": "2022-05-07T17:52:53.568Z"
   },
   {
    "duration": 20,
    "start_time": "2022-05-07T17:53:09.558Z"
   },
   {
    "duration": 56,
    "start_time": "2022-05-07T17:53:22.764Z"
   },
   {
    "duration": 1951,
    "start_time": "2022-05-07T17:54:07.847Z"
   },
   {
    "duration": 15,
    "start_time": "2022-05-07T17:54:24.402Z"
   },
   {
    "duration": 3,
    "start_time": "2022-05-07T17:54:28.809Z"
   },
   {
    "duration": 1842,
    "start_time": "2022-05-07T17:54:31.414Z"
   },
   {
    "duration": 1793,
    "start_time": "2022-05-07T17:54:43.741Z"
   },
   {
    "duration": 71,
    "start_time": "2022-05-07T17:54:49.340Z"
   },
   {
    "duration": 184,
    "start_time": "2022-05-07T17:55:42.042Z"
   },
   {
    "duration": 1685,
    "start_time": "2022-05-07T17:55:56.624Z"
   },
   {
    "duration": 1831,
    "start_time": "2022-05-07T17:56:20.256Z"
   },
   {
    "duration": 1674,
    "start_time": "2022-05-07T17:56:26.721Z"
   },
   {
    "duration": 19,
    "start_time": "2022-05-07T17:56:38.851Z"
   },
   {
    "duration": 121,
    "start_time": "2022-05-07T17:56:55.839Z"
   },
   {
    "duration": 38,
    "start_time": "2022-05-07T17:56:55.963Z"
   },
   {
    "duration": 68,
    "start_time": "2022-05-07T17:56:56.003Z"
   },
   {
    "duration": 61,
    "start_time": "2022-05-07T17:56:56.074Z"
   },
   {
    "duration": 102,
    "start_time": "2022-05-07T17:56:56.138Z"
   },
   {
    "duration": 25,
    "start_time": "2022-05-07T17:56:56.242Z"
   },
   {
    "duration": 346,
    "start_time": "2022-05-07T17:56:56.269Z"
   },
   {
    "duration": 462,
    "start_time": "2022-05-07T17:56:56.629Z"
   },
   {
    "duration": 818,
    "start_time": "2022-05-07T17:56:57.093Z"
   },
   {
    "duration": 1015,
    "start_time": "2022-05-07T17:56:57.915Z"
   },
   {
    "duration": 1257,
    "start_time": "2022-05-07T17:56:58.933Z"
   },
   {
    "duration": 217,
    "start_time": "2022-05-07T17:57:00.192Z"
   },
   {
    "duration": 430,
    "start_time": "2022-05-07T17:57:00.411Z"
   },
   {
    "duration": 12,
    "start_time": "2022-05-07T17:57:00.843Z"
   },
   {
    "duration": 182,
    "start_time": "2022-05-07T17:57:00.858Z"
   },
   {
    "duration": 18,
    "start_time": "2022-05-07T17:57:01.044Z"
   },
   {
    "duration": 28,
    "start_time": "2022-05-07T17:57:01.064Z"
   },
   {
    "duration": 38,
    "start_time": "2022-05-07T17:57:01.094Z"
   },
   {
    "duration": 28,
    "start_time": "2022-05-07T17:57:01.134Z"
   },
   {
    "duration": 5,
    "start_time": "2022-05-07T17:57:01.164Z"
   },
   {
    "duration": 16,
    "start_time": "2022-05-07T17:57:01.171Z"
   },
   {
    "duration": 33,
    "start_time": "2022-05-07T17:57:23.059Z"
   },
   {
    "duration": 37,
    "start_time": "2022-05-07T17:57:31.808Z"
   },
   {
    "duration": 53,
    "start_time": "2022-05-07T17:57:42.953Z"
   },
   {
    "duration": 27,
    "start_time": "2022-05-07T17:58:34.883Z"
   },
   {
    "duration": 138,
    "start_time": "2022-05-07T17:58:42.400Z"
   },
   {
    "duration": 37,
    "start_time": "2022-05-07T17:58:42.542Z"
   },
   {
    "duration": 73,
    "start_time": "2022-05-07T17:58:42.582Z"
   },
   {
    "duration": 25,
    "start_time": "2022-05-07T17:58:42.658Z"
   },
   {
    "duration": 113,
    "start_time": "2022-05-07T17:58:42.686Z"
   },
   {
    "duration": 44,
    "start_time": "2022-05-07T17:58:42.801Z"
   },
   {
    "duration": 324,
    "start_time": "2022-05-07T17:58:42.848Z"
   },
   {
    "duration": 465,
    "start_time": "2022-05-07T17:58:43.175Z"
   },
   {
    "duration": 787,
    "start_time": "2022-05-07T17:58:43.643Z"
   },
   {
    "duration": 999,
    "start_time": "2022-05-07T17:58:44.435Z"
   },
   {
    "duration": 1347,
    "start_time": "2022-05-07T17:58:45.437Z"
   },
   {
    "duration": 88,
    "start_time": "2022-05-07T17:58:46.786Z"
   },
   {
    "duration": 530,
    "start_time": "2022-05-07T17:58:46.877Z"
   },
   {
    "duration": 22,
    "start_time": "2022-05-07T17:58:47.410Z"
   },
   {
    "duration": 137,
    "start_time": "2022-05-07T17:58:47.435Z"
   },
   {
    "duration": 29,
    "start_time": "2022-05-07T17:58:47.575Z"
   },
   {
    "duration": 0,
    "start_time": "2022-05-07T17:58:47.606Z"
   },
   {
    "duration": 0,
    "start_time": "2022-05-07T17:58:47.609Z"
   },
   {
    "duration": 0,
    "start_time": "2022-05-07T17:58:47.611Z"
   },
   {
    "duration": 0,
    "start_time": "2022-05-07T17:58:47.613Z"
   },
   {
    "duration": 59,
    "start_time": "2022-05-07T17:59:01.522Z"
   },
   {
    "duration": 15,
    "start_time": "2022-05-07T18:04:45.252Z"
   },
   {
    "duration": 11,
    "start_time": "2022-05-07T18:04:50.859Z"
   },
   {
    "duration": 16,
    "start_time": "2022-05-07T18:05:02.971Z"
   },
   {
    "duration": 185,
    "start_time": "2022-05-07T18:06:46.320Z"
   },
   {
    "duration": 177,
    "start_time": "2022-05-07T18:07:25.343Z"
   },
   {
    "duration": 181,
    "start_time": "2022-05-07T18:07:36.949Z"
   },
   {
    "duration": 163,
    "start_time": "2022-05-07T18:08:12.717Z"
   },
   {
    "duration": 149,
    "start_time": "2022-05-07T18:08:17.122Z"
   },
   {
    "duration": 175,
    "start_time": "2022-05-07T18:08:44.040Z"
   },
   {
    "duration": 163,
    "start_time": "2022-05-07T18:09:00.320Z"
   },
   {
    "duration": 178,
    "start_time": "2022-05-07T18:09:03.389Z"
   },
   {
    "duration": 167,
    "start_time": "2022-05-07T18:09:10.522Z"
   },
   {
    "duration": 17,
    "start_time": "2022-05-07T18:09:24.154Z"
   },
   {
    "duration": 170,
    "start_time": "2022-05-07T18:09:32.481Z"
   },
   {
    "duration": 204,
    "start_time": "2022-05-07T18:12:00.336Z"
   },
   {
    "duration": 148,
    "start_time": "2022-05-07T18:12:12.792Z"
   },
   {
    "duration": 209,
    "start_time": "2022-05-07T18:12:21.181Z"
   },
   {
    "duration": 195,
    "start_time": "2022-05-07T18:12:35.814Z"
   },
   {
    "duration": 176,
    "start_time": "2022-05-07T18:12:45.850Z"
   },
   {
    "duration": 176,
    "start_time": "2022-05-07T18:12:53.638Z"
   },
   {
    "duration": 110,
    "start_time": "2022-05-07T18:14:04.290Z"
   },
   {
    "duration": 139,
    "start_time": "2022-05-07T18:14:09.395Z"
   },
   {
    "duration": 159,
    "start_time": "2022-05-07T18:14:31.462Z"
   },
   {
    "duration": 182,
    "start_time": "2022-05-07T18:14:36.373Z"
   },
   {
    "duration": 133,
    "start_time": "2022-05-07T18:16:01.631Z"
   },
   {
    "duration": 164,
    "start_time": "2022-05-07T18:16:07.401Z"
   },
   {
    "duration": 160,
    "start_time": "2022-05-07T18:16:15.931Z"
   },
   {
    "duration": 125,
    "start_time": "2022-05-07T18:16:24.650Z"
   },
   {
    "duration": 69,
    "start_time": "2022-05-07T18:16:24.778Z"
   },
   {
    "duration": 43,
    "start_time": "2022-05-07T18:16:24.849Z"
   },
   {
    "duration": 59,
    "start_time": "2022-05-07T18:16:24.895Z"
   },
   {
    "duration": 101,
    "start_time": "2022-05-07T18:16:24.956Z"
   },
   {
    "duration": 23,
    "start_time": "2022-05-07T18:16:25.060Z"
   },
   {
    "duration": 336,
    "start_time": "2022-05-07T18:16:25.085Z"
   },
   {
    "duration": 462,
    "start_time": "2022-05-07T18:16:25.425Z"
   },
   {
    "duration": 891,
    "start_time": "2022-05-07T18:16:25.890Z"
   },
   {
    "duration": 1007,
    "start_time": "2022-05-07T18:16:26.787Z"
   },
   {
    "duration": 1254,
    "start_time": "2022-05-07T18:16:27.797Z"
   },
   {
    "duration": 98,
    "start_time": "2022-05-07T18:16:29.054Z"
   },
   {
    "duration": 420,
    "start_time": "2022-05-07T18:16:29.155Z"
   },
   {
    "duration": 12,
    "start_time": "2022-05-07T18:16:29.577Z"
   },
   {
    "duration": 205,
    "start_time": "2022-05-07T18:16:29.591Z"
   },
   {
    "duration": 17,
    "start_time": "2022-05-07T18:16:29.799Z"
   },
   {
    "duration": 0,
    "start_time": "2022-05-07T18:16:29.818Z"
   },
   {
    "duration": 0,
    "start_time": "2022-05-07T18:16:29.820Z"
   },
   {
    "duration": 0,
    "start_time": "2022-05-07T18:16:29.821Z"
   },
   {
    "duration": 0,
    "start_time": "2022-05-07T18:16:29.824Z"
   },
   {
    "duration": 0,
    "start_time": "2022-05-07T18:16:29.839Z"
   },
   {
    "duration": 221,
    "start_time": "2022-05-07T18:17:01.354Z"
   },
   {
    "duration": 202,
    "start_time": "2022-05-07T18:17:13.540Z"
   },
   {
    "duration": 180,
    "start_time": "2022-05-07T18:17:40.192Z"
   },
   {
    "duration": 156,
    "start_time": "2022-05-07T18:17:45.587Z"
   },
   {
    "duration": 1896,
    "start_time": "2022-05-07T18:17:54.273Z"
   },
   {
    "duration": 67,
    "start_time": "2022-05-07T18:17:56.173Z"
   },
   {
    "duration": 51,
    "start_time": "2022-05-07T18:17:56.243Z"
   },
   {
    "duration": 47,
    "start_time": "2022-05-07T18:17:56.296Z"
   },
   {
    "duration": 599,
    "start_time": "2022-05-07T18:17:56.347Z"
   },
   {
    "duration": 26,
    "start_time": "2022-05-07T18:17:56.949Z"
   },
   {
    "duration": 435,
    "start_time": "2022-05-07T18:17:56.978Z"
   },
   {
    "duration": 566,
    "start_time": "2022-05-07T18:17:57.415Z"
   },
   {
    "duration": 841,
    "start_time": "2022-05-07T18:17:57.984Z"
   },
   {
    "duration": 1479,
    "start_time": "2022-05-07T18:17:58.827Z"
   },
   {
    "duration": 1976,
    "start_time": "2022-05-07T18:18:00.309Z"
   },
   {
    "duration": 98,
    "start_time": "2022-05-07T18:18:02.288Z"
   },
   {
    "duration": 455,
    "start_time": "2022-05-07T18:18:02.388Z"
   },
   {
    "duration": 12,
    "start_time": "2022-05-07T18:18:02.848Z"
   },
   {
    "duration": 310,
    "start_time": "2022-05-07T18:18:02.862Z"
   },
   {
    "duration": 293,
    "start_time": "2022-05-07T18:18:03.175Z"
   },
   {
    "duration": 0,
    "start_time": "2022-05-07T18:18:03.470Z"
   },
   {
    "duration": 0,
    "start_time": "2022-05-07T18:18:03.471Z"
   },
   {
    "duration": 0,
    "start_time": "2022-05-07T18:18:03.473Z"
   },
   {
    "duration": 0,
    "start_time": "2022-05-07T18:18:03.474Z"
   },
   {
    "duration": 0,
    "start_time": "2022-05-07T18:18:03.475Z"
   },
   {
    "duration": 197,
    "start_time": "2022-05-07T18:19:44.496Z"
   },
   {
    "duration": 172,
    "start_time": "2022-05-07T18:19:53.839Z"
   },
   {
    "duration": 969,
    "start_time": "2022-05-07T18:20:02.144Z"
   },
   {
    "duration": 184,
    "start_time": "2022-05-07T18:20:13.177Z"
   },
   {
    "duration": 191,
    "start_time": "2022-05-07T18:20:20.256Z"
   },
   {
    "duration": 299,
    "start_time": "2022-05-07T18:20:35.449Z"
   },
   {
    "duration": 23,
    "start_time": "2022-05-07T18:20:43.515Z"
   },
   {
    "duration": 175,
    "start_time": "2022-05-07T18:20:56.248Z"
   },
   {
    "duration": 19,
    "start_time": "2022-05-07T18:21:32.367Z"
   },
   {
    "duration": 19,
    "start_time": "2022-05-07T18:21:53.379Z"
   },
   {
    "duration": 19,
    "start_time": "2022-05-07T18:22:00.360Z"
   },
   {
    "duration": 39,
    "start_time": "2022-05-07T18:23:00.921Z"
   },
   {
    "duration": 36,
    "start_time": "2022-05-07T18:28:36.467Z"
   },
   {
    "duration": 31,
    "start_time": "2022-05-07T18:28:46.460Z"
   },
   {
    "duration": 28,
    "start_time": "2022-05-07T18:29:51.829Z"
   },
   {
    "duration": 26,
    "start_time": "2022-05-07T18:30:07.403Z"
   },
   {
    "duration": 12,
    "start_time": "2022-05-07T18:30:39.079Z"
   },
   {
    "duration": 30,
    "start_time": "2022-05-07T18:32:21.857Z"
   },
   {
    "duration": 27,
    "start_time": "2022-05-07T18:32:50.788Z"
   },
   {
    "duration": 28,
    "start_time": "2022-05-07T18:32:58.188Z"
   },
   {
    "duration": 29,
    "start_time": "2022-05-07T18:33:05.187Z"
   },
   {
    "duration": 28,
    "start_time": "2022-05-07T18:33:16.141Z"
   },
   {
    "duration": 26,
    "start_time": "2022-05-07T18:33:56.265Z"
   },
   {
    "duration": 39,
    "start_time": "2022-05-07T18:34:18.619Z"
   },
   {
    "duration": 34,
    "start_time": "2022-05-07T18:34:26.419Z"
   },
   {
    "duration": 164,
    "start_time": "2022-05-07T18:34:47.440Z"
   },
   {
    "duration": 98,
    "start_time": "2022-05-07T18:35:08.009Z"
   },
   {
    "duration": 177,
    "start_time": "2022-05-07T18:42:32.110Z"
   },
   {
    "duration": 67,
    "start_time": "2022-05-07T18:42:32.290Z"
   },
   {
    "duration": 43,
    "start_time": "2022-05-07T18:42:32.359Z"
   },
   {
    "duration": 54,
    "start_time": "2022-05-07T18:42:32.405Z"
   },
   {
    "duration": 250,
    "start_time": "2022-05-07T18:42:32.462Z"
   },
   {
    "duration": 38,
    "start_time": "2022-05-07T18:42:32.715Z"
   },
   {
    "duration": 377,
    "start_time": "2022-05-07T18:42:32.757Z"
   },
   {
    "duration": 463,
    "start_time": "2022-05-07T18:42:33.138Z"
   },
   {
    "duration": 1228,
    "start_time": "2022-05-07T18:42:33.604Z"
   },
   {
    "duration": 1479,
    "start_time": "2022-05-07T18:42:34.838Z"
   },
   {
    "duration": 1286,
    "start_time": "2022-05-07T18:42:36.320Z"
   },
   {
    "duration": 90,
    "start_time": "2022-05-07T18:42:37.609Z"
   },
   {
    "duration": 163,
    "start_time": "2022-05-07T18:42:37.701Z"
   },
   {
    "duration": 0,
    "start_time": "2022-05-07T18:42:37.867Z"
   },
   {
    "duration": 0,
    "start_time": "2022-05-07T18:42:37.869Z"
   },
   {
    "duration": 0,
    "start_time": "2022-05-07T18:42:37.870Z"
   },
   {
    "duration": 0,
    "start_time": "2022-05-07T18:42:37.871Z"
   },
   {
    "duration": 0,
    "start_time": "2022-05-07T18:42:37.873Z"
   },
   {
    "duration": 0,
    "start_time": "2022-05-07T18:42:37.875Z"
   },
   {
    "duration": 0,
    "start_time": "2022-05-07T18:42:37.877Z"
   },
   {
    "duration": 0,
    "start_time": "2022-05-07T18:42:37.878Z"
   },
   {
    "duration": 0,
    "start_time": "2022-05-07T18:42:37.880Z"
   },
   {
    "duration": 199,
    "start_time": "2022-05-07T18:44:05.073Z"
   },
   {
    "duration": 147,
    "start_time": "2022-05-07T18:45:04.738Z"
   },
   {
    "duration": 120,
    "start_time": "2022-05-07T18:45:12.089Z"
   },
   {
    "duration": 41,
    "start_time": "2022-05-07T18:45:17.837Z"
   },
   {
    "duration": 2045,
    "start_time": "2022-05-07T18:45:29.104Z"
   },
   {
    "duration": 43,
    "start_time": "2022-05-07T18:45:31.152Z"
   },
   {
    "duration": 101,
    "start_time": "2022-05-07T18:45:31.197Z"
   },
   {
    "duration": 40,
    "start_time": "2022-05-07T18:45:31.301Z"
   },
   {
    "duration": 877,
    "start_time": "2022-05-07T18:45:31.344Z"
   },
   {
    "duration": 43,
    "start_time": "2022-05-07T18:45:32.224Z"
   },
   {
    "duration": 603,
    "start_time": "2022-05-07T18:45:32.272Z"
   },
   {
    "duration": 540,
    "start_time": "2022-05-07T18:45:32.879Z"
   },
   {
    "duration": 1487,
    "start_time": "2022-05-07T18:45:33.427Z"
   },
   {
    "duration": 1071,
    "start_time": "2022-05-07T18:45:34.925Z"
   },
   {
    "duration": 2005,
    "start_time": "2022-05-07T18:45:36.000Z"
   },
   {
    "duration": 94,
    "start_time": "2022-05-07T18:45:38.007Z"
   },
   {
    "duration": 496,
    "start_time": "2022-05-07T18:45:38.105Z"
   },
   {
    "duration": 0,
    "start_time": "2022-05-07T18:45:38.604Z"
   },
   {
    "duration": 0,
    "start_time": "2022-05-07T18:45:38.607Z"
   },
   {
    "duration": 0,
    "start_time": "2022-05-07T18:45:38.609Z"
   },
   {
    "duration": 0,
    "start_time": "2022-05-07T18:45:38.627Z"
   },
   {
    "duration": 0,
    "start_time": "2022-05-07T18:45:38.630Z"
   },
   {
    "duration": 0,
    "start_time": "2022-05-07T18:45:38.631Z"
   },
   {
    "duration": 0,
    "start_time": "2022-05-07T18:45:38.635Z"
   },
   {
    "duration": 0,
    "start_time": "2022-05-07T18:45:38.642Z"
   },
   {
    "duration": 0,
    "start_time": "2022-05-07T18:45:38.644Z"
   },
   {
    "duration": 60,
    "start_time": "2022-05-07T18:45:49.639Z"
   },
   {
    "duration": 54,
    "start_time": "2022-05-07T18:47:07.585Z"
   },
   {
    "duration": 40,
    "start_time": "2022-05-07T18:47:10.952Z"
   },
   {
    "duration": 43,
    "start_time": "2022-05-07T18:49:35.018Z"
   },
   {
    "duration": 44,
    "start_time": "2022-05-07T18:49:45.360Z"
   },
   {
    "duration": 44,
    "start_time": "2022-05-07T18:50:05.360Z"
   },
   {
    "duration": 56,
    "start_time": "2022-05-07T18:50:11.560Z"
   },
   {
    "duration": 46,
    "start_time": "2022-05-07T18:53:14.824Z"
   },
   {
    "duration": 38,
    "start_time": "2022-05-07T18:53:20.746Z"
   },
   {
    "duration": 48,
    "start_time": "2022-05-07T18:54:20.334Z"
   },
   {
    "duration": 16,
    "start_time": "2022-05-07T18:55:00.694Z"
   },
   {
    "duration": 56,
    "start_time": "2022-05-07T18:55:16.066Z"
   },
   {
    "duration": 407,
    "start_time": "2022-05-07T18:55:43.665Z"
   },
   {
    "duration": 297,
    "start_time": "2022-05-07T18:55:53.746Z"
   },
   {
    "duration": 106,
    "start_time": "2022-05-07T18:58:21.296Z"
   },
   {
    "duration": 183,
    "start_time": "2022-05-07T18:58:24.605Z"
   },
   {
    "duration": 154,
    "start_time": "2022-05-07T18:58:35.238Z"
   },
   {
    "duration": 192,
    "start_time": "2022-05-07T18:58:40.612Z"
   },
   {
    "duration": 181,
    "start_time": "2022-05-07T18:58:56.852Z"
   },
   {
    "duration": 172,
    "start_time": "2022-05-07T18:59:07.392Z"
   },
   {
    "duration": 177,
    "start_time": "2022-05-07T18:59:15.384Z"
   },
   {
    "duration": 41,
    "start_time": "2022-05-07T18:59:20.812Z"
   },
   {
    "duration": 188,
    "start_time": "2022-05-07T18:59:54.952Z"
   },
   {
    "duration": 193,
    "start_time": "2022-05-07T19:00:03.800Z"
   },
   {
    "duration": 180,
    "start_time": "2022-05-07T19:00:18.627Z"
   },
   {
    "duration": 195,
    "start_time": "2022-05-07T19:00:33.958Z"
   },
   {
    "duration": 18,
    "start_time": "2022-05-07T19:01:10.853Z"
   },
   {
    "duration": 21,
    "start_time": "2022-05-07T19:01:43.008Z"
   },
   {
    "duration": 1842,
    "start_time": "2022-05-07T19:02:58.159Z"
   },
   {
    "duration": 28,
    "start_time": "2022-05-07T19:03:07.784Z"
   },
   {
    "duration": 24,
    "start_time": "2022-05-07T19:03:17.824Z"
   },
   {
    "duration": 18,
    "start_time": "2022-05-07T19:03:27.384Z"
   },
   {
    "duration": 19,
    "start_time": "2022-05-07T19:03:34.252Z"
   },
   {
    "duration": 150,
    "start_time": "2022-05-07T19:03:40.076Z"
   },
   {
    "duration": 17,
    "start_time": "2022-05-07T19:03:44.104Z"
   },
   {
    "duration": 18,
    "start_time": "2022-05-07T19:04:06.472Z"
   },
   {
    "duration": 45,
    "start_time": "2022-05-07T19:08:01.979Z"
   },
   {
    "duration": 45,
    "start_time": "2022-05-07T19:08:16.934Z"
   },
   {
    "duration": 27,
    "start_time": "2022-05-07T19:08:53.360Z"
   },
   {
    "duration": 31,
    "start_time": "2022-05-07T19:09:40.660Z"
   },
   {
    "duration": 48,
    "start_time": "2022-05-07T19:09:46.807Z"
   },
   {
    "duration": 594,
    "start_time": "2022-05-07T19:10:10.126Z"
   },
   {
    "duration": 198,
    "start_time": "2022-05-07T19:10:13.633Z"
   },
   {
    "duration": 19,
    "start_time": "2022-05-07T19:10:15.978Z"
   },
   {
    "duration": 28,
    "start_time": "2022-05-07T19:10:27.725Z"
   },
   {
    "duration": 19,
    "start_time": "2022-05-07T19:10:30.161Z"
   },
   {
    "duration": 28,
    "start_time": "2022-05-07T19:10:57.069Z"
   },
   {
    "duration": 30,
    "start_time": "2022-05-07T19:16:57.745Z"
   },
   {
    "duration": 21,
    "start_time": "2022-05-07T19:17:30.850Z"
   },
   {
    "duration": 405,
    "start_time": "2022-05-07T19:17:32.699Z"
   },
   {
    "duration": 30,
    "start_time": "2022-05-07T19:17:51.414Z"
   },
   {
    "duration": 491,
    "start_time": "2022-05-07T19:17:57.954Z"
   },
   {
    "duration": 161,
    "start_time": "2022-05-07T19:18:23.625Z"
   },
   {
    "duration": 37,
    "start_time": "2022-05-07T19:18:27.604Z"
   },
   {
    "duration": 2001,
    "start_time": "2022-05-07T19:19:16.084Z"
   },
   {
    "duration": 57,
    "start_time": "2022-05-07T19:19:18.088Z"
   },
   {
    "duration": 52,
    "start_time": "2022-05-07T19:19:18.147Z"
   },
   {
    "duration": 56,
    "start_time": "2022-05-07T19:19:18.202Z"
   },
   {
    "duration": 580,
    "start_time": "2022-05-07T19:19:18.263Z"
   },
   {
    "duration": 27,
    "start_time": "2022-05-07T19:19:18.845Z"
   },
   {
    "duration": 607,
    "start_time": "2022-05-07T19:19:18.876Z"
   },
   {
    "duration": 706,
    "start_time": "2022-05-07T19:19:19.486Z"
   },
   {
    "duration": 1454,
    "start_time": "2022-05-07T19:19:20.195Z"
   },
   {
    "duration": 1706,
    "start_time": "2022-05-07T19:19:21.652Z"
   },
   {
    "duration": 2106,
    "start_time": "2022-05-07T19:19:23.361Z"
   },
   {
    "duration": 119,
    "start_time": "2022-05-07T19:19:25.470Z"
   },
   {
    "duration": 56,
    "start_time": "2022-05-07T19:19:25.592Z"
   },
   {
    "duration": 412,
    "start_time": "2022-05-07T19:19:25.652Z"
   },
   {
    "duration": 317,
    "start_time": "2022-05-07T19:19:26.067Z"
   },
   {
    "duration": 489,
    "start_time": "2022-05-07T19:19:26.388Z"
   },
   {
    "duration": 0,
    "start_time": "2022-05-07T19:19:26.880Z"
   },
   {
    "duration": 0,
    "start_time": "2022-05-07T19:19:26.882Z"
   },
   {
    "duration": 0,
    "start_time": "2022-05-07T19:19:26.885Z"
   },
   {
    "duration": 30,
    "start_time": "2022-05-07T19:20:49.277Z"
   },
   {
    "duration": 9,
    "start_time": "2022-05-07T19:21:16.060Z"
   },
   {
    "duration": 183,
    "start_time": "2022-05-07T19:21:24.980Z"
   },
   {
    "duration": 28,
    "start_time": "2022-05-07T19:21:36.816Z"
   },
   {
    "duration": 180,
    "start_time": "2022-05-07T19:24:38.161Z"
   },
   {
    "duration": 39,
    "start_time": "2022-05-07T19:24:49.168Z"
   },
   {
    "duration": 199,
    "start_time": "2022-05-07T19:25:24.507Z"
   },
   {
    "duration": 175,
    "start_time": "2022-05-07T19:26:08.835Z"
   },
   {
    "duration": 23,
    "start_time": "2022-05-07T19:26:13.251Z"
   },
   {
    "duration": 34,
    "start_time": "2022-05-07T19:26:21.220Z"
   },
   {
    "duration": 152,
    "start_time": "2022-05-07T19:26:33.100Z"
   },
   {
    "duration": 173,
    "start_time": "2022-05-07T19:26:43.495Z"
   },
   {
    "duration": 170,
    "start_time": "2022-05-07T19:26:51.926Z"
   },
   {
    "duration": 29,
    "start_time": "2022-05-07T19:26:54.699Z"
   },
   {
    "duration": 143,
    "start_time": "2022-05-07T19:27:03.427Z"
   },
   {
    "duration": 22,
    "start_time": "2022-05-07T19:27:06.919Z"
   },
   {
    "duration": 32,
    "start_time": "2022-05-07T19:27:14.106Z"
   },
   {
    "duration": 172,
    "start_time": "2022-05-07T19:27:36.211Z"
   },
   {
    "duration": 209,
    "start_time": "2022-05-07T19:27:56.562Z"
   },
   {
    "duration": 16,
    "start_time": "2022-05-07T19:28:42.386Z"
   },
   {
    "duration": 1779,
    "start_time": "2022-05-07T19:29:51.554Z"
   },
   {
    "duration": 64,
    "start_time": "2022-05-07T19:29:53.337Z"
   },
   {
    "duration": 61,
    "start_time": "2022-05-07T19:29:53.404Z"
   },
   {
    "duration": 58,
    "start_time": "2022-05-07T19:29:53.469Z"
   },
   {
    "duration": 822,
    "start_time": "2022-05-07T19:29:53.530Z"
   },
   {
    "duration": 27,
    "start_time": "2022-05-07T19:29:54.355Z"
   },
   {
    "duration": 398,
    "start_time": "2022-05-07T19:29:54.384Z"
   },
   {
    "duration": 555,
    "start_time": "2022-05-07T19:29:54.784Z"
   },
   {
    "duration": 778,
    "start_time": "2022-05-07T19:29:55.341Z"
   },
   {
    "duration": 1160,
    "start_time": "2022-05-07T19:29:56.128Z"
   },
   {
    "duration": 1599,
    "start_time": "2022-05-07T19:29:57.292Z"
   },
   {
    "duration": 109,
    "start_time": "2022-05-07T19:29:58.894Z"
   },
   {
    "duration": 68,
    "start_time": "2022-05-07T19:29:59.006Z"
   },
   {
    "duration": 442,
    "start_time": "2022-05-07T19:29:59.077Z"
   },
   {
    "duration": 301,
    "start_time": "2022-05-07T19:29:59.526Z"
   },
   {
    "duration": 261,
    "start_time": "2022-05-07T19:29:59.829Z"
   },
   {
    "duration": 0,
    "start_time": "2022-05-07T19:30:00.092Z"
   },
   {
    "duration": 0,
    "start_time": "2022-05-07T19:30:00.093Z"
   },
   {
    "duration": 0,
    "start_time": "2022-05-07T19:30:00.095Z"
   },
   {
    "duration": 32,
    "start_time": "2022-05-07T19:30:47.670Z"
   },
   {
    "duration": 334,
    "start_time": "2022-05-07T19:30:51.638Z"
   },
   {
    "duration": 169,
    "start_time": "2022-05-07T19:30:54.652Z"
   },
   {
    "duration": 27,
    "start_time": "2022-05-07T19:31:10.297Z"
   },
   {
    "duration": 27,
    "start_time": "2022-05-07T19:32:04.759Z"
   },
   {
    "duration": 31,
    "start_time": "2022-05-07T19:32:17.061Z"
   },
   {
    "duration": 29,
    "start_time": "2022-05-07T19:32:29.446Z"
   },
   {
    "duration": 30,
    "start_time": "2022-05-07T19:32:59.631Z"
   },
   {
    "duration": 26,
    "start_time": "2022-05-07T19:33:53.898Z"
   },
   {
    "duration": 1301,
    "start_time": "2022-05-07T19:35:32.562Z"
   },
   {
    "duration": 486,
    "start_time": "2022-05-07T19:36:00.119Z"
   },
   {
    "duration": 403,
    "start_time": "2022-05-07T19:36:52.526Z"
   },
   {
    "duration": 32,
    "start_time": "2022-05-07T19:37:00.912Z"
   },
   {
    "duration": 31,
    "start_time": "2022-05-07T19:40:36.198Z"
   },
   {
    "duration": 26,
    "start_time": "2022-05-07T19:46:36.639Z"
   },
   {
    "duration": 219,
    "start_time": "2022-05-07T19:47:56.068Z"
   },
   {
    "duration": 179,
    "start_time": "2022-05-07T19:48:08.368Z"
   },
   {
    "duration": 180,
    "start_time": "2022-05-07T19:48:50.213Z"
   },
   {
    "duration": 205,
    "start_time": "2022-05-07T19:48:56.559Z"
   },
   {
    "duration": 203,
    "start_time": "2022-05-07T19:49:06.908Z"
   },
   {
    "duration": 26,
    "start_time": "2022-05-07T19:49:15.087Z"
   },
   {
    "duration": 37,
    "start_time": "2022-05-07T19:49:42.263Z"
   },
   {
    "duration": 17,
    "start_time": "2022-05-07T19:49:53.839Z"
   },
   {
    "duration": 33,
    "start_time": "2022-05-07T19:49:59.080Z"
   },
   {
    "duration": 38,
    "start_time": "2022-05-07T19:50:36.192Z"
   },
   {
    "duration": 37,
    "start_time": "2022-05-07T19:50:45.192Z"
   },
   {
    "duration": 63,
    "start_time": "2022-05-07T19:51:27.326Z"
   },
   {
    "duration": 71,
    "start_time": "2022-05-07T19:51:48.152Z"
   },
   {
    "duration": 56,
    "start_time": "2022-05-07T19:52:01.922Z"
   },
   {
    "duration": 36,
    "start_time": "2022-05-07T19:53:43.374Z"
   },
   {
    "duration": 63,
    "start_time": "2022-05-07T19:53:54.636Z"
   },
   {
    "duration": 53,
    "start_time": "2022-05-07T19:54:25.183Z"
   },
   {
    "duration": 1700,
    "start_time": "2022-05-07T19:54:52.092Z"
   },
   {
    "duration": 1777,
    "start_time": "2022-05-07T19:54:54.927Z"
   },
   {
    "duration": 64,
    "start_time": "2022-05-07T19:55:08.068Z"
   },
   {
    "duration": 68,
    "start_time": "2022-05-07T19:55:51.461Z"
   },
   {
    "duration": 48,
    "start_time": "2022-05-07T19:59:40.713Z"
   },
   {
    "duration": 50,
    "start_time": "2022-05-07T19:59:54.499Z"
   },
   {
    "duration": 49,
    "start_time": "2022-05-07T20:00:01.593Z"
   },
   {
    "duration": 46,
    "start_time": "2022-05-07T20:00:12.178Z"
   },
   {
    "duration": 114,
    "start_time": "2022-05-07T20:00:24.198Z"
   },
   {
    "duration": 56,
    "start_time": "2022-05-07T20:00:24.315Z"
   },
   {
    "duration": 84,
    "start_time": "2022-05-07T20:00:24.374Z"
   },
   {
    "duration": 36,
    "start_time": "2022-05-07T20:00:24.462Z"
   },
   {
    "duration": 135,
    "start_time": "2022-05-07T20:00:24.525Z"
   },
   {
    "duration": 33,
    "start_time": "2022-05-07T20:00:24.663Z"
   },
   {
    "duration": 338,
    "start_time": "2022-05-07T20:00:24.699Z"
   },
   {
    "duration": 562,
    "start_time": "2022-05-07T20:00:25.040Z"
   },
   {
    "duration": 770,
    "start_time": "2022-05-07T20:00:25.604Z"
   },
   {
    "duration": 1166,
    "start_time": "2022-05-07T20:00:26.380Z"
   },
   {
    "duration": 1366,
    "start_time": "2022-05-07T20:00:27.550Z"
   },
   {
    "duration": 80,
    "start_time": "2022-05-07T20:00:28.919Z"
   },
   {
    "duration": 57,
    "start_time": "2022-05-07T20:00:29.003Z"
   },
   {
    "duration": 364,
    "start_time": "2022-05-07T20:00:29.063Z"
   },
   {
    "duration": 241,
    "start_time": "2022-05-07T20:00:29.429Z"
   },
   {
    "duration": 78,
    "start_time": "2022-05-07T20:00:29.673Z"
   },
   {
    "duration": 1877,
    "start_time": "2022-05-07T20:00:29.754Z"
   },
   {
    "duration": 0,
    "start_time": "2022-05-07T20:00:31.634Z"
   },
   {
    "duration": 0,
    "start_time": "2022-05-07T20:00:31.636Z"
   },
   {
    "duration": 46,
    "start_time": "2022-05-07T20:01:02.109Z"
   },
   {
    "duration": 28,
    "start_time": "2022-05-07T20:01:13.536Z"
   },
   {
    "duration": 32,
    "start_time": "2022-05-07T20:01:36.120Z"
   },
   {
    "duration": 117,
    "start_time": "2022-05-07T20:01:48.122Z"
   },
   {
    "duration": 61,
    "start_time": "2022-05-07T20:01:48.242Z"
   },
   {
    "duration": 57,
    "start_time": "2022-05-07T20:01:48.326Z"
   },
   {
    "duration": 65,
    "start_time": "2022-05-07T20:01:48.386Z"
   },
   {
    "duration": 135,
    "start_time": "2022-05-07T20:01:48.456Z"
   },
   {
    "duration": 50,
    "start_time": "2022-05-07T20:01:48.593Z"
   },
   {
    "duration": 522,
    "start_time": "2022-05-07T20:01:48.646Z"
   },
   {
    "duration": 603,
    "start_time": "2022-05-07T20:01:49.173Z"
   },
   {
    "duration": 770,
    "start_time": "2022-05-07T20:01:49.779Z"
   },
   {
    "duration": 1285,
    "start_time": "2022-05-07T20:01:50.552Z"
   },
   {
    "duration": 1227,
    "start_time": "2022-05-07T20:01:51.841Z"
   },
   {
    "duration": 97,
    "start_time": "2022-05-07T20:01:53.070Z"
   },
   {
    "duration": 60,
    "start_time": "2022-05-07T20:01:53.170Z"
   },
   {
    "duration": 474,
    "start_time": "2022-05-07T20:01:53.235Z"
   },
   {
    "duration": 187,
    "start_time": "2022-05-07T20:01:53.724Z"
   },
   {
    "duration": 64,
    "start_time": "2022-05-07T20:01:53.913Z"
   },
   {
    "duration": 2096,
    "start_time": "2022-05-07T20:01:53.979Z"
   },
   {
    "duration": 0,
    "start_time": "2022-05-07T20:01:56.078Z"
   },
   {
    "duration": 0,
    "start_time": "2022-05-07T20:01:56.080Z"
   },
   {
    "duration": 42,
    "start_time": "2022-05-07T20:02:19.036Z"
   },
   {
    "duration": 39,
    "start_time": "2022-05-07T20:07:44.781Z"
   },
   {
    "duration": 44,
    "start_time": "2022-05-07T20:07:58.397Z"
   },
   {
    "duration": 39,
    "start_time": "2022-05-07T20:08:05.013Z"
   },
   {
    "duration": 41,
    "start_time": "2022-05-07T20:08:06.571Z"
   },
   {
    "duration": 109,
    "start_time": "2022-05-07T20:08:11.402Z"
   },
   {
    "duration": 38,
    "start_time": "2022-05-07T20:08:11.525Z"
   },
   {
    "duration": 88,
    "start_time": "2022-05-07T20:08:11.566Z"
   },
   {
    "duration": 37,
    "start_time": "2022-05-07T20:08:11.657Z"
   },
   {
    "duration": 105,
    "start_time": "2022-05-07T20:08:11.699Z"
   },
   {
    "duration": 41,
    "start_time": "2022-05-07T20:08:11.807Z"
   },
   {
    "duration": 328,
    "start_time": "2022-05-07T20:08:11.851Z"
   },
   {
    "duration": 432,
    "start_time": "2022-05-07T20:08:12.181Z"
   },
   {
    "duration": 758,
    "start_time": "2022-05-07T20:08:12.616Z"
   },
   {
    "duration": 961,
    "start_time": "2022-05-07T20:08:13.376Z"
   },
   {
    "duration": 1208,
    "start_time": "2022-05-07T20:08:14.341Z"
   },
   {
    "duration": 224,
    "start_time": "2022-05-07T20:08:15.553Z"
   },
   {
    "duration": 82,
    "start_time": "2022-05-07T20:08:15.781Z"
   },
   {
    "duration": 530,
    "start_time": "2022-05-07T20:08:15.868Z"
   },
   {
    "duration": 197,
    "start_time": "2022-05-07T20:08:16.401Z"
   },
   {
    "duration": 19,
    "start_time": "2022-05-07T20:08:16.601Z"
   },
   {
    "duration": 0,
    "start_time": "2022-05-07T20:08:16.622Z"
   },
   {
    "duration": 0,
    "start_time": "2022-05-07T20:08:16.624Z"
   },
   {
    "duration": 0,
    "start_time": "2022-05-07T20:08:16.626Z"
   },
   {
    "duration": 1835,
    "start_time": "2022-05-07T20:08:26.579Z"
   },
   {
    "duration": 39,
    "start_time": "2022-05-07T20:08:28.423Z"
   },
   {
    "duration": 63,
    "start_time": "2022-05-07T20:08:28.464Z"
   },
   {
    "duration": 30,
    "start_time": "2022-05-07T20:08:28.530Z"
   },
   {
    "duration": 585,
    "start_time": "2022-05-07T20:08:28.565Z"
   },
   {
    "duration": 81,
    "start_time": "2022-05-07T20:08:29.153Z"
   },
   {
    "duration": 544,
    "start_time": "2022-05-07T20:08:29.237Z"
   },
   {
    "duration": 822,
    "start_time": "2022-05-07T20:08:29.784Z"
   },
   {
    "duration": 1275,
    "start_time": "2022-05-07T20:08:30.610Z"
   },
   {
    "duration": 1699,
    "start_time": "2022-05-07T20:08:31.888Z"
   },
   {
    "duration": 1914,
    "start_time": "2022-05-07T20:08:33.591Z"
   },
   {
    "duration": 123,
    "start_time": "2022-05-07T20:08:35.508Z"
   },
   {
    "duration": 91,
    "start_time": "2022-05-07T20:08:35.635Z"
   },
   {
    "duration": 515,
    "start_time": "2022-05-07T20:08:35.732Z"
   },
   {
    "duration": 313,
    "start_time": "2022-05-07T20:08:36.250Z"
   },
   {
    "duration": 405,
    "start_time": "2022-05-07T20:08:36.566Z"
   },
   {
    "duration": 0,
    "start_time": "2022-05-07T20:08:36.974Z"
   },
   {
    "duration": 0,
    "start_time": "2022-05-07T20:08:36.976Z"
   },
   {
    "duration": 0,
    "start_time": "2022-05-07T20:08:36.978Z"
   },
   {
    "duration": 41,
    "start_time": "2022-05-07T20:08:50.119Z"
   },
   {
    "duration": 41,
    "start_time": "2022-05-07T20:08:55.319Z"
   },
   {
    "duration": 41,
    "start_time": "2022-05-07T20:09:38.364Z"
   },
   {
    "duration": 43,
    "start_time": "2022-05-07T20:09:44.839Z"
   },
   {
    "duration": 43,
    "start_time": "2022-05-07T20:09:53.590Z"
   },
   {
    "duration": 33,
    "start_time": "2022-05-07T20:10:01.671Z"
   },
   {
    "duration": 33,
    "start_time": "2022-05-07T20:10:05.974Z"
   },
   {
    "duration": 47,
    "start_time": "2022-05-07T20:10:19.926Z"
   },
   {
    "duration": 50,
    "start_time": "2022-05-07T20:10:36.332Z"
   },
   {
    "duration": 49,
    "start_time": "2022-05-07T20:10:57.092Z"
   },
   {
    "duration": 38,
    "start_time": "2022-05-07T20:11:17.372Z"
   },
   {
    "duration": 38,
    "start_time": "2022-05-07T20:11:28.898Z"
   },
   {
    "duration": 27,
    "start_time": "2022-05-07T20:11:39.713Z"
   },
   {
    "duration": 33,
    "start_time": "2022-05-07T20:11:48.082Z"
   },
   {
    "duration": 98,
    "start_time": "2022-05-07T20:13:02.391Z"
   },
   {
    "duration": 38,
    "start_time": "2022-05-07T20:13:26.840Z"
   },
   {
    "duration": 56,
    "start_time": "2022-05-07T20:14:10.432Z"
   },
   {
    "duration": 131,
    "start_time": "2022-05-07T20:14:17.389Z"
   },
   {
    "duration": 43,
    "start_time": "2022-05-07T20:14:23.350Z"
   },
   {
    "duration": 35,
    "start_time": "2022-05-07T20:15:19.936Z"
   },
   {
    "duration": 34,
    "start_time": "2022-05-07T20:15:28.386Z"
   },
   {
    "duration": 35,
    "start_time": "2022-05-07T20:15:35.886Z"
   },
   {
    "duration": 1962,
    "start_time": "2022-05-07T20:15:47.344Z"
   },
   {
    "duration": 46,
    "start_time": "2022-05-07T20:15:49.309Z"
   },
   {
    "duration": 79,
    "start_time": "2022-05-07T20:15:49.357Z"
   },
   {
    "duration": 32,
    "start_time": "2022-05-07T20:15:49.439Z"
   },
   {
    "duration": 573,
    "start_time": "2022-05-07T20:15:49.474Z"
   },
   {
    "duration": 28,
    "start_time": "2022-05-07T20:15:50.049Z"
   },
   {
    "duration": 419,
    "start_time": "2022-05-07T20:15:50.079Z"
   },
   {
    "duration": 794,
    "start_time": "2022-05-07T20:15:50.501Z"
   },
   {
    "duration": 1233,
    "start_time": "2022-05-07T20:15:51.298Z"
   },
   {
    "duration": 1594,
    "start_time": "2022-05-07T20:15:52.535Z"
   },
   {
    "duration": 1251,
    "start_time": "2022-05-07T20:15:54.132Z"
   },
   {
    "duration": 116,
    "start_time": "2022-05-07T20:15:55.385Z"
   },
   {
    "duration": 68,
    "start_time": "2022-05-07T20:15:55.504Z"
   },
   {
    "duration": 500,
    "start_time": "2022-05-07T20:15:55.577Z"
   },
   {
    "duration": 333,
    "start_time": "2022-05-07T20:15:56.079Z"
   },
   {
    "duration": 54,
    "start_time": "2022-05-07T20:15:56.414Z"
   },
   {
    "duration": 2130,
    "start_time": "2022-05-07T20:15:56.471Z"
   },
   {
    "duration": 0,
    "start_time": "2022-05-07T20:15:58.603Z"
   },
   {
    "duration": 0,
    "start_time": "2022-05-07T20:15:58.605Z"
   },
   {
    "duration": 45,
    "start_time": "2022-05-07T20:17:24.008Z"
   },
   {
    "duration": 29,
    "start_time": "2022-05-07T20:17:34.786Z"
   },
   {
    "duration": 28,
    "start_time": "2022-05-07T20:17:54.105Z"
   },
   {
    "duration": 53,
    "start_time": "2022-05-07T20:20:02.496Z"
   },
   {
    "duration": 33,
    "start_time": "2022-05-07T20:20:08.037Z"
   },
   {
    "duration": 51,
    "start_time": "2022-05-07T20:22:03.128Z"
   },
   {
    "duration": 32,
    "start_time": "2022-05-07T20:22:09.947Z"
   },
   {
    "duration": 340,
    "start_time": "2022-05-07T20:22:12.435Z"
   },
   {
    "duration": 540,
    "start_time": "2022-05-07T20:22:44.060Z"
   },
   {
    "duration": 434,
    "start_time": "2022-05-07T20:23:09.349Z"
   },
   {
    "duration": 610,
    "start_time": "2022-05-07T20:23:15.218Z"
   },
   {
    "duration": 52,
    "start_time": "2022-05-07T20:23:38.853Z"
   },
   {
    "duration": 43,
    "start_time": "2022-05-07T20:23:46.718Z"
   },
   {
    "duration": 341,
    "start_time": "2022-05-07T20:23:51.204Z"
   },
   {
    "duration": 418,
    "start_time": "2022-05-07T20:24:35.273Z"
   },
   {
    "duration": 219,
    "start_time": "2022-05-07T20:24:43.724Z"
   },
   {
    "duration": 57,
    "start_time": "2022-05-07T20:24:46.946Z"
   },
   {
    "duration": 44,
    "start_time": "2022-05-07T20:25:09.639Z"
   },
   {
    "duration": 29,
    "start_time": "2022-05-07T20:25:26.388Z"
   },
   {
    "duration": 26,
    "start_time": "2022-05-07T20:25:48.176Z"
   },
   {
    "duration": 29,
    "start_time": "2022-05-07T20:25:52.263Z"
   },
   {
    "duration": 28,
    "start_time": "2022-05-07T20:28:33.419Z"
   },
   {
    "duration": 28,
    "start_time": "2022-05-07T20:28:41.586Z"
   },
   {
    "duration": 182,
    "start_time": "2022-05-07T20:29:14.148Z"
   },
   {
    "duration": 28,
    "start_time": "2022-05-07T20:32:41.058Z"
   },
   {
    "duration": 23,
    "start_time": "2022-05-07T20:34:51.376Z"
   },
   {
    "duration": 2024,
    "start_time": "2022-05-07T20:37:25.668Z"
   },
   {
    "duration": 53,
    "start_time": "2022-05-07T20:37:27.696Z"
   },
   {
    "duration": 41,
    "start_time": "2022-05-07T20:37:27.751Z"
   },
   {
    "duration": 53,
    "start_time": "2022-05-07T20:37:27.795Z"
   },
   {
    "duration": 574,
    "start_time": "2022-05-07T20:37:27.850Z"
   },
   {
    "duration": 35,
    "start_time": "2022-05-07T20:37:28.426Z"
   },
   {
    "duration": 588,
    "start_time": "2022-05-07T20:37:28.465Z"
   },
   {
    "duration": 486,
    "start_time": "2022-05-07T20:37:29.056Z"
   },
   {
    "duration": 860,
    "start_time": "2022-05-07T20:37:29.545Z"
   },
   {
    "duration": 927,
    "start_time": "2022-05-07T20:37:30.409Z"
   },
   {
    "duration": 1530,
    "start_time": "2022-05-07T20:37:31.339Z"
   },
   {
    "duration": 80,
    "start_time": "2022-05-07T20:37:32.871Z"
   },
   {
    "duration": 87,
    "start_time": "2022-05-07T20:37:32.953Z"
   },
   {
    "duration": 524,
    "start_time": "2022-05-07T20:37:33.042Z"
   },
   {
    "duration": 299,
    "start_time": "2022-05-07T20:37:33.569Z"
   },
   {
    "duration": 29,
    "start_time": "2022-05-07T20:37:33.870Z"
   },
   {
    "duration": 1561,
    "start_time": "2022-05-07T20:37:33.901Z"
   },
   {
    "duration": 1805,
    "start_time": "2022-05-07T20:37:35.465Z"
   },
   {
    "duration": 0,
    "start_time": "2022-05-07T20:37:37.273Z"
   },
   {
    "duration": 0,
    "start_time": "2022-05-07T20:37:37.274Z"
   },
   {
    "duration": 1774,
    "start_time": "2022-05-07T20:41:15.879Z"
   },
   {
    "duration": 1445,
    "start_time": "2022-05-08T05:18:28.756Z"
   },
   {
    "duration": 24,
    "start_time": "2022-05-08T05:18:30.203Z"
   },
   {
    "duration": 42,
    "start_time": "2022-05-08T05:18:30.228Z"
   },
   {
    "duration": 16,
    "start_time": "2022-05-08T05:18:30.272Z"
   },
   {
    "duration": 370,
    "start_time": "2022-05-08T05:18:30.290Z"
   },
   {
    "duration": 16,
    "start_time": "2022-05-08T05:18:30.662Z"
   },
   {
    "duration": 236,
    "start_time": "2022-05-08T05:18:30.679Z"
   },
   {
    "duration": 233,
    "start_time": "2022-05-08T05:18:30.917Z"
   },
   {
    "duration": 453,
    "start_time": "2022-05-08T05:18:31.151Z"
   },
   {
    "duration": 479,
    "start_time": "2022-05-08T05:18:31.606Z"
   },
   {
    "duration": 629,
    "start_time": "2022-05-08T05:18:32.087Z"
   },
   {
    "duration": 52,
    "start_time": "2022-05-08T05:18:32.718Z"
   },
   {
    "duration": 24,
    "start_time": "2022-05-08T05:18:32.772Z"
   },
   {
    "duration": 226,
    "start_time": "2022-05-08T05:18:32.798Z"
   },
   {
    "duration": 270,
    "start_time": "2022-05-08T05:18:33.026Z"
   },
   {
    "duration": 16,
    "start_time": "2022-05-08T05:18:33.297Z"
   },
   {
    "duration": 2,
    "start_time": "2022-05-08T05:18:33.314Z"
   },
   {
    "duration": 5,
    "start_time": "2022-05-08T05:18:33.317Z"
   },
   {
    "duration": 25,
    "start_time": "2022-05-08T05:21:38.496Z"
   },
   {
    "duration": 25,
    "start_time": "2022-05-08T05:22:25.532Z"
   },
   {
    "duration": 1853,
    "start_time": "2022-05-08T05:24:50.643Z"
   },
   {
    "duration": 27,
    "start_time": "2022-05-08T05:25:04.676Z"
   },
   {
    "duration": 1618,
    "start_time": "2022-05-08T05:25:12.952Z"
   },
   {
    "duration": 1624,
    "start_time": "2022-05-08T05:26:54.023Z"
   },
   {
    "duration": 1655,
    "start_time": "2022-05-08T05:27:13.884Z"
   },
   {
    "duration": 23,
    "start_time": "2022-05-08T05:27:25.601Z"
   },
   {
    "duration": 550,
    "start_time": "2022-05-08T05:27:52.003Z"
   },
   {
    "duration": 31,
    "start_time": "2022-05-08T05:28:13.144Z"
   },
   {
    "duration": 121,
    "start_time": "2022-05-08T05:29:32.145Z"
   },
   {
    "duration": 25,
    "start_time": "2022-05-08T05:29:42.684Z"
   },
   {
    "duration": 30,
    "start_time": "2022-05-08T05:30:27.103Z"
   },
   {
    "duration": 31,
    "start_time": "2022-05-08T05:30:49.572Z"
   },
   {
    "duration": 27,
    "start_time": "2022-05-08T05:31:13.853Z"
   },
   {
    "duration": 29,
    "start_time": "2022-05-08T05:31:21.883Z"
   },
   {
    "duration": 27,
    "start_time": "2022-05-08T05:31:30.008Z"
   },
   {
    "duration": 25,
    "start_time": "2022-05-08T05:31:32.631Z"
   },
   {
    "duration": 37,
    "start_time": "2022-05-08T05:32:51.345Z"
   },
   {
    "duration": 33,
    "start_time": "2022-05-08T05:32:53.784Z"
   },
   {
    "duration": 36,
    "start_time": "2022-05-08T05:33:19.604Z"
   },
   {
    "duration": 34,
    "start_time": "2022-05-08T05:33:26.632Z"
   },
   {
    "duration": 10,
    "start_time": "2022-05-08T05:36:07.625Z"
   },
   {
    "duration": 17,
    "start_time": "2022-05-08T05:36:17.947Z"
   },
   {
    "duration": 8,
    "start_time": "2022-05-08T05:36:51.983Z"
   },
   {
    "duration": 32,
    "start_time": "2022-05-08T05:38:21.065Z"
   },
   {
    "duration": 22,
    "start_time": "2022-05-08T05:38:38.352Z"
   },
   {
    "duration": 32,
    "start_time": "2022-05-08T05:38:49.944Z"
   },
   {
    "duration": 29,
    "start_time": "2022-05-08T05:38:53.901Z"
   },
   {
    "duration": 211,
    "start_time": "2022-05-08T05:38:56.223Z"
   },
   {
    "duration": 155,
    "start_time": "2022-05-08T05:38:59.085Z"
   },
   {
    "duration": 13,
    "start_time": "2022-05-08T05:39:19.124Z"
   },
   {
    "duration": 396,
    "start_time": "2022-05-08T05:39:34.313Z"
   },
   {
    "duration": 436,
    "start_time": "2022-05-08T05:39:47.475Z"
   },
   {
    "duration": 411,
    "start_time": "2022-05-08T05:40:07.945Z"
   },
   {
    "duration": 16,
    "start_time": "2022-05-08T05:40:30.124Z"
   },
   {
    "duration": 17,
    "start_time": "2022-05-08T05:40:39.920Z"
   },
   {
    "duration": 21,
    "start_time": "2022-05-08T05:42:24.339Z"
   },
   {
    "duration": 20,
    "start_time": "2022-05-08T05:42:45.554Z"
   },
   {
    "duration": 25,
    "start_time": "2022-05-08T05:43:08.101Z"
   },
   {
    "duration": 24,
    "start_time": "2022-05-08T05:43:32.767Z"
   },
   {
    "duration": 1552,
    "start_time": "2022-05-08T05:43:43.124Z"
   },
   {
    "duration": 20,
    "start_time": "2022-05-08T05:43:52.899Z"
   },
   {
    "duration": 1673,
    "start_time": "2022-05-08T05:43:59.602Z"
   },
   {
    "duration": 16,
    "start_time": "2022-05-08T05:44:42.754Z"
   },
   {
    "duration": 28,
    "start_time": "2022-05-08T05:45:11.429Z"
   },
   {
    "duration": 29,
    "start_time": "2022-05-08T05:45:45.063Z"
   },
   {
    "duration": 102,
    "start_time": "2022-05-08T05:46:22.712Z"
   },
   {
    "duration": 27,
    "start_time": "2022-05-08T05:46:31.624Z"
   },
   {
    "duration": 1569,
    "start_time": "2022-05-08T05:46:51.373Z"
   },
   {
    "duration": 21,
    "start_time": "2022-05-08T05:47:04.436Z"
   },
   {
    "duration": 21,
    "start_time": "2022-05-08T05:47:13.964Z"
   },
   {
    "duration": 22,
    "start_time": "2022-05-08T05:47:21.016Z"
   },
   {
    "duration": 21,
    "start_time": "2022-05-08T05:47:27.004Z"
   },
   {
    "duration": 30,
    "start_time": "2022-05-08T05:47:32.804Z"
   },
   {
    "duration": 22,
    "start_time": "2022-05-08T05:48:06.667Z"
   },
   {
    "duration": 23,
    "start_time": "2022-05-08T05:48:10.424Z"
   },
   {
    "duration": 1658,
    "start_time": "2022-05-08T05:48:27.075Z"
   },
   {
    "duration": 1621,
    "start_time": "2022-05-08T05:48:30.384Z"
   },
   {
    "duration": 21,
    "start_time": "2022-05-08T05:48:59.957Z"
   },
   {
    "duration": 22,
    "start_time": "2022-05-08T05:49:14.144Z"
   },
   {
    "duration": 26,
    "start_time": "2022-05-08T05:49:38.105Z"
   },
   {
    "duration": 22,
    "start_time": "2022-05-08T05:49:47.964Z"
   },
   {
    "duration": 24,
    "start_time": "2022-05-08T05:50:27.095Z"
   },
   {
    "duration": 22,
    "start_time": "2022-05-08T05:50:37.295Z"
   },
   {
    "duration": 37,
    "start_time": "2022-05-08T05:51:07.624Z"
   },
   {
    "duration": 35,
    "start_time": "2022-05-08T05:52:49.764Z"
   },
   {
    "duration": 24,
    "start_time": "2022-05-08T05:56:56.000Z"
   },
   {
    "duration": 22,
    "start_time": "2022-05-08T05:57:17.344Z"
   },
   {
    "duration": 89,
    "start_time": "2022-05-08T07:34:05.372Z"
   },
   {
    "duration": 28,
    "start_time": "2022-05-08T07:34:05.463Z"
   },
   {
    "duration": 27,
    "start_time": "2022-05-08T07:34:05.493Z"
   },
   {
    "duration": 21,
    "start_time": "2022-05-08T07:34:05.547Z"
   },
   {
    "duration": 57,
    "start_time": "2022-05-08T07:34:05.570Z"
   },
   {
    "duration": 38,
    "start_time": "2022-05-08T07:34:05.629Z"
   },
   {
    "duration": 201,
    "start_time": "2022-05-08T07:34:05.669Z"
   },
   {
    "duration": 246,
    "start_time": "2022-05-08T07:34:05.872Z"
   },
   {
    "duration": 32,
    "start_time": "2022-05-08T07:34:06.120Z"
   },
   {
    "duration": 525,
    "start_time": "2022-05-08T07:34:06.155Z"
   },
   {
    "duration": 740,
    "start_time": "2022-05-08T07:34:06.682Z"
   },
   {
    "duration": 896,
    "start_time": "2022-05-08T07:34:07.423Z"
   },
   {
    "duration": 77,
    "start_time": "2022-05-08T07:34:08.321Z"
   },
   {
    "duration": 35,
    "start_time": "2022-05-08T07:34:08.400Z"
   },
   {
    "duration": 215,
    "start_time": "2022-05-08T07:34:08.448Z"
   },
   {
    "duration": 177,
    "start_time": "2022-05-08T07:34:08.664Z"
   },
   {
    "duration": 16,
    "start_time": "2022-05-08T07:34:08.843Z"
   },
   {
    "duration": 2,
    "start_time": "2022-05-08T07:34:08.861Z"
   },
   {
    "duration": 4,
    "start_time": "2022-05-08T07:34:08.865Z"
   },
   {
    "duration": 11,
    "start_time": "2022-05-08T07:37:35.551Z"
   },
   {
    "duration": 51,
    "start_time": "2022-05-08T07:40:10.598Z"
   },
   {
    "duration": 28,
    "start_time": "2022-05-08T07:40:15.192Z"
   },
   {
    "duration": 33,
    "start_time": "2022-05-08T07:40:32.882Z"
   },
   {
    "duration": 33,
    "start_time": "2022-05-08T07:40:35.396Z"
   },
   {
    "duration": 38,
    "start_time": "2022-05-08T07:40:45.167Z"
   },
   {
    "duration": 77,
    "start_time": "2022-05-08T07:40:48.837Z"
   },
   {
    "duration": 45,
    "start_time": "2022-05-08T07:40:48.916Z"
   },
   {
    "duration": 28,
    "start_time": "2022-05-08T07:40:48.962Z"
   },
   {
    "duration": 16,
    "start_time": "2022-05-08T07:40:48.992Z"
   },
   {
    "duration": 74,
    "start_time": "2022-05-08T07:40:49.010Z"
   },
   {
    "duration": 21,
    "start_time": "2022-05-08T07:40:49.086Z"
   },
   {
    "duration": 247,
    "start_time": "2022-05-08T07:40:49.109Z"
   },
   {
    "duration": 349,
    "start_time": "2022-05-08T07:40:49.357Z"
   },
   {
    "duration": 22,
    "start_time": "2022-05-08T07:40:49.708Z"
   },
   {
    "duration": 415,
    "start_time": "2022-05-08T07:40:49.732Z"
   },
   {
    "duration": 580,
    "start_time": "2022-05-08T07:40:50.149Z"
   },
   {
    "duration": 640,
    "start_time": "2022-05-08T07:40:50.732Z"
   },
   {
    "duration": 50,
    "start_time": "2022-05-08T07:40:51.375Z"
   },
   {
    "duration": 45,
    "start_time": "2022-05-08T07:40:51.428Z"
   },
   {
    "duration": 219,
    "start_time": "2022-05-08T07:40:51.475Z"
   },
   {
    "duration": 193,
    "start_time": "2022-05-08T07:40:51.696Z"
   },
   {
    "duration": 15,
    "start_time": "2022-05-08T07:40:51.891Z"
   },
   {
    "duration": 5,
    "start_time": "2022-05-08T07:40:51.908Z"
   },
   {
    "duration": 350,
    "start_time": "2022-05-08T07:41:04.823Z"
   },
   {
    "duration": 482,
    "start_time": "2022-05-08T07:41:08.261Z"
   },
   {
    "duration": 645,
    "start_time": "2022-05-08T07:41:11.762Z"
   },
   {
    "duration": 51,
    "start_time": "2022-05-08T07:41:16.609Z"
   },
   {
    "duration": 16,
    "start_time": "2022-05-08T07:42:24.221Z"
   },
   {
    "duration": 28,
    "start_time": "2022-05-08T07:42:32.953Z"
   },
   {
    "duration": 1616,
    "start_time": "2022-05-08T07:43:44.502Z"
   },
   {
    "duration": 15,
    "start_time": "2022-05-08T07:44:07.182Z"
   },
   {
    "duration": 15,
    "start_time": "2022-05-08T07:44:26.738Z"
   },
   {
    "duration": 29,
    "start_time": "2022-05-08T07:44:37.693Z"
   },
   {
    "duration": 34,
    "start_time": "2022-05-08T07:47:36.418Z"
   },
   {
    "duration": 21,
    "start_time": "2022-05-08T07:47:45.509Z"
   },
   {
    "duration": 1666,
    "start_time": "2022-05-08T07:48:12.999Z"
   },
   {
    "duration": 20,
    "start_time": "2022-05-08T07:48:20.598Z"
   },
   {
    "duration": 22,
    "start_time": "2022-05-08T07:49:23.495Z"
   },
   {
    "duration": 82,
    "start_time": "2022-05-08T07:50:01.186Z"
   },
   {
    "duration": 26,
    "start_time": "2022-05-08T07:50:01.271Z"
   },
   {
    "duration": 50,
    "start_time": "2022-05-08T07:50:01.299Z"
   },
   {
    "duration": 17,
    "start_time": "2022-05-08T07:50:01.350Z"
   },
   {
    "duration": 52,
    "start_time": "2022-05-08T07:50:01.370Z"
   },
   {
    "duration": 33,
    "start_time": "2022-05-08T07:50:01.424Z"
   },
   {
    "duration": 170,
    "start_time": "2022-05-08T07:50:01.458Z"
   },
   {
    "duration": 330,
    "start_time": "2022-05-08T07:50:01.630Z"
   },
   {
    "duration": 388,
    "start_time": "2022-05-08T07:50:01.962Z"
   },
   {
    "duration": 491,
    "start_time": "2022-05-08T07:50:02.352Z"
   },
   {
    "duration": 640,
    "start_time": "2022-05-08T07:50:02.846Z"
   },
   {
    "duration": 62,
    "start_time": "2022-05-08T07:50:03.488Z"
   },
   {
    "duration": 37,
    "start_time": "2022-05-08T07:50:03.552Z"
   },
   {
    "duration": 230,
    "start_time": "2022-05-08T07:50:03.593Z"
   },
   {
    "duration": 161,
    "start_time": "2022-05-08T07:50:03.825Z"
   },
   {
    "duration": 17,
    "start_time": "2022-05-08T07:50:03.988Z"
   },
   {
    "duration": 24,
    "start_time": "2022-05-08T07:50:04.006Z"
   },
   {
    "duration": 26,
    "start_time": "2022-05-08T07:50:41.597Z"
   },
   {
    "duration": 29,
    "start_time": "2022-05-08T07:51:09.166Z"
   },
   {
    "duration": 30,
    "start_time": "2022-05-08T07:51:20.064Z"
   },
   {
    "duration": 28,
    "start_time": "2022-05-08T07:52:22.751Z"
   },
   {
    "duration": 26,
    "start_time": "2022-05-08T07:52:43.653Z"
   },
   {
    "duration": 28,
    "start_time": "2022-05-08T07:52:54.928Z"
   },
   {
    "duration": 28,
    "start_time": "2022-05-08T07:53:04.823Z"
   },
   {
    "duration": 15,
    "start_time": "2022-05-08T07:53:22.882Z"
   },
   {
    "duration": 26,
    "start_time": "2022-05-08T07:53:37.325Z"
   },
   {
    "duration": 20,
    "start_time": "2022-05-08T07:54:07.271Z"
   },
   {
    "duration": 25,
    "start_time": "2022-05-08T07:54:15.974Z"
   },
   {
    "duration": 1221,
    "start_time": "2022-05-08T07:54:48.793Z"
   },
   {
    "duration": 34,
    "start_time": "2022-05-08T07:54:50.016Z"
   },
   {
    "duration": 29,
    "start_time": "2022-05-08T07:54:50.052Z"
   },
   {
    "duration": 18,
    "start_time": "2022-05-08T07:54:50.083Z"
   },
   {
    "duration": 358,
    "start_time": "2022-05-08T07:54:50.102Z"
   },
   {
    "duration": 17,
    "start_time": "2022-05-08T07:54:50.461Z"
   },
   {
    "duration": 222,
    "start_time": "2022-05-08T07:54:50.479Z"
   },
   {
    "duration": 224,
    "start_time": "2022-05-08T07:54:50.703Z"
   },
   {
    "duration": 456,
    "start_time": "2022-05-08T07:54:50.928Z"
   },
   {
    "duration": 478,
    "start_time": "2022-05-08T07:54:51.386Z"
   },
   {
    "duration": 638,
    "start_time": "2022-05-08T07:54:51.866Z"
   },
   {
    "duration": 53,
    "start_time": "2022-05-08T07:54:52.505Z"
   },
   {
    "duration": 27,
    "start_time": "2022-05-08T07:54:52.559Z"
   },
   {
    "duration": 226,
    "start_time": "2022-05-08T07:54:52.588Z"
   },
   {
    "duration": 224,
    "start_time": "2022-05-08T07:54:52.815Z"
   },
   {
    "duration": 17,
    "start_time": "2022-05-08T07:54:53.040Z"
   },
   {
    "duration": 13,
    "start_time": "2022-05-08T07:54:53.059Z"
   },
   {
    "duration": 25,
    "start_time": "2022-05-08T07:54:53.073Z"
   },
   {
    "duration": 23,
    "start_time": "2022-05-08T07:56:59.324Z"
   },
   {
    "duration": 23,
    "start_time": "2022-05-08T07:57:12.551Z"
   },
   {
    "duration": 22,
    "start_time": "2022-05-08T07:58:18.764Z"
   },
   {
    "duration": 171,
    "start_time": "2022-05-08T07:58:38.129Z"
   },
   {
    "duration": 18,
    "start_time": "2022-05-08T07:58:40.354Z"
   },
   {
    "duration": 19,
    "start_time": "2022-05-08T08:00:44.727Z"
   },
   {
    "duration": 19,
    "start_time": "2022-05-08T08:00:55.875Z"
   },
   {
    "duration": 23,
    "start_time": "2022-05-08T08:00:59.535Z"
   },
   {
    "duration": 33,
    "start_time": "2022-05-08T08:02:49.266Z"
   },
   {
    "duration": 22,
    "start_time": "2022-05-08T08:03:02.000Z"
   },
   {
    "duration": 29,
    "start_time": "2022-05-08T08:04:54.043Z"
   },
   {
    "duration": 38,
    "start_time": "2022-05-08T08:04:59.415Z"
   },
   {
    "duration": 103,
    "start_time": "2022-05-08T08:07:48.242Z"
   },
   {
    "duration": 166,
    "start_time": "2022-05-08T08:07:52.758Z"
   },
   {
    "duration": 23,
    "start_time": "2022-05-08T08:09:20.341Z"
   },
   {
    "duration": 22,
    "start_time": "2022-05-08T08:09:23.157Z"
   },
   {
    "duration": 18,
    "start_time": "2022-05-08T08:09:27.143Z"
   },
   {
    "duration": 27,
    "start_time": "2022-05-08T08:09:47.856Z"
   },
   {
    "duration": 23,
    "start_time": "2022-05-08T08:11:34.271Z"
   },
   {
    "duration": 211,
    "start_time": "2022-05-08T08:11:38.040Z"
   },
   {
    "duration": 18,
    "start_time": "2022-05-08T08:11:41.430Z"
   },
   {
    "duration": 18,
    "start_time": "2022-05-08T08:12:10.201Z"
   },
   {
    "duration": 16,
    "start_time": "2022-05-08T08:12:18.853Z"
   },
   {
    "duration": 19,
    "start_time": "2022-05-08T08:12:27.497Z"
   },
   {
    "duration": 23,
    "start_time": "2022-05-08T08:12:35.120Z"
   },
   {
    "duration": 80,
    "start_time": "2022-05-08T08:12:49.597Z"
   },
   {
    "duration": 25,
    "start_time": "2022-05-08T08:12:49.679Z"
   },
   {
    "duration": 43,
    "start_time": "2022-05-08T08:12:49.705Z"
   },
   {
    "duration": 17,
    "start_time": "2022-05-08T08:12:49.750Z"
   },
   {
    "duration": 45,
    "start_time": "2022-05-08T08:12:49.769Z"
   },
   {
    "duration": 41,
    "start_time": "2022-05-08T08:12:49.815Z"
   },
   {
    "duration": 166,
    "start_time": "2022-05-08T08:12:49.858Z"
   },
   {
    "duration": 229,
    "start_time": "2022-05-08T08:12:50.026Z"
   },
   {
    "duration": 471,
    "start_time": "2022-05-08T08:12:50.257Z"
   },
   {
    "duration": 480,
    "start_time": "2022-05-08T08:12:50.731Z"
   },
   {
    "duration": 644,
    "start_time": "2022-05-08T08:12:51.213Z"
   },
   {
    "duration": 45,
    "start_time": "2022-05-08T08:12:51.859Z"
   },
   {
    "duration": 47,
    "start_time": "2022-05-08T08:12:51.906Z"
   },
   {
    "duration": 213,
    "start_time": "2022-05-08T08:12:51.955Z"
   },
   {
    "duration": 190,
    "start_time": "2022-05-08T08:12:52.170Z"
   },
   {
    "duration": 16,
    "start_time": "2022-05-08T08:12:52.362Z"
   },
   {
    "duration": 22,
    "start_time": "2022-05-08T08:12:52.380Z"
   },
   {
    "duration": 22,
    "start_time": "2022-05-08T08:14:29.630Z"
   },
   {
    "duration": 24,
    "start_time": "2022-05-08T08:14:41.667Z"
   },
   {
    "duration": 209,
    "start_time": "2022-05-08T08:14:44.359Z"
   },
   {
    "duration": 180,
    "start_time": "2022-05-08T08:14:47.123Z"
   },
   {
    "duration": 17,
    "start_time": "2022-05-08T08:14:50.975Z"
   },
   {
    "duration": 26,
    "start_time": "2022-05-08T08:15:07.272Z"
   },
   {
    "duration": 31,
    "start_time": "2022-05-08T08:34:19.801Z"
   },
   {
    "duration": 83,
    "start_time": "2022-05-08T13:39:59.371Z"
   },
   {
    "duration": 35,
    "start_time": "2022-05-08T13:39:59.456Z"
   },
   {
    "duration": 35,
    "start_time": "2022-05-08T13:39:59.493Z"
   },
   {
    "duration": 19,
    "start_time": "2022-05-08T13:39:59.549Z"
   },
   {
    "duration": 58,
    "start_time": "2022-05-08T13:39:59.570Z"
   },
   {
    "duration": 33,
    "start_time": "2022-05-08T13:39:59.630Z"
   },
   {
    "duration": 176,
    "start_time": "2022-05-08T13:39:59.664Z"
   },
   {
    "duration": 228,
    "start_time": "2022-05-08T13:39:59.841Z"
   },
   {
    "duration": 391,
    "start_time": "2022-05-08T13:40:00.071Z"
   },
   {
    "duration": 582,
    "start_time": "2022-05-08T13:40:00.465Z"
   },
   {
    "duration": 652,
    "start_time": "2022-05-08T13:40:01.049Z"
   },
   {
    "duration": 59,
    "start_time": "2022-05-08T13:40:01.703Z"
   },
   {
    "duration": 26,
    "start_time": "2022-05-08T13:40:01.765Z"
   },
   {
    "duration": 228,
    "start_time": "2022-05-08T13:40:01.793Z"
   },
   {
    "duration": 179,
    "start_time": "2022-05-08T13:40:02.023Z"
   },
   {
    "duration": 17,
    "start_time": "2022-05-08T13:40:02.204Z"
   },
   {
    "duration": 39,
    "start_time": "2022-05-08T13:40:02.223Z"
   },
   {
    "duration": 110,
    "start_time": "2022-05-08T13:41:13.206Z"
   },
   {
    "duration": 58,
    "start_time": "2022-05-08T13:41:13.318Z"
   },
   {
    "duration": 40,
    "start_time": "2022-05-08T13:41:13.378Z"
   },
   {
    "duration": 34,
    "start_time": "2022-05-08T13:41:13.421Z"
   },
   {
    "duration": 72,
    "start_time": "2022-05-08T13:41:13.457Z"
   },
   {
    "duration": 35,
    "start_time": "2022-05-08T13:41:13.531Z"
   },
   {
    "duration": 253,
    "start_time": "2022-05-08T13:41:13.568Z"
   },
   {
    "duration": 370,
    "start_time": "2022-05-08T13:41:13.823Z"
   },
   {
    "duration": 595,
    "start_time": "2022-05-08T13:41:14.195Z"
   },
   {
    "duration": 730,
    "start_time": "2022-05-08T13:41:14.793Z"
   },
   {
    "duration": 974,
    "start_time": "2022-05-08T13:41:15.525Z"
   },
   {
    "duration": 171,
    "start_time": "2022-05-08T13:41:16.501Z"
   },
   {
    "duration": 25,
    "start_time": "2022-05-08T13:41:16.673Z"
   },
   {
    "duration": 225,
    "start_time": "2022-05-08T13:41:16.700Z"
   },
   {
    "duration": 190,
    "start_time": "2022-05-08T13:41:16.927Z"
   },
   {
    "duration": 24,
    "start_time": "2022-05-08T13:41:17.119Z"
   },
   {
    "duration": 31,
    "start_time": "2022-05-08T13:41:17.145Z"
   },
   {
    "duration": 26,
    "start_time": "2022-05-08T13:42:36.368Z"
   },
   {
    "duration": 24,
    "start_time": "2022-05-08T13:42:47.850Z"
   },
   {
    "duration": 26,
    "start_time": "2022-05-08T13:42:52.628Z"
   },
   {
    "duration": 26,
    "start_time": "2022-05-08T13:43:24.544Z"
   },
   {
    "duration": 41,
    "start_time": "2022-05-08T13:43:31.671Z"
   },
   {
    "duration": 38,
    "start_time": "2022-05-08T13:45:16.514Z"
   },
   {
    "duration": 23,
    "start_time": "2022-05-08T13:46:41.677Z"
   },
   {
    "duration": 37,
    "start_time": "2022-05-08T13:46:51.793Z"
   },
   {
    "duration": 18,
    "start_time": "2022-05-08T13:47:13.805Z"
   },
   {
    "duration": 30,
    "start_time": "2022-05-08T13:47:20.810Z"
   },
   {
    "duration": 77,
    "start_time": "2022-05-08T13:56:54.700Z"
   },
   {
    "duration": 25,
    "start_time": "2022-05-08T13:56:54.779Z"
   },
   {
    "duration": 54,
    "start_time": "2022-05-08T13:56:54.806Z"
   },
   {
    "duration": 16,
    "start_time": "2022-05-08T13:56:54.862Z"
   },
   {
    "duration": 47,
    "start_time": "2022-05-08T13:56:54.880Z"
   },
   {
    "duration": 34,
    "start_time": "2022-05-08T13:56:54.928Z"
   },
   {
    "duration": 187,
    "start_time": "2022-05-08T13:56:54.963Z"
   },
   {
    "duration": 231,
    "start_time": "2022-05-08T13:56:55.152Z"
   },
   {
    "duration": 401,
    "start_time": "2022-05-08T13:56:55.385Z"
   },
   {
    "duration": 506,
    "start_time": "2022-05-08T13:56:55.789Z"
   },
   {
    "duration": 667,
    "start_time": "2022-05-08T13:56:56.297Z"
   },
   {
    "duration": 48,
    "start_time": "2022-05-08T13:56:56.966Z"
   },
   {
    "duration": 43,
    "start_time": "2022-05-08T13:56:57.015Z"
   },
   {
    "duration": 217,
    "start_time": "2022-05-08T13:56:57.059Z"
   },
   {
    "duration": 185,
    "start_time": "2022-05-08T13:56:57.277Z"
   },
   {
    "duration": 16,
    "start_time": "2022-05-08T13:56:57.464Z"
   },
   {
    "duration": 28,
    "start_time": "2022-05-08T13:56:57.482Z"
   },
   {
    "duration": 1663,
    "start_time": "2022-05-08T13:57:08.808Z"
   },
   {
    "duration": 40,
    "start_time": "2022-05-08T13:57:10.473Z"
   },
   {
    "duration": 53,
    "start_time": "2022-05-08T13:57:10.515Z"
   },
   {
    "duration": 23,
    "start_time": "2022-05-08T13:57:10.570Z"
   },
   {
    "duration": 494,
    "start_time": "2022-05-08T13:57:10.595Z"
   },
   {
    "duration": 23,
    "start_time": "2022-05-08T13:57:11.092Z"
   },
   {
    "duration": 290,
    "start_time": "2022-05-08T13:57:11.117Z"
   },
   {
    "duration": 351,
    "start_time": "2022-05-08T13:57:11.409Z"
   },
   {
    "duration": 488,
    "start_time": "2022-05-08T13:57:11.762Z"
   },
   {
    "duration": 498,
    "start_time": "2022-05-08T13:57:12.252Z"
   },
   {
    "duration": 962,
    "start_time": "2022-05-08T13:57:12.751Z"
   },
   {
    "duration": 75,
    "start_time": "2022-05-08T13:57:13.715Z"
   },
   {
    "duration": 37,
    "start_time": "2022-05-08T13:57:13.791Z"
   },
   {
    "duration": 334,
    "start_time": "2022-05-08T13:57:13.830Z"
   },
   {
    "duration": 259,
    "start_time": "2022-05-08T13:57:14.166Z"
   },
   {
    "duration": 17,
    "start_time": "2022-05-08T13:57:14.427Z"
   },
   {
    "duration": 28,
    "start_time": "2022-05-08T13:57:14.446Z"
   },
   {
    "duration": 83,
    "start_time": "2022-05-08T14:17:39.446Z"
   },
   {
    "duration": 26,
    "start_time": "2022-05-08T14:17:39.547Z"
   },
   {
    "duration": 27,
    "start_time": "2022-05-08T14:17:39.574Z"
   },
   {
    "duration": 17,
    "start_time": "2022-05-08T14:17:39.603Z"
   },
   {
    "duration": 106,
    "start_time": "2022-05-08T14:17:39.622Z"
   },
   {
    "duration": 35,
    "start_time": "2022-05-08T14:17:39.731Z"
   },
   {
    "duration": 201,
    "start_time": "2022-05-08T14:17:39.768Z"
   },
   {
    "duration": 233,
    "start_time": "2022-05-08T14:17:39.971Z"
   },
   {
    "duration": 394,
    "start_time": "2022-05-08T14:17:40.206Z"
   },
   {
    "duration": 514,
    "start_time": "2022-05-08T14:17:40.603Z"
   },
   {
    "duration": 756,
    "start_time": "2022-05-08T14:17:41.119Z"
   },
   {
    "duration": 48,
    "start_time": "2022-05-08T14:17:41.876Z"
   },
   {
    "duration": 42,
    "start_time": "2022-05-08T14:17:41.926Z"
   },
   {
    "duration": 217,
    "start_time": "2022-05-08T14:17:41.970Z"
   },
   {
    "duration": 181,
    "start_time": "2022-05-08T14:17:42.189Z"
   },
   {
    "duration": 17,
    "start_time": "2022-05-08T14:17:42.371Z"
   },
   {
    "duration": 31,
    "start_time": "2022-05-08T14:17:42.390Z"
   },
   {
    "duration": 363,
    "start_time": "2022-05-08T14:47:22.629Z"
   },
   {
    "duration": 2054,
    "start_time": "2022-05-09T09:23:00.333Z"
   },
   {
    "duration": 48,
    "start_time": "2022-05-09T09:23:02.390Z"
   },
   {
    "duration": 39,
    "start_time": "2022-05-09T09:23:02.440Z"
   },
   {
    "duration": 54,
    "start_time": "2022-05-09T09:23:02.481Z"
   },
   {
    "duration": 584,
    "start_time": "2022-05-09T09:23:02.540Z"
   },
   {
    "duration": 34,
    "start_time": "2022-05-09T09:23:03.127Z"
   },
   {
    "duration": 465,
    "start_time": "2022-05-09T09:23:03.164Z"
   },
   {
    "duration": 520,
    "start_time": "2022-05-09T09:23:03.631Z"
   },
   {
    "duration": 772,
    "start_time": "2022-05-09T09:23:04.153Z"
   },
   {
    "duration": 1139,
    "start_time": "2022-05-09T09:23:04.927Z"
   },
   {
    "duration": 1218,
    "start_time": "2022-05-09T09:23:06.069Z"
   },
   {
    "duration": 76,
    "start_time": "2022-05-09T09:23:07.289Z"
   },
   {
    "duration": 57,
    "start_time": "2022-05-09T09:23:07.367Z"
   },
   {
    "duration": 401,
    "start_time": "2022-05-09T09:23:07.428Z"
   },
   {
    "duration": 285,
    "start_time": "2022-05-09T09:23:07.831Z"
   },
   {
    "duration": 27,
    "start_time": "2022-05-09T09:23:08.118Z"
   },
   {
    "duration": 45,
    "start_time": "2022-05-09T09:23:08.147Z"
   },
   {
    "duration": 84,
    "start_time": "2022-05-09T09:23:22.376Z"
   },
   {
    "duration": 80,
    "start_time": "2022-05-09T09:23:30.120Z"
   },
   {
    "duration": 83,
    "start_time": "2022-05-09T09:23:33.509Z"
   },
   {
    "duration": 83,
    "start_time": "2022-05-09T09:23:43.836Z"
   },
   {
    "duration": 83,
    "start_time": "2022-05-09T09:23:58.144Z"
   },
   {
    "duration": 142,
    "start_time": "2022-05-09T09:24:09.629Z"
   },
   {
    "duration": 80,
    "start_time": "2022-05-09T09:24:19.609Z"
   },
   {
    "duration": 114,
    "start_time": "2022-05-09T09:29:50.334Z"
   },
   {
    "duration": 36,
    "start_time": "2022-05-09T09:29:50.451Z"
   },
   {
    "duration": 63,
    "start_time": "2022-05-09T09:29:50.489Z"
   },
   {
    "duration": 25,
    "start_time": "2022-05-09T09:29:50.554Z"
   },
   {
    "duration": 216,
    "start_time": "2022-05-09T09:29:50.581Z"
   },
   {
    "duration": 32,
    "start_time": "2022-05-09T09:29:50.799Z"
   },
   {
    "duration": 313,
    "start_time": "2022-05-09T09:29:50.834Z"
   },
   {
    "duration": 440,
    "start_time": "2022-05-09T09:29:51.149Z"
   },
   {
    "duration": 854,
    "start_time": "2022-05-09T09:29:51.591Z"
   },
   {
    "duration": 986,
    "start_time": "2022-05-09T09:29:52.449Z"
   },
   {
    "duration": 1204,
    "start_time": "2022-05-09T09:29:53.437Z"
   },
   {
    "duration": 111,
    "start_time": "2022-05-09T09:29:54.643Z"
   },
   {
    "duration": 38,
    "start_time": "2022-05-09T09:29:54.756Z"
   },
   {
    "duration": 422,
    "start_time": "2022-05-09T09:29:54.797Z"
   },
   {
    "duration": 195,
    "start_time": "2022-05-09T09:29:55.225Z"
   },
   {
    "duration": 29,
    "start_time": "2022-05-09T09:29:55.423Z"
   },
   {
    "duration": 63,
    "start_time": "2022-05-09T09:29:55.455Z"
   },
   {
    "duration": 1784,
    "start_time": "2022-05-09T09:35:20.118Z"
   },
   {
    "duration": 54,
    "start_time": "2022-05-09T09:35:21.905Z"
   },
   {
    "duration": 37,
    "start_time": "2022-05-09T09:35:21.962Z"
   },
   {
    "duration": 47,
    "start_time": "2022-05-09T09:35:22.001Z"
   },
   {
    "duration": 594,
    "start_time": "2022-05-09T09:35:22.053Z"
   },
   {
    "duration": 25,
    "start_time": "2022-05-09T09:35:22.649Z"
   },
   {
    "duration": 367,
    "start_time": "2022-05-09T09:35:22.676Z"
   },
   {
    "duration": 521,
    "start_time": "2022-05-09T09:35:23.045Z"
   },
   {
    "duration": 765,
    "start_time": "2022-05-09T09:35:23.569Z"
   },
   {
    "duration": 1208,
    "start_time": "2022-05-09T09:35:24.336Z"
   },
   {
    "duration": 1221,
    "start_time": "2022-05-09T09:35:25.547Z"
   },
   {
    "duration": 86,
    "start_time": "2022-05-09T09:35:26.770Z"
   },
   {
    "duration": 52,
    "start_time": "2022-05-09T09:35:26.858Z"
   },
   {
    "duration": 399,
    "start_time": "2022-05-09T09:35:26.913Z"
   },
   {
    "duration": 273,
    "start_time": "2022-05-09T09:35:27.314Z"
   },
   {
    "duration": 5484,
    "start_time": "2022-05-09T09:35:27.592Z"
   },
   {
    "duration": 1,
    "start_time": "2022-05-09T09:35:33.079Z"
   },
   {
    "duration": 28,
    "start_time": "2022-05-09T09:35:56.653Z"
   },
   {
    "duration": 1630,
    "start_time": "2022-05-09T09:36:12.122Z"
   },
   {
    "duration": 31,
    "start_time": "2022-05-09T09:37:31.625Z"
   },
   {
    "duration": 145,
    "start_time": "2022-05-09T09:37:35.669Z"
   },
   {
    "duration": 2226,
    "start_time": "2022-05-09T09:37:55.561Z"
   },
   {
    "duration": 14556,
    "start_time": "2022-05-09T09:40:08.017Z"
   },
   {
    "duration": 77,
    "start_time": "2022-05-09T09:42:21.828Z"
   },
   {
    "duration": 1733,
    "start_time": "2022-05-09T09:42:32.468Z"
   },
   {
    "duration": 46,
    "start_time": "2022-05-09T09:42:34.204Z"
   },
   {
    "duration": 49,
    "start_time": "2022-05-09T09:42:34.252Z"
   },
   {
    "duration": 45,
    "start_time": "2022-05-09T09:42:34.304Z"
   },
   {
    "duration": 591,
    "start_time": "2022-05-09T09:42:34.351Z"
   },
   {
    "duration": 27,
    "start_time": "2022-05-09T09:42:34.944Z"
   },
   {
    "duration": 370,
    "start_time": "2022-05-09T09:42:34.973Z"
   },
   {
    "duration": 446,
    "start_time": "2022-05-09T09:42:35.346Z"
   },
   {
    "duration": 860,
    "start_time": "2022-05-09T09:42:35.795Z"
   },
   {
    "duration": 931,
    "start_time": "2022-05-09T09:42:36.659Z"
   },
   {
    "duration": 1224,
    "start_time": "2022-05-09T09:42:37.592Z"
   },
   {
    "duration": 72,
    "start_time": "2022-05-09T09:42:38.819Z"
   },
   {
    "duration": 55,
    "start_time": "2022-05-09T09:42:38.893Z"
   },
   {
    "duration": 413,
    "start_time": "2022-05-09T09:42:38.950Z"
   },
   {
    "duration": 269,
    "start_time": "2022-05-09T09:42:39.365Z"
   },
   {
    "duration": 19,
    "start_time": "2022-05-09T09:42:39.636Z"
   },
   {
    "duration": 43,
    "start_time": "2022-05-09T09:42:39.657Z"
   },
   {
    "duration": 196,
    "start_time": "2022-05-09T09:43:02.206Z"
   },
   {
    "duration": 27,
    "start_time": "2022-05-09T09:43:11.349Z"
   },
   {
    "duration": 19,
    "start_time": "2022-05-09T09:43:18.523Z"
   },
   {
    "duration": 150,
    "start_time": "2022-05-09T09:43:23.928Z"
   },
   {
    "duration": 116,
    "start_time": "2022-05-09T09:43:31.353Z"
   },
   {
    "duration": 57,
    "start_time": "2022-05-09T09:43:31.472Z"
   },
   {
    "duration": 50,
    "start_time": "2022-05-09T09:43:31.531Z"
   },
   {
    "duration": 50,
    "start_time": "2022-05-09T09:43:31.584Z"
   },
   {
    "duration": 103,
    "start_time": "2022-05-09T09:43:31.638Z"
   },
   {
    "duration": 24,
    "start_time": "2022-05-09T09:43:31.743Z"
   },
   {
    "duration": 331,
    "start_time": "2022-05-09T09:43:31.770Z"
   },
   {
    "duration": 445,
    "start_time": "2022-05-09T09:43:32.103Z"
   },
   {
    "duration": 778,
    "start_time": "2022-05-09T09:43:32.550Z"
   },
   {
    "duration": 1070,
    "start_time": "2022-05-09T09:43:33.330Z"
   },
   {
    "duration": 1226,
    "start_time": "2022-05-09T09:43:34.402Z"
   },
   {
    "duration": 98,
    "start_time": "2022-05-09T09:43:35.630Z"
   },
   {
    "duration": 39,
    "start_time": "2022-05-09T09:43:35.730Z"
   },
   {
    "duration": 461,
    "start_time": "2022-05-09T09:43:35.772Z"
   },
   {
    "duration": 179,
    "start_time": "2022-05-09T09:43:36.235Z"
   },
   {
    "duration": 30,
    "start_time": "2022-05-09T09:43:36.416Z"
   },
   {
    "duration": 48,
    "start_time": "2022-05-09T09:43:36.449Z"
   },
   {
    "duration": 26,
    "start_time": "2022-05-09T09:44:33.791Z"
   },
   {
    "duration": 112,
    "start_time": "2022-05-09T09:44:41.273Z"
   },
   {
    "duration": 50,
    "start_time": "2022-05-09T09:44:41.388Z"
   },
   {
    "duration": 61,
    "start_time": "2022-05-09T09:44:41.440Z"
   },
   {
    "duration": 30,
    "start_time": "2022-05-09T09:44:41.503Z"
   },
   {
    "duration": 97,
    "start_time": "2022-05-09T09:44:41.536Z"
   },
   {
    "duration": 29,
    "start_time": "2022-05-09T09:44:41.635Z"
   },
   {
    "duration": 328,
    "start_time": "2022-05-09T09:44:41.667Z"
   },
   {
    "duration": 442,
    "start_time": "2022-05-09T09:44:41.998Z"
   },
   {
    "duration": 787,
    "start_time": "2022-05-09T09:44:42.443Z"
   },
   {
    "duration": 944,
    "start_time": "2022-05-09T09:44:43.233Z"
   },
   {
    "duration": 1451,
    "start_time": "2022-05-09T09:44:44.179Z"
   },
   {
    "duration": 217,
    "start_time": "2022-05-09T09:44:45.632Z"
   },
   {
    "duration": 40,
    "start_time": "2022-05-09T09:44:45.851Z"
   },
   {
    "duration": 465,
    "start_time": "2022-05-09T09:44:45.894Z"
   },
   {
    "duration": 162,
    "start_time": "2022-05-09T09:44:46.361Z"
   },
   {
    "duration": 18,
    "start_time": "2022-05-09T09:44:46.525Z"
   },
   {
    "duration": 45,
    "start_time": "2022-05-09T09:44:46.545Z"
   },
   {
    "duration": 31,
    "start_time": "2022-05-09T09:45:12.846Z"
   },
   {
    "duration": 125,
    "start_time": "2022-05-09T09:45:15.213Z"
   },
   {
    "duration": 38,
    "start_time": "2022-05-09T09:45:15.341Z"
   },
   {
    "duration": 62,
    "start_time": "2022-05-09T09:45:15.381Z"
   },
   {
    "duration": 26,
    "start_time": "2022-05-09T09:45:15.445Z"
   },
   {
    "duration": 103,
    "start_time": "2022-05-09T09:45:15.474Z"
   },
   {
    "duration": 44,
    "start_time": "2022-05-09T09:45:15.580Z"
   },
   {
    "duration": 315,
    "start_time": "2022-05-09T09:45:15.626Z"
   },
   {
    "duration": 434,
    "start_time": "2022-05-09T09:45:15.943Z"
   },
   {
    "duration": 778,
    "start_time": "2022-05-09T09:45:16.379Z"
   },
   {
    "duration": 965,
    "start_time": "2022-05-09T09:45:17.159Z"
   },
   {
    "duration": 1233,
    "start_time": "2022-05-09T09:45:18.126Z"
   },
   {
    "duration": 101,
    "start_time": "2022-05-09T09:45:19.361Z"
   },
   {
    "duration": 39,
    "start_time": "2022-05-09T09:45:19.465Z"
   },
   {
    "duration": 518,
    "start_time": "2022-05-09T09:45:19.524Z"
   },
   {
    "duration": 1199,
    "start_time": "2022-05-09T09:45:20.044Z"
   },
   {
    "duration": 26,
    "start_time": "2022-05-09T09:45:21.245Z"
   },
   {
    "duration": 63,
    "start_time": "2022-05-09T09:45:21.274Z"
   },
   {
    "duration": 26,
    "start_time": "2022-05-09T09:45:59.658Z"
   },
   {
    "duration": 32,
    "start_time": "2022-05-09T09:46:04.453Z"
   },
   {
    "duration": 32,
    "start_time": "2022-05-09T09:46:13.921Z"
   },
   {
    "duration": 114,
    "start_time": "2022-05-09T09:46:18.315Z"
   },
   {
    "duration": 38,
    "start_time": "2022-05-09T09:46:18.431Z"
   },
   {
    "duration": 64,
    "start_time": "2022-05-09T09:46:18.471Z"
   },
   {
    "duration": 27,
    "start_time": "2022-05-09T09:46:18.538Z"
   },
   {
    "duration": 107,
    "start_time": "2022-05-09T09:46:18.568Z"
   },
   {
    "duration": 26,
    "start_time": "2022-05-09T09:46:18.677Z"
   },
   {
    "duration": 327,
    "start_time": "2022-05-09T09:46:18.705Z"
   },
   {
    "duration": 433,
    "start_time": "2022-05-09T09:46:19.034Z"
   },
   {
    "duration": 771,
    "start_time": "2022-05-09T09:46:19.469Z"
   },
   {
    "duration": 945,
    "start_time": "2022-05-09T09:46:20.243Z"
   },
   {
    "duration": 1221,
    "start_time": "2022-05-09T09:46:21.190Z"
   },
   {
    "duration": 82,
    "start_time": "2022-05-09T09:46:22.414Z"
   },
   {
    "duration": 52,
    "start_time": "2022-05-09T09:46:22.498Z"
   },
   {
    "duration": 409,
    "start_time": "2022-05-09T09:46:22.553Z"
   },
   {
    "duration": 182,
    "start_time": "2022-05-09T09:46:22.964Z"
   },
   {
    "duration": 36,
    "start_time": "2022-05-09T09:46:23.148Z"
   },
   {
    "duration": 0,
    "start_time": "2022-05-09T09:46:23.188Z"
   },
   {
    "duration": 27,
    "start_time": "2022-05-09T09:46:34.913Z"
   },
   {
    "duration": 39,
    "start_time": "2022-05-09T09:46:39.432Z"
   },
   {
    "duration": 109,
    "start_time": "2022-05-09T09:46:42.048Z"
   },
   {
    "duration": 39,
    "start_time": "2022-05-09T09:46:42.160Z"
   },
   {
    "duration": 57,
    "start_time": "2022-05-09T09:46:42.201Z"
   },
   {
    "duration": 28,
    "start_time": "2022-05-09T09:46:42.263Z"
   },
   {
    "duration": 101,
    "start_time": "2022-05-09T09:46:42.325Z"
   },
   {
    "duration": 27,
    "start_time": "2022-05-09T09:46:42.428Z"
   },
   {
    "duration": 319,
    "start_time": "2022-05-09T09:46:42.458Z"
   },
   {
    "duration": 432,
    "start_time": "2022-05-09T09:46:42.779Z"
   },
   {
    "duration": 898,
    "start_time": "2022-05-09T09:46:43.213Z"
   },
   {
    "duration": 951,
    "start_time": "2022-05-09T09:46:44.114Z"
   },
   {
    "duration": 1321,
    "start_time": "2022-05-09T09:46:45.067Z"
   },
   {
    "duration": 82,
    "start_time": "2022-05-09T09:46:46.390Z"
   },
   {
    "duration": 59,
    "start_time": "2022-05-09T09:46:46.475Z"
   },
   {
    "duration": 417,
    "start_time": "2022-05-09T09:46:46.536Z"
   },
   {
    "duration": 179,
    "start_time": "2022-05-09T09:46:46.956Z"
   },
   {
    "duration": 30,
    "start_time": "2022-05-09T09:46:47.138Z"
   },
   {
    "duration": 75,
    "start_time": "2022-05-09T09:46:47.171Z"
   },
   {
    "duration": 374,
    "start_time": "2022-05-09T09:57:22.764Z"
   },
   {
    "duration": 39,
    "start_time": "2022-05-09T09:57:23.141Z"
   },
   {
    "duration": 66,
    "start_time": "2022-05-09T09:57:23.182Z"
   },
   {
    "duration": 27,
    "start_time": "2022-05-09T09:57:23.250Z"
   },
   {
    "duration": 117,
    "start_time": "2022-05-09T09:57:23.280Z"
   },
   {
    "duration": 43,
    "start_time": "2022-05-09T09:57:23.400Z"
   },
   {
    "duration": 319,
    "start_time": "2022-05-09T09:57:23.445Z"
   },
   {
    "duration": 465,
    "start_time": "2022-05-09T09:57:23.767Z"
   },
   {
    "duration": 813,
    "start_time": "2022-05-09T09:57:24.235Z"
   },
   {
    "duration": 951,
    "start_time": "2022-05-09T09:57:25.050Z"
   },
   {
    "duration": 1396,
    "start_time": "2022-05-09T09:57:26.004Z"
   },
   {
    "duration": 89,
    "start_time": "2022-05-09T09:57:27.404Z"
   },
   {
    "duration": 218,
    "start_time": "2022-05-09T09:57:27.496Z"
   },
   {
    "duration": 407,
    "start_time": "2022-05-09T09:57:27.720Z"
   },
   {
    "duration": 214,
    "start_time": "2022-05-09T09:57:28.130Z"
   },
   {
    "duration": 27,
    "start_time": "2022-05-09T09:57:28.347Z"
   },
   {
    "duration": 70,
    "start_time": "2022-05-09T09:57:28.377Z"
   },
   {
    "duration": 4,
    "start_time": "2022-05-09T09:57:28.449Z"
   },
   {
    "duration": 2242,
    "start_time": "2022-05-09T10:26:30.870Z"
   },
   {
    "duration": 530,
    "start_time": "2022-05-09T10:26:48.893Z"
   },
   {
    "duration": 135,
    "start_time": "2022-05-09T10:27:00.366Z"
   },
   {
    "duration": 625,
    "start_time": "2022-05-09T10:28:19.163Z"
   },
   {
    "duration": 800,
    "start_time": "2022-05-09T10:28:46.545Z"
   },
   {
    "duration": 511,
    "start_time": "2022-05-09T10:32:12.568Z"
   },
   {
    "duration": 713,
    "start_time": "2022-05-09T10:42:18.382Z"
   },
   {
    "duration": 936,
    "start_time": "2022-05-09T10:42:29.728Z"
   },
   {
    "duration": 684,
    "start_time": "2022-05-09T10:42:45.621Z"
   },
   {
    "duration": 123,
    "start_time": "2022-05-09T10:51:00.501Z"
   },
   {
    "duration": 39,
    "start_time": "2022-05-09T10:51:00.627Z"
   },
   {
    "duration": 70,
    "start_time": "2022-05-09T10:51:00.668Z"
   },
   {
    "duration": 28,
    "start_time": "2022-05-09T10:51:00.741Z"
   },
   {
    "duration": 115,
    "start_time": "2022-05-09T10:51:00.772Z"
   },
   {
    "duration": 47,
    "start_time": "2022-05-09T10:51:00.890Z"
   },
   {
    "duration": 306,
    "start_time": "2022-05-09T10:51:00.939Z"
   },
   {
    "duration": 450,
    "start_time": "2022-05-09T10:51:01.248Z"
   },
   {
    "duration": 772,
    "start_time": "2022-05-09T10:51:01.701Z"
   },
   {
    "duration": 1087,
    "start_time": "2022-05-09T10:51:02.476Z"
   },
   {
    "duration": 1233,
    "start_time": "2022-05-09T10:51:03.566Z"
   },
   {
    "duration": 95,
    "start_time": "2022-05-09T10:51:04.803Z"
   },
   {
    "duration": 52,
    "start_time": "2022-05-09T10:51:04.900Z"
   },
   {
    "duration": 431,
    "start_time": "2022-05-09T10:51:04.957Z"
   },
   {
    "duration": 209,
    "start_time": "2022-05-09T10:51:05.390Z"
   },
   {
    "duration": 55,
    "start_time": "2022-05-09T10:51:05.602Z"
   },
   {
    "duration": 118,
    "start_time": "2022-05-09T10:51:05.660Z"
   },
   {
    "duration": 0,
    "start_time": "2022-05-09T10:51:05.781Z"
   },
   {
    "duration": 0,
    "start_time": "2022-05-09T10:51:05.783Z"
   },
   {
    "duration": 2051,
    "start_time": "2022-05-09T11:26:49.204Z"
   },
   {
    "duration": 1253,
    "start_time": "2022-05-09T11:27:11.371Z"
   },
   {
    "duration": 1692,
    "start_time": "2022-05-09T11:28:26.332Z"
   },
   {
    "duration": 114,
    "start_time": "2022-05-09T15:08:16.556Z"
   },
   {
    "duration": 62,
    "start_time": "2022-05-09T15:08:16.673Z"
   },
   {
    "duration": 51,
    "start_time": "2022-05-09T15:08:16.737Z"
   },
   {
    "duration": 50,
    "start_time": "2022-05-09T15:08:16.791Z"
   },
   {
    "duration": 107,
    "start_time": "2022-05-09T15:08:16.844Z"
   },
   {
    "duration": 28,
    "start_time": "2022-05-09T15:08:16.953Z"
   },
   {
    "duration": 334,
    "start_time": "2022-05-09T15:08:16.985Z"
   },
   {
    "duration": 554,
    "start_time": "2022-05-09T15:08:17.321Z"
   },
   {
    "duration": 761,
    "start_time": "2022-05-09T15:08:17.878Z"
   },
   {
    "duration": 1806,
    "start_time": "2022-05-09T15:08:18.642Z"
   },
   {
    "duration": 2102,
    "start_time": "2022-05-09T15:08:20.451Z"
   },
   {
    "duration": 97,
    "start_time": "2022-05-09T15:08:22.557Z"
   },
   {
    "duration": 79,
    "start_time": "2022-05-09T15:08:22.657Z"
   },
   {
    "duration": 665,
    "start_time": "2022-05-09T15:08:22.740Z"
   },
   {
    "duration": 168,
    "start_time": "2022-05-09T15:08:23.408Z"
   },
   {
    "duration": 54,
    "start_time": "2022-05-09T15:08:23.579Z"
   },
   {
    "duration": 112,
    "start_time": "2022-05-09T15:08:23.636Z"
   },
   {
    "duration": 0,
    "start_time": "2022-05-09T15:08:23.752Z"
   },
   {
    "duration": 0,
    "start_time": "2022-05-09T15:08:23.753Z"
   },
   {
    "duration": 4,
    "start_time": "2022-05-09T15:08:57.136Z"
   },
   {
    "duration": 1504,
    "start_time": "2022-05-10T14:43:11.829Z"
   },
   {
    "duration": 33,
    "start_time": "2022-05-10T14:43:13.334Z"
   },
   {
    "duration": 31,
    "start_time": "2022-05-10T14:43:13.368Z"
   },
   {
    "duration": 17,
    "start_time": "2022-05-10T14:43:13.400Z"
   },
   {
    "duration": 412,
    "start_time": "2022-05-10T14:43:13.419Z"
   },
   {
    "duration": 20,
    "start_time": "2022-05-10T14:43:13.832Z"
   },
   {
    "duration": 242,
    "start_time": "2022-05-10T14:43:13.854Z"
   },
   {
    "duration": 314,
    "start_time": "2022-05-10T14:43:14.098Z"
   },
   {
    "duration": 413,
    "start_time": "2022-05-10T14:43:14.415Z"
   },
   {
    "duration": 517,
    "start_time": "2022-05-10T14:43:14.830Z"
   },
   {
    "duration": 681,
    "start_time": "2022-05-10T14:43:15.349Z"
   },
   {
    "duration": 51,
    "start_time": "2022-05-10T14:43:16.032Z"
   },
   {
    "duration": 23,
    "start_time": "2022-05-10T14:43:16.085Z"
   },
   {
    "duration": 252,
    "start_time": "2022-05-10T14:43:16.111Z"
   },
   {
    "duration": 228,
    "start_time": "2022-05-10T14:43:16.365Z"
   },
   {
    "duration": 16,
    "start_time": "2022-05-10T14:43:16.595Z"
   },
   {
    "duration": 2,
    "start_time": "2022-05-10T14:43:16.613Z"
   },
   {
    "duration": 45,
    "start_time": "2022-05-10T14:43:16.617Z"
   },
   {
    "duration": 3,
    "start_time": "2022-05-10T14:43:16.663Z"
   },
   {
    "duration": 2535,
    "start_time": "2022-05-10T14:46:02.083Z"
   },
   {
    "duration": 19,
    "start_time": "2022-05-10T14:46:24.154Z"
   },
   {
    "duration": 41,
    "start_time": "2022-05-10T14:47:41.647Z"
   },
   {
    "duration": 5,
    "start_time": "2022-05-10T14:49:57.721Z"
   },
   {
    "duration": 12,
    "start_time": "2022-05-10T14:52:07.473Z"
   },
   {
    "duration": 12,
    "start_time": "2022-05-10T14:52:13.600Z"
   },
   {
    "duration": 10,
    "start_time": "2022-05-10T14:52:17.886Z"
   },
   {
    "duration": 14,
    "start_time": "2022-05-10T14:52:26.777Z"
   },
   {
    "duration": 8,
    "start_time": "2022-05-10T14:52:34.238Z"
   },
   {
    "duration": 8,
    "start_time": "2022-05-10T14:52:47.132Z"
   },
   {
    "duration": 7,
    "start_time": "2022-05-10T14:52:57.525Z"
   },
   {
    "duration": 10,
    "start_time": "2022-05-10T14:53:03.688Z"
   },
   {
    "duration": 7,
    "start_time": "2022-05-10T14:53:19.532Z"
   },
   {
    "duration": 105,
    "start_time": "2022-05-10T14:53:22.902Z"
   },
   {
    "duration": 55,
    "start_time": "2022-05-10T14:53:23.009Z"
   },
   {
    "duration": 58,
    "start_time": "2022-05-10T14:53:23.066Z"
   },
   {
    "duration": 30,
    "start_time": "2022-05-10T14:53:23.127Z"
   },
   {
    "duration": 65,
    "start_time": "2022-05-10T14:53:23.158Z"
   },
   {
    "duration": 31,
    "start_time": "2022-05-10T14:53:23.224Z"
   },
   {
    "duration": 176,
    "start_time": "2022-05-10T14:53:23.256Z"
   },
   {
    "duration": 260,
    "start_time": "2022-05-10T14:53:23.434Z"
   },
   {
    "duration": 726,
    "start_time": "2022-05-10T14:53:23.696Z"
   },
   {
    "duration": 559,
    "start_time": "2022-05-10T14:53:24.424Z"
   },
   {
    "duration": 1124,
    "start_time": "2022-05-10T14:53:24.985Z"
   },
   {
    "duration": 97,
    "start_time": "2022-05-10T14:53:26.111Z"
   },
   {
    "duration": 44,
    "start_time": "2022-05-10T14:53:26.210Z"
   },
   {
    "duration": 385,
    "start_time": "2022-05-10T14:53:26.256Z"
   },
   {
    "duration": 242,
    "start_time": "2022-05-10T14:53:26.643Z"
   },
   {
    "duration": 16,
    "start_time": "2022-05-10T14:53:26.887Z"
   },
   {
    "duration": 2,
    "start_time": "2022-05-10T14:53:26.905Z"
   },
   {
    "duration": 50,
    "start_time": "2022-05-10T14:53:26.909Z"
   },
   {
    "duration": 10,
    "start_time": "2022-05-10T14:53:26.963Z"
   },
   {
    "duration": 13,
    "start_time": "2022-05-10T14:53:26.975Z"
   },
   {
    "duration": 11,
    "start_time": "2022-05-10T15:00:49.539Z"
   },
   {
    "duration": 3412,
    "start_time": "2022-05-10T15:01:08.673Z"
   },
   {
    "duration": 6,
    "start_time": "2022-05-10T15:01:26.581Z"
   },
   {
    "duration": 2284,
    "start_time": "2022-05-10T15:01:50.219Z"
   },
   {
    "duration": 7,
    "start_time": "2022-05-10T15:01:56.871Z"
   },
   {
    "duration": 8,
    "start_time": "2022-05-10T15:04:10.461Z"
   },
   {
    "duration": 14,
    "start_time": "2022-05-10T15:04:27.750Z"
   },
   {
    "duration": 18,
    "start_time": "2022-05-10T15:05:10.576Z"
   },
   {
    "duration": 110,
    "start_time": "2022-05-10T15:05:42.932Z"
   },
   {
    "duration": 37,
    "start_time": "2022-05-10T15:05:43.044Z"
   },
   {
    "duration": 26,
    "start_time": "2022-05-10T15:05:43.082Z"
   },
   {
    "duration": 18,
    "start_time": "2022-05-10T15:05:43.110Z"
   },
   {
    "duration": 70,
    "start_time": "2022-05-10T15:05:43.130Z"
   },
   {
    "duration": 17,
    "start_time": "2022-05-10T15:05:43.202Z"
   },
   {
    "duration": 196,
    "start_time": "2022-05-10T15:05:43.220Z"
   },
   {
    "duration": 238,
    "start_time": "2022-05-10T15:05:43.417Z"
   },
   {
    "duration": 418,
    "start_time": "2022-05-10T15:05:43.657Z"
   },
   {
    "duration": 514,
    "start_time": "2022-05-10T15:05:44.078Z"
   },
   {
    "duration": 798,
    "start_time": "2022-05-10T15:05:44.594Z"
   },
   {
    "duration": 60,
    "start_time": "2022-05-10T15:05:45.394Z"
   },
   {
    "duration": 26,
    "start_time": "2022-05-10T15:05:45.456Z"
   },
   {
    "duration": 232,
    "start_time": "2022-05-10T15:05:45.483Z"
   },
   {
    "duration": 176,
    "start_time": "2022-05-10T15:05:45.717Z"
   },
   {
    "duration": 15,
    "start_time": "2022-05-10T15:05:45.895Z"
   },
   {
    "duration": 4,
    "start_time": "2022-05-10T15:05:45.912Z"
   },
   {
    "duration": 33,
    "start_time": "2022-05-10T15:05:45.918Z"
   },
   {
    "duration": 14,
    "start_time": "2022-05-10T15:05:45.953Z"
   },
   {
    "duration": 0,
    "start_time": "2022-05-10T15:05:45.969Z"
   },
   {
    "duration": 17,
    "start_time": "2022-05-10T15:06:38.330Z"
   },
   {
    "duration": 69,
    "start_time": "2022-05-10T15:06:42.744Z"
   },
   {
    "duration": 74,
    "start_time": "2022-05-10T15:06:52.320Z"
   },
   {
    "duration": 10,
    "start_time": "2022-05-10T15:06:57.716Z"
   },
   {
    "duration": 9,
    "start_time": "2022-05-10T15:07:16.772Z"
   },
   {
    "duration": 8,
    "start_time": "2022-05-10T15:08:03.464Z"
   },
   {
    "duration": 23,
    "start_time": "2022-05-10T15:10:04.751Z"
   },
   {
    "duration": 12,
    "start_time": "2022-05-10T15:13:23.819Z"
   },
   {
    "duration": 11,
    "start_time": "2022-05-10T15:13:31.303Z"
   },
   {
    "duration": 133,
    "start_time": "2022-05-10T15:14:18.774Z"
   },
   {
    "duration": 18,
    "start_time": "2022-05-10T15:14:22.442Z"
   },
   {
    "duration": 10,
    "start_time": "2022-05-10T15:14:36.114Z"
   },
   {
    "duration": 15,
    "start_time": "2022-05-10T15:14:41.143Z"
   },
   {
    "duration": 10,
    "start_time": "2022-05-10T15:18:20.129Z"
   },
   {
    "duration": 9,
    "start_time": "2022-05-10T15:18:24.314Z"
   },
   {
    "duration": 6,
    "start_time": "2022-05-10T15:18:41.257Z"
   },
   {
    "duration": 10,
    "start_time": "2022-05-10T15:18:46.507Z"
   },
   {
    "duration": 13,
    "start_time": "2022-05-10T15:19:58.110Z"
   },
   {
    "duration": 8,
    "start_time": "2022-05-10T15:20:17.448Z"
   },
   {
    "duration": 8,
    "start_time": "2022-05-10T15:20:51.715Z"
   },
   {
    "duration": 8,
    "start_time": "2022-05-10T15:20:54.608Z"
   },
   {
    "duration": 7,
    "start_time": "2022-05-10T15:20:58.864Z"
   },
   {
    "duration": 6,
    "start_time": "2022-05-10T15:22:04.707Z"
   },
   {
    "duration": 6,
    "start_time": "2022-05-10T15:22:11.582Z"
   },
   {
    "duration": 119,
    "start_time": "2022-05-10T15:23:15.646Z"
   },
   {
    "duration": 25,
    "start_time": "2022-05-10T15:23:15.767Z"
   },
   {
    "duration": 31,
    "start_time": "2022-05-10T15:23:15.794Z"
   },
   {
    "duration": 41,
    "start_time": "2022-05-10T15:23:15.827Z"
   },
   {
    "duration": 46,
    "start_time": "2022-05-10T15:23:15.869Z"
   },
   {
    "duration": 44,
    "start_time": "2022-05-10T15:23:15.917Z"
   },
   {
    "duration": 160,
    "start_time": "2022-05-10T15:23:15.963Z"
   },
   {
    "duration": 241,
    "start_time": "2022-05-10T15:23:16.124Z"
   },
   {
    "duration": 398,
    "start_time": "2022-05-10T15:23:16.367Z"
   },
   {
    "duration": 501,
    "start_time": "2022-05-10T15:23:16.767Z"
   },
   {
    "duration": 679,
    "start_time": "2022-05-10T15:23:17.270Z"
   },
   {
    "duration": 146,
    "start_time": "2022-05-10T15:23:17.950Z"
   },
   {
    "duration": 23,
    "start_time": "2022-05-10T15:23:18.097Z"
   },
   {
    "duration": 6,
    "start_time": "2022-05-10T15:23:18.122Z"
   },
   {
    "duration": 262,
    "start_time": "2022-05-10T15:23:18.129Z"
   },
   {
    "duration": 202,
    "start_time": "2022-05-10T15:23:18.393Z"
   },
   {
    "duration": 24,
    "start_time": "2022-05-10T15:23:18.597Z"
   },
   {
    "duration": 3,
    "start_time": "2022-05-10T15:23:18.623Z"
   },
   {
    "duration": 40,
    "start_time": "2022-05-10T15:23:18.627Z"
   },
   {
    "duration": 16,
    "start_time": "2022-05-10T15:23:18.668Z"
   },
   {
    "duration": 2,
    "start_time": "2022-05-10T15:23:18.685Z"
   },
   {
    "duration": 17,
    "start_time": "2022-05-10T15:23:30.287Z"
   },
   {
    "duration": 8,
    "start_time": "2022-05-10T15:23:32.394Z"
   },
   {
    "duration": 31,
    "start_time": "2022-05-10T15:23:35.745Z"
   },
   {
    "duration": 7,
    "start_time": "2022-05-10T15:23:38.038Z"
   },
   {
    "duration": 11,
    "start_time": "2022-05-10T15:23:59.361Z"
   },
   {
    "duration": 7,
    "start_time": "2022-05-10T15:26:40.061Z"
   },
   {
    "duration": 83,
    "start_time": "2022-05-10T15:26:44.975Z"
   },
   {
    "duration": 28,
    "start_time": "2022-05-10T15:26:45.060Z"
   },
   {
    "duration": 24,
    "start_time": "2022-05-10T15:26:45.090Z"
   },
   {
    "duration": 15,
    "start_time": "2022-05-10T15:26:45.116Z"
   },
   {
    "duration": 54,
    "start_time": "2022-05-10T15:26:45.151Z"
   },
   {
    "duration": 20,
    "start_time": "2022-05-10T15:26:45.206Z"
   },
   {
    "duration": 178,
    "start_time": "2022-05-10T15:26:45.228Z"
   },
   {
    "duration": 235,
    "start_time": "2022-05-10T15:26:45.408Z"
   },
   {
    "duration": 526,
    "start_time": "2022-05-10T15:26:45.648Z"
   },
   {
    "duration": 893,
    "start_time": "2022-05-10T15:26:46.177Z"
   },
   {
    "duration": 681,
    "start_time": "2022-05-10T15:26:47.071Z"
   },
   {
    "duration": 67,
    "start_time": "2022-05-10T15:26:47.754Z"
   },
   {
    "duration": 49,
    "start_time": "2022-05-10T15:26:47.823Z"
   },
   {
    "duration": 10,
    "start_time": "2022-05-10T15:26:47.875Z"
   },
   {
    "duration": 244,
    "start_time": "2022-05-10T15:26:47.886Z"
   },
   {
    "duration": 383,
    "start_time": "2022-05-10T15:26:48.132Z"
   },
   {
    "duration": 15,
    "start_time": "2022-05-10T15:26:48.517Z"
   },
   {
    "duration": 2,
    "start_time": "2022-05-10T15:26:48.534Z"
   },
   {
    "duration": 34,
    "start_time": "2022-05-10T15:26:48.537Z"
   },
   {
    "duration": 16,
    "start_time": "2022-05-10T15:26:48.572Z"
   },
   {
    "duration": 2,
    "start_time": "2022-05-10T15:26:48.589Z"
   },
   {
    "duration": 12,
    "start_time": "2022-05-10T15:27:20.948Z"
   },
   {
    "duration": 7,
    "start_time": "2022-05-10T15:27:29.689Z"
   },
   {
    "duration": 37,
    "start_time": "2022-05-10T15:27:37.729Z"
   },
   {
    "duration": 10,
    "start_time": "2022-05-10T15:28:00.561Z"
   },
   {
    "duration": 9,
    "start_time": "2022-05-10T15:28:11.447Z"
   },
   {
    "duration": 21,
    "start_time": "2022-05-10T15:28:16.622Z"
   },
   {
    "duration": 8,
    "start_time": "2022-05-10T15:28:25.081Z"
   },
   {
    "duration": 27,
    "start_time": "2022-05-10T15:31:31.472Z"
   },
   {
    "duration": 46,
    "start_time": "2022-05-10T15:32:04.735Z"
   },
   {
    "duration": 26,
    "start_time": "2022-05-10T15:32:10.535Z"
   },
   {
    "duration": 6,
    "start_time": "2022-05-10T15:33:05.284Z"
   },
   {
    "duration": 10,
    "start_time": "2022-05-10T15:33:11.357Z"
   },
   {
    "duration": 10,
    "start_time": "2022-05-10T15:33:22.304Z"
   },
   {
    "duration": 10,
    "start_time": "2022-05-10T15:33:28.918Z"
   },
   {
    "duration": 9,
    "start_time": "2022-05-10T15:33:56.907Z"
   },
   {
    "duration": 9,
    "start_time": "2022-05-10T15:34:01.293Z"
   },
   {
    "duration": 14,
    "start_time": "2022-05-10T15:34:12.876Z"
   },
   {
    "duration": 13,
    "start_time": "2022-05-10T15:34:17.027Z"
   },
   {
    "duration": 10,
    "start_time": "2022-05-10T15:34:19.532Z"
   },
   {
    "duration": 9,
    "start_time": "2022-05-10T15:34:29.565Z"
   },
   {
    "duration": 16,
    "start_time": "2022-05-10T15:37:49.136Z"
   },
   {
    "duration": 15,
    "start_time": "2022-05-10T15:38:11.911Z"
   },
   {
    "duration": 87,
    "start_time": "2022-05-10T15:38:15.514Z"
   },
   {
    "duration": 25,
    "start_time": "2022-05-10T15:38:15.603Z"
   },
   {
    "duration": 35,
    "start_time": "2022-05-10T15:38:15.651Z"
   },
   {
    "duration": 15,
    "start_time": "2022-05-10T15:38:15.688Z"
   },
   {
    "duration": 64,
    "start_time": "2022-05-10T15:38:15.704Z"
   },
   {
    "duration": 15,
    "start_time": "2022-05-10T15:38:15.770Z"
   },
   {
    "duration": 180,
    "start_time": "2022-05-10T15:38:15.786Z"
   },
   {
    "duration": 326,
    "start_time": "2022-05-10T15:38:15.967Z"
   },
   {
    "duration": 394,
    "start_time": "2022-05-10T15:38:16.295Z"
   },
   {
    "duration": 492,
    "start_time": "2022-05-10T15:38:16.691Z"
   },
   {
    "duration": 674,
    "start_time": "2022-05-10T15:38:17.184Z"
   },
   {
    "duration": 46,
    "start_time": "2022-05-10T15:38:17.860Z"
   },
   {
    "duration": 48,
    "start_time": "2022-05-10T15:38:17.908Z"
   },
   {
    "duration": 213,
    "start_time": "2022-05-10T15:38:17.958Z"
   },
   {
    "duration": 193,
    "start_time": "2022-05-10T15:38:18.173Z"
   },
   {
    "duration": 16,
    "start_time": "2022-05-10T15:38:18.367Z"
   },
   {
    "duration": 2,
    "start_time": "2022-05-10T15:38:18.385Z"
   },
   {
    "duration": 28,
    "start_time": "2022-05-10T15:38:18.389Z"
   },
   {
    "duration": 28,
    "start_time": "2022-05-10T15:38:18.420Z"
   },
   {
    "duration": 19,
    "start_time": "2022-05-10T15:38:18.453Z"
   },
   {
    "duration": 2,
    "start_time": "2022-05-10T15:38:18.474Z"
   },
   {
    "duration": 21,
    "start_time": "2022-05-10T15:39:43.974Z"
   },
   {
    "duration": 12,
    "start_time": "2022-05-10T15:39:55.527Z"
   },
   {
    "duration": 18,
    "start_time": "2022-05-10T15:40:41.969Z"
   },
   {
    "duration": 9,
    "start_time": "2022-05-10T15:41:00.631Z"
   },
   {
    "duration": 27,
    "start_time": "2022-05-10T15:41:11.176Z"
   },
   {
    "duration": 26,
    "start_time": "2022-05-10T15:41:44.931Z"
   },
   {
    "duration": 28,
    "start_time": "2022-05-10T15:42:39.792Z"
   },
   {
    "duration": 37,
    "start_time": "2022-05-10T15:42:43.751Z"
   },
   {
    "duration": 30,
    "start_time": "2022-05-10T15:44:15.195Z"
   },
   {
    "duration": 8,
    "start_time": "2022-05-10T15:44:18.222Z"
   },
   {
    "duration": 12,
    "start_time": "2022-05-10T15:45:41.105Z"
   },
   {
    "duration": 21,
    "start_time": "2022-05-10T15:45:45.863Z"
   },
   {
    "duration": 30,
    "start_time": "2022-05-10T15:46:16.988Z"
   },
   {
    "duration": 13,
    "start_time": "2022-05-10T15:46:28.941Z"
   },
   {
    "duration": 12,
    "start_time": "2022-05-10T15:46:48.705Z"
   },
   {
    "duration": 15,
    "start_time": "2022-05-10T15:46:52.161Z"
   },
   {
    "duration": 22,
    "start_time": "2022-05-10T15:47:04.665Z"
   },
   {
    "duration": 2009,
    "start_time": "2022-05-10T15:47:30.096Z"
   },
   {
    "duration": 30,
    "start_time": "2022-05-10T15:47:47.505Z"
   },
   {
    "duration": 22,
    "start_time": "2022-05-10T15:48:06.215Z"
   },
   {
    "duration": 31,
    "start_time": "2022-05-10T15:48:20.420Z"
   },
   {
    "duration": 23,
    "start_time": "2022-05-10T15:48:24.423Z"
   },
   {
    "duration": 23,
    "start_time": "2022-05-10T15:48:31.465Z"
   },
   {
    "duration": 2012,
    "start_time": "2022-05-10T15:48:51.392Z"
   },
   {
    "duration": 24,
    "start_time": "2022-05-10T15:49:06.684Z"
   },
   {
    "duration": 36,
    "start_time": "2022-05-10T15:49:39.428Z"
   },
   {
    "duration": 22,
    "start_time": "2022-05-10T15:49:57.664Z"
   },
   {
    "duration": 28,
    "start_time": "2022-05-10T15:50:20.727Z"
   },
   {
    "duration": 21,
    "start_time": "2022-05-10T15:51:46.555Z"
   },
   {
    "duration": 32,
    "start_time": "2022-05-10T15:55:15.663Z"
   },
   {
    "duration": 19,
    "start_time": "2022-05-10T15:55:22.187Z"
   },
   {
    "duration": 24,
    "start_time": "2022-05-10T15:55:41.563Z"
   },
   {
    "duration": 34,
    "start_time": "2022-05-10T15:57:19.063Z"
   },
   {
    "duration": 22,
    "start_time": "2022-05-10T15:57:40.888Z"
   },
   {
    "duration": 25,
    "start_time": "2022-05-10T15:57:46.928Z"
   },
   {
    "duration": 24,
    "start_time": "2022-05-10T15:58:47.671Z"
   },
   {
    "duration": 24,
    "start_time": "2022-05-10T15:59:43.695Z"
   },
   {
    "duration": 82,
    "start_time": "2022-05-10T15:59:54.314Z"
   },
   {
    "duration": 54,
    "start_time": "2022-05-10T15:59:54.398Z"
   },
   {
    "duration": 37,
    "start_time": "2022-05-10T15:59:54.454Z"
   },
   {
    "duration": 15,
    "start_time": "2022-05-10T15:59:54.493Z"
   },
   {
    "duration": 61,
    "start_time": "2022-05-10T15:59:54.509Z"
   },
   {
    "duration": 15,
    "start_time": "2022-05-10T15:59:54.572Z"
   },
   {
    "duration": 188,
    "start_time": "2022-05-10T15:59:54.588Z"
   },
   {
    "duration": 243,
    "start_time": "2022-05-10T15:59:54.778Z"
   },
   {
    "duration": 419,
    "start_time": "2022-05-10T15:59:55.022Z"
   },
   {
    "duration": 596,
    "start_time": "2022-05-10T15:59:55.444Z"
   },
   {
    "duration": 690,
    "start_time": "2022-05-10T15:59:56.042Z"
   },
   {
    "duration": 58,
    "start_time": "2022-05-10T15:59:56.734Z"
   },
   {
    "duration": 24,
    "start_time": "2022-05-10T15:59:56.794Z"
   },
   {
    "duration": 240,
    "start_time": "2022-05-10T15:59:56.820Z"
   },
   {
    "duration": 172,
    "start_time": "2022-05-10T15:59:57.063Z"
   },
   {
    "duration": 18,
    "start_time": "2022-05-10T15:59:57.237Z"
   },
   {
    "duration": 3,
    "start_time": "2022-05-10T15:59:57.256Z"
   },
   {
    "duration": 27,
    "start_time": "2022-05-10T15:59:57.261Z"
   },
   {
    "duration": 9,
    "start_time": "2022-05-10T15:59:57.289Z"
   },
   {
    "duration": 26,
    "start_time": "2022-05-10T15:59:57.299Z"
   },
   {
    "duration": 2,
    "start_time": "2022-05-10T15:59:57.326Z"
   },
   {
    "duration": 8,
    "start_time": "2022-05-10T16:02:04.087Z"
   },
   {
    "duration": 27,
    "start_time": "2022-05-10T16:03:08.130Z"
   },
   {
    "duration": 22,
    "start_time": "2022-05-10T16:03:43.815Z"
   },
   {
    "duration": 9,
    "start_time": "2022-05-10T16:03:47.398Z"
   },
   {
    "duration": 25,
    "start_time": "2022-05-10T16:04:00.564Z"
   },
   {
    "duration": 9,
    "start_time": "2022-05-10T16:04:03.381Z"
   },
   {
    "duration": 21,
    "start_time": "2022-05-10T16:04:09.386Z"
   },
   {
    "duration": 26,
    "start_time": "2022-05-10T16:04:12.737Z"
   },
   {
    "duration": 23,
    "start_time": "2022-05-10T16:04:22.976Z"
   },
   {
    "duration": 21,
    "start_time": "2022-05-10T16:04:31.378Z"
   },
   {
    "duration": 14,
    "start_time": "2022-05-10T16:04:37.671Z"
   },
   {
    "duration": 6,
    "start_time": "2022-05-10T16:06:47.315Z"
   },
   {
    "duration": 16,
    "start_time": "2022-05-10T16:07:29.045Z"
   },
   {
    "duration": 10,
    "start_time": "2022-05-10T16:07:38.115Z"
   },
   {
    "duration": 11,
    "start_time": "2022-05-10T16:07:54.257Z"
   },
   {
    "duration": 70,
    "start_time": "2022-05-10T16:08:01.295Z"
   },
   {
    "duration": 14,
    "start_time": "2022-05-10T16:08:14.957Z"
   },
   {
    "duration": 17,
    "start_time": "2022-05-10T16:09:06.761Z"
   },
   {
    "duration": 10,
    "start_time": "2022-05-10T16:09:19.335Z"
   },
   {
    "duration": 8,
    "start_time": "2022-05-10T16:09:26.335Z"
   },
   {
    "duration": 3,
    "start_time": "2022-05-10T16:09:52.054Z"
   },
   {
    "duration": 66270,
    "start_time": "2022-05-10T16:17:02.033Z"
   },
   {
    "duration": 20,
    "start_time": "2022-05-10T16:18:56.392Z"
   },
   {
    "duration": 100,
    "start_time": "2022-05-10T17:26:04.513Z"
   },
   {
    "duration": 25,
    "start_time": "2022-05-10T17:26:04.615Z"
   },
   {
    "duration": 49,
    "start_time": "2022-05-10T17:26:04.641Z"
   },
   {
    "duration": 16,
    "start_time": "2022-05-10T17:26:04.692Z"
   },
   {
    "duration": 74,
    "start_time": "2022-05-10T17:26:04.710Z"
   },
   {
    "duration": 16,
    "start_time": "2022-05-10T17:26:04.786Z"
   },
   {
    "duration": 208,
    "start_time": "2022-05-10T17:26:04.803Z"
   },
   {
    "duration": 264,
    "start_time": "2022-05-10T17:26:05.012Z"
   },
   {
    "duration": 440,
    "start_time": "2022-05-10T17:26:05.277Z"
   },
   {
    "duration": 525,
    "start_time": "2022-05-10T17:26:05.719Z"
   },
   {
    "duration": 763,
    "start_time": "2022-05-10T17:26:06.250Z"
   },
   {
    "duration": 54,
    "start_time": "2022-05-10T17:26:07.014Z"
   },
   {
    "duration": 6,
    "start_time": "2022-05-10T17:26:07.071Z"
   },
   {
    "duration": 25,
    "start_time": "2022-05-10T17:26:07.080Z"
   },
   {
    "duration": 240,
    "start_time": "2022-05-10T17:26:07.107Z"
   },
   {
    "duration": 186,
    "start_time": "2022-05-10T17:26:07.349Z"
   },
   {
    "duration": 17,
    "start_time": "2022-05-10T17:26:07.537Z"
   },
   {
    "duration": 29,
    "start_time": "2022-05-10T17:26:07.556Z"
   },
   {
    "duration": 21,
    "start_time": "2022-05-10T17:26:07.587Z"
   },
   {
    "duration": 16,
    "start_time": "2022-05-10T17:26:07.609Z"
   },
   {
    "duration": 0,
    "start_time": "2022-05-10T17:26:07.626Z"
   },
   {
    "duration": 0,
    "start_time": "2022-05-10T17:26:07.627Z"
   },
   {
    "duration": 1435,
    "start_time": "2022-05-10T17:30:35.716Z"
   },
   {
    "duration": 41,
    "start_time": "2022-05-10T17:30:37.154Z"
   },
   {
    "duration": 23,
    "start_time": "2022-05-10T17:30:37.197Z"
   },
   {
    "duration": 32,
    "start_time": "2022-05-10T17:30:37.221Z"
   },
   {
    "duration": 411,
    "start_time": "2022-05-10T17:30:37.255Z"
   },
   {
    "duration": 23,
    "start_time": "2022-05-10T17:30:37.668Z"
   },
   {
    "duration": 259,
    "start_time": "2022-05-10T17:30:37.693Z"
   },
   {
    "duration": 270,
    "start_time": "2022-05-10T17:30:37.954Z"
   },
   {
    "duration": 664,
    "start_time": "2022-05-10T17:30:38.226Z"
   },
   {
    "duration": 592,
    "start_time": "2022-05-10T17:30:38.894Z"
   },
   {
    "duration": 782,
    "start_time": "2022-05-10T17:30:39.488Z"
   },
   {
    "duration": 48,
    "start_time": "2022-05-10T17:30:40.272Z"
   },
   {
    "duration": 3,
    "start_time": "2022-05-10T17:30:40.321Z"
   },
   {
    "duration": 49,
    "start_time": "2022-05-10T17:30:40.325Z"
   },
   {
    "duration": 252,
    "start_time": "2022-05-10T17:30:40.376Z"
   },
   {
    "duration": 245,
    "start_time": "2022-05-10T17:30:40.629Z"
   },
   {
    "duration": 20,
    "start_time": "2022-05-10T17:30:40.877Z"
   },
   {
    "duration": 3,
    "start_time": "2022-05-10T17:30:40.898Z"
   },
   {
    "duration": 30,
    "start_time": "2022-05-10T17:30:40.902Z"
   },
   {
    "duration": 40,
    "start_time": "2022-05-10T17:30:40.934Z"
   },
   {
    "duration": 199,
    "start_time": "2022-05-10T17:30:40.976Z"
   },
   {
    "duration": 0,
    "start_time": "2022-05-10T17:30:41.177Z"
   },
   {
    "duration": 0,
    "start_time": "2022-05-10T17:30:41.179Z"
   },
   {
    "duration": 113155,
    "start_time": "2022-05-10T17:31:04.322Z"
   },
   {
    "duration": 0,
    "start_time": "2022-05-10T17:32:57.493Z"
   },
   {
    "duration": 12,
    "start_time": "2022-05-10T17:33:54.319Z"
   },
   {
    "duration": 154,
    "start_time": "2022-05-10T17:33:58.916Z"
   },
   {
    "duration": 145,
    "start_time": "2022-05-10T17:35:07.059Z"
   },
   {
    "duration": 11,
    "start_time": "2022-05-10T17:35:17.363Z"
   },
   {
    "duration": 144,
    "start_time": "2022-05-10T17:35:30.289Z"
   },
   {
    "duration": 10,
    "start_time": "2022-05-10T17:35:46.768Z"
   },
   {
    "duration": 78,
    "start_time": "2022-05-10T17:35:54.164Z"
   },
   {
    "duration": 31,
    "start_time": "2022-05-10T17:35:54.244Z"
   },
   {
    "duration": 25,
    "start_time": "2022-05-10T17:35:54.277Z"
   },
   {
    "duration": 17,
    "start_time": "2022-05-10T17:35:54.304Z"
   },
   {
    "duration": 73,
    "start_time": "2022-05-10T17:35:54.324Z"
   },
   {
    "duration": 15,
    "start_time": "2022-05-10T17:35:54.399Z"
   },
   {
    "duration": 172,
    "start_time": "2022-05-10T17:35:54.415Z"
   },
   {
    "duration": 235,
    "start_time": "2022-05-10T17:35:54.589Z"
   },
   {
    "duration": 407,
    "start_time": "2022-05-10T17:35:54.826Z"
   },
   {
    "duration": 502,
    "start_time": "2022-05-10T17:35:55.234Z"
   },
   {
    "duration": 682,
    "start_time": "2022-05-10T17:35:55.737Z"
   },
   {
    "duration": 63,
    "start_time": "2022-05-10T17:35:56.421Z"
   },
   {
    "duration": 2,
    "start_time": "2022-05-10T17:35:56.486Z"
   },
   {
    "duration": 25,
    "start_time": "2022-05-10T17:35:56.490Z"
   },
   {
    "duration": 227,
    "start_time": "2022-05-10T17:35:56.517Z"
   },
   {
    "duration": 196,
    "start_time": "2022-05-10T17:35:56.746Z"
   },
   {
    "duration": 20,
    "start_time": "2022-05-10T17:35:56.944Z"
   },
   {
    "duration": 2,
    "start_time": "2022-05-10T17:35:56.965Z"
   },
   {
    "duration": 22,
    "start_time": "2022-05-10T17:35:56.968Z"
   },
   {
    "duration": 6,
    "start_time": "2022-05-10T17:35:56.991Z"
   },
   {
    "duration": 13,
    "start_time": "2022-05-10T17:35:56.998Z"
   },
   {
    "duration": 0,
    "start_time": "2022-05-10T17:35:57.013Z"
   },
   {
    "duration": 0,
    "start_time": "2022-05-10T17:35:57.014Z"
   },
   {
    "duration": 0,
    "start_time": "2022-05-10T17:35:57.015Z"
   },
   {
    "duration": 11,
    "start_time": "2022-05-10T17:36:10.884Z"
   },
   {
    "duration": 5639,
    "start_time": "2022-05-10T17:36:27.731Z"
   },
   {
    "duration": 6,
    "start_time": "2022-05-10T17:36:57.417Z"
   },
   {
    "duration": 14,
    "start_time": "2022-05-10T17:37:09.097Z"
   },
   {
    "duration": 6,
    "start_time": "2022-05-10T17:38:26.026Z"
   },
   {
    "duration": 5,
    "start_time": "2022-05-10T17:38:43.872Z"
   },
   {
    "duration": 19,
    "start_time": "2022-05-10T17:39:19.259Z"
   },
   {
    "duration": 116,
    "start_time": "2022-05-10T17:39:27.973Z"
   },
   {
    "duration": 22,
    "start_time": "2022-05-10T17:39:32.351Z"
   },
   {
    "duration": 16,
    "start_time": "2022-05-10T17:39:41.019Z"
   },
   {
    "duration": 315,
    "start_time": "2022-05-10T17:40:39.139Z"
   },
   {
    "duration": 18335,
    "start_time": "2022-05-10T17:41:25.011Z"
   },
   {
    "duration": 445,
    "start_time": "2022-05-10T17:41:45.511Z"
   },
   {
    "duration": 12,
    "start_time": "2022-05-10T17:41:52.187Z"
   },
   {
    "duration": 10,
    "start_time": "2022-05-10T17:48:00.220Z"
   },
   {
    "duration": 13,
    "start_time": "2022-05-10T17:48:37.189Z"
   },
   {
    "duration": 15,
    "start_time": "2022-05-10T17:49:45.062Z"
   },
   {
    "duration": 9,
    "start_time": "2022-05-10T17:51:23.452Z"
   },
   {
    "duration": 20,
    "start_time": "2022-05-10T17:51:35.222Z"
   },
   {
    "duration": 11,
    "start_time": "2022-05-10T17:51:45.209Z"
   },
   {
    "duration": 10,
    "start_time": "2022-05-10T17:53:48.175Z"
   },
   {
    "duration": 7,
    "start_time": "2022-05-10T17:54:05.617Z"
   },
   {
    "duration": 174,
    "start_time": "2022-05-10T17:55:16.356Z"
   },
   {
    "duration": 164,
    "start_time": "2022-05-10T17:55:33.924Z"
   },
   {
    "duration": 17,
    "start_time": "2022-05-10T17:55:39.140Z"
   },
   {
    "duration": 389,
    "start_time": "2022-05-10T17:55:51.020Z"
   },
   {
    "duration": 176,
    "start_time": "2022-05-10T17:56:02.235Z"
   },
   {
    "duration": 196,
    "start_time": "2022-05-10T17:57:24.777Z"
   },
   {
    "duration": 164,
    "start_time": "2022-05-10T17:57:32.708Z"
   },
   {
    "duration": 161,
    "start_time": "2022-05-10T17:57:50.647Z"
   },
   {
    "duration": 110,
    "start_time": "2022-05-10T17:58:50.861Z"
   },
   {
    "duration": 25,
    "start_time": "2022-05-10T17:58:50.974Z"
   },
   {
    "duration": 27,
    "start_time": "2022-05-10T17:58:51.001Z"
   },
   {
    "duration": 25,
    "start_time": "2022-05-10T17:58:51.031Z"
   },
   {
    "duration": 56,
    "start_time": "2022-05-10T17:58:51.057Z"
   },
   {
    "duration": 16,
    "start_time": "2022-05-10T17:58:51.114Z"
   },
   {
    "duration": 283,
    "start_time": "2022-05-10T17:58:51.132Z"
   },
   {
    "duration": 227,
    "start_time": "2022-05-10T17:58:51.417Z"
   },
   {
    "duration": 399,
    "start_time": "2022-05-10T17:58:51.648Z"
   },
   {
    "duration": 599,
    "start_time": "2022-05-10T17:58:52.051Z"
   },
   {
    "duration": 984,
    "start_time": "2022-05-10T17:58:52.652Z"
   },
   {
    "duration": 171,
    "start_time": "2022-05-10T17:58:53.638Z"
   },
   {
    "duration": 3,
    "start_time": "2022-05-10T17:58:53.810Z"
   },
   {
    "duration": 49,
    "start_time": "2022-05-10T17:58:53.814Z"
   },
   {
    "duration": 310,
    "start_time": "2022-05-10T17:58:53.865Z"
   },
   {
    "duration": 222,
    "start_time": "2022-05-10T17:58:54.177Z"
   },
   {
    "duration": 16,
    "start_time": "2022-05-10T17:58:54.400Z"
   },
   {
    "duration": 5,
    "start_time": "2022-05-10T17:58:54.418Z"
   },
   {
    "duration": 32,
    "start_time": "2022-05-10T17:58:54.425Z"
   },
   {
    "duration": 14,
    "start_time": "2022-05-10T17:58:54.459Z"
   },
   {
    "duration": 158,
    "start_time": "2022-05-10T17:58:54.474Z"
   },
   {
    "duration": 18,
    "start_time": "2022-05-10T17:59:19.214Z"
   },
   {
    "duration": 11,
    "start_time": "2022-05-10T18:00:58.330Z"
   },
   {
    "duration": 12,
    "start_time": "2022-05-10T18:01:18.811Z"
   },
   {
    "duration": 159,
    "start_time": "2022-05-10T18:01:20.973Z"
   },
   {
    "duration": 12,
    "start_time": "2022-05-10T18:01:36.764Z"
   },
   {
    "duration": 19,
    "start_time": "2022-05-10T18:01:49.442Z"
   },
   {
    "duration": 6,
    "start_time": "2022-05-10T18:02:03.761Z"
   },
   {
    "duration": 7,
    "start_time": "2022-05-10T18:02:06.314Z"
   },
   {
    "duration": 8,
    "start_time": "2022-05-10T18:02:37.284Z"
   },
   {
    "duration": 12,
    "start_time": "2022-05-10T18:02:42.095Z"
   },
   {
    "duration": 12,
    "start_time": "2022-05-10T18:02:51.129Z"
   },
   {
    "duration": 15,
    "start_time": "2022-05-10T18:02:56.406Z"
   },
   {
    "duration": 113,
    "start_time": "2022-05-10T18:03:04.688Z"
   },
   {
    "duration": 26,
    "start_time": "2022-05-10T18:03:04.803Z"
   },
   {
    "duration": 50,
    "start_time": "2022-05-10T18:03:04.830Z"
   },
   {
    "duration": 17,
    "start_time": "2022-05-10T18:03:04.882Z"
   },
   {
    "duration": 85,
    "start_time": "2022-05-10T18:03:04.902Z"
   },
   {
    "duration": 23,
    "start_time": "2022-05-10T18:03:04.989Z"
   },
   {
    "duration": 200,
    "start_time": "2022-05-10T18:03:05.013Z"
   },
   {
    "duration": 298,
    "start_time": "2022-05-10T18:03:05.215Z"
   },
   {
    "duration": 551,
    "start_time": "2022-05-10T18:03:05.515Z"
   },
   {
    "duration": 511,
    "start_time": "2022-05-10T18:03:06.068Z"
   },
   {
    "duration": 700,
    "start_time": "2022-05-10T18:03:06.582Z"
   },
   {
    "duration": 48,
    "start_time": "2022-05-10T18:03:07.284Z"
   },
   {
    "duration": 4,
    "start_time": "2022-05-10T18:03:07.347Z"
   },
   {
    "duration": 34,
    "start_time": "2022-05-10T18:03:07.355Z"
   },
   {
    "duration": 232,
    "start_time": "2022-05-10T18:03:07.391Z"
   },
   {
    "duration": 154,
    "start_time": "2022-05-10T18:03:07.625Z"
   },
   {
    "duration": 18,
    "start_time": "2022-05-10T18:03:07.780Z"
   },
   {
    "duration": 3,
    "start_time": "2022-05-10T18:03:07.800Z"
   },
   {
    "duration": 23,
    "start_time": "2022-05-10T18:03:07.805Z"
   },
   {
    "duration": 39,
    "start_time": "2022-05-10T18:03:07.831Z"
   },
   {
    "duration": 264,
    "start_time": "2022-05-10T18:03:07.872Z"
   },
   {
    "duration": 9,
    "start_time": "2022-05-10T18:03:39.231Z"
   },
   {
    "duration": 10,
    "start_time": "2022-05-10T18:03:48.921Z"
   },
   {
    "duration": 10,
    "start_time": "2022-05-10T18:03:59.244Z"
   },
   {
    "duration": 8,
    "start_time": "2022-05-10T18:04:27.428Z"
   },
   {
    "duration": 132,
    "start_time": "2022-05-10T18:05:25.420Z"
   },
   {
    "duration": 8,
    "start_time": "2022-05-10T18:05:32.146Z"
   },
   {
    "duration": 150,
    "start_time": "2022-05-10T18:10:24.768Z"
   },
   {
    "duration": 111,
    "start_time": "2022-05-10T18:18:25.379Z"
   },
   {
    "duration": 25,
    "start_time": "2022-05-10T18:18:25.492Z"
   },
   {
    "duration": 47,
    "start_time": "2022-05-10T18:18:25.519Z"
   },
   {
    "duration": 19,
    "start_time": "2022-05-10T18:18:25.568Z"
   },
   {
    "duration": 66,
    "start_time": "2022-05-10T18:18:25.590Z"
   },
   {
    "duration": 24,
    "start_time": "2022-05-10T18:18:25.658Z"
   },
   {
    "duration": 180,
    "start_time": "2022-05-10T18:18:25.684Z"
   },
   {
    "duration": 231,
    "start_time": "2022-05-10T18:18:25.865Z"
   },
   {
    "duration": 402,
    "start_time": "2022-05-10T18:18:26.098Z"
   },
   {
    "duration": 495,
    "start_time": "2022-05-10T18:18:26.501Z"
   },
   {
    "duration": 682,
    "start_time": "2022-05-10T18:18:26.998Z"
   },
   {
    "duration": 45,
    "start_time": "2022-05-10T18:18:27.682Z"
   },
   {
    "duration": 2,
    "start_time": "2022-05-10T18:18:27.729Z"
   },
   {
    "duration": 30,
    "start_time": "2022-05-10T18:18:27.749Z"
   },
   {
    "duration": 228,
    "start_time": "2022-05-10T18:18:27.781Z"
   },
   {
    "duration": 194,
    "start_time": "2022-05-10T18:18:28.011Z"
   },
   {
    "duration": 16,
    "start_time": "2022-05-10T18:18:28.206Z"
   },
   {
    "duration": 2,
    "start_time": "2022-05-10T18:18:28.224Z"
   },
   {
    "duration": 13,
    "start_time": "2022-05-10T18:18:28.227Z"
   },
   {
    "duration": 9,
    "start_time": "2022-05-10T18:18:28.241Z"
   },
   {
    "duration": 161,
    "start_time": "2022-05-10T18:18:28.252Z"
   },
   {
    "duration": 12,
    "start_time": "2022-05-10T18:18:36.472Z"
   },
   {
    "duration": 13,
    "start_time": "2022-05-10T18:30:36.495Z"
   },
   {
    "duration": 2989,
    "start_time": "2022-05-11T12:50:34.190Z"
   },
   {
    "duration": 81,
    "start_time": "2022-05-11T12:50:37.183Z"
   },
   {
    "duration": 75,
    "start_time": "2022-05-11T12:50:37.267Z"
   },
   {
    "duration": 37,
    "start_time": "2022-05-11T12:50:37.350Z"
   },
   {
    "duration": 640,
    "start_time": "2022-05-11T12:50:37.392Z"
   },
   {
    "duration": 92,
    "start_time": "2022-05-11T12:50:38.035Z"
   },
   {
    "duration": 513,
    "start_time": "2022-05-11T12:50:38.130Z"
   },
   {
    "duration": 803,
    "start_time": "2022-05-11T12:50:38.646Z"
   },
   {
    "duration": 1133,
    "start_time": "2022-05-11T12:50:39.452Z"
   },
   {
    "duration": 1034,
    "start_time": "2022-05-11T12:50:40.590Z"
   },
   {
    "duration": 2026,
    "start_time": "2022-05-11T12:50:41.627Z"
   },
   {
    "duration": 120,
    "start_time": "2022-05-11T12:50:43.655Z"
   },
   {
    "duration": 81,
    "start_time": "2022-05-11T12:50:43.778Z"
   },
   {
    "duration": 829,
    "start_time": "2022-05-11T12:50:43.863Z"
   },
   {
    "duration": 382,
    "start_time": "2022-05-11T12:50:44.696Z"
   },
   {
    "duration": 55,
    "start_time": "2022-05-11T12:50:45.082Z"
   },
   {
    "duration": 5,
    "start_time": "2022-05-11T12:50:45.140Z"
   },
   {
    "duration": 36,
    "start_time": "2022-05-11T12:50:45.148Z"
   },
   {
    "duration": 47,
    "start_time": "2022-05-11T12:50:45.186Z"
   },
   {
    "duration": 313,
    "start_time": "2022-05-11T12:50:45.236Z"
   },
   {
    "duration": 25,
    "start_time": "2022-05-11T12:50:45.552Z"
   },
   {
    "duration": 21,
    "start_time": "2022-05-11T13:02:10.338Z"
   },
   {
    "duration": 25,
    "start_time": "2022-05-11T13:02:23.923Z"
   },
   {
    "duration": 9,
    "start_time": "2022-05-11T13:02:39.988Z"
   },
   {
    "duration": 20,
    "start_time": "2022-05-11T13:02:46.464Z"
   },
   {
    "duration": 34,
    "start_time": "2022-05-11T13:08:31.958Z"
   },
   {
    "duration": 19,
    "start_time": "2022-05-11T13:08:33.617Z"
   },
   {
    "duration": 31,
    "start_time": "2022-05-11T13:08:36.411Z"
   },
   {
    "duration": 27,
    "start_time": "2022-05-11T13:08:46.160Z"
   },
   {
    "duration": 24,
    "start_time": "2022-05-11T13:09:03.311Z"
   },
   {
    "duration": 81,
    "start_time": "2022-05-11T13:09:33.138Z"
   },
   {
    "duration": 88,
    "start_time": "2022-05-11T13:09:36.258Z"
   },
   {
    "duration": 923,
    "start_time": "2022-05-11T13:09:59.998Z"
   },
   {
    "duration": 30,
    "start_time": "2022-05-11T13:10:16.263Z"
   },
   {
    "duration": 25,
    "start_time": "2022-05-11T13:11:03.119Z"
   },
   {
    "duration": 24,
    "start_time": "2022-05-11T13:11:04.561Z"
   },
   {
    "duration": 27,
    "start_time": "2022-05-11T13:11:11.838Z"
   },
   {
    "duration": 23,
    "start_time": "2022-05-11T13:11:17.719Z"
   },
   {
    "duration": 588,
    "start_time": "2022-05-11T13:11:21.397Z"
   },
   {
    "duration": 23,
    "start_time": "2022-05-11T13:11:25.940Z"
   },
   {
    "duration": 171,
    "start_time": "2022-05-11T13:11:42.199Z"
   },
   {
    "duration": 80,
    "start_time": "2022-05-11T13:11:42.374Z"
   },
   {
    "duration": 42,
    "start_time": "2022-05-11T13:11:42.457Z"
   },
   {
    "duration": 43,
    "start_time": "2022-05-11T13:11:42.502Z"
   },
   {
    "duration": 104,
    "start_time": "2022-05-11T13:11:42.548Z"
   },
   {
    "duration": 24,
    "start_time": "2022-05-11T13:11:42.654Z"
   },
   {
    "duration": 315,
    "start_time": "2022-05-11T13:11:42.680Z"
   },
   {
    "duration": 522,
    "start_time": "2022-05-11T13:11:42.997Z"
   },
   {
    "duration": 729,
    "start_time": "2022-05-11T13:11:43.525Z"
   },
   {
    "duration": 901,
    "start_time": "2022-05-11T13:11:44.258Z"
   },
   {
    "duration": 1198,
    "start_time": "2022-05-11T13:11:45.162Z"
   },
   {
    "duration": 104,
    "start_time": "2022-05-11T13:11:46.363Z"
   },
   {
    "duration": 30,
    "start_time": "2022-05-11T13:11:46.470Z"
   },
   {
    "duration": 40,
    "start_time": "2022-05-11T13:11:46.503Z"
   },
   {
    "duration": 450,
    "start_time": "2022-05-11T13:11:46.546Z"
   },
   {
    "duration": 220,
    "start_time": "2022-05-11T13:11:46.999Z"
   },
   {
    "duration": 22,
    "start_time": "2022-05-11T13:11:47.221Z"
   },
   {
    "duration": 6,
    "start_time": "2022-05-11T13:11:47.246Z"
   },
   {
    "duration": 53,
    "start_time": "2022-05-11T13:11:47.254Z"
   },
   {
    "duration": 11,
    "start_time": "2022-05-11T13:11:47.310Z"
   },
   {
    "duration": 319,
    "start_time": "2022-05-11T13:11:47.324Z"
   },
   {
    "duration": 19,
    "start_time": "2022-05-11T13:11:47.646Z"
   },
   {
    "duration": 29,
    "start_time": "2022-05-11T13:12:02.239Z"
   },
   {
    "duration": 41,
    "start_time": "2022-05-11T13:12:08.042Z"
   },
   {
    "duration": 20,
    "start_time": "2022-05-11T13:13:38.357Z"
   },
   {
    "duration": 123,
    "start_time": "2022-05-11T13:13:47.841Z"
   },
   {
    "duration": 61,
    "start_time": "2022-05-11T13:13:47.968Z"
   },
   {
    "duration": 50,
    "start_time": "2022-05-11T13:13:48.031Z"
   },
   {
    "duration": 52,
    "start_time": "2022-05-11T13:13:48.084Z"
   },
   {
    "duration": 138,
    "start_time": "2022-05-11T13:13:48.138Z"
   },
   {
    "duration": 48,
    "start_time": "2022-05-11T13:13:48.278Z"
   },
   {
    "duration": 312,
    "start_time": "2022-05-11T13:13:48.329Z"
   },
   {
    "duration": 484,
    "start_time": "2022-05-11T13:13:48.644Z"
   },
   {
    "duration": 855,
    "start_time": "2022-05-11T13:13:49.130Z"
   },
   {
    "duration": 921,
    "start_time": "2022-05-11T13:13:49.989Z"
   },
   {
    "duration": 1207,
    "start_time": "2022-05-11T13:13:50.913Z"
   },
   {
    "duration": 76,
    "start_time": "2022-05-11T13:13:52.125Z"
   },
   {
    "duration": 48,
    "start_time": "2022-05-11T13:13:52.204Z"
   },
   {
    "duration": 22,
    "start_time": "2022-05-11T13:13:52.255Z"
   },
   {
    "duration": 58,
    "start_time": "2022-05-11T13:13:52.279Z"
   },
   {
    "duration": 0,
    "start_time": "2022-05-11T13:13:52.339Z"
   },
   {
    "duration": 0,
    "start_time": "2022-05-11T13:13:52.341Z"
   },
   {
    "duration": 0,
    "start_time": "2022-05-11T13:13:52.343Z"
   },
   {
    "duration": 0,
    "start_time": "2022-05-11T13:13:52.344Z"
   },
   {
    "duration": 0,
    "start_time": "2022-05-11T13:13:52.346Z"
   },
   {
    "duration": 0,
    "start_time": "2022-05-11T13:13:52.347Z"
   },
   {
    "duration": 0,
    "start_time": "2022-05-11T13:13:52.349Z"
   },
   {
    "duration": 27,
    "start_time": "2022-05-11T13:14:16.247Z"
   },
   {
    "duration": 27,
    "start_time": "2022-05-11T13:14:25.159Z"
   },
   {
    "duration": 389,
    "start_time": "2022-05-11T13:14:45.682Z"
   },
   {
    "duration": 18,
    "start_time": "2022-05-11T13:14:57.573Z"
   },
   {
    "duration": 106,
    "start_time": "2022-05-11T13:17:49.788Z"
   },
   {
    "duration": 54,
    "start_time": "2022-05-11T13:17:49.897Z"
   },
   {
    "duration": 41,
    "start_time": "2022-05-11T13:17:49.953Z"
   },
   {
    "duration": 61,
    "start_time": "2022-05-11T13:17:49.997Z"
   },
   {
    "duration": 144,
    "start_time": "2022-05-11T13:17:50.061Z"
   },
   {
    "duration": 44,
    "start_time": "2022-05-11T13:17:50.208Z"
   },
   {
    "duration": 316,
    "start_time": "2022-05-11T13:17:50.254Z"
   },
   {
    "duration": 436,
    "start_time": "2022-05-11T13:17:50.572Z"
   },
   {
    "duration": 1147,
    "start_time": "2022-05-11T13:17:51.010Z"
   },
   {
    "duration": 1046,
    "start_time": "2022-05-11T13:17:52.163Z"
   },
   {
    "duration": 1315,
    "start_time": "2022-05-11T13:17:53.212Z"
   },
   {
    "duration": 94,
    "start_time": "2022-05-11T13:17:54.530Z"
   },
   {
    "duration": 22,
    "start_time": "2022-05-11T13:17:54.627Z"
   },
   {
    "duration": 32,
    "start_time": "2022-05-11T13:17:54.651Z"
   },
   {
    "duration": 427,
    "start_time": "2022-05-11T13:17:54.685Z"
   },
   {
    "duration": 182,
    "start_time": "2022-05-11T13:17:55.115Z"
   },
   {
    "duration": 28,
    "start_time": "2022-05-11T13:17:55.300Z"
   },
   {
    "duration": 4,
    "start_time": "2022-05-11T13:17:55.330Z"
   },
   {
    "duration": 23,
    "start_time": "2022-05-11T13:17:55.337Z"
   },
   {
    "duration": 13,
    "start_time": "2022-05-11T13:17:55.363Z"
   },
   {
    "duration": 437,
    "start_time": "2022-05-11T13:17:55.379Z"
   },
   {
    "duration": 24,
    "start_time": "2022-05-11T13:17:55.818Z"
   },
   {
    "duration": 10,
    "start_time": "2022-05-11T13:18:47.488Z"
   },
   {
    "duration": 10,
    "start_time": "2022-05-11T13:18:49.482Z"
   },
   {
    "duration": 442,
    "start_time": "2022-05-11T13:18:52.504Z"
   },
   {
    "duration": 180,
    "start_time": "2022-05-11T13:19:08.957Z"
   },
   {
    "duration": 62,
    "start_time": "2022-05-11T13:19:09.140Z"
   },
   {
    "duration": 59,
    "start_time": "2022-05-11T13:19:09.205Z"
   },
   {
    "duration": 27,
    "start_time": "2022-05-11T13:19:09.266Z"
   },
   {
    "duration": 83,
    "start_time": "2022-05-11T13:19:09.326Z"
   },
   {
    "duration": 26,
    "start_time": "2022-05-11T13:19:09.425Z"
   },
   {
    "duration": 319,
    "start_time": "2022-05-11T13:19:09.453Z"
   },
   {
    "duration": 440,
    "start_time": "2022-05-11T13:19:09.774Z"
   },
   {
    "duration": 757,
    "start_time": "2022-05-11T13:19:10.217Z"
   },
   {
    "duration": 933,
    "start_time": "2022-05-11T13:19:10.976Z"
   },
   {
    "duration": 1198,
    "start_time": "2022-05-11T13:19:11.911Z"
   },
   {
    "duration": 213,
    "start_time": "2022-05-11T13:19:13.111Z"
   },
   {
    "duration": 24,
    "start_time": "2022-05-11T13:19:13.327Z"
   },
   {
    "duration": 30,
    "start_time": "2022-05-11T13:19:13.357Z"
   },
   {
    "duration": 434,
    "start_time": "2022-05-11T13:19:13.389Z"
   },
   {
    "duration": 191,
    "start_time": "2022-05-11T13:19:13.826Z"
   },
   {
    "duration": 30,
    "start_time": "2022-05-11T13:19:14.019Z"
   },
   {
    "duration": 3,
    "start_time": "2022-05-11T13:19:14.052Z"
   },
   {
    "duration": 20,
    "start_time": "2022-05-11T13:19:14.058Z"
   },
   {
    "duration": 11,
    "start_time": "2022-05-11T13:19:14.081Z"
   },
   {
    "duration": 304,
    "start_time": "2022-05-11T13:19:14.124Z"
   },
   {
    "duration": 19,
    "start_time": "2022-05-11T13:19:14.430Z"
   },
   {
    "duration": 21,
    "start_time": "2022-05-11T13:20:30.840Z"
   },
   {
    "duration": 37,
    "start_time": "2022-05-11T13:21:34.099Z"
   },
   {
    "duration": 130,
    "start_time": "2022-05-11T13:21:43.312Z"
   },
   {
    "duration": 36,
    "start_time": "2022-05-11T13:21:43.445Z"
   },
   {
    "duration": 68,
    "start_time": "2022-05-11T13:21:43.484Z"
   },
   {
    "duration": 27,
    "start_time": "2022-05-11T13:21:43.555Z"
   },
   {
    "duration": 110,
    "start_time": "2022-05-11T13:21:43.584Z"
   },
   {
    "duration": 45,
    "start_time": "2022-05-11T13:21:43.696Z"
   },
   {
    "duration": 311,
    "start_time": "2022-05-11T13:21:43.744Z"
   },
   {
    "duration": 530,
    "start_time": "2022-05-11T13:21:44.058Z"
   },
   {
    "duration": 857,
    "start_time": "2022-05-11T13:21:44.590Z"
   },
   {
    "duration": 977,
    "start_time": "2022-05-11T13:21:45.451Z"
   },
   {
    "duration": 1222,
    "start_time": "2022-05-11T13:21:46.431Z"
   },
   {
    "duration": 209,
    "start_time": "2022-05-11T13:21:47.655Z"
   },
   {
    "duration": 23,
    "start_time": "2022-05-11T13:21:47.867Z"
   },
   {
    "duration": 53,
    "start_time": "2022-05-11T13:21:47.893Z"
   },
   {
    "duration": 413,
    "start_time": "2022-05-11T13:21:47.949Z"
   },
   {
    "duration": 341,
    "start_time": "2022-05-11T13:21:48.365Z"
   },
   {
    "duration": 29,
    "start_time": "2022-05-11T13:21:48.709Z"
   },
   {
    "duration": 3,
    "start_time": "2022-05-11T13:21:48.740Z"
   },
   {
    "duration": 16,
    "start_time": "2022-05-11T13:21:48.745Z"
   },
   {
    "duration": 10,
    "start_time": "2022-05-11T13:21:48.764Z"
   },
   {
    "duration": 305,
    "start_time": "2022-05-11T13:21:48.776Z"
   },
   {
    "duration": 10,
    "start_time": "2022-05-11T13:21:49.084Z"
   },
   {
    "duration": 1801,
    "start_time": "2022-05-11T13:22:03.061Z"
   },
   {
    "duration": 36,
    "start_time": "2022-05-11T13:22:04.864Z"
   },
   {
    "duration": 57,
    "start_time": "2022-05-11T13:22:04.902Z"
   },
   {
    "duration": 34,
    "start_time": "2022-05-11T13:22:04.961Z"
   },
   {
    "duration": 681,
    "start_time": "2022-05-11T13:22:04.997Z"
   },
   {
    "duration": 49,
    "start_time": "2022-05-11T13:22:05.681Z"
   },
   {
    "duration": 427,
    "start_time": "2022-05-11T13:22:05.733Z"
   },
   {
    "duration": 443,
    "start_time": "2022-05-11T13:22:06.162Z"
   },
   {
    "duration": 929,
    "start_time": "2022-05-11T13:22:06.607Z"
   },
   {
    "duration": 955,
    "start_time": "2022-05-11T13:22:07.539Z"
   },
   {
    "duration": 1263,
    "start_time": "2022-05-11T13:22:08.497Z"
   },
   {
    "duration": 77,
    "start_time": "2022-05-11T13:22:09.763Z"
   },
   {
    "duration": 22,
    "start_time": "2022-05-11T13:22:09.842Z"
   },
   {
    "duration": 29,
    "start_time": "2022-05-11T13:22:09.866Z"
   },
   {
    "duration": 631,
    "start_time": "2022-05-11T13:22:09.897Z"
   },
   {
    "duration": 339,
    "start_time": "2022-05-11T13:22:10.531Z"
   },
   {
    "duration": 51,
    "start_time": "2022-05-11T13:22:10.873Z"
   },
   {
    "duration": 4,
    "start_time": "2022-05-11T13:22:10.927Z"
   },
   {
    "duration": 18,
    "start_time": "2022-05-11T13:22:10.934Z"
   },
   {
    "duration": 11,
    "start_time": "2022-05-11T13:22:10.955Z"
   },
   {
    "duration": 314,
    "start_time": "2022-05-11T13:22:10.968Z"
   },
   {
    "duration": 10,
    "start_time": "2022-05-11T13:22:11.284Z"
   },
   {
    "duration": 182,
    "start_time": "2022-05-11T13:22:26.305Z"
   },
   {
    "duration": 244,
    "start_time": "2022-05-11T13:23:05.816Z"
   },
   {
    "duration": 24,
    "start_time": "2022-05-11T13:23:32.352Z"
   },
   {
    "duration": 141,
    "start_time": "2022-05-11T13:24:11.224Z"
   },
   {
    "duration": 66,
    "start_time": "2022-05-11T13:24:11.368Z"
   },
   {
    "duration": 69,
    "start_time": "2022-05-11T13:24:11.437Z"
   },
   {
    "duration": 51,
    "start_time": "2022-05-11T13:24:11.510Z"
   },
   {
    "duration": 108,
    "start_time": "2022-05-11T13:24:11.563Z"
   },
   {
    "duration": 25,
    "start_time": "2022-05-11T13:24:11.673Z"
   },
   {
    "duration": 341,
    "start_time": "2022-05-11T13:24:11.700Z"
   },
   {
    "duration": 432,
    "start_time": "2022-05-11T13:24:12.044Z"
   },
   {
    "duration": 855,
    "start_time": "2022-05-11T13:24:12.478Z"
   },
   {
    "duration": 922,
    "start_time": "2022-05-11T13:24:13.337Z"
   },
   {
    "duration": 1276,
    "start_time": "2022-05-11T13:24:14.262Z"
   },
   {
    "duration": 86,
    "start_time": "2022-05-11T13:24:15.540Z"
   },
   {
    "duration": 23,
    "start_time": "2022-05-11T13:24:15.629Z"
   },
   {
    "duration": 30,
    "start_time": "2022-05-11T13:24:15.654Z"
   },
   {
    "duration": 421,
    "start_time": "2022-05-11T13:24:15.687Z"
   },
   {
    "duration": 164,
    "start_time": "2022-05-11T13:24:16.111Z"
   },
   {
    "duration": 30,
    "start_time": "2022-05-11T13:24:16.277Z"
   },
   {
    "duration": 4,
    "start_time": "2022-05-11T13:24:16.309Z"
   },
   {
    "duration": 20,
    "start_time": "2022-05-11T13:24:16.324Z"
   },
   {
    "duration": 18,
    "start_time": "2022-05-11T13:24:16.346Z"
   },
   {
    "duration": 311,
    "start_time": "2022-05-11T13:24:16.367Z"
   },
   {
    "duration": 12,
    "start_time": "2022-05-11T13:24:16.681Z"
   },
   {
    "duration": 32,
    "start_time": "2022-05-11T13:24:31.222Z"
   },
   {
    "duration": 12,
    "start_time": "2022-05-11T13:25:23.040Z"
   },
   {
    "duration": 29,
    "start_time": "2022-05-11T13:25:26.872Z"
   },
   {
    "duration": 33,
    "start_time": "2022-05-11T13:26:32.412Z"
   },
   {
    "duration": 32,
    "start_time": "2022-05-11T13:26:40.424Z"
   },
   {
    "duration": 25,
    "start_time": "2022-05-11T13:27:35.549Z"
   },
   {
    "duration": 48,
    "start_time": "2022-05-11T13:27:40.930Z"
   },
   {
    "duration": 58,
    "start_time": "2022-05-11T13:28:38.128Z"
   },
   {
    "duration": 138,
    "start_time": "2022-05-11T13:28:42.116Z"
   },
   {
    "duration": 38,
    "start_time": "2022-05-11T13:28:42.256Z"
   },
   {
    "duration": 72,
    "start_time": "2022-05-11T13:28:42.297Z"
   },
   {
    "duration": 24,
    "start_time": "2022-05-11T13:28:42.372Z"
   },
   {
    "duration": 106,
    "start_time": "2022-05-11T13:28:42.398Z"
   },
   {
    "duration": 38,
    "start_time": "2022-05-11T13:28:42.506Z"
   },
   {
    "duration": 328,
    "start_time": "2022-05-11T13:28:42.547Z"
   },
   {
    "duration": 454,
    "start_time": "2022-05-11T13:28:42.877Z"
   },
   {
    "duration": 1110,
    "start_time": "2022-05-11T13:28:43.334Z"
   },
   {
    "duration": 1356,
    "start_time": "2022-05-11T13:28:44.450Z"
   },
   {
    "duration": 1227,
    "start_time": "2022-05-11T13:28:45.808Z"
   },
   {
    "duration": 89,
    "start_time": "2022-05-11T13:28:47.038Z"
   },
   {
    "duration": 35,
    "start_time": "2022-05-11T13:28:47.130Z"
   },
   {
    "duration": 28,
    "start_time": "2022-05-11T13:28:47.167Z"
   },
   {
    "duration": 416,
    "start_time": "2022-05-11T13:28:47.197Z"
   },
   {
    "duration": 183,
    "start_time": "2022-05-11T13:28:47.615Z"
   },
   {
    "duration": 35,
    "start_time": "2022-05-11T13:28:47.801Z"
   },
   {
    "duration": 4,
    "start_time": "2022-05-11T13:28:47.838Z"
   },
   {
    "duration": 15,
    "start_time": "2022-05-11T13:28:47.845Z"
   },
   {
    "duration": 13,
    "start_time": "2022-05-11T13:28:47.863Z"
   },
   {
    "duration": 431,
    "start_time": "2022-05-11T13:28:47.879Z"
   },
   {
    "duration": 57,
    "start_time": "2022-05-11T13:28:48.313Z"
   },
   {
    "duration": 33,
    "start_time": "2022-05-11T13:29:29.388Z"
   },
   {
    "duration": 136,
    "start_time": "2022-05-11T13:29:39.790Z"
   },
   {
    "duration": 63,
    "start_time": "2022-05-11T13:29:39.929Z"
   },
   {
    "duration": 84,
    "start_time": "2022-05-11T13:29:39.995Z"
   },
   {
    "duration": 51,
    "start_time": "2022-05-11T13:29:40.084Z"
   },
   {
    "duration": 100,
    "start_time": "2022-05-11T13:29:40.138Z"
   },
   {
    "duration": 25,
    "start_time": "2022-05-11T13:29:40.240Z"
   },
   {
    "duration": 323,
    "start_time": "2022-05-11T13:29:40.267Z"
   },
   {
    "duration": 440,
    "start_time": "2022-05-11T13:29:40.593Z"
   },
   {
    "duration": 759,
    "start_time": "2022-05-11T13:29:41.035Z"
   },
   {
    "duration": 1001,
    "start_time": "2022-05-11T13:29:41.798Z"
   },
   {
    "duration": 1323,
    "start_time": "2022-05-11T13:29:42.802Z"
   },
   {
    "duration": 77,
    "start_time": "2022-05-11T13:29:44.127Z"
   },
   {
    "duration": 39,
    "start_time": "2022-05-11T13:29:44.225Z"
   },
   {
    "duration": 26,
    "start_time": "2022-05-11T13:29:44.267Z"
   },
   {
    "duration": 442,
    "start_time": "2022-05-11T13:29:44.295Z"
   },
   {
    "duration": 177,
    "start_time": "2022-05-11T13:29:44.742Z"
   },
   {
    "duration": 34,
    "start_time": "2022-05-11T13:29:44.921Z"
   },
   {
    "duration": 13,
    "start_time": "2022-05-11T13:29:44.957Z"
   },
   {
    "duration": 19,
    "start_time": "2022-05-11T13:29:44.973Z"
   },
   {
    "duration": 34,
    "start_time": "2022-05-11T13:29:44.995Z"
   },
   {
    "duration": 322,
    "start_time": "2022-05-11T13:29:45.035Z"
   },
   {
    "duration": 38,
    "start_time": "2022-05-11T13:29:45.360Z"
   },
   {
    "duration": 10,
    "start_time": "2022-05-11T13:29:57.958Z"
   },
   {
    "duration": 18,
    "start_time": "2022-05-11T13:30:38.894Z"
   },
   {
    "duration": 42,
    "start_time": "2022-05-11T13:30:46.510Z"
   },
   {
    "duration": 34,
    "start_time": "2022-05-11T13:31:24.464Z"
   },
   {
    "duration": 31,
    "start_time": "2022-05-11T13:31:32.960Z"
   },
   {
    "duration": 46,
    "start_time": "2022-05-11T13:31:51.159Z"
   },
   {
    "duration": 70,
    "start_time": "2022-05-11T13:33:16.853Z"
   },
   {
    "duration": 45,
    "start_time": "2022-05-11T13:33:29.214Z"
   },
   {
    "duration": 19,
    "start_time": "2022-05-11T13:33:38.970Z"
   },
   {
    "duration": 71,
    "start_time": "2022-05-11T13:33:50.611Z"
   },
   {
    "duration": 23,
    "start_time": "2022-05-11T13:38:55.290Z"
   },
   {
    "duration": 11,
    "start_time": "2022-05-11T13:39:09.507Z"
   },
   {
    "duration": 23,
    "start_time": "2022-05-11T13:40:43.156Z"
   },
   {
    "duration": 2678,
    "start_time": "2022-05-11T13:41:08.598Z"
   },
   {
    "duration": 5,
    "start_time": "2022-05-11T13:41:23.953Z"
   },
   {
    "duration": 17,
    "start_time": "2022-05-11T13:41:28.948Z"
   },
   {
    "duration": 22,
    "start_time": "2022-05-11T13:41:34.984Z"
   },
   {
    "duration": 20,
    "start_time": "2022-05-11T13:41:59.451Z"
   },
   {
    "duration": 22,
    "start_time": "2022-05-11T13:42:11.765Z"
   },
   {
    "duration": 28,
    "start_time": "2022-05-11T13:42:35.212Z"
   },
   {
    "duration": 3,
    "start_time": "2022-05-11T13:42:43.506Z"
   },
   {
    "duration": 24,
    "start_time": "2022-05-11T13:42:45.041Z"
   },
   {
    "duration": 24,
    "start_time": "2022-05-11T13:43:40.988Z"
   },
   {
    "duration": 361,
    "start_time": "2022-05-11T13:46:54.601Z"
   },
   {
    "duration": 357,
    "start_time": "2022-05-11T13:47:27.608Z"
   },
   {
    "duration": 378,
    "start_time": "2022-05-11T13:48:10.203Z"
   },
   {
    "duration": 12331,
    "start_time": "2022-05-11T13:48:26.297Z"
   },
   {
    "duration": 345,
    "start_time": "2022-05-11T13:48:48.242Z"
   },
   {
    "duration": 333,
    "start_time": "2022-05-11T13:48:59.550Z"
   },
   {
    "duration": 48,
    "start_time": "2022-05-11T13:58:55.398Z"
   },
   {
    "duration": 46,
    "start_time": "2022-05-11T13:59:40.412Z"
   },
   {
    "duration": 48,
    "start_time": "2022-05-11T14:00:07.283Z"
   },
   {
    "duration": 129,
    "start_time": "2022-05-11T14:00:14.903Z"
   },
   {
    "duration": 39,
    "start_time": "2022-05-11T14:00:15.034Z"
   },
   {
    "duration": 67,
    "start_time": "2022-05-11T14:00:15.075Z"
   },
   {
    "duration": 26,
    "start_time": "2022-05-11T14:00:15.145Z"
   },
   {
    "duration": 104,
    "start_time": "2022-05-11T14:00:15.173Z"
   },
   {
    "duration": 46,
    "start_time": "2022-05-11T14:00:15.280Z"
   },
   {
    "duration": 313,
    "start_time": "2022-05-11T14:00:15.329Z"
   },
   {
    "duration": 447,
    "start_time": "2022-05-11T14:00:15.644Z"
   },
   {
    "duration": 999,
    "start_time": "2022-05-11T14:00:16.093Z"
   },
   {
    "duration": 948,
    "start_time": "2022-05-11T14:00:17.096Z"
   },
   {
    "duration": 1204,
    "start_time": "2022-05-11T14:00:18.046Z"
   },
   {
    "duration": 88,
    "start_time": "2022-05-11T14:00:19.253Z"
   },
   {
    "duration": 33,
    "start_time": "2022-05-11T14:00:19.344Z"
   },
   {
    "duration": 55,
    "start_time": "2022-05-11T14:00:19.379Z"
   },
   {
    "duration": 405,
    "start_time": "2022-05-11T14:00:19.436Z"
   },
   {
    "duration": 180,
    "start_time": "2022-05-11T14:00:19.843Z"
   },
   {
    "duration": 29,
    "start_time": "2022-05-11T14:00:20.025Z"
   },
   {
    "duration": 4,
    "start_time": "2022-05-11T14:00:20.056Z"
   },
   {
    "duration": 19,
    "start_time": "2022-05-11T14:00:20.062Z"
   },
   {
    "duration": 11,
    "start_time": "2022-05-11T14:00:20.083Z"
   },
   {
    "duration": 295,
    "start_time": "2022-05-11T14:00:20.125Z"
   },
   {
    "duration": 335,
    "start_time": "2022-05-11T14:00:20.422Z"
   },
   {
    "duration": 12062,
    "start_time": "2022-05-11T14:00:36.436Z"
   },
   {
    "duration": 40,
    "start_time": "2022-05-11T14:01:27.018Z"
   },
   {
    "duration": 35,
    "start_time": "2022-05-11T14:01:34.886Z"
   },
   {
    "duration": 920,
    "start_time": "2022-05-11T14:01:48.540Z"
   },
   {
    "duration": 128,
    "start_time": "2022-05-11T14:01:59.812Z"
   },
   {
    "duration": 44,
    "start_time": "2022-05-11T14:01:59.943Z"
   },
   {
    "duration": 73,
    "start_time": "2022-05-11T14:01:59.990Z"
   },
   {
    "duration": 29,
    "start_time": "2022-05-11T14:02:00.067Z"
   },
   {
    "duration": 107,
    "start_time": "2022-05-11T14:02:00.098Z"
   },
   {
    "duration": 39,
    "start_time": "2022-05-11T14:02:00.208Z"
   },
   {
    "duration": 368,
    "start_time": "2022-05-11T14:02:00.250Z"
   },
   {
    "duration": 445,
    "start_time": "2022-05-11T14:02:00.620Z"
   },
   {
    "duration": 730,
    "start_time": "2022-05-11T14:02:01.067Z"
   },
   {
    "duration": 920,
    "start_time": "2022-05-11T14:02:01.801Z"
   },
   {
    "duration": 1186,
    "start_time": "2022-05-11T14:02:02.725Z"
   },
   {
    "duration": 75,
    "start_time": "2022-05-11T14:02:03.913Z"
   },
   {
    "duration": 49,
    "start_time": "2022-05-11T14:02:03.990Z"
   },
   {
    "duration": 28,
    "start_time": "2022-05-11T14:02:04.041Z"
   },
   {
    "duration": 413,
    "start_time": "2022-05-11T14:02:04.071Z"
   },
   {
    "duration": 154,
    "start_time": "2022-05-11T14:02:04.486Z"
   },
   {
    "duration": 28,
    "start_time": "2022-05-11T14:02:04.642Z"
   },
   {
    "duration": 3,
    "start_time": "2022-05-11T14:02:04.673Z"
   },
   {
    "duration": 30,
    "start_time": "2022-05-11T14:02:04.678Z"
   },
   {
    "duration": 25,
    "start_time": "2022-05-11T14:02:04.725Z"
   },
   {
    "duration": 307,
    "start_time": "2022-05-11T14:02:04.753Z"
   },
   {
    "duration": 427,
    "start_time": "2022-05-11T14:02:05.063Z"
   },
   {
    "duration": 9,
    "start_time": "2022-05-11T14:09:36.160Z"
   },
   {
    "duration": 29,
    "start_time": "2022-05-11T14:09:40.032Z"
   },
   {
    "duration": 8,
    "start_time": "2022-05-11T14:09:45.453Z"
   },
   {
    "duration": 39,
    "start_time": "2022-05-11T14:13:10.785Z"
   },
   {
    "duration": 1934,
    "start_time": "2022-05-11T14:17:29.490Z"
   },
   {
    "duration": 37,
    "start_time": "2022-05-11T14:17:31.427Z"
   },
   {
    "duration": 63,
    "start_time": "2022-05-11T14:17:31.466Z"
   },
   {
    "duration": 29,
    "start_time": "2022-05-11T14:17:31.532Z"
   },
   {
    "duration": 645,
    "start_time": "2022-05-11T14:17:31.564Z"
   },
   {
    "duration": 27,
    "start_time": "2022-05-11T14:17:32.212Z"
   },
   {
    "duration": 386,
    "start_time": "2022-05-11T14:17:32.242Z"
   },
   {
    "duration": 626,
    "start_time": "2022-05-11T14:17:32.631Z"
   },
   {
    "duration": 0,
    "start_time": "2022-05-11T14:18:22.866Z"
   },
   {
    "duration": 0,
    "start_time": "2022-05-11T14:18:22.867Z"
   },
   {
    "duration": 0,
    "start_time": "2022-05-11T14:18:22.868Z"
   },
   {
    "duration": 0,
    "start_time": "2022-05-11T14:18:22.870Z"
   },
   {
    "duration": 0,
    "start_time": "2022-05-11T14:18:22.872Z"
   },
   {
    "duration": 0,
    "start_time": "2022-05-11T14:18:22.925Z"
   },
   {
    "duration": 0,
    "start_time": "2022-05-11T14:18:22.927Z"
   },
   {
    "duration": 0,
    "start_time": "2022-05-11T14:18:22.929Z"
   },
   {
    "duration": 0,
    "start_time": "2022-05-11T14:18:22.930Z"
   },
   {
    "duration": 0,
    "start_time": "2022-05-11T14:18:22.932Z"
   },
   {
    "duration": 0,
    "start_time": "2022-05-11T14:18:22.934Z"
   },
   {
    "duration": 0,
    "start_time": "2022-05-11T14:18:22.935Z"
   },
   {
    "duration": 0,
    "start_time": "2022-05-11T14:18:22.937Z"
   },
   {
    "duration": 0,
    "start_time": "2022-05-11T14:18:22.938Z"
   },
   {
    "duration": 0,
    "start_time": "2022-05-11T14:18:22.940Z"
   },
   {
    "duration": 0,
    "start_time": "2022-05-11T14:18:22.942Z"
   },
   {
    "duration": 0,
    "start_time": "2022-05-11T14:18:22.943Z"
   },
   {
    "duration": 0,
    "start_time": "2022-05-11T14:18:22.945Z"
   },
   {
    "duration": 0,
    "start_time": "2022-05-11T14:18:22.946Z"
   },
   {
    "duration": 0,
    "start_time": "2022-05-11T14:18:22.948Z"
   },
   {
    "duration": 0,
    "start_time": "2022-05-11T14:18:22.949Z"
   },
   {
    "duration": 0,
    "start_time": "2022-05-11T14:18:22.951Z"
   },
   {
    "duration": 0,
    "start_time": "2022-05-11T14:18:22.952Z"
   },
   {
    "duration": 0,
    "start_time": "2022-05-11T14:18:22.954Z"
   },
   {
    "duration": 119,
    "start_time": "2022-05-11T14:31:38.273Z"
   },
   {
    "duration": 59,
    "start_time": "2022-05-11T14:31:38.396Z"
   },
   {
    "duration": 46,
    "start_time": "2022-05-11T14:31:38.457Z"
   },
   {
    "duration": 43,
    "start_time": "2022-05-11T14:31:38.505Z"
   },
   {
    "duration": 102,
    "start_time": "2022-05-11T14:31:38.551Z"
   },
   {
    "duration": 24,
    "start_time": "2022-05-11T14:31:38.655Z"
   },
   {
    "duration": 346,
    "start_time": "2022-05-11T14:31:38.681Z"
   },
   {
    "duration": 437,
    "start_time": "2022-05-11T14:31:39.029Z"
   },
   {
    "duration": 49230,
    "start_time": "2022-05-11T14:31:39.468Z"
   },
   {
    "duration": 1170,
    "start_time": "2022-05-11T14:32:28.700Z"
   },
   {
    "duration": 16,
    "start_time": "2022-05-11T14:32:29.873Z"
   },
   {
    "duration": 0,
    "start_time": "2022-05-11T14:32:29.892Z"
   },
   {
    "duration": 0,
    "start_time": "2022-05-11T14:32:29.893Z"
   },
   {
    "duration": 0,
    "start_time": "2022-05-11T14:32:29.895Z"
   },
   {
    "duration": 0,
    "start_time": "2022-05-11T14:32:29.896Z"
   },
   {
    "duration": 0,
    "start_time": "2022-05-11T14:32:29.897Z"
   },
   {
    "duration": 0,
    "start_time": "2022-05-11T14:32:29.925Z"
   },
   {
    "duration": 0,
    "start_time": "2022-05-11T14:32:29.926Z"
   },
   {
    "duration": 0,
    "start_time": "2022-05-11T14:32:29.928Z"
   },
   {
    "duration": 0,
    "start_time": "2022-05-11T14:32:29.930Z"
   },
   {
    "duration": 0,
    "start_time": "2022-05-11T14:32:29.932Z"
   },
   {
    "duration": 0,
    "start_time": "2022-05-11T14:32:29.933Z"
   },
   {
    "duration": 0,
    "start_time": "2022-05-11T14:32:29.934Z"
   },
   {
    "duration": 0,
    "start_time": "2022-05-11T14:32:29.936Z"
   },
   {
    "duration": 1822,
    "start_time": "2022-05-11T14:32:33.214Z"
   },
   {
    "duration": 39,
    "start_time": "2022-05-11T14:32:35.040Z"
   },
   {
    "duration": 65,
    "start_time": "2022-05-11T14:32:35.081Z"
   },
   {
    "duration": 29,
    "start_time": "2022-05-11T14:32:35.148Z"
   },
   {
    "duration": 596,
    "start_time": "2022-05-11T14:32:35.180Z"
   },
   {
    "duration": 48,
    "start_time": "2022-05-11T14:32:35.778Z"
   },
   {
    "duration": 375,
    "start_time": "2022-05-11T14:32:35.828Z"
   },
   {
    "duration": 648,
    "start_time": "2022-05-11T14:32:36.205Z"
   },
   {
    "duration": 49365,
    "start_time": "2022-05-11T14:32:36.856Z"
   },
   {
    "duration": 1005,
    "start_time": "2022-05-11T14:33:26.225Z"
   },
   {
    "duration": 252,
    "start_time": "2022-05-11T14:33:27.232Z"
   },
   {
    "duration": 1,
    "start_time": "2022-05-11T14:33:27.487Z"
   },
   {
    "duration": 0,
    "start_time": "2022-05-11T14:33:27.489Z"
   },
   {
    "duration": 0,
    "start_time": "2022-05-11T14:33:27.491Z"
   },
   {
    "duration": 0,
    "start_time": "2022-05-11T14:33:27.492Z"
   },
   {
    "duration": 0,
    "start_time": "2022-05-11T14:33:27.494Z"
   },
   {
    "duration": 0,
    "start_time": "2022-05-11T14:33:27.495Z"
   },
   {
    "duration": 0,
    "start_time": "2022-05-11T14:33:27.497Z"
   },
   {
    "duration": 0,
    "start_time": "2022-05-11T14:33:27.499Z"
   },
   {
    "duration": 0,
    "start_time": "2022-05-11T14:33:27.524Z"
   },
   {
    "duration": 0,
    "start_time": "2022-05-11T14:33:27.526Z"
   },
   {
    "duration": 0,
    "start_time": "2022-05-11T14:33:27.527Z"
   },
   {
    "duration": 0,
    "start_time": "2022-05-11T14:33:27.529Z"
   },
   {
    "duration": 0,
    "start_time": "2022-05-11T14:33:27.531Z"
   },
   {
    "duration": 21,
    "start_time": "2022-05-11T14:34:03.012Z"
   },
   {
    "duration": 10,
    "start_time": "2022-05-11T14:35:27.046Z"
   },
   {
    "duration": 19,
    "start_time": "2022-05-11T14:35:38.012Z"
   },
   {
    "duration": 17,
    "start_time": "2022-05-11T14:36:04.967Z"
   },
   {
    "duration": 154,
    "start_time": "2022-05-11T14:36:09.286Z"
   },
   {
    "duration": 16,
    "start_time": "2022-05-11T14:36:25.747Z"
   },
   {
    "duration": 16,
    "start_time": "2022-05-11T14:36:42.526Z"
   },
   {
    "duration": 17,
    "start_time": "2022-05-11T14:36:51.820Z"
   },
   {
    "duration": 103,
    "start_time": "2022-05-11T14:37:12.526Z"
   },
   {
    "duration": 10,
    "start_time": "2022-05-11T14:37:16.847Z"
   },
   {
    "duration": 774,
    "start_time": "2022-05-11T14:39:20.184Z"
   },
   {
    "duration": 409,
    "start_time": "2022-05-11T14:47:14.570Z"
   },
   {
    "duration": 497,
    "start_time": "2022-05-11T14:47:32.808Z"
   },
   {
    "duration": 494,
    "start_time": "2022-05-11T14:48:14.814Z"
   },
   {
    "duration": 20,
    "start_time": "2022-05-11T14:48:32.097Z"
   },
   {
    "duration": 188,
    "start_time": "2022-05-11T14:50:32.738Z"
   },
   {
    "duration": 60,
    "start_time": "2022-05-11T14:50:32.929Z"
   },
   {
    "duration": 60,
    "start_time": "2022-05-11T14:50:32.992Z"
   },
   {
    "duration": 26,
    "start_time": "2022-05-11T14:50:33.056Z"
   },
   {
    "duration": 112,
    "start_time": "2022-05-11T14:50:33.085Z"
   },
   {
    "duration": 37,
    "start_time": "2022-05-11T14:50:33.199Z"
   },
   {
    "duration": 316,
    "start_time": "2022-05-11T14:50:33.238Z"
   },
   {
    "duration": 444,
    "start_time": "2022-05-11T14:50:33.557Z"
   },
   {
    "duration": 810,
    "start_time": "2022-05-11T14:50:34.004Z"
   },
   {
    "duration": 1041,
    "start_time": "2022-05-11T14:50:34.823Z"
   },
   {
    "duration": 28,
    "start_time": "2022-05-11T14:50:35.867Z"
   },
   {
    "duration": 1321,
    "start_time": "2022-05-11T14:50:35.898Z"
   },
   {
    "duration": 312,
    "start_time": "2022-05-11T14:50:37.225Z"
   },
   {
    "duration": 35,
    "start_time": "2022-05-11T14:50:37.539Z"
   },
   {
    "duration": 58,
    "start_time": "2022-05-11T14:50:37.576Z"
   },
   {
    "duration": 422,
    "start_time": "2022-05-11T14:50:37.637Z"
   },
   {
    "duration": 268,
    "start_time": "2022-05-11T14:50:38.063Z"
   },
   {
    "duration": 30,
    "start_time": "2022-05-11T14:50:38.333Z"
   },
   {
    "duration": 4,
    "start_time": "2022-05-11T14:50:38.365Z"
   },
   {
    "duration": 13,
    "start_time": "2022-05-11T14:50:38.371Z"
   },
   {
    "duration": 43,
    "start_time": "2022-05-11T14:50:38.387Z"
   },
   {
    "duration": 316,
    "start_time": "2022-05-11T14:50:38.432Z"
   },
   {
    "duration": 339,
    "start_time": "2022-05-11T14:50:38.751Z"
   },
   {
    "duration": 20,
    "start_time": "2022-05-11T14:52:19.865Z"
   },
   {
    "duration": 27,
    "start_time": "2022-05-11T14:52:31.071Z"
   },
   {
    "duration": 43,
    "start_time": "2022-05-11T14:53:51.400Z"
   },
   {
    "duration": 20,
    "start_time": "2022-05-11T14:56:25.409Z"
   },
   {
    "duration": 350,
    "start_time": "2022-05-11T14:56:33.541Z"
   },
   {
    "duration": 761,
    "start_time": "2022-05-11T14:58:36.816Z"
   },
   {
    "duration": 38872,
    "start_time": "2022-05-11T15:00:02.222Z"
   },
   {
    "duration": 463,
    "start_time": "2022-05-11T15:01:01.374Z"
   },
   {
    "duration": 31,
    "start_time": "2022-05-11T15:07:13.399Z"
   },
   {
    "duration": 274,
    "start_time": "2022-05-11T15:07:23.165Z"
   },
   {
    "duration": 199,
    "start_time": "2022-05-11T15:07:41.903Z"
   },
   {
    "duration": 217,
    "start_time": "2022-05-11T15:10:03.144Z"
   },
   {
    "duration": 27,
    "start_time": "2022-05-11T15:12:56.681Z"
   },
   {
    "duration": 1797,
    "start_time": "2022-05-11T15:14:13.752Z"
   },
   {
    "duration": 37,
    "start_time": "2022-05-11T15:14:15.552Z"
   },
   {
    "duration": 61,
    "start_time": "2022-05-11T15:14:15.591Z"
   },
   {
    "duration": 27,
    "start_time": "2022-05-11T15:14:15.655Z"
   },
   {
    "duration": 567,
    "start_time": "2022-05-11T15:14:15.684Z"
   },
   {
    "duration": 25,
    "start_time": "2022-05-11T15:14:16.253Z"
   },
   {
    "duration": 385,
    "start_time": "2022-05-11T15:14:16.280Z"
   },
   {
    "duration": 439,
    "start_time": "2022-05-11T15:14:16.668Z"
   },
   {
    "duration": 340,
    "start_time": "2022-05-11T15:14:17.110Z"
   },
   {
    "duration": 0,
    "start_time": "2022-05-11T15:14:17.453Z"
   },
   {
    "duration": 0,
    "start_time": "2022-05-11T15:14:17.455Z"
   },
   {
    "duration": 0,
    "start_time": "2022-05-11T15:14:17.457Z"
   },
   {
    "duration": 0,
    "start_time": "2022-05-11T15:14:17.460Z"
   },
   {
    "duration": 0,
    "start_time": "2022-05-11T15:14:17.462Z"
   },
   {
    "duration": 0,
    "start_time": "2022-05-11T15:14:17.465Z"
   },
   {
    "duration": 0,
    "start_time": "2022-05-11T15:14:17.466Z"
   },
   {
    "duration": 0,
    "start_time": "2022-05-11T15:14:17.469Z"
   },
   {
    "duration": 0,
    "start_time": "2022-05-11T15:14:17.470Z"
   },
   {
    "duration": 0,
    "start_time": "2022-05-11T15:14:17.473Z"
   },
   {
    "duration": 1,
    "start_time": "2022-05-11T15:14:17.474Z"
   },
   {
    "duration": 0,
    "start_time": "2022-05-11T15:14:17.476Z"
   },
   {
    "duration": 0,
    "start_time": "2022-05-11T15:14:17.478Z"
   },
   {
    "duration": 0,
    "start_time": "2022-05-11T15:14:17.524Z"
   },
   {
    "duration": 25,
    "start_time": "2022-05-11T15:14:54.672Z"
   },
   {
    "duration": 29,
    "start_time": "2022-05-11T15:15:12.973Z"
   },
   {
    "duration": 234,
    "start_time": "2022-05-11T15:15:23.633Z"
   },
   {
    "duration": 305,
    "start_time": "2022-05-11T15:16:03.992Z"
   },
   {
    "duration": 353,
    "start_time": "2022-05-11T15:17:15.766Z"
   },
   {
    "duration": 273,
    "start_time": "2022-05-11T15:19:52.212Z"
   },
   {
    "duration": 243,
    "start_time": "2022-05-11T15:20:30.125Z"
   },
   {
    "duration": 23,
    "start_time": "2022-05-11T15:21:09.973Z"
   },
   {
    "duration": 252,
    "start_time": "2022-05-11T15:22:38.484Z"
   },
   {
    "duration": 242,
    "start_time": "2022-05-11T15:23:18.335Z"
   },
   {
    "duration": 105,
    "start_time": "2022-05-11T15:23:24.712Z"
   },
   {
    "duration": 257,
    "start_time": "2022-05-11T15:23:28.820Z"
   },
   {
    "duration": 242,
    "start_time": "2022-05-11T15:23:31.585Z"
   },
   {
    "duration": 249,
    "start_time": "2022-05-11T15:23:34.014Z"
   },
   {
    "duration": 236,
    "start_time": "2022-05-11T15:23:37.652Z"
   },
   {
    "duration": 237,
    "start_time": "2022-05-11T15:24:08.907Z"
   },
   {
    "duration": 235,
    "start_time": "2022-05-11T15:24:24.952Z"
   },
   {
    "duration": 235,
    "start_time": "2022-05-11T15:24:36.488Z"
   },
   {
    "duration": 351,
    "start_time": "2022-05-11T15:24:56.996Z"
   },
   {
    "duration": 228,
    "start_time": "2022-05-11T15:25:09.332Z"
   },
   {
    "duration": 111,
    "start_time": "2022-05-11T15:25:29.872Z"
   },
   {
    "duration": 239,
    "start_time": "2022-05-11T15:25:39.872Z"
   },
   {
    "duration": 235,
    "start_time": "2022-05-11T15:25:55.045Z"
   },
   {
    "duration": 234,
    "start_time": "2022-05-11T15:26:18.904Z"
   },
   {
    "duration": 233,
    "start_time": "2022-05-11T15:26:34.699Z"
   },
   {
    "duration": 239,
    "start_time": "2022-05-11T15:26:38.380Z"
   },
   {
    "duration": 230,
    "start_time": "2022-05-11T15:26:42.613Z"
   },
   {
    "duration": 278,
    "start_time": "2022-05-11T15:27:09.532Z"
   },
   {
    "duration": 262,
    "start_time": "2022-05-11T15:28:16.479Z"
   },
   {
    "duration": 262,
    "start_time": "2022-05-11T15:28:22.544Z"
   },
   {
    "duration": 6,
    "start_time": "2022-05-11T15:28:29.857Z"
   },
   {
    "duration": 318,
    "start_time": "2022-05-11T15:28:52.532Z"
   },
   {
    "duration": 275,
    "start_time": "2022-05-11T15:29:27.086Z"
   },
   {
    "duration": 387,
    "start_time": "2022-05-11T15:30:26.493Z"
   },
   {
    "duration": 260,
    "start_time": "2022-05-11T15:30:44.752Z"
   },
   {
    "duration": 273,
    "start_time": "2022-05-11T15:31:00.684Z"
   },
   {
    "duration": 280,
    "start_time": "2022-05-11T15:33:35.605Z"
   },
   {
    "duration": 266,
    "start_time": "2022-05-11T15:33:48.821Z"
   },
   {
    "duration": 275,
    "start_time": "2022-05-11T15:35:11.972Z"
   },
   {
    "duration": 278,
    "start_time": "2022-05-11T15:36:15.605Z"
   },
   {
    "duration": 285,
    "start_time": "2022-05-11T15:36:51.273Z"
   },
   {
    "duration": 268,
    "start_time": "2022-05-11T15:37:41.037Z"
   },
   {
    "duration": 273,
    "start_time": "2022-05-11T15:38:06.002Z"
   },
   {
    "duration": 277,
    "start_time": "2022-05-11T15:38:17.806Z"
   },
   {
    "duration": 289,
    "start_time": "2022-05-11T15:38:47.225Z"
   },
   {
    "duration": 525,
    "start_time": "2022-05-11T15:39:47.613Z"
   },
   {
    "duration": 270,
    "start_time": "2022-05-11T15:40:06.596Z"
   },
   {
    "duration": 107,
    "start_time": "2022-05-11T15:40:27.298Z"
   },
   {
    "duration": 263,
    "start_time": "2022-05-11T15:40:31.648Z"
   },
   {
    "duration": 387,
    "start_time": "2022-05-11T15:40:40.246Z"
   },
   {
    "duration": 275,
    "start_time": "2022-05-11T15:40:55.286Z"
   },
   {
    "duration": 268,
    "start_time": "2022-05-11T15:41:02.735Z"
   },
   {
    "duration": 282,
    "start_time": "2022-05-11T15:41:08.414Z"
   },
   {
    "duration": 270,
    "start_time": "2022-05-11T15:41:23.466Z"
   },
   {
    "duration": 274,
    "start_time": "2022-05-11T15:41:31.852Z"
   },
   {
    "duration": 281,
    "start_time": "2022-05-11T15:42:42.813Z"
   },
   {
    "duration": 289,
    "start_time": "2022-05-11T15:42:54.875Z"
   },
   {
    "duration": 273,
    "start_time": "2022-05-11T15:43:13.952Z"
   },
   {
    "duration": 423,
    "start_time": "2022-05-11T15:43:37.293Z"
   },
   {
    "duration": 270,
    "start_time": "2022-05-11T15:43:54.093Z"
   },
   {
    "duration": 272,
    "start_time": "2022-05-11T15:44:40.474Z"
   },
   {
    "duration": 613,
    "start_time": "2022-05-11T15:46:52.993Z"
   },
   {
    "duration": 128,
    "start_time": "2022-05-11T15:47:07.931Z"
   },
   {
    "duration": 38,
    "start_time": "2022-05-11T15:47:08.062Z"
   },
   {
    "duration": 41,
    "start_time": "2022-05-11T15:47:08.125Z"
   },
   {
    "duration": 28,
    "start_time": "2022-05-11T15:47:08.169Z"
   },
   {
    "duration": 99,
    "start_time": "2022-05-11T15:47:08.226Z"
   },
   {
    "duration": 26,
    "start_time": "2022-05-11T15:47:08.327Z"
   },
   {
    "duration": 363,
    "start_time": "2022-05-11T15:47:08.356Z"
   },
   {
    "duration": 438,
    "start_time": "2022-05-11T15:47:08.725Z"
   },
   {
    "duration": 300,
    "start_time": "2022-05-11T15:47:09.166Z"
   },
   {
    "duration": 460,
    "start_time": "2022-05-11T15:47:09.472Z"
   },
   {
    "duration": 0,
    "start_time": "2022-05-11T15:47:09.935Z"
   },
   {
    "duration": 0,
    "start_time": "2022-05-11T15:47:09.937Z"
   },
   {
    "duration": 0,
    "start_time": "2022-05-11T15:47:09.939Z"
   },
   {
    "duration": 1,
    "start_time": "2022-05-11T15:47:09.940Z"
   },
   {
    "duration": 0,
    "start_time": "2022-05-11T15:47:09.943Z"
   },
   {
    "duration": 0,
    "start_time": "2022-05-11T15:47:09.944Z"
   },
   {
    "duration": 0,
    "start_time": "2022-05-11T15:47:09.945Z"
   },
   {
    "duration": 0,
    "start_time": "2022-05-11T15:47:09.947Z"
   },
   {
    "duration": 0,
    "start_time": "2022-05-11T15:47:09.949Z"
   },
   {
    "duration": 0,
    "start_time": "2022-05-11T15:47:09.950Z"
   },
   {
    "duration": 0,
    "start_time": "2022-05-11T15:47:09.952Z"
   },
   {
    "duration": 0,
    "start_time": "2022-05-11T15:47:09.953Z"
   },
   {
    "duration": 0,
    "start_time": "2022-05-11T15:47:09.955Z"
   },
   {
    "duration": 419,
    "start_time": "2022-05-11T15:47:44.052Z"
   },
   {
    "duration": 15,
    "start_time": "2022-05-11T15:48:15.111Z"
   },
   {
    "duration": 1989,
    "start_time": "2022-05-11T15:50:06.887Z"
   },
   {
    "duration": 51,
    "start_time": "2022-05-11T15:50:08.879Z"
   },
   {
    "duration": 50,
    "start_time": "2022-05-11T15:50:08.933Z"
   },
   {
    "duration": 56,
    "start_time": "2022-05-11T15:50:08.987Z"
   },
   {
    "duration": 598,
    "start_time": "2022-05-11T15:50:09.046Z"
   },
   {
    "duration": 78,
    "start_time": "2022-05-11T15:50:09.647Z"
   },
   {
    "duration": 431,
    "start_time": "2022-05-11T15:50:09.728Z"
   },
   {
    "duration": 441,
    "start_time": "2022-05-11T15:50:10.162Z"
   },
   {
    "duration": 406,
    "start_time": "2022-05-11T15:50:10.606Z"
   },
   {
    "duration": 15,
    "start_time": "2022-05-11T15:50:11.026Z"
   },
   {
    "duration": 779,
    "start_time": "2022-05-11T15:50:11.044Z"
   },
   {
    "duration": 0,
    "start_time": "2022-05-11T15:50:11.826Z"
   },
   {
    "duration": 0,
    "start_time": "2022-05-11T15:50:11.828Z"
   },
   {
    "duration": 0,
    "start_time": "2022-05-11T15:50:11.829Z"
   },
   {
    "duration": 0,
    "start_time": "2022-05-11T15:50:11.831Z"
   },
   {
    "duration": 0,
    "start_time": "2022-05-11T15:50:11.832Z"
   },
   {
    "duration": 0,
    "start_time": "2022-05-11T15:50:11.834Z"
   },
   {
    "duration": 0,
    "start_time": "2022-05-11T15:50:11.836Z"
   },
   {
    "duration": 0,
    "start_time": "2022-05-11T15:50:11.837Z"
   },
   {
    "duration": 0,
    "start_time": "2022-05-11T15:50:11.839Z"
   },
   {
    "duration": 0,
    "start_time": "2022-05-11T15:50:11.840Z"
   },
   {
    "duration": 0,
    "start_time": "2022-05-11T15:50:11.842Z"
   },
   {
    "duration": 0,
    "start_time": "2022-05-11T15:50:11.844Z"
   },
   {
    "duration": 1,
    "start_time": "2022-05-11T15:50:11.845Z"
   },
   {
    "duration": 514,
    "start_time": "2022-05-11T15:51:09.756Z"
   },
   {
    "duration": 6,
    "start_time": "2022-05-11T15:51:20.884Z"
   },
   {
    "duration": 492,
    "start_time": "2022-05-11T15:51:31.317Z"
   },
   {
    "duration": 449,
    "start_time": "2022-05-11T15:52:50.167Z"
   },
   {
    "duration": 405,
    "start_time": "2022-05-11T15:53:15.248Z"
   },
   {
    "duration": 602,
    "start_time": "2022-05-11T15:53:49.707Z"
   },
   {
    "duration": 566,
    "start_time": "2022-05-11T15:54:24.061Z"
   },
   {
    "duration": 114,
    "start_time": "2022-05-11T17:44:17.982Z"
   },
   {
    "duration": 49,
    "start_time": "2022-05-11T17:44:18.098Z"
   },
   {
    "duration": 36,
    "start_time": "2022-05-11T17:44:18.149Z"
   },
   {
    "duration": 46,
    "start_time": "2022-05-11T17:44:18.188Z"
   },
   {
    "duration": 98,
    "start_time": "2022-05-11T17:44:18.237Z"
   },
   {
    "duration": 25,
    "start_time": "2022-05-11T17:44:18.337Z"
   },
   {
    "duration": 369,
    "start_time": "2022-05-11T17:44:18.365Z"
   },
   {
    "duration": 439,
    "start_time": "2022-05-11T17:44:18.737Z"
   },
   {
    "duration": 309,
    "start_time": "2022-05-11T17:44:19.178Z"
   },
   {
    "duration": 32,
    "start_time": "2022-05-11T17:44:19.493Z"
   },
   {
    "duration": 33,
    "start_time": "2022-05-11T17:44:19.527Z"
   },
   {
    "duration": 0,
    "start_time": "2022-05-11T17:44:19.562Z"
   },
   {
    "duration": 0,
    "start_time": "2022-05-11T17:44:19.565Z"
   },
   {
    "duration": 0,
    "start_time": "2022-05-11T17:44:19.566Z"
   },
   {
    "duration": 0,
    "start_time": "2022-05-11T17:44:19.569Z"
   },
   {
    "duration": 0,
    "start_time": "2022-05-11T17:44:19.570Z"
   },
   {
    "duration": 0,
    "start_time": "2022-05-11T17:44:19.572Z"
   },
   {
    "duration": 0,
    "start_time": "2022-05-11T17:44:19.574Z"
   },
   {
    "duration": 0,
    "start_time": "2022-05-11T17:44:19.575Z"
   },
   {
    "duration": 0,
    "start_time": "2022-05-11T17:44:19.577Z"
   },
   {
    "duration": 0,
    "start_time": "2022-05-11T17:44:19.579Z"
   },
   {
    "duration": 0,
    "start_time": "2022-05-11T17:44:19.625Z"
   },
   {
    "duration": 0,
    "start_time": "2022-05-11T17:44:19.626Z"
   },
   {
    "duration": 0,
    "start_time": "2022-05-11T17:44:19.627Z"
   },
   {
    "duration": 12771,
    "start_time": "2022-05-11T17:45:06.261Z"
   },
   {
    "duration": 273,
    "start_time": "2022-05-11T17:45:59.891Z"
   },
   {
    "duration": 9,
    "start_time": "2022-05-11T17:49:56.220Z"
   },
   {
    "duration": 14,
    "start_time": "2022-05-11T17:53:05.043Z"
   },
   {
    "duration": 24,
    "start_time": "2022-05-11T17:54:04.864Z"
   },
   {
    "duration": 31,
    "start_time": "2022-05-11T17:56:39.235Z"
   },
   {
    "duration": 765,
    "start_time": "2022-05-11T17:57:14.901Z"
   },
   {
    "duration": 551,
    "start_time": "2022-05-11T17:57:31.830Z"
   },
   {
    "duration": 556,
    "start_time": "2022-05-11T17:57:59.970Z"
   },
   {
    "duration": 300,
    "start_time": "2022-05-11T17:58:05.579Z"
   },
   {
    "duration": 19,
    "start_time": "2022-05-11T17:58:50.133Z"
   },
   {
    "duration": 576,
    "start_time": "2022-05-11T17:59:16.841Z"
   },
   {
    "duration": 1361,
    "start_time": "2022-05-11T18:00:30.235Z"
   },
   {
    "duration": 665,
    "start_time": "2022-05-11T18:00:56.997Z"
   },
   {
    "duration": 60253,
    "start_time": "2022-05-11T18:02:35.101Z"
   },
   {
    "duration": 9,
    "start_time": "2022-05-11T18:03:47.868Z"
   },
   {
    "duration": 34,
    "start_time": "2022-05-11T18:05:13.782Z"
   },
   {
    "duration": 41,
    "start_time": "2022-05-11T18:05:59.145Z"
   },
   {
    "duration": 417,
    "start_time": "2022-05-11T18:06:11.043Z"
   },
   {
    "duration": 40,
    "start_time": "2022-05-11T18:06:29.998Z"
   },
   {
    "duration": 31,
    "start_time": "2022-05-11T18:06:35.917Z"
   },
   {
    "duration": 20,
    "start_time": "2022-05-11T18:06:44.891Z"
   },
   {
    "duration": 22,
    "start_time": "2022-05-11T18:06:51.858Z"
   },
   {
    "duration": 34,
    "start_time": "2022-05-11T18:13:32.655Z"
   },
   {
    "duration": 35,
    "start_time": "2022-05-11T18:14:07.391Z"
   },
   {
    "duration": 35,
    "start_time": "2022-05-11T18:15:09.095Z"
   },
   {
    "duration": 17221,
    "start_time": "2022-05-11T18:15:47.318Z"
   },
   {
    "duration": 23,
    "start_time": "2022-05-11T18:16:41.385Z"
   },
   {
    "duration": 34,
    "start_time": "2022-05-11T18:16:45.242Z"
   },
   {
    "duration": 37,
    "start_time": "2022-05-11T18:18:35.790Z"
   },
   {
    "duration": 13451,
    "start_time": "2022-05-11T18:18:58.965Z"
   },
   {
    "duration": 13514,
    "start_time": "2022-05-11T18:20:40.493Z"
   },
   {
    "duration": 40,
    "start_time": "2022-05-11T18:23:32.853Z"
   },
   {
    "duration": 48,
    "start_time": "2022-05-11T18:23:55.206Z"
   },
   {
    "duration": 9,
    "start_time": "2022-05-11T18:32:56.472Z"
   },
   {
    "duration": 8,
    "start_time": "2022-05-11T18:33:02.457Z"
   },
   {
    "duration": 18,
    "start_time": "2022-05-11T18:33:12.840Z"
   },
   {
    "duration": 9,
    "start_time": "2022-05-11T18:33:18.197Z"
   },
   {
    "duration": 143,
    "start_time": "2022-05-11T18:33:23.585Z"
   },
   {
    "duration": 18,
    "start_time": "2022-05-11T18:33:30.005Z"
   },
   {
    "duration": 16,
    "start_time": "2022-05-11T18:34:03.186Z"
   },
   {
    "duration": 13,
    "start_time": "2022-05-11T18:34:07.618Z"
   },
   {
    "duration": 19,
    "start_time": "2022-05-11T18:34:46.014Z"
   },
   {
    "duration": 260,
    "start_time": "2022-05-11T18:47:01.466Z"
   },
   {
    "duration": 57,
    "start_time": "2022-05-11T18:47:01.729Z"
   },
   {
    "duration": 83,
    "start_time": "2022-05-11T18:47:01.789Z"
   },
   {
    "duration": 64,
    "start_time": "2022-05-11T18:47:01.876Z"
   },
   {
    "duration": 140,
    "start_time": "2022-05-11T18:47:01.943Z"
   },
   {
    "duration": 54,
    "start_time": "2022-05-11T18:47:02.087Z"
   },
   {
    "duration": 524,
    "start_time": "2022-05-11T18:47:02.144Z"
   },
   {
    "duration": 666,
    "start_time": "2022-05-11T18:47:02.672Z"
   },
   {
    "duration": 110,
    "start_time": "2022-05-11T18:47:03.342Z"
   },
   {
    "duration": 0,
    "start_time": "2022-05-11T18:47:03.456Z"
   },
   {
    "duration": 0,
    "start_time": "2022-05-11T18:47:03.458Z"
   },
   {
    "duration": 0,
    "start_time": "2022-05-11T18:47:03.460Z"
   },
   {
    "duration": 0,
    "start_time": "2022-05-11T18:47:03.462Z"
   },
   {
    "duration": 0,
    "start_time": "2022-05-11T18:47:03.464Z"
   },
   {
    "duration": 0,
    "start_time": "2022-05-11T18:47:03.466Z"
   },
   {
    "duration": 0,
    "start_time": "2022-05-11T18:47:03.468Z"
   },
   {
    "duration": 0,
    "start_time": "2022-05-11T18:47:03.469Z"
   },
   {
    "duration": 0,
    "start_time": "2022-05-11T18:47:03.472Z"
   },
   {
    "duration": 0,
    "start_time": "2022-05-11T18:47:03.473Z"
   },
   {
    "duration": 0,
    "start_time": "2022-05-11T18:47:03.475Z"
   },
   {
    "duration": 0,
    "start_time": "2022-05-11T18:47:03.477Z"
   },
   {
    "duration": 0,
    "start_time": "2022-05-11T18:47:03.478Z"
   },
   {
    "duration": 0,
    "start_time": "2022-05-11T18:47:03.480Z"
   },
   {
    "duration": 1,
    "start_time": "2022-05-11T18:47:03.481Z"
   },
   {
    "duration": 0,
    "start_time": "2022-05-11T18:47:03.483Z"
   },
   {
    "duration": 0,
    "start_time": "2022-05-11T18:47:03.485Z"
   },
   {
    "duration": 0,
    "start_time": "2022-05-11T18:47:03.487Z"
   },
   {
    "duration": 28,
    "start_time": "2022-05-11T18:47:28.053Z"
   },
   {
    "duration": 35,
    "start_time": "2022-05-11T18:48:15.355Z"
   },
   {
    "duration": 22,
    "start_time": "2022-05-11T18:48:24.567Z"
   },
   {
    "duration": 433,
    "start_time": "2022-05-11T18:48:39.849Z"
   },
   {
    "duration": 26,
    "start_time": "2022-05-11T18:48:50.874Z"
   },
   {
    "duration": 13,
    "start_time": "2022-05-11T18:48:58.474Z"
   },
   {
    "duration": 18,
    "start_time": "2022-05-11T18:49:03.146Z"
   },
   {
    "duration": 23,
    "start_time": "2022-05-11T18:50:19.784Z"
   },
   {
    "duration": 22,
    "start_time": "2022-05-11T18:50:56.994Z"
   },
   {
    "duration": 18,
    "start_time": "2022-05-11T18:51:04.311Z"
   },
   {
    "duration": 11,
    "start_time": "2022-05-11T18:51:19.777Z"
   },
   {
    "duration": 13,
    "start_time": "2022-05-11T18:51:24.704Z"
   },
   {
    "duration": 28,
    "start_time": "2022-05-11T18:51:46.786Z"
   },
   {
    "duration": 29,
    "start_time": "2022-05-11T18:52:33.330Z"
   },
   {
    "duration": 21,
    "start_time": "2022-05-11T18:52:48.379Z"
   },
   {
    "duration": 14,
    "start_time": "2022-05-11T18:52:53.874Z"
   },
   {
    "duration": 18,
    "start_time": "2022-05-11T18:53:47.584Z"
   },
   {
    "duration": 14,
    "start_time": "2022-05-11T18:54:47.181Z"
   },
   {
    "duration": 327,
    "start_time": "2022-05-11T18:55:02.177Z"
   },
   {
    "duration": 24,
    "start_time": "2022-05-11T18:55:15.854Z"
   },
   {
    "duration": 22,
    "start_time": "2022-05-11T18:56:12.377Z"
   },
   {
    "duration": 2383,
    "start_time": "2022-05-11T18:56:44.578Z"
   },
   {
    "duration": 516,
    "start_time": "2022-05-11T18:56:53.726Z"
   },
   {
    "duration": 2674,
    "start_time": "2022-05-11T18:57:09.314Z"
   },
   {
    "duration": 2644,
    "start_time": "2022-05-11T18:57:37.574Z"
   },
   {
    "duration": 2523,
    "start_time": "2022-05-11T18:57:48.136Z"
   },
   {
    "duration": 40596,
    "start_time": "2022-05-11T18:58:38.676Z"
   },
   {
    "duration": 367,
    "start_time": "2022-05-11T18:59:37.838Z"
   },
   {
    "duration": 378,
    "start_time": "2022-05-11T19:00:09.256Z"
   },
   {
    "duration": 621,
    "start_time": "2022-05-11T19:00:25.920Z"
   },
   {
    "duration": 1196,
    "start_time": "2022-05-11T19:00:42.263Z"
   },
   {
    "duration": 573,
    "start_time": "2022-05-11T19:00:49.273Z"
   },
   {
    "duration": 384,
    "start_time": "2022-05-11T19:01:05.104Z"
   },
   {
    "duration": 360,
    "start_time": "2022-05-11T19:01:47.089Z"
   },
   {
    "duration": 370,
    "start_time": "2022-05-11T19:02:07.348Z"
   },
   {
    "duration": 358,
    "start_time": "2022-05-11T19:02:23.938Z"
   },
   {
    "duration": 15,
    "start_time": "2022-05-11T19:02:57.584Z"
   },
   {
    "duration": 12,
    "start_time": "2022-05-11T19:05:06.544Z"
   },
   {
    "duration": 22,
    "start_time": "2022-05-11T19:05:13.444Z"
   },
   {
    "duration": 13,
    "start_time": "2022-05-11T19:05:24.656Z"
   },
   {
    "duration": 30,
    "start_time": "2022-05-11T19:06:29.747Z"
   },
   {
    "duration": 15,
    "start_time": "2022-05-11T19:06:59.510Z"
   },
   {
    "duration": 15,
    "start_time": "2022-05-11T19:07:02.054Z"
   },
   {
    "duration": 15,
    "start_time": "2022-05-11T19:09:36.312Z"
   },
   {
    "duration": 129,
    "start_time": "2022-05-11T19:10:13.046Z"
   },
   {
    "duration": 4,
    "start_time": "2022-05-11T19:11:10.590Z"
   },
   {
    "duration": 5,
    "start_time": "2022-05-11T19:11:45.447Z"
   },
   {
    "duration": 443,
    "start_time": "2022-05-11T19:13:20.578Z"
   },
   {
    "duration": 421,
    "start_time": "2022-05-11T19:13:28.959Z"
   },
   {
    "duration": 2009,
    "start_time": "2022-05-11T19:13:54.171Z"
   },
   {
    "duration": 19,
    "start_time": "2022-05-11T19:14:03.229Z"
   },
   {
    "duration": 11,
    "start_time": "2022-05-11T19:14:31.498Z"
   },
   {
    "duration": 12,
    "start_time": "2022-05-11T19:14:44.898Z"
   },
   {
    "duration": 23,
    "start_time": "2022-05-11T19:14:47.759Z"
   },
   {
    "duration": 28,
    "start_time": "2022-05-11T19:14:53.858Z"
   },
   {
    "duration": 27,
    "start_time": "2022-05-11T19:15:19.858Z"
   },
   {
    "duration": 10,
    "start_time": "2022-05-11T19:15:27.639Z"
   },
   {
    "duration": 576,
    "start_time": "2022-05-11T19:15:51.785Z"
   },
   {
    "duration": 779,
    "start_time": "2022-05-11T19:16:02.180Z"
   },
   {
    "duration": 867,
    "start_time": "2022-05-11T19:16:08.299Z"
   },
   {
    "duration": 37,
    "start_time": "2022-05-11T19:16:09.168Z"
   },
   {
    "duration": 47,
    "start_time": "2022-05-11T19:16:09.230Z"
   },
   {
    "duration": 53,
    "start_time": "2022-05-11T19:16:09.281Z"
   },
   {
    "duration": 102,
    "start_time": "2022-05-11T19:16:09.337Z"
   },
   {
    "duration": 25,
    "start_time": "2022-05-11T19:16:09.443Z"
   },
   {
    "duration": 389,
    "start_time": "2022-05-11T19:16:09.470Z"
   },
   {
    "duration": 478,
    "start_time": "2022-05-11T19:16:09.862Z"
   },
   {
    "duration": 16,
    "start_time": "2022-05-11T19:16:10.342Z"
   },
   {
    "duration": 10,
    "start_time": "2022-05-11T19:16:10.362Z"
   },
   {
    "duration": 67,
    "start_time": "2022-05-11T19:16:10.374Z"
   },
   {
    "duration": 317,
    "start_time": "2022-05-11T19:16:10.444Z"
   },
   {
    "duration": 16,
    "start_time": "2022-05-11T19:16:10.763Z"
   },
   {
    "duration": 66,
    "start_time": "2022-05-11T19:16:10.781Z"
   },
   {
    "duration": 0,
    "start_time": "2022-05-11T19:16:10.855Z"
   },
   {
    "duration": 0,
    "start_time": "2022-05-11T19:16:10.856Z"
   },
   {
    "duration": 0,
    "start_time": "2022-05-11T19:16:10.859Z"
   },
   {
    "duration": 0,
    "start_time": "2022-05-11T19:16:10.861Z"
   },
   {
    "duration": 0,
    "start_time": "2022-05-11T19:16:10.862Z"
   },
   {
    "duration": 0,
    "start_time": "2022-05-11T19:16:10.864Z"
   },
   {
    "duration": 1,
    "start_time": "2022-05-11T19:16:10.865Z"
   },
   {
    "duration": 0,
    "start_time": "2022-05-11T19:16:10.867Z"
   },
   {
    "duration": 0,
    "start_time": "2022-05-11T19:16:10.869Z"
   },
   {
    "duration": 0,
    "start_time": "2022-05-11T19:16:10.870Z"
   },
   {
    "duration": 0,
    "start_time": "2022-05-11T19:16:10.872Z"
   },
   {
    "duration": 0,
    "start_time": "2022-05-11T19:16:10.873Z"
   },
   {
    "duration": 0,
    "start_time": "2022-05-11T19:16:10.875Z"
   },
   {
    "duration": 598,
    "start_time": "2022-05-11T19:16:20.592Z"
   },
   {
    "duration": 468,
    "start_time": "2022-05-11T19:16:26.900Z"
   },
   {
    "duration": 15,
    "start_time": "2022-05-11T19:17:48.896Z"
   },
   {
    "duration": 29,
    "start_time": "2022-05-11T19:17:56.121Z"
   },
   {
    "duration": 21,
    "start_time": "2022-05-11T19:17:59.818Z"
   },
   {
    "duration": 15,
    "start_time": "2022-05-11T19:18:14.043Z"
   },
   {
    "duration": 14,
    "start_time": "2022-05-11T19:18:25.769Z"
   },
   {
    "duration": 295,
    "start_time": "2022-05-11T19:18:38.261Z"
   },
   {
    "duration": 39,
    "start_time": "2022-05-11T19:18:38.559Z"
   },
   {
    "duration": 51,
    "start_time": "2022-05-11T19:18:38.624Z"
   },
   {
    "duration": 59,
    "start_time": "2022-05-11T19:18:38.678Z"
   },
   {
    "duration": 124,
    "start_time": "2022-05-11T19:18:38.741Z"
   },
   {
    "duration": 39,
    "start_time": "2022-05-11T19:18:38.868Z"
   },
   {
    "duration": 359,
    "start_time": "2022-05-11T19:18:38.930Z"
   },
   {
    "duration": 457,
    "start_time": "2022-05-11T19:18:39.291Z"
   },
   {
    "duration": 21,
    "start_time": "2022-05-11T19:18:39.750Z"
   },
   {
    "duration": 14,
    "start_time": "2022-05-11T19:18:39.778Z"
   },
   {
    "duration": 70,
    "start_time": "2022-05-11T19:18:39.795Z"
   },
   {
    "duration": 314,
    "start_time": "2022-05-11T19:18:39.868Z"
   },
   {
    "duration": 15,
    "start_time": "2022-05-11T19:18:40.184Z"
   },
   {
    "duration": 59,
    "start_time": "2022-05-11T19:18:40.202Z"
   },
   {
    "duration": 0,
    "start_time": "2022-05-11T19:18:40.264Z"
   },
   {
    "duration": 0,
    "start_time": "2022-05-11T19:18:40.266Z"
   },
   {
    "duration": 0,
    "start_time": "2022-05-11T19:18:40.267Z"
   },
   {
    "duration": 0,
    "start_time": "2022-05-11T19:18:40.269Z"
   },
   {
    "duration": 0,
    "start_time": "2022-05-11T19:18:40.271Z"
   },
   {
    "duration": 0,
    "start_time": "2022-05-11T19:18:40.273Z"
   },
   {
    "duration": 0,
    "start_time": "2022-05-11T19:18:40.274Z"
   },
   {
    "duration": 0,
    "start_time": "2022-05-11T19:18:40.276Z"
   },
   {
    "duration": 0,
    "start_time": "2022-05-11T19:18:40.277Z"
   },
   {
    "duration": 0,
    "start_time": "2022-05-11T19:18:40.279Z"
   },
   {
    "duration": 0,
    "start_time": "2022-05-11T19:18:40.280Z"
   },
   {
    "duration": 0,
    "start_time": "2022-05-11T19:18:40.281Z"
   },
   {
    "duration": 0,
    "start_time": "2022-05-11T19:18:40.283Z"
   },
   {
    "duration": 644,
    "start_time": "2022-05-11T19:19:25.795Z"
   },
   {
    "duration": 251,
    "start_time": "2022-05-11T19:19:41.739Z"
   },
   {
    "duration": 71,
    "start_time": "2022-05-11T19:19:41.994Z"
   },
   {
    "duration": 59,
    "start_time": "2022-05-11T19:19:42.067Z"
   },
   {
    "duration": 31,
    "start_time": "2022-05-11T19:19:42.131Z"
   },
   {
    "duration": 127,
    "start_time": "2022-05-11T19:19:42.164Z"
   },
   {
    "duration": 41,
    "start_time": "2022-05-11T19:19:42.293Z"
   },
   {
    "duration": 417,
    "start_time": "2022-05-11T19:19:42.337Z"
   },
   {
    "duration": 444,
    "start_time": "2022-05-11T19:19:42.757Z"
   },
   {
    "duration": 26,
    "start_time": "2022-05-11T19:19:43.203Z"
   },
   {
    "duration": 23,
    "start_time": "2022-05-11T19:19:43.235Z"
   },
   {
    "duration": 31,
    "start_time": "2022-05-11T19:19:43.262Z"
   },
   {
    "duration": 339,
    "start_time": "2022-05-11T19:19:43.296Z"
   },
   {
    "duration": 17,
    "start_time": "2022-05-11T19:19:43.638Z"
   },
   {
    "duration": 33,
    "start_time": "2022-05-11T19:19:43.658Z"
   },
   {
    "duration": 0,
    "start_time": "2022-05-11T19:19:43.694Z"
   },
   {
    "duration": 0,
    "start_time": "2022-05-11T19:19:43.695Z"
   },
   {
    "duration": 0,
    "start_time": "2022-05-11T19:19:43.697Z"
   },
   {
    "duration": 0,
    "start_time": "2022-05-11T19:19:43.728Z"
   },
   {
    "duration": 0,
    "start_time": "2022-05-11T19:19:43.730Z"
   },
   {
    "duration": 0,
    "start_time": "2022-05-11T19:19:43.731Z"
   },
   {
    "duration": 0,
    "start_time": "2022-05-11T19:19:43.736Z"
   },
   {
    "duration": 0,
    "start_time": "2022-05-11T19:19:43.738Z"
   },
   {
    "duration": 0,
    "start_time": "2022-05-11T19:19:43.740Z"
   },
   {
    "duration": 0,
    "start_time": "2022-05-11T19:19:43.743Z"
   },
   {
    "duration": 1,
    "start_time": "2022-05-11T19:19:43.744Z"
   },
   {
    "duration": 0,
    "start_time": "2022-05-11T19:19:43.746Z"
   },
   {
    "duration": 0,
    "start_time": "2022-05-11T19:19:43.748Z"
   },
   {
    "duration": 563,
    "start_time": "2022-05-11T19:20:48.449Z"
   },
   {
    "duration": 594,
    "start_time": "2022-05-11T19:21:01.697Z"
   },
   {
    "duration": 244,
    "start_time": "2022-05-11T19:21:06.440Z"
   },
   {
    "duration": 57,
    "start_time": "2022-05-11T19:21:06.686Z"
   },
   {
    "duration": 43,
    "start_time": "2022-05-11T19:21:06.746Z"
   },
   {
    "duration": 59,
    "start_time": "2022-05-11T19:21:06.792Z"
   },
   {
    "duration": 106,
    "start_time": "2022-05-11T19:21:06.855Z"
   },
   {
    "duration": 27,
    "start_time": "2022-05-11T19:21:06.964Z"
   },
   {
    "duration": 389,
    "start_time": "2022-05-11T19:21:06.994Z"
   },
   {
    "duration": 470,
    "start_time": "2022-05-11T19:21:07.386Z"
   },
   {
    "duration": 16,
    "start_time": "2022-05-11T19:21:07.859Z"
   },
   {
    "duration": 33,
    "start_time": "2022-05-11T19:21:07.877Z"
   },
   {
    "duration": 39,
    "start_time": "2022-05-11T19:21:07.924Z"
   },
   {
    "duration": 332,
    "start_time": "2022-05-11T19:21:07.967Z"
   },
   {
    "duration": 32,
    "start_time": "2022-05-11T19:21:08.302Z"
   },
   {
    "duration": 32,
    "start_time": "2022-05-11T19:21:08.340Z"
   },
   {
    "duration": 0,
    "start_time": "2022-05-11T19:21:08.375Z"
   },
   {
    "duration": 0,
    "start_time": "2022-05-11T19:21:08.377Z"
   },
   {
    "duration": 0,
    "start_time": "2022-05-11T19:21:08.379Z"
   },
   {
    "duration": 0,
    "start_time": "2022-05-11T19:21:08.380Z"
   },
   {
    "duration": 0,
    "start_time": "2022-05-11T19:21:08.381Z"
   },
   {
    "duration": 0,
    "start_time": "2022-05-11T19:21:08.383Z"
   },
   {
    "duration": 0,
    "start_time": "2022-05-11T19:21:08.384Z"
   },
   {
    "duration": 0,
    "start_time": "2022-05-11T19:21:08.386Z"
   },
   {
    "duration": 0,
    "start_time": "2022-05-11T19:21:08.388Z"
   },
   {
    "duration": 0,
    "start_time": "2022-05-11T19:21:08.389Z"
   },
   {
    "duration": 0,
    "start_time": "2022-05-11T19:21:08.430Z"
   },
   {
    "duration": 0,
    "start_time": "2022-05-11T19:21:08.431Z"
   },
   {
    "duration": 0,
    "start_time": "2022-05-11T19:21:08.433Z"
   },
   {
    "duration": 1043,
    "start_time": "2022-05-11T19:22:28.691Z"
   },
   {
    "duration": 16,
    "start_time": "2022-05-11T19:22:46.176Z"
   },
   {
    "duration": 20,
    "start_time": "2022-05-11T19:24:04.763Z"
   },
   {
    "duration": 664,
    "start_time": "2022-05-11T19:24:18.593Z"
   },
   {
    "duration": 5793,
    "start_time": "2022-05-11T19:24:31.453Z"
   },
   {
    "duration": 41,
    "start_time": "2022-05-11T19:24:37.249Z"
   },
   {
    "duration": 54,
    "start_time": "2022-05-11T19:24:37.292Z"
   },
   {
    "duration": 43,
    "start_time": "2022-05-11T19:24:37.350Z"
   },
   {
    "duration": 2448,
    "start_time": "2022-05-11T19:24:37.395Z"
   },
   {
    "duration": 32,
    "start_time": "2022-05-11T19:24:39.846Z"
   },
   {
    "duration": 414,
    "start_time": "2022-05-11T19:24:39.926Z"
   },
   {
    "duration": 545,
    "start_time": "2022-05-11T19:24:40.342Z"
   },
   {
    "duration": 14,
    "start_time": "2022-05-11T19:24:40.889Z"
   },
   {
    "duration": 39,
    "start_time": "2022-05-11T19:24:40.907Z"
   },
   {
    "duration": 1238,
    "start_time": "2022-05-11T19:24:40.949Z"
   },
   {
    "duration": 1299,
    "start_time": "2022-05-11T19:24:42.190Z"
   },
   {
    "duration": 83,
    "start_time": "2022-05-11T19:24:43.491Z"
   },
   {
    "duration": 51,
    "start_time": "2022-05-11T19:24:43.576Z"
   },
   {
    "duration": 33,
    "start_time": "2022-05-11T19:24:43.630Z"
   },
   {
    "duration": 445,
    "start_time": "2022-05-11T19:24:43.666Z"
   },
   {
    "duration": 613,
    "start_time": "2022-05-11T19:24:44.114Z"
   },
   {
    "duration": 32,
    "start_time": "2022-05-11T19:24:44.730Z"
   },
   {
    "duration": 4,
    "start_time": "2022-05-11T19:24:44.765Z"
   },
   {
    "duration": 30,
    "start_time": "2022-05-11T19:24:44.771Z"
   },
   {
    "duration": 35,
    "start_time": "2022-05-11T19:24:44.804Z"
   },
   {
    "duration": 322,
    "start_time": "2022-05-11T19:24:44.841Z"
   },
   {
    "duration": 369,
    "start_time": "2022-05-11T19:24:45.166Z"
   },
   {
    "duration": 12,
    "start_time": "2022-05-11T19:26:00.733Z"
   },
   {
    "duration": 7,
    "start_time": "2022-05-11T19:26:21.066Z"
   },
   {
    "duration": 297,
    "start_time": "2022-05-11T19:30:46.706Z"
   },
   {
    "duration": 248,
    "start_time": "2022-05-11T19:30:57.951Z"
   },
   {
    "duration": 49,
    "start_time": "2022-05-11T19:30:58.202Z"
   },
   {
    "duration": 41,
    "start_time": "2022-05-11T19:30:58.254Z"
   },
   {
    "duration": 60,
    "start_time": "2022-05-11T19:30:58.298Z"
   },
   {
    "duration": 105,
    "start_time": "2022-05-11T19:30:58.361Z"
   },
   {
    "duration": 25,
    "start_time": "2022-05-11T19:30:58.468Z"
   },
   {
    "duration": 342,
    "start_time": "2022-05-11T19:30:58.496Z"
   },
   {
    "duration": 521,
    "start_time": "2022-05-11T19:30:58.840Z"
   },
   {
    "duration": 15,
    "start_time": "2022-05-11T19:30:59.363Z"
   },
   {
    "duration": 15,
    "start_time": "2022-05-11T19:30:59.382Z"
   },
   {
    "duration": 17,
    "start_time": "2022-05-11T19:30:59.425Z"
   },
   {
    "duration": 16,
    "start_time": "2022-05-11T19:30:59.446Z"
   },
   {
    "duration": 1385,
    "start_time": "2022-05-11T19:30:59.465Z"
   },
   {
    "duration": 1340,
    "start_time": "2022-05-11T19:31:00.853Z"
   },
   {
    "duration": 92,
    "start_time": "2022-05-11T19:31:02.196Z"
   },
   {
    "duration": 55,
    "start_time": "2022-05-11T19:31:02.291Z"
   },
   {
    "duration": 28,
    "start_time": "2022-05-11T19:31:02.350Z"
   },
   {
    "duration": 460,
    "start_time": "2022-05-11T19:31:02.380Z"
   },
   {
    "duration": 210,
    "start_time": "2022-05-11T19:31:02.843Z"
   },
   {
    "duration": 31,
    "start_time": "2022-05-11T19:31:03.056Z"
   },
   {
    "duration": 27,
    "start_time": "2022-05-11T19:31:03.090Z"
   },
   {
    "duration": 25,
    "start_time": "2022-05-11T19:31:03.130Z"
   },
   {
    "duration": 13,
    "start_time": "2022-05-11T19:31:03.157Z"
   },
   {
    "duration": 333,
    "start_time": "2022-05-11T19:31:03.172Z"
   },
   {
    "duration": 393,
    "start_time": "2022-05-11T19:31:03.508Z"
   },
   {
    "duration": 8,
    "start_time": "2022-05-11T19:31:09.448Z"
   },
   {
    "duration": 19,
    "start_time": "2022-05-11T19:31:21.854Z"
   },
   {
    "duration": 80,
    "start_time": "2022-05-11T19:33:33.157Z"
   },
   {
    "duration": 195,
    "start_time": "2022-05-11T19:33:47.632Z"
   },
   {
    "duration": 38,
    "start_time": "2022-05-11T19:33:57.820Z"
   },
   {
    "duration": 280,
    "start_time": "2022-05-11T19:34:01.651Z"
   },
   {
    "duration": 47,
    "start_time": "2022-05-11T19:34:01.935Z"
   },
   {
    "duration": 67,
    "start_time": "2022-05-11T19:34:01.984Z"
   },
   {
    "duration": 27,
    "start_time": "2022-05-11T19:34:02.055Z"
   },
   {
    "duration": 113,
    "start_time": "2022-05-11T19:34:02.084Z"
   },
   {
    "duration": 46,
    "start_time": "2022-05-11T19:34:02.200Z"
   },
   {
    "duration": 334,
    "start_time": "2022-05-11T19:34:02.249Z"
   },
   {
    "duration": 478,
    "start_time": "2022-05-11T19:34:02.585Z"
   },
   {
    "duration": 15,
    "start_time": "2022-05-11T19:34:03.065Z"
   },
   {
    "duration": 48,
    "start_time": "2022-05-11T19:34:03.084Z"
   },
   {
    "duration": 11,
    "start_time": "2022-05-11T19:34:03.138Z"
   },
   {
    "duration": 21,
    "start_time": "2022-05-11T19:34:03.152Z"
   },
   {
    "duration": 1131,
    "start_time": "2022-05-11T19:34:03.176Z"
   },
   {
    "duration": 1471,
    "start_time": "2022-05-11T19:34:04.309Z"
   },
   {
    "duration": 96,
    "start_time": "2022-05-11T19:34:05.782Z"
   },
   {
    "duration": 47,
    "start_time": "2022-05-11T19:34:05.880Z"
   },
   {
    "duration": 46,
    "start_time": "2022-05-11T19:34:05.930Z"
   },
   {
    "duration": 428,
    "start_time": "2022-05-11T19:34:05.978Z"
   },
   {
    "duration": 260,
    "start_time": "2022-05-11T19:34:06.408Z"
   },
   {
    "duration": 31,
    "start_time": "2022-05-11T19:34:06.671Z"
   },
   {
    "duration": 28,
    "start_time": "2022-05-11T19:34:06.705Z"
   },
   {
    "duration": 19,
    "start_time": "2022-05-11T19:34:06.735Z"
   },
   {
    "duration": 9,
    "start_time": "2022-05-11T19:34:06.758Z"
   },
   {
    "duration": 336,
    "start_time": "2022-05-11T19:34:06.770Z"
   },
   {
    "duration": 358,
    "start_time": "2022-05-11T19:34:07.108Z"
   },
   {
    "duration": 54,
    "start_time": "2022-05-11T19:34:48.408Z"
   },
   {
    "duration": 6236,
    "start_time": "2022-05-11T19:35:05.998Z"
   },
   {
    "duration": 50,
    "start_time": "2022-05-11T19:35:12.238Z"
   },
   {
    "duration": 71,
    "start_time": "2022-05-11T19:35:12.290Z"
   },
   {
    "duration": 42,
    "start_time": "2022-05-11T19:35:12.364Z"
   },
   {
    "duration": 3970,
    "start_time": "2022-05-11T19:35:12.429Z"
   },
   {
    "duration": 32,
    "start_time": "2022-05-11T19:35:16.402Z"
   },
   {
    "duration": 505,
    "start_time": "2022-05-11T19:35:16.437Z"
   },
   {
    "duration": 685,
    "start_time": "2022-05-11T19:35:16.945Z"
   },
   {
    "duration": 18,
    "start_time": "2022-05-11T19:35:17.633Z"
   },
   {
    "duration": 27,
    "start_time": "2022-05-11T19:35:17.654Z"
   },
   {
    "duration": 14,
    "start_time": "2022-05-11T19:35:17.683Z"
   },
   {
    "duration": 126,
    "start_time": "2022-05-11T19:35:17.725Z"
   },
   {
    "duration": 1753,
    "start_time": "2022-05-11T19:35:17.855Z"
   },
   {
    "duration": 1371,
    "start_time": "2022-05-11T19:35:19.612Z"
   },
   {
    "duration": 94,
    "start_time": "2022-05-11T19:35:20.985Z"
   },
   {
    "duration": 54,
    "start_time": "2022-05-11T19:35:21.082Z"
   },
   {
    "duration": 27,
    "start_time": "2022-05-11T19:35:21.140Z"
   },
   {
    "duration": 444,
    "start_time": "2022-05-11T19:35:21.169Z"
   },
   {
    "duration": 607,
    "start_time": "2022-05-11T19:35:21.615Z"
   },
   {
    "duration": 33,
    "start_time": "2022-05-11T19:35:22.225Z"
   },
   {
    "duration": 4,
    "start_time": "2022-05-11T19:35:22.261Z"
   },
   {
    "duration": 17,
    "start_time": "2022-05-11T19:35:22.268Z"
   },
   {
    "duration": 47,
    "start_time": "2022-05-11T19:35:22.288Z"
   },
   {
    "duration": 321,
    "start_time": "2022-05-11T19:35:22.339Z"
   },
   {
    "duration": 353,
    "start_time": "2022-05-11T19:35:22.663Z"
   },
   {
    "duration": 1658,
    "start_time": "2022-05-11T19:35:51.638Z"
   },
   {
    "duration": 408,
    "start_time": "2022-05-11T19:35:56.095Z"
   },
   {
    "duration": 53,
    "start_time": "2022-05-11T19:35:56.505Z"
   },
   {
    "duration": 54,
    "start_time": "2022-05-11T19:35:56.561Z"
   },
   {
    "duration": 45,
    "start_time": "2022-05-11T19:35:56.631Z"
   },
   {
    "duration": 106,
    "start_time": "2022-05-11T19:35:56.679Z"
   },
   {
    "duration": 54,
    "start_time": "2022-05-11T19:35:56.788Z"
   },
   {
    "duration": 365,
    "start_time": "2022-05-11T19:35:56.845Z"
   },
   {
    "duration": 1173,
    "start_time": "2022-05-11T19:35:57.213Z"
   },
   {
    "duration": 17,
    "start_time": "2022-05-11T19:35:58.389Z"
   },
   {
    "duration": 38,
    "start_time": "2022-05-11T19:35:58.411Z"
   },
   {
    "duration": 25,
    "start_time": "2022-05-11T19:35:58.452Z"
   },
   {
    "duration": 29,
    "start_time": "2022-05-11T19:35:58.481Z"
   },
   {
    "duration": 1933,
    "start_time": "2022-05-11T19:35:58.513Z"
   },
   {
    "duration": 1730,
    "start_time": "2022-05-11T19:36:00.449Z"
   },
   {
    "duration": 999,
    "start_time": "2022-05-11T19:36:02.182Z"
   },
   {
    "duration": 96,
    "start_time": "2022-05-11T19:36:03.184Z"
   },
   {
    "duration": 203,
    "start_time": "2022-05-11T19:36:03.282Z"
   },
   {
    "duration": 870,
    "start_time": "2022-05-11T19:36:03.488Z"
   },
   {
    "duration": 389,
    "start_time": "2022-05-11T19:36:04.361Z"
   },
   {
    "duration": 32,
    "start_time": "2022-05-11T19:36:04.752Z"
   },
   {
    "duration": 30,
    "start_time": "2022-05-11T19:36:04.787Z"
   },
   {
    "duration": 29,
    "start_time": "2022-05-11T19:36:04.819Z"
   },
   {
    "duration": 39,
    "start_time": "2022-05-11T19:36:04.851Z"
   },
   {
    "duration": 412,
    "start_time": "2022-05-11T19:36:04.894Z"
   },
   {
    "duration": 365,
    "start_time": "2022-05-11T19:36:05.308Z"
   },
   {
    "duration": 38,
    "start_time": "2022-05-11T19:37:39.032Z"
   },
   {
    "duration": 6,
    "start_time": "2022-05-11T19:39:25.450Z"
   },
   {
    "duration": 30,
    "start_time": "2022-05-11T19:39:30.148Z"
   },
   {
    "duration": 233,
    "start_time": "2022-05-11T19:40:28.883Z"
   },
   {
    "duration": 39,
    "start_time": "2022-05-11T19:40:29.119Z"
   },
   {
    "duration": 44,
    "start_time": "2022-05-11T19:40:29.160Z"
   },
   {
    "duration": 28,
    "start_time": "2022-05-11T19:40:29.226Z"
   },
   {
    "duration": 110,
    "start_time": "2022-05-11T19:40:29.257Z"
   },
   {
    "duration": 27,
    "start_time": "2022-05-11T19:40:29.370Z"
   },
   {
    "duration": 313,
    "start_time": "2022-05-11T19:40:29.424Z"
   },
   {
    "duration": 529,
    "start_time": "2022-05-11T19:40:29.740Z"
   },
   {
    "duration": 16,
    "start_time": "2022-05-11T19:40:30.271Z"
   },
   {
    "duration": 42,
    "start_time": "2022-05-11T19:40:30.290Z"
   },
   {
    "duration": 18,
    "start_time": "2022-05-11T19:40:30.335Z"
   },
   {
    "duration": 33,
    "start_time": "2022-05-11T19:40:30.355Z"
   },
   {
    "duration": 1205,
    "start_time": "2022-05-11T19:40:30.390Z"
   },
   {
    "duration": 1329,
    "start_time": "2022-05-11T19:40:31.598Z"
   },
   {
    "duration": 100,
    "start_time": "2022-05-11T19:40:32.930Z"
   },
   {
    "duration": 35,
    "start_time": "2022-05-11T19:40:33.033Z"
   },
   {
    "duration": 55,
    "start_time": "2022-05-11T19:40:33.070Z"
   },
   {
    "duration": 412,
    "start_time": "2022-05-11T19:40:33.128Z"
   },
   {
    "duration": 157,
    "start_time": "2022-05-11T19:40:33.542Z"
   },
   {
    "duration": 29,
    "start_time": "2022-05-11T19:40:33.702Z"
   },
   {
    "duration": 4,
    "start_time": "2022-05-11T19:40:33.733Z"
   },
   {
    "duration": 14,
    "start_time": "2022-05-11T19:40:33.740Z"
   },
   {
    "duration": 12,
    "start_time": "2022-05-11T19:40:33.756Z"
   },
   {
    "duration": 324,
    "start_time": "2022-05-11T19:40:33.771Z"
   },
   {
    "duration": 343,
    "start_time": "2022-05-11T19:40:34.097Z"
   },
   {
    "duration": 448,
    "start_time": "2022-05-11T19:41:11.314Z"
   },
   {
    "duration": 144,
    "start_time": "2022-05-11T19:41:15.615Z"
   },
   {
    "duration": 66,
    "start_time": "2022-05-11T19:41:15.762Z"
   },
   {
    "duration": 49,
    "start_time": "2022-05-11T19:41:15.831Z"
   },
   {
    "duration": 51,
    "start_time": "2022-05-11T19:41:15.883Z"
   },
   {
    "duration": 136,
    "start_time": "2022-05-11T19:41:15.938Z"
   },
   {
    "duration": 25,
    "start_time": "2022-05-11T19:41:16.076Z"
   },
   {
    "duration": 325,
    "start_time": "2022-05-11T19:41:16.104Z"
   },
   {
    "duration": 429,
    "start_time": "2022-05-11T19:41:16.431Z"
   },
   {
    "duration": 15,
    "start_time": "2022-05-11T19:41:16.862Z"
   },
   {
    "duration": 12,
    "start_time": "2022-05-11T19:41:16.879Z"
   },
   {
    "duration": 38,
    "start_time": "2022-05-11T19:41:16.894Z"
   },
   {
    "duration": 29,
    "start_time": "2022-05-11T19:41:16.934Z"
   },
   {
    "duration": 1011,
    "start_time": "2022-05-11T19:41:16.966Z"
   },
   {
    "duration": 1202,
    "start_time": "2022-05-11T19:41:17.981Z"
   },
   {
    "duration": 210,
    "start_time": "2022-05-11T19:41:19.185Z"
   },
   {
    "duration": 45,
    "start_time": "2022-05-11T19:41:19.397Z"
   },
   {
    "duration": 29,
    "start_time": "2022-05-11T19:41:19.444Z"
   },
   {
    "duration": 422,
    "start_time": "2022-05-11T19:41:19.475Z"
   },
   {
    "duration": 177,
    "start_time": "2022-05-11T19:41:19.899Z"
   },
   {
    "duration": 31,
    "start_time": "2022-05-11T19:41:20.078Z"
   },
   {
    "duration": 17,
    "start_time": "2022-05-11T19:41:20.112Z"
   },
   {
    "duration": 14,
    "start_time": "2022-05-11T19:41:20.132Z"
   },
   {
    "duration": 13,
    "start_time": "2022-05-11T19:41:20.148Z"
   },
   {
    "duration": 318,
    "start_time": "2022-05-11T19:41:20.164Z"
   },
   {
    "duration": 339,
    "start_time": "2022-05-11T19:41:20.485Z"
   },
   {
    "duration": 431,
    "start_time": "2022-05-11T19:45:29.609Z"
   },
   {
    "duration": 24,
    "start_time": "2022-05-11T19:46:46.551Z"
   },
   {
    "duration": 130,
    "start_time": "2022-05-11T19:47:10.007Z"
   },
   {
    "duration": 40,
    "start_time": "2022-05-11T19:47:10.140Z"
   },
   {
    "duration": 66,
    "start_time": "2022-05-11T19:47:10.183Z"
   },
   {
    "duration": 26,
    "start_time": "2022-05-11T19:47:10.252Z"
   },
   {
    "duration": 104,
    "start_time": "2022-05-11T19:47:10.281Z"
   },
   {
    "duration": 46,
    "start_time": "2022-05-11T19:47:10.387Z"
   },
   {
    "duration": 309,
    "start_time": "2022-05-11T19:47:10.435Z"
   },
   {
    "duration": 433,
    "start_time": "2022-05-11T19:47:10.746Z"
   },
   {
    "duration": 14,
    "start_time": "2022-05-11T19:47:11.181Z"
   },
   {
    "duration": 35,
    "start_time": "2022-05-11T19:47:11.199Z"
   },
   {
    "duration": 10,
    "start_time": "2022-05-11T19:47:11.237Z"
   },
   {
    "duration": 17,
    "start_time": "2022-05-11T19:47:11.249Z"
   },
   {
    "duration": 24,
    "start_time": "2022-05-11T19:47:11.268Z"
   },
   {
    "duration": 0,
    "start_time": "2022-05-11T19:47:11.325Z"
   },
   {
    "duration": 0,
    "start_time": "2022-05-11T19:47:11.327Z"
   },
   {
    "duration": 0,
    "start_time": "2022-05-11T19:47:11.328Z"
   },
   {
    "duration": 0,
    "start_time": "2022-05-11T19:47:11.330Z"
   },
   {
    "duration": 0,
    "start_time": "2022-05-11T19:47:11.331Z"
   },
   {
    "duration": 0,
    "start_time": "2022-05-11T19:47:11.333Z"
   },
   {
    "duration": 0,
    "start_time": "2022-05-11T19:47:11.335Z"
   },
   {
    "duration": 0,
    "start_time": "2022-05-11T19:47:11.336Z"
   },
   {
    "duration": 0,
    "start_time": "2022-05-11T19:47:11.339Z"
   },
   {
    "duration": 0,
    "start_time": "2022-05-11T19:47:11.340Z"
   },
   {
    "duration": 1,
    "start_time": "2022-05-11T19:47:11.341Z"
   },
   {
    "duration": 0,
    "start_time": "2022-05-11T19:47:11.343Z"
   },
   {
    "duration": 0,
    "start_time": "2022-05-11T19:47:11.345Z"
   },
   {
    "duration": 19,
    "start_time": "2022-05-11T19:48:02.822Z"
   },
   {
    "duration": 15,
    "start_time": "2022-05-11T19:48:14.431Z"
   },
   {
    "duration": 19,
    "start_time": "2022-05-11T19:50:23.419Z"
   },
   {
    "duration": 446,
    "start_time": "2022-05-11T19:50:29.699Z"
   },
   {
    "duration": 136,
    "start_time": "2022-05-11T19:50:40.999Z"
   },
   {
    "duration": 40,
    "start_time": "2022-05-11T19:50:41.139Z"
   },
   {
    "duration": 71,
    "start_time": "2022-05-11T19:50:41.181Z"
   },
   {
    "duration": 29,
    "start_time": "2022-05-11T19:50:41.254Z"
   },
   {
    "duration": 101,
    "start_time": "2022-05-11T19:50:41.286Z"
   },
   {
    "duration": 42,
    "start_time": "2022-05-11T19:50:41.390Z"
   },
   {
    "duration": 378,
    "start_time": "2022-05-11T19:50:41.434Z"
   },
   {
    "duration": 462,
    "start_time": "2022-05-11T19:50:41.815Z"
   },
   {
    "duration": 17,
    "start_time": "2022-05-11T19:50:42.280Z"
   },
   {
    "duration": 40,
    "start_time": "2022-05-11T19:50:42.300Z"
   },
   {
    "duration": 19,
    "start_time": "2022-05-11T19:50:42.343Z"
   },
   {
    "duration": 458,
    "start_time": "2022-05-11T19:50:42.366Z"
   },
   {
    "duration": 0,
    "start_time": "2022-05-11T19:50:42.827Z"
   },
   {
    "duration": 0,
    "start_time": "2022-05-11T19:50:42.829Z"
   },
   {
    "duration": 0,
    "start_time": "2022-05-11T19:50:42.831Z"
   },
   {
    "duration": 0,
    "start_time": "2022-05-11T19:50:42.834Z"
   },
   {
    "duration": 0,
    "start_time": "2022-05-11T19:50:42.836Z"
   },
   {
    "duration": 0,
    "start_time": "2022-05-11T19:50:42.838Z"
   },
   {
    "duration": 0,
    "start_time": "2022-05-11T19:50:42.840Z"
   },
   {
    "duration": 0,
    "start_time": "2022-05-11T19:50:42.843Z"
   },
   {
    "duration": 0,
    "start_time": "2022-05-11T19:50:42.845Z"
   },
   {
    "duration": 0,
    "start_time": "2022-05-11T19:50:42.847Z"
   },
   {
    "duration": 0,
    "start_time": "2022-05-11T19:50:42.849Z"
   },
   {
    "duration": 0,
    "start_time": "2022-05-11T19:50:42.852Z"
   },
   {
    "duration": 0,
    "start_time": "2022-05-11T19:50:42.855Z"
   },
   {
    "duration": 0,
    "start_time": "2022-05-11T19:50:42.857Z"
   },
   {
    "duration": 522,
    "start_time": "2022-05-11T19:51:11.601Z"
   },
   {
    "duration": 127,
    "start_time": "2022-05-11T19:51:14.875Z"
   },
   {
    "duration": 60,
    "start_time": "2022-05-11T19:51:15.005Z"
   },
   {
    "duration": 70,
    "start_time": "2022-05-11T19:51:15.067Z"
   },
   {
    "duration": 25,
    "start_time": "2022-05-11T19:51:15.140Z"
   },
   {
    "duration": 102,
    "start_time": "2022-05-11T19:51:15.168Z"
   },
   {
    "duration": 26,
    "start_time": "2022-05-11T19:51:15.272Z"
   },
   {
    "duration": 437,
    "start_time": "2022-05-11T19:51:15.300Z"
   },
   {
    "duration": 433,
    "start_time": "2022-05-11T19:51:15.740Z"
   },
   {
    "duration": 16,
    "start_time": "2022-05-11T19:51:16.175Z"
   },
   {
    "duration": 37,
    "start_time": "2022-05-11T19:51:16.195Z"
   },
   {
    "duration": 28,
    "start_time": "2022-05-11T19:51:16.234Z"
   },
   {
    "duration": 25,
    "start_time": "2022-05-11T19:51:16.265Z"
   },
   {
    "duration": 44,
    "start_time": "2022-05-11T19:51:16.292Z"
   },
   {
    "duration": 1001,
    "start_time": "2022-05-11T19:51:16.339Z"
   },
   {
    "duration": 1343,
    "start_time": "2022-05-11T19:51:17.343Z"
   },
   {
    "duration": 95,
    "start_time": "2022-05-11T19:51:18.689Z"
   },
   {
    "duration": 50,
    "start_time": "2022-05-11T19:51:18.786Z"
   },
   {
    "duration": 30,
    "start_time": "2022-05-11T19:51:18.838Z"
   },
   {
    "duration": 419,
    "start_time": "2022-05-11T19:51:18.871Z"
   },
   {
    "duration": 176,
    "start_time": "2022-05-11T19:51:19.292Z"
   },
   {
    "duration": 29,
    "start_time": "2022-05-11T19:51:19.470Z"
   },
   {
    "duration": 22,
    "start_time": "2022-05-11T19:51:19.502Z"
   },
   {
    "duration": 15,
    "start_time": "2022-05-11T19:51:19.527Z"
   },
   {
    "duration": 11,
    "start_time": "2022-05-11T19:51:19.544Z"
   },
   {
    "duration": 317,
    "start_time": "2022-05-11T19:51:19.557Z"
   },
   {
    "duration": 344,
    "start_time": "2022-05-11T19:51:19.877Z"
   },
   {
    "duration": 24,
    "start_time": "2022-05-11T19:51:30.992Z"
   },
   {
    "duration": 181,
    "start_time": "2022-05-11T19:53:20.583Z"
   },
   {
    "duration": 132,
    "start_time": "2022-05-11T19:53:26.854Z"
   },
   {
    "duration": 52,
    "start_time": "2022-05-11T19:53:26.989Z"
   },
   {
    "duration": 47,
    "start_time": "2022-05-11T19:53:27.043Z"
   },
   {
    "duration": 46,
    "start_time": "2022-05-11T19:53:27.094Z"
   },
   {
    "duration": 107,
    "start_time": "2022-05-11T19:53:27.142Z"
   },
   {
    "duration": 26,
    "start_time": "2022-05-11T19:53:27.252Z"
   },
   {
    "duration": 481,
    "start_time": "2022-05-11T19:53:27.280Z"
   },
   {
    "duration": 465,
    "start_time": "2022-05-11T19:53:27.764Z"
   },
   {
    "duration": 15,
    "start_time": "2022-05-11T19:53:28.232Z"
   },
   {
    "duration": 19,
    "start_time": "2022-05-11T19:53:28.252Z"
   },
   {
    "duration": 55,
    "start_time": "2022-05-11T19:53:28.274Z"
   },
   {
    "duration": 24,
    "start_time": "2022-05-11T19:53:28.332Z"
   },
   {
    "duration": 246,
    "start_time": "2022-05-11T19:53:28.358Z"
   },
   {
    "duration": 0,
    "start_time": "2022-05-11T19:53:28.608Z"
   },
   {
    "duration": 0,
    "start_time": "2022-05-11T19:53:28.609Z"
   },
   {
    "duration": 0,
    "start_time": "2022-05-11T19:53:28.624Z"
   },
   {
    "duration": 0,
    "start_time": "2022-05-11T19:53:28.627Z"
   },
   {
    "duration": 0,
    "start_time": "2022-05-11T19:53:28.629Z"
   },
   {
    "duration": 0,
    "start_time": "2022-05-11T19:53:28.631Z"
   },
   {
    "duration": 0,
    "start_time": "2022-05-11T19:53:28.633Z"
   },
   {
    "duration": 0,
    "start_time": "2022-05-11T19:53:28.635Z"
   },
   {
    "duration": 0,
    "start_time": "2022-05-11T19:53:28.637Z"
   },
   {
    "duration": 0,
    "start_time": "2022-05-11T19:53:28.639Z"
   },
   {
    "duration": 0,
    "start_time": "2022-05-11T19:53:28.641Z"
   },
   {
    "duration": 0,
    "start_time": "2022-05-11T19:53:28.643Z"
   },
   {
    "duration": 0,
    "start_time": "2022-05-11T19:53:28.646Z"
   },
   {
    "duration": 278,
    "start_time": "2022-05-11T19:55:15.547Z"
   },
   {
    "duration": 60,
    "start_time": "2022-05-11T19:56:42.965Z"
   },
   {
    "duration": 94,
    "start_time": "2022-05-11T19:58:26.993Z"
   },
   {
    "duration": 117,
    "start_time": "2022-05-11T20:00:00.120Z"
   },
   {
    "duration": 140,
    "start_time": "2022-05-11T20:00:22.436Z"
   },
   {
    "duration": 1855,
    "start_time": "2022-05-11T20:00:34.114Z"
   },
   {
    "duration": 26,
    "start_time": "2022-05-11T20:00:51.782Z"
   },
   {
    "duration": 45,
    "start_time": "2022-05-11T20:00:56.628Z"
   },
   {
    "duration": 33,
    "start_time": "2022-05-11T20:01:39.553Z"
   },
   {
    "duration": 40,
    "start_time": "2022-05-11T20:01:47.106Z"
   },
   {
    "duration": 43,
    "start_time": "2022-05-11T20:01:57.996Z"
   },
   {
    "duration": 41,
    "start_time": "2022-05-11T20:02:08.995Z"
   },
   {
    "duration": 24,
    "start_time": "2022-05-11T20:02:30.347Z"
   },
   {
    "duration": 121,
    "start_time": "2022-05-11T20:22:22.800Z"
   },
   {
    "duration": 6,
    "start_time": "2022-05-11T20:24:27.747Z"
   },
   {
    "duration": 14,
    "start_time": "2022-05-11T20:27:16.493Z"
   },
   {
    "duration": 18,
    "start_time": "2022-05-11T20:29:22.783Z"
   },
   {
    "duration": 407,
    "start_time": "2022-05-11T20:29:29.514Z"
   },
   {
    "duration": 27,
    "start_time": "2022-05-11T20:29:57.595Z"
   },
   {
    "duration": 6,
    "start_time": "2022-05-11T20:30:43.933Z"
   },
   {
    "duration": 7,
    "start_time": "2022-05-11T20:30:49.316Z"
   },
   {
    "duration": 17,
    "start_time": "2022-05-11T20:31:51.177Z"
   },
   {
    "duration": 24,
    "start_time": "2022-05-11T20:32:02.129Z"
   },
   {
    "duration": 127,
    "start_time": "2022-05-11T20:32:07.011Z"
   },
   {
    "duration": 39,
    "start_time": "2022-05-11T20:32:07.140Z"
   },
   {
    "duration": 65,
    "start_time": "2022-05-11T20:32:07.181Z"
   },
   {
    "duration": 27,
    "start_time": "2022-05-11T20:32:07.301Z"
   },
   {
    "duration": 104,
    "start_time": "2022-05-11T20:32:07.331Z"
   },
   {
    "duration": 26,
    "start_time": "2022-05-11T20:32:07.437Z"
   },
   {
    "duration": 354,
    "start_time": "2022-05-11T20:32:07.485Z"
   },
   {
    "duration": 467,
    "start_time": "2022-05-11T20:32:07.842Z"
   },
   {
    "duration": 21,
    "start_time": "2022-05-11T20:32:08.311Z"
   },
   {
    "duration": 14,
    "start_time": "2022-05-11T20:32:08.336Z"
   },
   {
    "duration": 13,
    "start_time": "2022-05-11T20:32:08.354Z"
   },
   {
    "duration": 64,
    "start_time": "2022-05-11T20:32:08.370Z"
   },
   {
    "duration": 13,
    "start_time": "2022-05-11T20:32:08.436Z"
   },
   {
    "duration": 22,
    "start_time": "2022-05-11T20:32:08.452Z"
   },
   {
    "duration": 0,
    "start_time": "2022-05-11T20:32:08.477Z"
   },
   {
    "duration": 0,
    "start_time": "2022-05-11T20:32:08.480Z"
   },
   {
    "duration": 0,
    "start_time": "2022-05-11T20:32:08.482Z"
   },
   {
    "duration": 0,
    "start_time": "2022-05-11T20:32:08.484Z"
   },
   {
    "duration": 0,
    "start_time": "2022-05-11T20:32:08.485Z"
   },
   {
    "duration": 0,
    "start_time": "2022-05-11T20:32:08.487Z"
   },
   {
    "duration": 0,
    "start_time": "2022-05-11T20:32:08.525Z"
   },
   {
    "duration": 0,
    "start_time": "2022-05-11T20:32:08.527Z"
   },
   {
    "duration": 0,
    "start_time": "2022-05-11T20:32:08.528Z"
   },
   {
    "duration": 0,
    "start_time": "2022-05-11T20:32:08.530Z"
   },
   {
    "duration": 0,
    "start_time": "2022-05-11T20:32:08.532Z"
   },
   {
    "duration": 0,
    "start_time": "2022-05-11T20:32:08.534Z"
   },
   {
    "duration": 0,
    "start_time": "2022-05-11T20:32:08.536Z"
   },
   {
    "duration": 0,
    "start_time": "2022-05-11T20:32:08.537Z"
   },
   {
    "duration": 19,
    "start_time": "2022-05-11T20:33:36.909Z"
   },
   {
    "duration": 12,
    "start_time": "2022-05-11T20:33:54.696Z"
   },
   {
    "duration": 26,
    "start_time": "2022-05-11T20:34:12.614Z"
   },
   {
    "duration": 37,
    "start_time": "2022-05-11T20:35:57.916Z"
   },
   {
    "duration": 439,
    "start_time": "2022-05-11T20:36:24.814Z"
   },
   {
    "duration": 1901,
    "start_time": "2022-05-11T20:36:41.537Z"
   },
   {
    "duration": 1805,
    "start_time": "2022-05-11T20:37:09.015Z"
   },
   {
    "duration": 732,
    "start_time": "2022-05-11T20:38:02.258Z"
   },
   {
    "duration": 417,
    "start_time": "2022-05-11T20:38:21.301Z"
   },
   {
    "duration": 439,
    "start_time": "2022-05-11T20:38:43.153Z"
   },
   {
    "duration": 22,
    "start_time": "2022-05-11T20:41:12.281Z"
   },
   {
    "duration": 25,
    "start_time": "2022-05-11T20:41:17.050Z"
   },
   {
    "duration": 94,
    "start_time": "2022-05-11T20:45:20.832Z"
   },
   {
    "duration": 106,
    "start_time": "2022-05-11T20:46:31.463Z"
   },
   {
    "duration": 90,
    "start_time": "2022-05-11T20:47:10.215Z"
   },
   {
    "duration": 123,
    "start_time": "2022-05-11T20:47:19.028Z"
   },
   {
    "duration": 98,
    "start_time": "2022-05-11T20:47:27.021Z"
   },
   {
    "duration": 118,
    "start_time": "2022-05-11T20:48:00.256Z"
   },
   {
    "duration": 137,
    "start_time": "2022-05-11T20:49:01.830Z"
   },
   {
    "duration": 6,
    "start_time": "2022-05-11T20:50:39.185Z"
   },
   {
    "duration": 30,
    "start_time": "2022-05-11T20:52:02.755Z"
   },
   {
    "duration": 139,
    "start_time": "2022-05-11T20:52:11.931Z"
   },
   {
    "duration": 68,
    "start_time": "2022-05-11T20:52:12.073Z"
   },
   {
    "duration": 61,
    "start_time": "2022-05-11T20:52:12.144Z"
   },
   {
    "duration": 31,
    "start_time": "2022-05-11T20:52:12.226Z"
   },
   {
    "duration": 113,
    "start_time": "2022-05-11T20:52:12.260Z"
   },
   {
    "duration": 51,
    "start_time": "2022-05-11T20:52:12.376Z"
   },
   {
    "duration": 447,
    "start_time": "2022-05-11T20:52:12.432Z"
   },
   {
    "duration": 463,
    "start_time": "2022-05-11T20:52:12.881Z"
   },
   {
    "duration": 15,
    "start_time": "2022-05-11T20:52:13.346Z"
   },
   {
    "duration": 18,
    "start_time": "2022-05-11T20:52:13.364Z"
   },
   {
    "duration": 42,
    "start_time": "2022-05-11T20:52:13.384Z"
   },
   {
    "duration": 25,
    "start_time": "2022-05-11T20:52:13.428Z"
   },
   {
    "duration": 25,
    "start_time": "2022-05-11T20:52:13.456Z"
   },
   {
    "duration": 61,
    "start_time": "2022-05-11T20:52:13.485Z"
   },
   {
    "duration": 0,
    "start_time": "2022-05-11T20:52:13.549Z"
   },
   {
    "duration": 0,
    "start_time": "2022-05-11T20:52:13.550Z"
   },
   {
    "duration": 0,
    "start_time": "2022-05-11T20:52:13.552Z"
   },
   {
    "duration": 0,
    "start_time": "2022-05-11T20:52:13.554Z"
   },
   {
    "duration": 0,
    "start_time": "2022-05-11T20:52:13.556Z"
   },
   {
    "duration": 0,
    "start_time": "2022-05-11T20:52:13.558Z"
   },
   {
    "duration": 0,
    "start_time": "2022-05-11T20:52:13.559Z"
   },
   {
    "duration": 0,
    "start_time": "2022-05-11T20:52:13.561Z"
   },
   {
    "duration": 0,
    "start_time": "2022-05-11T20:52:13.563Z"
   },
   {
    "duration": 0,
    "start_time": "2022-05-11T20:52:13.565Z"
   },
   {
    "duration": 0,
    "start_time": "2022-05-11T20:52:13.566Z"
   },
   {
    "duration": 0,
    "start_time": "2022-05-11T20:52:13.568Z"
   },
   {
    "duration": 0,
    "start_time": "2022-05-11T20:52:13.570Z"
   },
   {
    "duration": 0,
    "start_time": "2022-05-11T20:52:13.571Z"
   },
   {
    "duration": 0,
    "start_time": "2022-05-11T20:52:13.573Z"
   },
   {
    "duration": 120,
    "start_time": "2022-05-11T20:54:04.961Z"
   },
   {
    "duration": 56,
    "start_time": "2022-05-11T20:54:05.084Z"
   },
   {
    "duration": 55,
    "start_time": "2022-05-11T20:54:05.143Z"
   },
   {
    "duration": 50,
    "start_time": "2022-05-11T20:54:05.202Z"
   },
   {
    "duration": 118,
    "start_time": "2022-05-11T20:54:05.255Z"
   },
   {
    "duration": 27,
    "start_time": "2022-05-11T20:54:05.376Z"
   },
   {
    "duration": 368,
    "start_time": "2022-05-11T20:54:05.428Z"
   },
   {
    "duration": 452,
    "start_time": "2022-05-11T20:54:05.799Z"
   },
   {
    "duration": 16,
    "start_time": "2022-05-11T20:54:06.254Z"
   },
   {
    "duration": 15,
    "start_time": "2022-05-11T20:54:06.274Z"
   },
   {
    "duration": 42,
    "start_time": "2022-05-11T20:54:06.291Z"
   },
   {
    "duration": 24,
    "start_time": "2022-05-11T20:54:06.335Z"
   },
   {
    "duration": 24,
    "start_time": "2022-05-11T20:54:06.361Z"
   },
   {
    "duration": 98,
    "start_time": "2022-05-11T20:54:06.388Z"
   },
   {
    "duration": 0,
    "start_time": "2022-05-11T20:54:06.489Z"
   },
   {
    "duration": 0,
    "start_time": "2022-05-11T20:54:06.491Z"
   },
   {
    "duration": 1,
    "start_time": "2022-05-11T20:54:06.492Z"
   },
   {
    "duration": 0,
    "start_time": "2022-05-11T20:54:06.494Z"
   },
   {
    "duration": 0,
    "start_time": "2022-05-11T20:54:06.496Z"
   },
   {
    "duration": 0,
    "start_time": "2022-05-11T20:54:06.497Z"
   },
   {
    "duration": 0,
    "start_time": "2022-05-11T20:54:06.499Z"
   },
   {
    "duration": 0,
    "start_time": "2022-05-11T20:54:06.501Z"
   },
   {
    "duration": 0,
    "start_time": "2022-05-11T20:54:06.502Z"
   },
   {
    "duration": 0,
    "start_time": "2022-05-11T20:54:06.504Z"
   },
   {
    "duration": 0,
    "start_time": "2022-05-11T20:54:06.506Z"
   },
   {
    "duration": 0,
    "start_time": "2022-05-11T20:54:06.508Z"
   },
   {
    "duration": 0,
    "start_time": "2022-05-11T20:54:06.509Z"
   },
   {
    "duration": 0,
    "start_time": "2022-05-11T20:54:06.511Z"
   },
   {
    "duration": 0,
    "start_time": "2022-05-11T20:54:06.513Z"
   },
   {
    "duration": 94,
    "start_time": "2022-05-11T20:54:54.529Z"
   },
   {
    "duration": 20,
    "start_time": "2022-05-11T20:55:28.113Z"
   },
   {
    "duration": 23,
    "start_time": "2022-05-11T20:56:11.936Z"
   },
   {
    "duration": 21,
    "start_time": "2022-05-11T20:57:46.089Z"
   },
   {
    "duration": 14,
    "start_time": "2022-05-11T20:58:07.894Z"
   },
   {
    "duration": 29,
    "start_time": "2022-05-11T20:58:58.404Z"
   },
   {
    "duration": 24,
    "start_time": "2022-05-11T20:59:19.444Z"
   },
   {
    "duration": 33,
    "start_time": "2022-05-11T20:59:30.199Z"
   },
   {
    "duration": 31,
    "start_time": "2022-05-11T20:59:54.576Z"
   },
   {
    "duration": 123,
    "start_time": "2022-05-11T21:00:07.080Z"
   },
   {
    "duration": 48,
    "start_time": "2022-05-11T21:00:07.206Z"
   },
   {
    "duration": 68,
    "start_time": "2022-05-11T21:00:07.257Z"
   },
   {
    "duration": 25,
    "start_time": "2022-05-11T21:00:07.329Z"
   },
   {
    "duration": 102,
    "start_time": "2022-05-11T21:00:07.356Z"
   },
   {
    "duration": 26,
    "start_time": "2022-05-11T21:00:07.460Z"
   },
   {
    "duration": 390,
    "start_time": "2022-05-11T21:00:07.489Z"
   },
   {
    "duration": 443,
    "start_time": "2022-05-11T21:00:07.881Z"
   },
   {
    "duration": 16,
    "start_time": "2022-05-11T21:00:08.326Z"
   },
   {
    "duration": 20,
    "start_time": "2022-05-11T21:00:08.345Z"
   },
   {
    "duration": 22,
    "start_time": "2022-05-11T21:00:08.367Z"
   },
   {
    "duration": 50,
    "start_time": "2022-05-11T21:00:08.391Z"
   },
   {
    "duration": 46,
    "start_time": "2022-05-11T21:00:08.443Z"
   },
   {
    "duration": 71,
    "start_time": "2022-05-11T21:00:08.492Z"
   },
   {
    "duration": 0,
    "start_time": "2022-05-11T21:00:08.566Z"
   },
   {
    "duration": 1,
    "start_time": "2022-05-11T21:00:08.568Z"
   },
   {
    "duration": 0,
    "start_time": "2022-05-11T21:00:08.570Z"
   },
   {
    "duration": 0,
    "start_time": "2022-05-11T21:00:08.572Z"
   },
   {
    "duration": 0,
    "start_time": "2022-05-11T21:00:08.574Z"
   },
   {
    "duration": 0,
    "start_time": "2022-05-11T21:00:08.575Z"
   },
   {
    "duration": 0,
    "start_time": "2022-05-11T21:00:08.577Z"
   },
   {
    "duration": 0,
    "start_time": "2022-05-11T21:00:08.579Z"
   },
   {
    "duration": 0,
    "start_time": "2022-05-11T21:00:08.580Z"
   },
   {
    "duration": 0,
    "start_time": "2022-05-11T21:00:08.582Z"
   },
   {
    "duration": 0,
    "start_time": "2022-05-11T21:00:08.583Z"
   },
   {
    "duration": 0,
    "start_time": "2022-05-11T21:00:08.585Z"
   },
   {
    "duration": 0,
    "start_time": "2022-05-11T21:00:08.587Z"
   },
   {
    "duration": 0,
    "start_time": "2022-05-11T21:00:08.588Z"
   },
   {
    "duration": 0,
    "start_time": "2022-05-11T21:00:08.590Z"
   },
   {
    "duration": 29,
    "start_time": "2022-05-11T21:00:37.680Z"
   },
   {
    "duration": 123,
    "start_time": "2022-05-11T21:00:43.450Z"
   },
   {
    "duration": 57,
    "start_time": "2022-05-11T21:00:43.576Z"
   },
   {
    "duration": 51,
    "start_time": "2022-05-11T21:00:43.635Z"
   },
   {
    "duration": 44,
    "start_time": "2022-05-11T21:00:43.688Z"
   },
   {
    "duration": 106,
    "start_time": "2022-05-11T21:00:43.734Z"
   },
   {
    "duration": 24,
    "start_time": "2022-05-11T21:00:43.842Z"
   },
   {
    "duration": 364,
    "start_time": "2022-05-11T21:00:43.869Z"
   },
   {
    "duration": 566,
    "start_time": "2022-05-11T21:00:44.235Z"
   },
   {
    "duration": 23,
    "start_time": "2022-05-11T21:00:44.803Z"
   },
   {
    "duration": 15,
    "start_time": "2022-05-11T21:00:44.830Z"
   },
   {
    "duration": 15,
    "start_time": "2022-05-11T21:00:44.847Z"
   },
   {
    "duration": 23,
    "start_time": "2022-05-11T21:00:44.864Z"
   },
   {
    "duration": 24,
    "start_time": "2022-05-11T21:00:44.925Z"
   },
   {
    "duration": 30,
    "start_time": "2022-05-11T21:00:44.952Z"
   },
   {
    "duration": 0,
    "start_time": "2022-05-11T21:00:44.985Z"
   },
   {
    "duration": 0,
    "start_time": "2022-05-11T21:00:44.986Z"
   },
   {
    "duration": 0,
    "start_time": "2022-05-11T21:00:44.988Z"
   },
   {
    "duration": 0,
    "start_time": "2022-05-11T21:00:44.990Z"
   },
   {
    "duration": 0,
    "start_time": "2022-05-11T21:00:45.025Z"
   },
   {
    "duration": 0,
    "start_time": "2022-05-11T21:00:45.028Z"
   },
   {
    "duration": 0,
    "start_time": "2022-05-11T21:00:45.030Z"
   },
   {
    "duration": 0,
    "start_time": "2022-05-11T21:00:45.032Z"
   },
   {
    "duration": 0,
    "start_time": "2022-05-11T21:00:45.035Z"
   },
   {
    "duration": 0,
    "start_time": "2022-05-11T21:00:45.038Z"
   },
   {
    "duration": 0,
    "start_time": "2022-05-11T21:00:45.040Z"
   },
   {
    "duration": 0,
    "start_time": "2022-05-11T21:00:45.041Z"
   },
   {
    "duration": 0,
    "start_time": "2022-05-11T21:00:45.044Z"
   },
   {
    "duration": 0,
    "start_time": "2022-05-11T21:00:45.046Z"
   },
   {
    "duration": 0,
    "start_time": "2022-05-11T21:00:45.048Z"
   },
   {
    "duration": 21,
    "start_time": "2022-05-11T21:01:18.380Z"
   },
   {
    "duration": 15,
    "start_time": "2022-05-11T21:01:32.220Z"
   },
   {
    "duration": 25,
    "start_time": "2022-05-11T21:02:04.698Z"
   },
   {
    "duration": 32,
    "start_time": "2022-05-11T21:02:11.635Z"
   },
   {
    "duration": 29,
    "start_time": "2022-05-11T21:02:16.504Z"
   },
   {
    "duration": 116,
    "start_time": "2022-05-11T21:02:22.130Z"
   },
   {
    "duration": 42,
    "start_time": "2022-05-11T21:02:22.249Z"
   },
   {
    "duration": 70,
    "start_time": "2022-05-11T21:02:22.293Z"
   },
   {
    "duration": 26,
    "start_time": "2022-05-11T21:02:22.366Z"
   },
   {
    "duration": 105,
    "start_time": "2022-05-11T21:02:22.394Z"
   },
   {
    "duration": 44,
    "start_time": "2022-05-11T21:02:22.501Z"
   },
   {
    "duration": 364,
    "start_time": "2022-05-11T21:02:22.548Z"
   },
   {
    "duration": 442,
    "start_time": "2022-05-11T21:02:22.914Z"
   },
   {
    "duration": 15,
    "start_time": "2022-05-11T21:02:23.358Z"
   },
   {
    "duration": 15,
    "start_time": "2022-05-11T21:02:23.376Z"
   },
   {
    "duration": 14,
    "start_time": "2022-05-11T21:02:23.425Z"
   },
   {
    "duration": 22,
    "start_time": "2022-05-11T21:02:23.442Z"
   },
   {
    "duration": 19,
    "start_time": "2022-05-11T21:02:23.467Z"
   },
   {
    "duration": 57,
    "start_time": "2022-05-11T21:02:23.489Z"
   },
   {
    "duration": 20,
    "start_time": "2022-05-11T21:02:23.548Z"
   },
   {
    "duration": 718,
    "start_time": "2022-05-11T21:02:23.570Z"
   },
   {
    "duration": 0,
    "start_time": "2022-05-11T21:02:24.290Z"
   },
   {
    "duration": 0,
    "start_time": "2022-05-11T21:02:24.292Z"
   },
   {
    "duration": 0,
    "start_time": "2022-05-11T21:02:24.294Z"
   },
   {
    "duration": 0,
    "start_time": "2022-05-11T21:02:24.295Z"
   },
   {
    "duration": 0,
    "start_time": "2022-05-11T21:02:24.296Z"
   },
   {
    "duration": 0,
    "start_time": "2022-05-11T21:02:24.297Z"
   },
   {
    "duration": 0,
    "start_time": "2022-05-11T21:02:24.299Z"
   },
   {
    "duration": 0,
    "start_time": "2022-05-11T21:02:24.301Z"
   },
   {
    "duration": 0,
    "start_time": "2022-05-11T21:02:24.302Z"
   },
   {
    "duration": 0,
    "start_time": "2022-05-11T21:02:24.304Z"
   },
   {
    "duration": 0,
    "start_time": "2022-05-11T21:02:24.305Z"
   },
   {
    "duration": 0,
    "start_time": "2022-05-11T21:02:24.307Z"
   },
   {
    "duration": 0,
    "start_time": "2022-05-11T21:02:24.308Z"
   },
   {
    "duration": 41,
    "start_time": "2022-05-11T21:03:31.837Z"
   },
   {
    "duration": 115,
    "start_time": "2022-05-11T21:03:36.648Z"
   },
   {
    "duration": 58,
    "start_time": "2022-05-11T21:03:36.766Z"
   },
   {
    "duration": 63,
    "start_time": "2022-05-11T21:03:36.827Z"
   },
   {
    "duration": 32,
    "start_time": "2022-05-11T21:03:36.893Z"
   },
   {
    "duration": 91,
    "start_time": "2022-05-11T21:03:36.927Z"
   },
   {
    "duration": 32,
    "start_time": "2022-05-11T21:03:37.025Z"
   },
   {
    "duration": 352,
    "start_time": "2022-05-11T21:03:37.060Z"
   },
   {
    "duration": 440,
    "start_time": "2022-05-11T21:03:37.414Z"
   },
   {
    "duration": 15,
    "start_time": "2022-05-11T21:03:37.856Z"
   },
   {
    "duration": 43,
    "start_time": "2022-05-11T21:03:37.875Z"
   },
   {
    "duration": 47,
    "start_time": "2022-05-11T21:03:37.921Z"
   },
   {
    "duration": 53,
    "start_time": "2022-05-11T21:03:37.970Z"
   },
   {
    "duration": 44,
    "start_time": "2022-05-11T21:03:38.025Z"
   },
   {
    "duration": 64,
    "start_time": "2022-05-11T21:03:38.071Z"
   },
   {
    "duration": 0,
    "start_time": "2022-05-11T21:03:38.139Z"
   },
   {
    "duration": 0,
    "start_time": "2022-05-11T21:03:38.141Z"
   },
   {
    "duration": 0,
    "start_time": "2022-05-11T21:03:38.142Z"
   },
   {
    "duration": 0,
    "start_time": "2022-05-11T21:03:38.144Z"
   },
   {
    "duration": 0,
    "start_time": "2022-05-11T21:03:38.145Z"
   },
   {
    "duration": 0,
    "start_time": "2022-05-11T21:03:38.147Z"
   },
   {
    "duration": 0,
    "start_time": "2022-05-11T21:03:38.148Z"
   },
   {
    "duration": 1,
    "start_time": "2022-05-11T21:03:38.149Z"
   },
   {
    "duration": 0,
    "start_time": "2022-05-11T21:03:38.151Z"
   },
   {
    "duration": 0,
    "start_time": "2022-05-11T21:03:38.152Z"
   },
   {
    "duration": 0,
    "start_time": "2022-05-11T21:03:38.154Z"
   },
   {
    "duration": 0,
    "start_time": "2022-05-11T21:03:38.156Z"
   },
   {
    "duration": 0,
    "start_time": "2022-05-11T21:03:38.157Z"
   },
   {
    "duration": 1,
    "start_time": "2022-05-11T21:03:38.160Z"
   },
   {
    "duration": 0,
    "start_time": "2022-05-11T21:03:38.162Z"
   },
   {
    "duration": 24,
    "start_time": "2022-05-11T21:03:51.788Z"
   },
   {
    "duration": 25,
    "start_time": "2022-05-11T21:06:13.772Z"
   },
   {
    "duration": 14,
    "start_time": "2022-05-11T21:06:41.788Z"
   },
   {
    "duration": 25,
    "start_time": "2022-05-11T21:07:03.928Z"
   },
   {
    "duration": 27,
    "start_time": "2022-05-11T21:07:20.148Z"
   },
   {
    "duration": 32,
    "start_time": "2022-05-11T21:08:25.673Z"
   },
   {
    "duration": 33,
    "start_time": "2022-05-11T21:08:37.076Z"
   },
   {
    "duration": 28,
    "start_time": "2022-05-11T21:08:39.253Z"
   },
   {
    "duration": 29,
    "start_time": "2022-05-11T21:09:59.467Z"
   },
   {
    "duration": 27,
    "start_time": "2022-05-11T21:10:11.652Z"
   },
   {
    "duration": 415,
    "start_time": "2022-05-11T21:11:43.672Z"
   },
   {
    "duration": 118,
    "start_time": "2022-05-11T21:11:48.025Z"
   },
   {
    "duration": 41,
    "start_time": "2022-05-11T21:11:48.147Z"
   },
   {
    "duration": 68,
    "start_time": "2022-05-11T21:11:48.191Z"
   },
   {
    "duration": 28,
    "start_time": "2022-05-11T21:11:48.263Z"
   },
   {
    "duration": 81,
    "start_time": "2022-05-11T21:11:48.325Z"
   },
   {
    "duration": 25,
    "start_time": "2022-05-11T21:11:48.425Z"
   },
   {
    "duration": 379,
    "start_time": "2022-05-11T21:11:48.452Z"
   },
   {
    "duration": 418,
    "start_time": "2022-05-11T21:11:48.834Z"
   },
   {
    "duration": 14,
    "start_time": "2022-05-11T21:11:49.255Z"
   },
   {
    "duration": 19,
    "start_time": "2022-05-11T21:11:49.271Z"
   },
   {
    "duration": 40,
    "start_time": "2022-05-11T21:11:49.292Z"
   },
   {
    "duration": 22,
    "start_time": "2022-05-11T21:11:49.334Z"
   },
   {
    "duration": 23,
    "start_time": "2022-05-11T21:11:49.359Z"
   },
   {
    "duration": 58,
    "start_time": "2022-05-11T21:11:49.384Z"
   },
   {
    "duration": 0,
    "start_time": "2022-05-11T21:11:49.445Z"
   },
   {
    "duration": 0,
    "start_time": "2022-05-11T21:11:49.447Z"
   },
   {
    "duration": 0,
    "start_time": "2022-05-11T21:11:49.450Z"
   },
   {
    "duration": 0,
    "start_time": "2022-05-11T21:11:49.451Z"
   },
   {
    "duration": 0,
    "start_time": "2022-05-11T21:11:49.452Z"
   },
   {
    "duration": 0,
    "start_time": "2022-05-11T21:11:49.454Z"
   },
   {
    "duration": 0,
    "start_time": "2022-05-11T21:11:49.455Z"
   },
   {
    "duration": 0,
    "start_time": "2022-05-11T21:11:49.457Z"
   },
   {
    "duration": 0,
    "start_time": "2022-05-11T21:11:49.459Z"
   },
   {
    "duration": 0,
    "start_time": "2022-05-11T21:11:49.460Z"
   },
   {
    "duration": 0,
    "start_time": "2022-05-11T21:11:49.462Z"
   },
   {
    "duration": 0,
    "start_time": "2022-05-11T21:11:49.463Z"
   },
   {
    "duration": 0,
    "start_time": "2022-05-11T21:11:49.465Z"
   },
   {
    "duration": 0,
    "start_time": "2022-05-11T21:11:49.466Z"
   },
   {
    "duration": 0,
    "start_time": "2022-05-11T21:11:49.468Z"
   },
   {
    "duration": 419,
    "start_time": "2022-05-11T21:12:54.879Z"
   },
   {
    "duration": 121,
    "start_time": "2022-05-11T21:12:57.867Z"
   },
   {
    "duration": 59,
    "start_time": "2022-05-11T21:12:57.991Z"
   },
   {
    "duration": 48,
    "start_time": "2022-05-11T21:12:58.053Z"
   },
   {
    "duration": 26,
    "start_time": "2022-05-11T21:12:58.125Z"
   },
   {
    "duration": 113,
    "start_time": "2022-05-11T21:12:58.153Z"
   },
   {
    "duration": 58,
    "start_time": "2022-05-11T21:12:58.268Z"
   },
   {
    "duration": 365,
    "start_time": "2022-05-11T21:12:58.329Z"
   },
   {
    "duration": 432,
    "start_time": "2022-05-11T21:12:58.696Z"
   },
   {
    "duration": 15,
    "start_time": "2022-05-11T21:12:59.130Z"
   },
   {
    "duration": 16,
    "start_time": "2022-05-11T21:12:59.149Z"
   },
   {
    "duration": 17,
    "start_time": "2022-05-11T21:12:59.167Z"
   },
   {
    "duration": 61,
    "start_time": "2022-05-11T21:12:59.186Z"
   },
   {
    "duration": 32,
    "start_time": "2022-05-11T21:12:59.249Z"
   },
   {
    "duration": 49,
    "start_time": "2022-05-11T21:12:59.283Z"
   },
   {
    "duration": 0,
    "start_time": "2022-05-11T21:12:59.334Z"
   },
   {
    "duration": 0,
    "start_time": "2022-05-11T21:12:59.337Z"
   },
   {
    "duration": 0,
    "start_time": "2022-05-11T21:12:59.338Z"
   },
   {
    "duration": 0,
    "start_time": "2022-05-11T21:12:59.340Z"
   },
   {
    "duration": 0,
    "start_time": "2022-05-11T21:12:59.341Z"
   },
   {
    "duration": 0,
    "start_time": "2022-05-11T21:12:59.343Z"
   },
   {
    "duration": 0,
    "start_time": "2022-05-11T21:12:59.344Z"
   },
   {
    "duration": 0,
    "start_time": "2022-05-11T21:12:59.346Z"
   },
   {
    "duration": 0,
    "start_time": "2022-05-11T21:12:59.347Z"
   },
   {
    "duration": 0,
    "start_time": "2022-05-11T21:12:59.349Z"
   },
   {
    "duration": 0,
    "start_time": "2022-05-11T21:12:59.350Z"
   },
   {
    "duration": 0,
    "start_time": "2022-05-11T21:12:59.352Z"
   },
   {
    "duration": 0,
    "start_time": "2022-05-11T21:12:59.353Z"
   },
   {
    "duration": 0,
    "start_time": "2022-05-11T21:12:59.355Z"
   },
   {
    "duration": 0,
    "start_time": "2022-05-11T21:12:59.356Z"
   },
   {
    "duration": 609,
    "start_time": "2022-05-11T21:14:04.970Z"
   },
   {
    "duration": 408,
    "start_time": "2022-05-11T21:14:14.554Z"
   },
   {
    "duration": 417,
    "start_time": "2022-05-11T21:14:18.770Z"
   },
   {
    "duration": 470,
    "start_time": "2022-05-11T21:14:30.675Z"
   },
   {
    "duration": 1845,
    "start_time": "2022-05-11T21:15:16.716Z"
   },
   {
    "duration": 37,
    "start_time": "2022-05-11T21:15:18.564Z"
   },
   {
    "duration": 56,
    "start_time": "2022-05-11T21:15:18.603Z"
   },
   {
    "duration": 27,
    "start_time": "2022-05-11T21:15:18.662Z"
   },
   {
    "duration": 612,
    "start_time": "2022-05-11T21:15:18.692Z"
   },
   {
    "duration": 43,
    "start_time": "2022-05-11T21:15:19.307Z"
   },
   {
    "duration": 453,
    "start_time": "2022-05-11T21:15:19.353Z"
   },
   {
    "duration": 434,
    "start_time": "2022-05-11T21:15:19.808Z"
   },
   {
    "duration": 17,
    "start_time": "2022-05-11T21:15:20.245Z"
   },
   {
    "duration": 140,
    "start_time": "2022-05-11T21:15:20.269Z"
   },
   {
    "duration": 23,
    "start_time": "2022-05-11T21:15:20.411Z"
   },
   {
    "duration": 22,
    "start_time": "2022-05-11T21:15:20.436Z"
   },
   {
    "duration": 26,
    "start_time": "2022-05-11T21:15:20.461Z"
   },
   {
    "duration": 241,
    "start_time": "2022-05-11T21:15:20.523Z"
   },
   {
    "duration": 0,
    "start_time": "2022-05-11T21:15:20.766Z"
   },
   {
    "duration": 0,
    "start_time": "2022-05-11T21:15:20.768Z"
   },
   {
    "duration": 0,
    "start_time": "2022-05-11T21:15:20.770Z"
   },
   {
    "duration": 0,
    "start_time": "2022-05-11T21:15:20.772Z"
   },
   {
    "duration": 0,
    "start_time": "2022-05-11T21:15:20.773Z"
   },
   {
    "duration": 0,
    "start_time": "2022-05-11T21:15:20.775Z"
   },
   {
    "duration": 1,
    "start_time": "2022-05-11T21:15:20.776Z"
   },
   {
    "duration": 1,
    "start_time": "2022-05-11T21:15:20.778Z"
   },
   {
    "duration": 0,
    "start_time": "2022-05-11T21:15:20.780Z"
   },
   {
    "duration": 0,
    "start_time": "2022-05-11T21:15:20.781Z"
   },
   {
    "duration": 0,
    "start_time": "2022-05-11T21:15:20.783Z"
   },
   {
    "duration": 0,
    "start_time": "2022-05-11T21:15:20.785Z"
   },
   {
    "duration": 0,
    "start_time": "2022-05-11T21:15:20.786Z"
   },
   {
    "duration": 0,
    "start_time": "2022-05-11T21:15:20.788Z"
   },
   {
    "duration": 0,
    "start_time": "2022-05-11T21:15:20.825Z"
   },
   {
    "duration": 145,
    "start_time": "2022-05-11T21:17:45.014Z"
   },
   {
    "duration": 66,
    "start_time": "2022-05-11T21:17:45.163Z"
   },
   {
    "duration": 42,
    "start_time": "2022-05-11T21:17:45.232Z"
   },
   {
    "duration": 56,
    "start_time": "2022-05-11T21:17:45.277Z"
   },
   {
    "duration": 99,
    "start_time": "2022-05-11T21:17:45.337Z"
   },
   {
    "duration": 25,
    "start_time": "2022-05-11T21:17:45.438Z"
   },
   {
    "duration": 359,
    "start_time": "2022-05-11T21:17:45.465Z"
   },
   {
    "duration": 426,
    "start_time": "2022-05-11T21:17:45.827Z"
   },
   {
    "duration": 15,
    "start_time": "2022-05-11T21:17:46.255Z"
   },
   {
    "duration": 15,
    "start_time": "2022-05-11T21:17:46.272Z"
   },
   {
    "duration": 45,
    "start_time": "2022-05-11T21:17:46.289Z"
   },
   {
    "duration": 26,
    "start_time": "2022-05-11T21:17:46.336Z"
   },
   {
    "duration": 29,
    "start_time": "2022-05-11T21:17:46.364Z"
   },
   {
    "duration": 0,
    "start_time": "2022-05-11T21:17:46.425Z"
   },
   {
    "duration": 1,
    "start_time": "2022-05-11T21:17:46.426Z"
   },
   {
    "duration": 0,
    "start_time": "2022-05-11T21:17:46.429Z"
   },
   {
    "duration": 0,
    "start_time": "2022-05-11T21:17:46.430Z"
   },
   {
    "duration": 0,
    "start_time": "2022-05-11T21:17:46.432Z"
   },
   {
    "duration": 0,
    "start_time": "2022-05-11T21:17:46.433Z"
   },
   {
    "duration": 0,
    "start_time": "2022-05-11T21:17:46.434Z"
   },
   {
    "duration": 0,
    "start_time": "2022-05-11T21:17:46.436Z"
   },
   {
    "duration": 0,
    "start_time": "2022-05-11T21:17:46.437Z"
   },
   {
    "duration": 0,
    "start_time": "2022-05-11T21:17:46.439Z"
   },
   {
    "duration": 1,
    "start_time": "2022-05-11T21:17:46.440Z"
   },
   {
    "duration": 0,
    "start_time": "2022-05-11T21:17:46.442Z"
   },
   {
    "duration": 0,
    "start_time": "2022-05-11T21:17:46.443Z"
   },
   {
    "duration": 0,
    "start_time": "2022-05-11T21:17:46.444Z"
   },
   {
    "duration": 0,
    "start_time": "2022-05-11T21:17:46.445Z"
   },
   {
    "duration": 0,
    "start_time": "2022-05-11T21:17:46.447Z"
   },
   {
    "duration": 648,
    "start_time": "2022-05-11T21:18:30.747Z"
   },
   {
    "duration": 136,
    "start_time": "2022-05-11T21:18:34.699Z"
   },
   {
    "duration": 39,
    "start_time": "2022-05-11T21:18:34.838Z"
   },
   {
    "duration": 65,
    "start_time": "2022-05-11T21:18:34.879Z"
   },
   {
    "duration": 26,
    "start_time": "2022-05-11T21:18:34.946Z"
   },
   {
    "duration": 107,
    "start_time": "2022-05-11T21:18:34.976Z"
   },
   {
    "duration": 43,
    "start_time": "2022-05-11T21:18:35.085Z"
   },
   {
    "duration": 362,
    "start_time": "2022-05-11T21:18:35.130Z"
   },
   {
    "duration": 439,
    "start_time": "2022-05-11T21:18:35.494Z"
   },
   {
    "duration": 14,
    "start_time": "2022-05-11T21:18:35.936Z"
   },
   {
    "duration": 22,
    "start_time": "2022-05-11T21:18:35.953Z"
   },
   {
    "duration": 38,
    "start_time": "2022-05-11T21:18:35.978Z"
   },
   {
    "duration": 21,
    "start_time": "2022-05-11T21:18:36.024Z"
   },
   {
    "duration": 23,
    "start_time": "2022-05-11T21:18:36.048Z"
   },
   {
    "duration": 0,
    "start_time": "2022-05-11T21:18:36.074Z"
   },
   {
    "duration": 0,
    "start_time": "2022-05-11T21:18:36.076Z"
   },
   {
    "duration": 0,
    "start_time": "2022-05-11T21:18:36.077Z"
   },
   {
    "duration": 0,
    "start_time": "2022-05-11T21:18:36.079Z"
   },
   {
    "duration": 0,
    "start_time": "2022-05-11T21:18:36.080Z"
   },
   {
    "duration": 0,
    "start_time": "2022-05-11T21:18:36.081Z"
   },
   {
    "duration": 0,
    "start_time": "2022-05-11T21:18:36.082Z"
   },
   {
    "duration": 0,
    "start_time": "2022-05-11T21:18:36.084Z"
   },
   {
    "duration": 0,
    "start_time": "2022-05-11T21:18:36.125Z"
   },
   {
    "duration": 0,
    "start_time": "2022-05-11T21:18:36.127Z"
   },
   {
    "duration": 0,
    "start_time": "2022-05-11T21:18:36.129Z"
   },
   {
    "duration": 0,
    "start_time": "2022-05-11T21:18:36.130Z"
   },
   {
    "duration": 0,
    "start_time": "2022-05-11T21:18:36.132Z"
   },
   {
    "duration": 0,
    "start_time": "2022-05-11T21:18:36.133Z"
   },
   {
    "duration": 0,
    "start_time": "2022-05-11T21:18:36.135Z"
   },
   {
    "duration": 0,
    "start_time": "2022-05-11T21:18:36.136Z"
   },
   {
    "duration": 1719,
    "start_time": "2022-05-11T21:19:31.900Z"
   },
   {
    "duration": 13,
    "start_time": "2022-05-11T21:19:46.599Z"
   },
   {
    "duration": 26,
    "start_time": "2022-05-11T21:19:58.610Z"
   },
   {
    "duration": 21,
    "start_time": "2022-05-11T21:23:17.408Z"
   },
   {
    "duration": 16,
    "start_time": "2022-05-11T21:23:27.393Z"
   },
   {
    "duration": 25,
    "start_time": "2022-05-11T21:23:43.219Z"
   },
   {
    "duration": 1958,
    "start_time": "2022-05-12T11:00:30.560Z"
   },
   {
    "duration": 36,
    "start_time": "2022-05-12T11:00:32.520Z"
   },
   {
    "duration": 30,
    "start_time": "2022-05-12T11:00:32.559Z"
   },
   {
    "duration": 51,
    "start_time": "2022-05-12T11:00:32.592Z"
   },
   {
    "duration": 672,
    "start_time": "2022-05-12T11:00:32.645Z"
   },
   {
    "duration": 34,
    "start_time": "2022-05-12T11:00:33.319Z"
   },
   {
    "duration": 366,
    "start_time": "2022-05-12T11:00:33.356Z"
   },
   {
    "duration": 425,
    "start_time": "2022-05-12T11:00:33.724Z"
   },
   {
    "duration": 12,
    "start_time": "2022-05-12T11:00:34.151Z"
   },
   {
    "duration": 104,
    "start_time": "2022-05-12T11:00:34.167Z"
   },
   {
    "duration": 33,
    "start_time": "2022-05-12T11:00:34.273Z"
   },
   {
    "duration": 1948,
    "start_time": "2022-05-12T11:00:34.307Z"
   },
   {
    "duration": 0,
    "start_time": "2022-05-12T11:00:36.258Z"
   },
   {
    "duration": 0,
    "start_time": "2022-05-12T11:00:36.259Z"
   },
   {
    "duration": 0,
    "start_time": "2022-05-12T11:00:36.260Z"
   },
   {
    "duration": 0,
    "start_time": "2022-05-12T11:00:36.262Z"
   },
   {
    "duration": 0,
    "start_time": "2022-05-12T11:00:36.263Z"
   },
   {
    "duration": 0,
    "start_time": "2022-05-12T11:00:36.265Z"
   },
   {
    "duration": 0,
    "start_time": "2022-05-12T11:00:36.267Z"
   },
   {
    "duration": 0,
    "start_time": "2022-05-12T11:00:36.268Z"
   },
   {
    "duration": 0,
    "start_time": "2022-05-12T11:00:36.270Z"
   },
   {
    "duration": 0,
    "start_time": "2022-05-12T11:00:36.271Z"
   },
   {
    "duration": 0,
    "start_time": "2022-05-12T11:00:36.272Z"
   },
   {
    "duration": 0,
    "start_time": "2022-05-12T11:00:36.274Z"
   },
   {
    "duration": 0,
    "start_time": "2022-05-12T11:00:36.275Z"
   },
   {
    "duration": 0,
    "start_time": "2022-05-12T11:00:36.276Z"
   },
   {
    "duration": 0,
    "start_time": "2022-05-12T11:00:36.278Z"
   },
   {
    "duration": 0,
    "start_time": "2022-05-12T11:00:36.279Z"
   },
   {
    "duration": 0,
    "start_time": "2022-05-12T11:00:36.280Z"
   },
   {
    "duration": 121,
    "start_time": "2022-05-12T11:03:52.185Z"
   },
   {
    "duration": 41,
    "start_time": "2022-05-12T11:03:52.309Z"
   },
   {
    "duration": 39,
    "start_time": "2022-05-12T11:03:52.352Z"
   },
   {
    "duration": 50,
    "start_time": "2022-05-12T11:03:52.393Z"
   },
   {
    "duration": 81,
    "start_time": "2022-05-12T11:03:52.446Z"
   },
   {
    "duration": 23,
    "start_time": "2022-05-12T11:03:52.530Z"
   },
   {
    "duration": 308,
    "start_time": "2022-05-12T11:03:52.555Z"
   },
   {
    "duration": 393,
    "start_time": "2022-05-12T11:03:52.865Z"
   },
   {
    "duration": 11,
    "start_time": "2022-05-12T11:03:53.260Z"
   },
   {
    "duration": 11,
    "start_time": "2022-05-12T11:03:53.273Z"
   },
   {
    "duration": 44,
    "start_time": "2022-05-12T11:03:53.286Z"
   },
   {
    "duration": 1018,
    "start_time": "2022-05-12T11:03:53.332Z"
   },
   {
    "duration": 0,
    "start_time": "2022-05-12T11:03:54.352Z"
   },
   {
    "duration": 0,
    "start_time": "2022-05-12T11:03:54.353Z"
   },
   {
    "duration": 0,
    "start_time": "2022-05-12T11:03:54.354Z"
   },
   {
    "duration": 0,
    "start_time": "2022-05-12T11:03:54.355Z"
   },
   {
    "duration": 0,
    "start_time": "2022-05-12T11:03:54.356Z"
   },
   {
    "duration": 0,
    "start_time": "2022-05-12T11:03:54.357Z"
   },
   {
    "duration": 0,
    "start_time": "2022-05-12T11:03:54.358Z"
   },
   {
    "duration": 0,
    "start_time": "2022-05-12T11:03:54.359Z"
   },
   {
    "duration": 0,
    "start_time": "2022-05-12T11:03:54.360Z"
   },
   {
    "duration": 0,
    "start_time": "2022-05-12T11:03:54.361Z"
   },
   {
    "duration": 0,
    "start_time": "2022-05-12T11:03:54.362Z"
   },
   {
    "duration": 0,
    "start_time": "2022-05-12T11:03:54.363Z"
   },
   {
    "duration": 0,
    "start_time": "2022-05-12T11:03:54.364Z"
   },
   {
    "duration": 0,
    "start_time": "2022-05-12T11:03:54.365Z"
   },
   {
    "duration": 0,
    "start_time": "2022-05-12T11:03:54.366Z"
   },
   {
    "duration": 0,
    "start_time": "2022-05-12T11:03:54.368Z"
   },
   {
    "duration": 0,
    "start_time": "2022-05-12T11:03:54.368Z"
   },
   {
    "duration": 132,
    "start_time": "2022-05-12T11:25:39.266Z"
   },
   {
    "duration": 55,
    "start_time": "2022-05-12T11:25:39.401Z"
   },
   {
    "duration": 32,
    "start_time": "2022-05-12T11:25:39.458Z"
   },
   {
    "duration": 42,
    "start_time": "2022-05-12T11:25:39.492Z"
   },
   {
    "duration": 94,
    "start_time": "2022-05-12T11:25:39.536Z"
   },
   {
    "duration": 21,
    "start_time": "2022-05-12T11:25:39.633Z"
   },
   {
    "duration": 213,
    "start_time": "2022-05-12T11:25:39.656Z"
   },
   {
    "duration": 389,
    "start_time": "2022-05-12T11:25:39.872Z"
   },
   {
    "duration": 12,
    "start_time": "2022-05-12T11:25:40.264Z"
   },
   {
    "duration": 10,
    "start_time": "2022-05-12T11:25:40.279Z"
   },
   {
    "duration": 55,
    "start_time": "2022-05-12T11:25:40.291Z"
   },
   {
    "duration": 894,
    "start_time": "2022-05-12T11:25:40.348Z"
   },
   {
    "duration": 0,
    "start_time": "2022-05-12T11:25:41.244Z"
   },
   {
    "duration": 0,
    "start_time": "2022-05-12T11:25:41.245Z"
   },
   {
    "duration": 0,
    "start_time": "2022-05-12T11:25:41.246Z"
   },
   {
    "duration": 0,
    "start_time": "2022-05-12T11:25:41.248Z"
   },
   {
    "duration": 0,
    "start_time": "2022-05-12T11:25:41.249Z"
   },
   {
    "duration": 0,
    "start_time": "2022-05-12T11:25:41.250Z"
   },
   {
    "duration": 0,
    "start_time": "2022-05-12T11:25:41.251Z"
   },
   {
    "duration": 0,
    "start_time": "2022-05-12T11:25:41.252Z"
   },
   {
    "duration": 0,
    "start_time": "2022-05-12T11:25:41.253Z"
   },
   {
    "duration": 0,
    "start_time": "2022-05-12T11:25:41.254Z"
   },
   {
    "duration": 1,
    "start_time": "2022-05-12T11:25:41.255Z"
   },
   {
    "duration": 0,
    "start_time": "2022-05-12T11:25:41.257Z"
   },
   {
    "duration": 0,
    "start_time": "2022-05-12T11:25:41.258Z"
   },
   {
    "duration": 0,
    "start_time": "2022-05-12T11:25:41.259Z"
   },
   {
    "duration": 0,
    "start_time": "2022-05-12T11:25:41.260Z"
   },
   {
    "duration": 0,
    "start_time": "2022-05-12T11:25:41.261Z"
   },
   {
    "duration": 0,
    "start_time": "2022-05-12T11:25:41.262Z"
   },
   {
    "duration": 13,
    "start_time": "2022-05-12T11:30:17.280Z"
   },
   {
    "duration": 13,
    "start_time": "2022-05-12T11:32:52.281Z"
   },
   {
    "duration": 809,
    "start_time": "2022-05-12T11:33:05.785Z"
   },
   {
    "duration": 14,
    "start_time": "2022-05-12T11:33:21.642Z"
   },
   {
    "duration": 10,
    "start_time": "2022-05-12T11:33:41.163Z"
   },
   {
    "duration": 14,
    "start_time": "2022-05-12T11:33:51.863Z"
   },
   {
    "duration": 11,
    "start_time": "2022-05-12T11:34:10.544Z"
   },
   {
    "duration": 10,
    "start_time": "2022-05-12T11:34:20.684Z"
   },
   {
    "duration": 12,
    "start_time": "2022-05-12T11:34:26.093Z"
   },
   {
    "duration": 4252,
    "start_time": "2022-05-12T11:34:49.369Z"
   },
   {
    "duration": 15,
    "start_time": "2022-05-12T11:34:59.689Z"
   },
   {
    "duration": 8995,
    "start_time": "2022-05-12T11:35:07.449Z"
   },
   {
    "duration": 951,
    "start_time": "2022-05-12T11:37:47.405Z"
   },
   {
    "duration": 22,
    "start_time": "2022-05-12T11:40:10.413Z"
   },
   {
    "duration": 2,
    "start_time": "2022-05-12T11:40:19.086Z"
   },
   {
    "duration": 23,
    "start_time": "2022-05-12T11:40:28.708Z"
   },
   {
    "duration": 10,
    "start_time": "2022-05-12T11:41:03.108Z"
   },
   {
    "duration": 14,
    "start_time": "2022-05-12T11:41:26.444Z"
   },
   {
    "duration": 10,
    "start_time": "2022-05-12T11:43:31.499Z"
   },
   {
    "duration": 11,
    "start_time": "2022-05-12T11:43:49.772Z"
   },
   {
    "duration": 5,
    "start_time": "2022-05-12T11:43:57.893Z"
   },
   {
    "duration": 11,
    "start_time": "2022-05-12T11:44:11.144Z"
   },
   {
    "duration": 11,
    "start_time": "2022-05-12T11:44:27.427Z"
   },
   {
    "duration": 6,
    "start_time": "2022-05-12T11:44:39.651Z"
   },
   {
    "duration": 3,
    "start_time": "2022-05-12T11:44:50.253Z"
   },
   {
    "duration": 19,
    "start_time": "2022-05-12T11:45:09.148Z"
   },
   {
    "duration": 17,
    "start_time": "2022-05-12T11:45:16.654Z"
   },
   {
    "duration": 14,
    "start_time": "2022-05-12T11:45:21.047Z"
   },
   {
    "duration": 14,
    "start_time": "2022-05-12T11:45:29.413Z"
   },
   {
    "duration": 7,
    "start_time": "2022-05-12T11:45:36.923Z"
   },
   {
    "duration": 6,
    "start_time": "2022-05-12T11:45:46.847Z"
   },
   {
    "duration": 7,
    "start_time": "2022-05-12T11:45:55.657Z"
   },
   {
    "duration": 5,
    "start_time": "2022-05-12T11:46:51.612Z"
   },
   {
    "duration": 806,
    "start_time": "2022-05-12T11:47:00.417Z"
   },
   {
    "duration": 957,
    "start_time": "2022-05-12T11:47:15.141Z"
   },
   {
    "duration": 850,
    "start_time": "2022-05-12T11:47:24.714Z"
   },
   {
    "duration": 817,
    "start_time": "2022-05-12T11:47:34.248Z"
   },
   {
    "duration": 99,
    "start_time": "2022-05-12T11:47:43.807Z"
   },
   {
    "duration": 37,
    "start_time": "2022-05-12T11:47:43.908Z"
   },
   {
    "duration": 29,
    "start_time": "2022-05-12T11:47:43.947Z"
   },
   {
    "duration": 44,
    "start_time": "2022-05-12T11:47:43.978Z"
   },
   {
    "duration": 50,
    "start_time": "2022-05-12T11:47:44.024Z"
   },
   {
    "duration": 18,
    "start_time": "2022-05-12T11:47:44.076Z"
   },
   {
    "duration": 226,
    "start_time": "2022-05-12T11:47:44.096Z"
   },
   {
    "duration": 242,
    "start_time": "2022-05-12T11:47:44.325Z"
   },
   {
    "duration": 11,
    "start_time": "2022-05-12T11:47:44.569Z"
   },
   {
    "duration": 10,
    "start_time": "2022-05-12T11:47:44.583Z"
   },
   {
    "duration": 36,
    "start_time": "2022-05-12T11:47:44.594Z"
   },
   {
    "duration": 15,
    "start_time": "2022-05-12T11:47:44.632Z"
   },
   {
    "duration": 17,
    "start_time": "2022-05-12T11:47:44.648Z"
   },
   {
    "duration": 0,
    "start_time": "2022-05-12T11:47:44.667Z"
   },
   {
    "duration": 1,
    "start_time": "2022-05-12T11:47:44.668Z"
   },
   {
    "duration": 0,
    "start_time": "2022-05-12T11:47:44.670Z"
   },
   {
    "duration": 0,
    "start_time": "2022-05-12T11:47:44.671Z"
   },
   {
    "duration": 0,
    "start_time": "2022-05-12T11:47:44.672Z"
   },
   {
    "duration": 0,
    "start_time": "2022-05-12T11:47:44.673Z"
   },
   {
    "duration": 0,
    "start_time": "2022-05-12T11:47:44.674Z"
   },
   {
    "duration": 0,
    "start_time": "2022-05-12T11:47:44.675Z"
   },
   {
    "duration": 0,
    "start_time": "2022-05-12T11:47:44.676Z"
   },
   {
    "duration": 0,
    "start_time": "2022-05-12T11:47:44.677Z"
   },
   {
    "duration": 0,
    "start_time": "2022-05-12T11:47:44.678Z"
   },
   {
    "duration": 0,
    "start_time": "2022-05-12T11:47:44.679Z"
   },
   {
    "duration": 0,
    "start_time": "2022-05-12T11:47:44.680Z"
   },
   {
    "duration": 0,
    "start_time": "2022-05-12T11:47:44.722Z"
   },
   {
    "duration": 0,
    "start_time": "2022-05-12T11:47:44.724Z"
   },
   {
    "duration": 0,
    "start_time": "2022-05-12T11:47:44.725Z"
   },
   {
    "duration": 3,
    "start_time": "2022-05-12T11:47:54.726Z"
   },
   {
    "duration": 7,
    "start_time": "2022-05-12T11:48:44.492Z"
   },
   {
    "duration": 17,
    "start_time": "2022-05-12T11:50:52.312Z"
   },
   {
    "duration": 211,
    "start_time": "2022-05-12T11:51:13.287Z"
   },
   {
    "duration": 829,
    "start_time": "2022-05-12T11:51:17.486Z"
   },
   {
    "duration": 99,
    "start_time": "2022-05-12T11:51:23.755Z"
   },
   {
    "duration": 26,
    "start_time": "2022-05-12T11:51:23.856Z"
   },
   {
    "duration": 50,
    "start_time": "2022-05-12T11:51:23.884Z"
   },
   {
    "duration": 17,
    "start_time": "2022-05-12T11:51:23.936Z"
   },
   {
    "duration": 71,
    "start_time": "2022-05-12T11:51:23.956Z"
   },
   {
    "duration": 18,
    "start_time": "2022-05-12T11:51:24.029Z"
   },
   {
    "duration": 205,
    "start_time": "2022-05-12T11:51:24.048Z"
   },
   {
    "duration": 245,
    "start_time": "2022-05-12T11:51:24.255Z"
   },
   {
    "duration": 11,
    "start_time": "2022-05-12T11:51:24.502Z"
   },
   {
    "duration": 12,
    "start_time": "2022-05-12T11:51:24.523Z"
   },
   {
    "duration": 5,
    "start_time": "2022-05-12T11:51:24.537Z"
   },
   {
    "duration": 23,
    "start_time": "2022-05-12T11:51:24.544Z"
   },
   {
    "duration": 17,
    "start_time": "2022-05-12T11:51:24.569Z"
   },
   {
    "duration": 0,
    "start_time": "2022-05-12T11:51:24.589Z"
   },
   {
    "duration": 0,
    "start_time": "2022-05-12T11:51:24.623Z"
   },
   {
    "duration": 0,
    "start_time": "2022-05-12T11:51:24.624Z"
   },
   {
    "duration": 0,
    "start_time": "2022-05-12T11:51:24.626Z"
   },
   {
    "duration": 0,
    "start_time": "2022-05-12T11:51:24.627Z"
   },
   {
    "duration": 0,
    "start_time": "2022-05-12T11:51:24.628Z"
   },
   {
    "duration": 0,
    "start_time": "2022-05-12T11:51:24.629Z"
   },
   {
    "duration": 1,
    "start_time": "2022-05-12T11:51:24.630Z"
   },
   {
    "duration": 0,
    "start_time": "2022-05-12T11:51:24.632Z"
   },
   {
    "duration": 0,
    "start_time": "2022-05-12T11:51:24.633Z"
   },
   {
    "duration": 0,
    "start_time": "2022-05-12T11:51:24.634Z"
   },
   {
    "duration": 0,
    "start_time": "2022-05-12T11:51:24.635Z"
   },
   {
    "duration": 0,
    "start_time": "2022-05-12T11:51:24.636Z"
   },
   {
    "duration": 0,
    "start_time": "2022-05-12T11:51:24.637Z"
   },
   {
    "duration": 0,
    "start_time": "2022-05-12T11:51:24.638Z"
   },
   {
    "duration": 0,
    "start_time": "2022-05-12T11:51:24.639Z"
   },
   {
    "duration": 862,
    "start_time": "2022-05-12T11:54:30.610Z"
   },
   {
    "duration": 849,
    "start_time": "2022-05-12T11:56:29.754Z"
   },
   {
    "duration": 90,
    "start_time": "2022-05-12T11:56:35.796Z"
   },
   {
    "duration": 36,
    "start_time": "2022-05-12T11:56:35.888Z"
   },
   {
    "duration": 36,
    "start_time": "2022-05-12T11:56:35.926Z"
   },
   {
    "duration": 16,
    "start_time": "2022-05-12T11:56:35.965Z"
   },
   {
    "duration": 66,
    "start_time": "2022-05-12T11:56:35.983Z"
   },
   {
    "duration": 16,
    "start_time": "2022-05-12T11:56:36.051Z"
   },
   {
    "duration": 286,
    "start_time": "2022-05-12T11:56:36.068Z"
   },
   {
    "duration": 242,
    "start_time": "2022-05-12T11:56:36.356Z"
   },
   {
    "duration": 9,
    "start_time": "2022-05-12T11:56:36.600Z"
   },
   {
    "duration": 19,
    "start_time": "2022-05-12T11:56:36.622Z"
   },
   {
    "duration": 14,
    "start_time": "2022-05-12T11:56:36.642Z"
   },
   {
    "duration": 16,
    "start_time": "2022-05-12T11:56:36.657Z"
   },
   {
    "duration": 17,
    "start_time": "2022-05-12T11:56:36.676Z"
   },
   {
    "duration": 0,
    "start_time": "2022-05-12T11:56:36.696Z"
   },
   {
    "duration": 0,
    "start_time": "2022-05-12T11:56:36.697Z"
   },
   {
    "duration": 0,
    "start_time": "2022-05-12T11:56:36.699Z"
   },
   {
    "duration": 0,
    "start_time": "2022-05-12T11:56:36.723Z"
   },
   {
    "duration": 0,
    "start_time": "2022-05-12T11:56:36.724Z"
   },
   {
    "duration": 0,
    "start_time": "2022-05-12T11:56:36.725Z"
   },
   {
    "duration": 0,
    "start_time": "2022-05-12T11:56:36.726Z"
   },
   {
    "duration": 0,
    "start_time": "2022-05-12T11:56:36.727Z"
   },
   {
    "duration": 0,
    "start_time": "2022-05-12T11:56:36.728Z"
   },
   {
    "duration": 0,
    "start_time": "2022-05-12T11:56:36.729Z"
   },
   {
    "duration": 0,
    "start_time": "2022-05-12T11:56:36.730Z"
   },
   {
    "duration": 0,
    "start_time": "2022-05-12T11:56:36.731Z"
   },
   {
    "duration": 0,
    "start_time": "2022-05-12T11:56:36.732Z"
   },
   {
    "duration": 0,
    "start_time": "2022-05-12T11:56:36.733Z"
   },
   {
    "duration": 0,
    "start_time": "2022-05-12T11:56:36.734Z"
   },
   {
    "duration": 0,
    "start_time": "2022-05-12T11:56:36.735Z"
   },
   {
    "duration": 992,
    "start_time": "2022-05-12T11:57:30.026Z"
   },
   {
    "duration": 92,
    "start_time": "2022-05-12T11:57:33.959Z"
   },
   {
    "duration": 27,
    "start_time": "2022-05-12T11:57:34.053Z"
   },
   {
    "duration": 41,
    "start_time": "2022-05-12T11:57:34.082Z"
   },
   {
    "duration": 19,
    "start_time": "2022-05-12T11:57:34.125Z"
   },
   {
    "duration": 54,
    "start_time": "2022-05-12T11:57:34.146Z"
   },
   {
    "duration": 35,
    "start_time": "2022-05-12T11:57:34.202Z"
   },
   {
    "duration": 208,
    "start_time": "2022-05-12T11:57:34.239Z"
   },
   {
    "duration": 258,
    "start_time": "2022-05-12T11:57:34.448Z"
   },
   {
    "duration": 21,
    "start_time": "2022-05-12T11:57:34.707Z"
   },
   {
    "duration": 19,
    "start_time": "2022-05-12T11:57:34.730Z"
   },
   {
    "duration": 17,
    "start_time": "2022-05-12T11:57:34.751Z"
   },
   {
    "duration": 16,
    "start_time": "2022-05-12T11:57:34.770Z"
   },
   {
    "duration": 45,
    "start_time": "2022-05-12T11:57:34.788Z"
   },
   {
    "duration": 0,
    "start_time": "2022-05-12T11:57:34.835Z"
   },
   {
    "duration": 0,
    "start_time": "2022-05-12T11:57:34.837Z"
   },
   {
    "duration": 0,
    "start_time": "2022-05-12T11:57:34.838Z"
   },
   {
    "duration": 0,
    "start_time": "2022-05-12T11:57:34.840Z"
   },
   {
    "duration": 0,
    "start_time": "2022-05-12T11:57:34.841Z"
   },
   {
    "duration": 0,
    "start_time": "2022-05-12T11:57:34.843Z"
   },
   {
    "duration": 0,
    "start_time": "2022-05-12T11:57:34.844Z"
   },
   {
    "duration": 0,
    "start_time": "2022-05-12T11:57:34.846Z"
   },
   {
    "duration": 0,
    "start_time": "2022-05-12T11:57:34.847Z"
   },
   {
    "duration": 0,
    "start_time": "2022-05-12T11:57:34.848Z"
   },
   {
    "duration": 0,
    "start_time": "2022-05-12T11:57:34.849Z"
   },
   {
    "duration": 0,
    "start_time": "2022-05-12T11:57:34.851Z"
   },
   {
    "duration": 0,
    "start_time": "2022-05-12T11:57:34.852Z"
   },
   {
    "duration": 0,
    "start_time": "2022-05-12T11:57:34.854Z"
   },
   {
    "duration": 0,
    "start_time": "2022-05-12T11:57:34.855Z"
   },
   {
    "duration": 0,
    "start_time": "2022-05-12T11:57:34.856Z"
   },
   {
    "duration": 886,
    "start_time": "2022-05-12T11:58:08.419Z"
   },
   {
    "duration": 90,
    "start_time": "2022-05-12T11:58:12.611Z"
   },
   {
    "duration": 46,
    "start_time": "2022-05-12T11:58:12.703Z"
   },
   {
    "duration": 32,
    "start_time": "2022-05-12T11:58:12.751Z"
   },
   {
    "duration": 43,
    "start_time": "2022-05-12T11:58:12.785Z"
   },
   {
    "duration": 54,
    "start_time": "2022-05-12T11:58:12.831Z"
   },
   {
    "duration": 38,
    "start_time": "2022-05-12T11:58:12.887Z"
   },
   {
    "duration": 214,
    "start_time": "2022-05-12T11:58:12.927Z"
   },
   {
    "duration": 273,
    "start_time": "2022-05-12T11:58:13.143Z"
   },
   {
    "duration": 10,
    "start_time": "2022-05-12T11:58:13.423Z"
   },
   {
    "duration": 3274,
    "start_time": "2022-05-12T11:58:13.435Z"
   },
   {
    "duration": 0,
    "start_time": "2022-05-12T11:58:16.712Z"
   },
   {
    "duration": 0,
    "start_time": "2022-05-12T11:58:16.713Z"
   },
   {
    "duration": 0,
    "start_time": "2022-05-12T11:58:16.714Z"
   },
   {
    "duration": 0,
    "start_time": "2022-05-12T11:58:16.715Z"
   },
   {
    "duration": 0,
    "start_time": "2022-05-12T11:58:16.716Z"
   },
   {
    "duration": 0,
    "start_time": "2022-05-12T11:58:16.718Z"
   },
   {
    "duration": 0,
    "start_time": "2022-05-12T11:58:16.719Z"
   },
   {
    "duration": 0,
    "start_time": "2022-05-12T11:58:16.720Z"
   },
   {
    "duration": 0,
    "start_time": "2022-05-12T11:58:16.722Z"
   },
   {
    "duration": 0,
    "start_time": "2022-05-12T11:58:16.722Z"
   },
   {
    "duration": 0,
    "start_time": "2022-05-12T11:58:16.724Z"
   },
   {
    "duration": 0,
    "start_time": "2022-05-12T11:58:16.725Z"
   },
   {
    "duration": 0,
    "start_time": "2022-05-12T11:58:16.725Z"
   },
   {
    "duration": 0,
    "start_time": "2022-05-12T11:58:16.726Z"
   },
   {
    "duration": 0,
    "start_time": "2022-05-12T11:58:16.728Z"
   },
   {
    "duration": 0,
    "start_time": "2022-05-12T11:58:16.729Z"
   },
   {
    "duration": 0,
    "start_time": "2022-05-12T11:58:16.730Z"
   },
   {
    "duration": 0,
    "start_time": "2022-05-12T11:58:16.731Z"
   },
   {
    "duration": 0,
    "start_time": "2022-05-12T11:58:16.732Z"
   },
   {
    "duration": 14,
    "start_time": "2022-05-12T11:58:46.190Z"
   },
   {
    "duration": 15,
    "start_time": "2022-05-12T11:58:51.839Z"
   },
   {
    "duration": 5,
    "start_time": "2022-05-12T12:04:43.938Z"
   },
   {
    "duration": 807,
    "start_time": "2022-05-12T12:05:16.027Z"
   },
   {
    "duration": 850,
    "start_time": "2022-05-12T12:05:22.702Z"
   },
   {
    "duration": 1035,
    "start_time": "2022-05-12T12:05:24.726Z"
   },
   {
    "duration": 89,
    "start_time": "2022-05-12T12:05:28.372Z"
   },
   {
    "duration": 28,
    "start_time": "2022-05-12T12:05:28.463Z"
   },
   {
    "duration": 57,
    "start_time": "2022-05-12T12:05:28.493Z"
   },
   {
    "duration": 18,
    "start_time": "2022-05-12T12:05:28.552Z"
   },
   {
    "duration": 71,
    "start_time": "2022-05-12T12:05:28.572Z"
   },
   {
    "duration": 15,
    "start_time": "2022-05-12T12:05:28.645Z"
   },
   {
    "duration": 215,
    "start_time": "2022-05-12T12:05:28.662Z"
   },
   {
    "duration": 310,
    "start_time": "2022-05-12T12:05:28.879Z"
   },
   {
    "duration": 13,
    "start_time": "2022-05-12T12:05:29.191Z"
   },
   {
    "duration": 13,
    "start_time": "2022-05-12T12:05:29.222Z"
   },
   {
    "duration": 8,
    "start_time": "2022-05-12T12:05:29.237Z"
   },
   {
    "duration": 9,
    "start_time": "2022-05-12T12:05:29.247Z"
   },
   {
    "duration": 13,
    "start_time": "2022-05-12T12:05:29.258Z"
   },
   {
    "duration": 0,
    "start_time": "2022-05-12T12:05:29.273Z"
   },
   {
    "duration": 0,
    "start_time": "2022-05-12T12:05:29.274Z"
   },
   {
    "duration": 0,
    "start_time": "2022-05-12T12:05:29.275Z"
   },
   {
    "duration": 0,
    "start_time": "2022-05-12T12:05:29.276Z"
   },
   {
    "duration": 0,
    "start_time": "2022-05-12T12:05:29.278Z"
   },
   {
    "duration": 0,
    "start_time": "2022-05-12T12:05:29.279Z"
   },
   {
    "duration": 0,
    "start_time": "2022-05-12T12:05:29.280Z"
   },
   {
    "duration": 0,
    "start_time": "2022-05-12T12:05:29.281Z"
   },
   {
    "duration": 0,
    "start_time": "2022-05-12T12:05:29.283Z"
   },
   {
    "duration": 0,
    "start_time": "2022-05-12T12:05:29.283Z"
   },
   {
    "duration": 0,
    "start_time": "2022-05-12T12:05:29.323Z"
   },
   {
    "duration": 0,
    "start_time": "2022-05-12T12:05:29.324Z"
   },
   {
    "duration": 0,
    "start_time": "2022-05-12T12:05:29.325Z"
   },
   {
    "duration": 0,
    "start_time": "2022-05-12T12:05:29.326Z"
   },
   {
    "duration": 0,
    "start_time": "2022-05-12T12:05:29.328Z"
   },
   {
    "duration": 0,
    "start_time": "2022-05-12T12:05:29.329Z"
   },
   {
    "duration": 0,
    "start_time": "2022-05-12T12:05:29.331Z"
   },
   {
    "duration": 820,
    "start_time": "2022-05-12T12:07:07.365Z"
   },
   {
    "duration": 101,
    "start_time": "2022-05-12T12:07:13.589Z"
   },
   {
    "duration": 53,
    "start_time": "2022-05-12T12:07:13.693Z"
   },
   {
    "duration": 46,
    "start_time": "2022-05-12T12:07:13.748Z"
   },
   {
    "duration": 31,
    "start_time": "2022-05-12T12:07:13.796Z"
   },
   {
    "duration": 54,
    "start_time": "2022-05-12T12:07:13.828Z"
   },
   {
    "duration": 40,
    "start_time": "2022-05-12T12:07:13.884Z"
   },
   {
    "duration": 226,
    "start_time": "2022-05-12T12:07:13.926Z"
   },
   {
    "duration": 283,
    "start_time": "2022-05-12T12:07:14.155Z"
   },
   {
    "duration": 12,
    "start_time": "2022-05-12T12:07:14.441Z"
   },
   {
    "duration": 11,
    "start_time": "2022-05-12T12:07:14.456Z"
   },
   {
    "duration": 3346,
    "start_time": "2022-05-12T12:07:14.470Z"
   },
   {
    "duration": 0,
    "start_time": "2022-05-12T12:07:17.818Z"
   },
   {
    "duration": 0,
    "start_time": "2022-05-12T12:07:17.819Z"
   },
   {
    "duration": 0,
    "start_time": "2022-05-12T12:07:17.820Z"
   },
   {
    "duration": 0,
    "start_time": "2022-05-12T12:07:17.822Z"
   },
   {
    "duration": 0,
    "start_time": "2022-05-12T12:07:17.823Z"
   },
   {
    "duration": 0,
    "start_time": "2022-05-12T12:07:17.824Z"
   },
   {
    "duration": 0,
    "start_time": "2022-05-12T12:07:17.825Z"
   },
   {
    "duration": 1,
    "start_time": "2022-05-12T12:07:17.826Z"
   },
   {
    "duration": 0,
    "start_time": "2022-05-12T12:07:17.828Z"
   },
   {
    "duration": 0,
    "start_time": "2022-05-12T12:07:17.829Z"
   },
   {
    "duration": 0,
    "start_time": "2022-05-12T12:07:17.830Z"
   },
   {
    "duration": 0,
    "start_time": "2022-05-12T12:07:17.831Z"
   },
   {
    "duration": 0,
    "start_time": "2022-05-12T12:07:17.832Z"
   },
   {
    "duration": 0,
    "start_time": "2022-05-12T12:07:17.833Z"
   },
   {
    "duration": 0,
    "start_time": "2022-05-12T12:07:17.835Z"
   },
   {
    "duration": 0,
    "start_time": "2022-05-12T12:07:17.836Z"
   },
   {
    "duration": 0,
    "start_time": "2022-05-12T12:07:17.962Z"
   },
   {
    "duration": 0,
    "start_time": "2022-05-12T12:07:17.963Z"
   },
   {
    "duration": 0,
    "start_time": "2022-05-12T12:07:17.964Z"
   },
   {
    "duration": 18,
    "start_time": "2022-05-12T12:07:26.008Z"
   },
   {
    "duration": 8,
    "start_time": "2022-05-12T12:07:41.188Z"
   },
   {
    "duration": 2528,
    "start_time": "2022-05-12T12:07:53.974Z"
   },
   {
    "duration": 96,
    "start_time": "2022-05-12T12:08:02.388Z"
   },
   {
    "duration": 46,
    "start_time": "2022-05-12T12:08:02.486Z"
   },
   {
    "duration": 41,
    "start_time": "2022-05-12T12:08:02.534Z"
   },
   {
    "duration": 20,
    "start_time": "2022-05-12T12:08:02.578Z"
   },
   {
    "duration": 74,
    "start_time": "2022-05-12T12:08:02.600Z"
   },
   {
    "duration": 17,
    "start_time": "2022-05-12T12:08:02.676Z"
   },
   {
    "duration": 222,
    "start_time": "2022-05-12T12:08:02.695Z"
   },
   {
    "duration": 250,
    "start_time": "2022-05-12T12:08:02.922Z"
   },
   {
    "duration": 12,
    "start_time": "2022-05-12T12:08:03.174Z"
   },
   {
    "duration": 35,
    "start_time": "2022-05-12T12:08:03.189Z"
   },
   {
    "duration": 16,
    "start_time": "2022-05-12T12:08:03.226Z"
   },
   {
    "duration": 14,
    "start_time": "2022-05-12T12:08:03.244Z"
   },
   {
    "duration": 0,
    "start_time": "2022-05-12T12:08:03.260Z"
   },
   {
    "duration": 0,
    "start_time": "2022-05-12T12:08:03.261Z"
   },
   {
    "duration": 0,
    "start_time": "2022-05-12T12:08:03.262Z"
   },
   {
    "duration": 0,
    "start_time": "2022-05-12T12:08:03.264Z"
   },
   {
    "duration": 0,
    "start_time": "2022-05-12T12:08:03.264Z"
   },
   {
    "duration": 0,
    "start_time": "2022-05-12T12:08:03.265Z"
   },
   {
    "duration": 0,
    "start_time": "2022-05-12T12:08:03.267Z"
   },
   {
    "duration": 0,
    "start_time": "2022-05-12T12:08:03.268Z"
   },
   {
    "duration": 0,
    "start_time": "2022-05-12T12:08:03.269Z"
   },
   {
    "duration": 0,
    "start_time": "2022-05-12T12:08:03.270Z"
   },
   {
    "duration": 0,
    "start_time": "2022-05-12T12:08:03.271Z"
   },
   {
    "duration": 0,
    "start_time": "2022-05-12T12:08:03.272Z"
   },
   {
    "duration": 0,
    "start_time": "2022-05-12T12:08:03.273Z"
   },
   {
    "duration": 0,
    "start_time": "2022-05-12T12:08:03.275Z"
   },
   {
    "duration": 0,
    "start_time": "2022-05-12T12:08:03.276Z"
   },
   {
    "duration": 0,
    "start_time": "2022-05-12T12:08:03.277Z"
   },
   {
    "duration": 0,
    "start_time": "2022-05-12T12:08:03.323Z"
   },
   {
    "duration": 17,
    "start_time": "2022-05-12T12:09:33.613Z"
   },
   {
    "duration": 205,
    "start_time": "2022-05-12T12:11:24.227Z"
   },
   {
    "duration": 5724,
    "start_time": "2022-05-12T12:11:35.043Z"
   },
   {
    "duration": 185,
    "start_time": "2022-05-12T12:11:58.730Z"
   },
   {
    "duration": 192,
    "start_time": "2022-05-12T12:12:05.708Z"
   },
   {
    "duration": 205,
    "start_time": "2022-05-12T12:12:11.963Z"
   },
   {
    "duration": 3993,
    "start_time": "2022-05-12T12:12:19.029Z"
   },
   {
    "duration": 3270,
    "start_time": "2022-05-12T12:12:53.872Z"
   },
   {
    "duration": 3255,
    "start_time": "2022-05-12T12:13:33.603Z"
   },
   {
    "duration": 16,
    "start_time": "2022-05-12T12:15:14.734Z"
   },
   {
    "duration": 17,
    "start_time": "2022-05-12T12:15:23.127Z"
   },
   {
    "duration": 24,
    "start_time": "2022-05-12T12:15:49.114Z"
   },
   {
    "duration": 285,
    "start_time": "2022-05-12T12:16:50.190Z"
   },
   {
    "duration": 24,
    "start_time": "2022-05-12T12:17:28.201Z"
   },
   {
    "duration": 15,
    "start_time": "2022-05-12T12:17:54.050Z"
   },
   {
    "duration": 17,
    "start_time": "2022-05-12T12:18:13.848Z"
   },
   {
    "duration": 17,
    "start_time": "2022-05-12T12:18:22.003Z"
   },
   {
    "duration": 16,
    "start_time": "2022-05-12T12:18:30.573Z"
   },
   {
    "duration": 28,
    "start_time": "2022-05-12T12:18:40.006Z"
   },
   {
    "duration": 17,
    "start_time": "2022-05-12T12:18:47.032Z"
   },
   {
    "duration": 32,
    "start_time": "2022-05-12T12:18:57.872Z"
   },
   {
    "duration": 18,
    "start_time": "2022-05-12T12:21:15.258Z"
   },
   {
    "duration": 17,
    "start_time": "2022-05-12T12:21:34.201Z"
   },
   {
    "duration": 14,
    "start_time": "2022-05-12T12:21:42.359Z"
   },
   {
    "duration": 14,
    "start_time": "2022-05-12T12:22:16.107Z"
   },
   {
    "duration": 14,
    "start_time": "2022-05-12T12:23:17.332Z"
   },
   {
    "duration": 19,
    "start_time": "2022-05-12T12:23:29.441Z"
   },
   {
    "duration": 12,
    "start_time": "2022-05-12T12:23:46.814Z"
   },
   {
    "duration": 11,
    "start_time": "2022-05-12T12:24:00.528Z"
   },
   {
    "duration": 20,
    "start_time": "2022-05-12T12:24:09.965Z"
   },
   {
    "duration": 20,
    "start_time": "2022-05-12T12:24:24.487Z"
   },
   {
    "duration": 10,
    "start_time": "2022-05-12T12:24:54.893Z"
   },
   {
    "duration": 21,
    "start_time": "2022-05-12T12:24:59.310Z"
   },
   {
    "duration": 9,
    "start_time": "2022-05-12T12:25:33.094Z"
   },
   {
    "duration": 9,
    "start_time": "2022-05-12T12:27:20.372Z"
   },
   {
    "duration": 13,
    "start_time": "2022-05-12T12:27:37.777Z"
   },
   {
    "duration": 37,
    "start_time": "2022-05-12T12:28:26.076Z"
   },
   {
    "duration": 23,
    "start_time": "2022-05-12T12:28:38.723Z"
   },
   {
    "duration": 109,
    "start_time": "2022-05-12T12:28:46.963Z"
   },
   {
    "duration": 52,
    "start_time": "2022-05-12T12:28:47.074Z"
   },
   {
    "duration": 35,
    "start_time": "2022-05-12T12:28:47.128Z"
   },
   {
    "duration": 19,
    "start_time": "2022-05-12T12:28:47.165Z"
   },
   {
    "duration": 117,
    "start_time": "2022-05-12T12:28:47.187Z"
   },
   {
    "duration": 32,
    "start_time": "2022-05-12T12:28:47.306Z"
   },
   {
    "duration": 288,
    "start_time": "2022-05-12T12:28:47.339Z"
   },
   {
    "duration": 364,
    "start_time": "2022-05-12T12:28:47.629Z"
   },
   {
    "duration": 28,
    "start_time": "2022-05-12T12:28:47.995Z"
   },
   {
    "duration": 0,
    "start_time": "2022-05-12T12:28:48.026Z"
   },
   {
    "duration": 0,
    "start_time": "2022-05-12T12:28:48.027Z"
   },
   {
    "duration": 0,
    "start_time": "2022-05-12T12:28:48.031Z"
   },
   {
    "duration": 0,
    "start_time": "2022-05-12T12:28:48.032Z"
   },
   {
    "duration": 0,
    "start_time": "2022-05-12T12:28:48.034Z"
   },
   {
    "duration": 0,
    "start_time": "2022-05-12T12:28:48.035Z"
   },
   {
    "duration": 0,
    "start_time": "2022-05-12T12:28:48.037Z"
   },
   {
    "duration": 0,
    "start_time": "2022-05-12T12:28:48.039Z"
   },
   {
    "duration": 0,
    "start_time": "2022-05-12T12:28:48.040Z"
   },
   {
    "duration": 0,
    "start_time": "2022-05-12T12:28:48.042Z"
   },
   {
    "duration": 0,
    "start_time": "2022-05-12T12:28:48.043Z"
   },
   {
    "duration": 0,
    "start_time": "2022-05-12T12:28:48.045Z"
   },
   {
    "duration": 0,
    "start_time": "2022-05-12T12:28:48.046Z"
   },
   {
    "duration": 0,
    "start_time": "2022-05-12T12:28:48.047Z"
   },
   {
    "duration": 0,
    "start_time": "2022-05-12T12:28:48.048Z"
   },
   {
    "duration": 0,
    "start_time": "2022-05-12T12:28:48.049Z"
   },
   {
    "duration": 0,
    "start_time": "2022-05-12T12:28:48.050Z"
   },
   {
    "duration": 0,
    "start_time": "2022-05-12T12:28:48.052Z"
   },
   {
    "duration": 1,
    "start_time": "2022-05-12T12:28:48.052Z"
   },
   {
    "duration": 0,
    "start_time": "2022-05-12T12:28:48.053Z"
   },
   {
    "duration": 18,
    "start_time": "2022-05-12T12:29:07.941Z"
   },
   {
    "duration": 6,
    "start_time": "2022-05-12T12:32:53.891Z"
   },
   {
    "duration": 17,
    "start_time": "2022-05-12T12:33:34.077Z"
   },
   {
    "duration": 16,
    "start_time": "2022-05-12T12:33:36.301Z"
   },
   {
    "duration": 20,
    "start_time": "2022-05-12T12:34:59.021Z"
   },
   {
    "duration": 20,
    "start_time": "2022-05-12T12:35:09.053Z"
   },
   {
    "duration": 18,
    "start_time": "2022-05-12T12:35:15.487Z"
   },
   {
    "duration": 41,
    "start_time": "2022-05-12T12:35:23.648Z"
   },
   {
    "duration": 17,
    "start_time": "2022-05-12T12:35:52.741Z"
   },
   {
    "duration": 10,
    "start_time": "2022-05-12T12:36:48.012Z"
   },
   {
    "duration": 28,
    "start_time": "2022-05-12T12:36:58.284Z"
   },
   {
    "duration": 18,
    "start_time": "2022-05-12T12:39:24.058Z"
   },
   {
    "duration": 20,
    "start_time": "2022-05-12T12:39:47.901Z"
   },
   {
    "duration": 7080,
    "start_time": "2022-05-12T12:40:04.898Z"
   },
   {
    "duration": 30,
    "start_time": "2022-05-12T12:41:23.980Z"
   },
   {
    "duration": 16,
    "start_time": "2022-05-12T12:41:50.329Z"
   },
   {
    "duration": 11,
    "start_time": "2022-05-12T12:41:59.066Z"
   },
   {
    "duration": 16,
    "start_time": "2022-05-12T12:44:21.521Z"
   },
   {
    "duration": 9,
    "start_time": "2022-05-12T12:47:24.759Z"
   },
   {
    "duration": 1956,
    "start_time": "2022-05-12T12:48:05.252Z"
   },
   {
    "duration": 109,
    "start_time": "2022-05-12T12:48:11.453Z"
   },
   {
    "duration": 30,
    "start_time": "2022-05-12T12:48:11.564Z"
   },
   {
    "duration": 64,
    "start_time": "2022-05-12T12:48:11.596Z"
   },
   {
    "duration": 25,
    "start_time": "2022-05-12T12:48:11.662Z"
   },
   {
    "duration": 87,
    "start_time": "2022-05-12T12:48:11.689Z"
   },
   {
    "duration": 21,
    "start_time": "2022-05-12T12:48:11.778Z"
   },
   {
    "duration": 338,
    "start_time": "2022-05-12T12:48:11.800Z"
   },
   {
    "duration": 281,
    "start_time": "2022-05-12T12:48:12.141Z"
   },
   {
    "duration": 20,
    "start_time": "2022-05-12T12:48:12.425Z"
   },
   {
    "duration": 7,
    "start_time": "2022-05-12T12:48:12.450Z"
   },
   {
    "duration": 25,
    "start_time": "2022-05-12T12:48:12.459Z"
   },
   {
    "duration": 46,
    "start_time": "2022-05-12T12:48:12.487Z"
   },
   {
    "duration": 0,
    "start_time": "2022-05-12T12:48:12.536Z"
   },
   {
    "duration": 0,
    "start_time": "2022-05-12T12:48:12.538Z"
   },
   {
    "duration": 0,
    "start_time": "2022-05-12T12:48:12.541Z"
   },
   {
    "duration": 0,
    "start_time": "2022-05-12T12:48:12.543Z"
   },
   {
    "duration": 0,
    "start_time": "2022-05-12T12:48:12.545Z"
   },
   {
    "duration": 1,
    "start_time": "2022-05-12T12:48:12.545Z"
   },
   {
    "duration": 1,
    "start_time": "2022-05-12T12:48:12.546Z"
   },
   {
    "duration": 0,
    "start_time": "2022-05-12T12:48:12.549Z"
   },
   {
    "duration": 0,
    "start_time": "2022-05-12T12:48:12.550Z"
   },
   {
    "duration": 0,
    "start_time": "2022-05-12T12:48:12.552Z"
   },
   {
    "duration": 0,
    "start_time": "2022-05-12T12:48:12.553Z"
   },
   {
    "duration": 0,
    "start_time": "2022-05-12T12:48:12.555Z"
   },
   {
    "duration": 0,
    "start_time": "2022-05-12T12:48:12.557Z"
   },
   {
    "duration": 0,
    "start_time": "2022-05-12T12:48:12.559Z"
   },
   {
    "duration": 0,
    "start_time": "2022-05-12T12:48:12.561Z"
   },
   {
    "duration": 0,
    "start_time": "2022-05-12T12:48:12.562Z"
   },
   {
    "duration": 0,
    "start_time": "2022-05-12T12:48:12.565Z"
   },
   {
    "duration": 11,
    "start_time": "2022-05-12T12:48:39.051Z"
   },
   {
    "duration": 16,
    "start_time": "2022-05-12T12:49:26.771Z"
   },
   {
    "duration": 823,
    "start_time": "2022-05-12T12:50:13.853Z"
   },
   {
    "duration": 116,
    "start_time": "2022-05-12T12:50:21.166Z"
   },
   {
    "duration": 52,
    "start_time": "2022-05-12T12:50:21.285Z"
   },
   {
    "duration": 34,
    "start_time": "2022-05-12T12:50:21.339Z"
   },
   {
    "duration": 19,
    "start_time": "2022-05-12T12:50:21.375Z"
   },
   {
    "duration": 78,
    "start_time": "2022-05-12T12:50:21.396Z"
   },
   {
    "duration": 18,
    "start_time": "2022-05-12T12:50:21.476Z"
   },
   {
    "duration": 215,
    "start_time": "2022-05-12T12:50:21.496Z"
   },
   {
    "duration": 275,
    "start_time": "2022-05-12T12:50:21.713Z"
   },
   {
    "duration": 12,
    "start_time": "2022-05-12T12:50:21.990Z"
   },
   {
    "duration": 3538,
    "start_time": "2022-05-12T12:50:22.005Z"
   },
   {
    "duration": 0,
    "start_time": "2022-05-12T12:50:25.545Z"
   },
   {
    "duration": 0,
    "start_time": "2022-05-12T12:50:25.547Z"
   },
   {
    "duration": 0,
    "start_time": "2022-05-12T12:50:25.548Z"
   },
   {
    "duration": 0,
    "start_time": "2022-05-12T12:50:25.549Z"
   },
   {
    "duration": 0,
    "start_time": "2022-05-12T12:50:25.551Z"
   },
   {
    "duration": 0,
    "start_time": "2022-05-12T12:50:25.552Z"
   },
   {
    "duration": 0,
    "start_time": "2022-05-12T12:50:25.553Z"
   },
   {
    "duration": 0,
    "start_time": "2022-05-12T12:50:25.555Z"
   },
   {
    "duration": 0,
    "start_time": "2022-05-12T12:50:25.556Z"
   },
   {
    "duration": 0,
    "start_time": "2022-05-12T12:50:25.558Z"
   },
   {
    "duration": 0,
    "start_time": "2022-05-12T12:50:25.559Z"
   },
   {
    "duration": 0,
    "start_time": "2022-05-12T12:50:25.560Z"
   },
   {
    "duration": 0,
    "start_time": "2022-05-12T12:50:25.562Z"
   },
   {
    "duration": 0,
    "start_time": "2022-05-12T12:50:25.563Z"
   },
   {
    "duration": 0,
    "start_time": "2022-05-12T12:50:25.566Z"
   },
   {
    "duration": 1,
    "start_time": "2022-05-12T12:50:25.567Z"
   },
   {
    "duration": 0,
    "start_time": "2022-05-12T12:50:25.570Z"
   },
   {
    "duration": 0,
    "start_time": "2022-05-12T12:50:25.571Z"
   },
   {
    "duration": 0,
    "start_time": "2022-05-12T12:50:25.573Z"
   },
   {
    "duration": 0,
    "start_time": "2022-05-12T12:51:09.578Z"
   },
   {
    "duration": 0,
    "start_time": "2022-05-12T12:51:09.579Z"
   },
   {
    "duration": 0,
    "start_time": "2022-05-12T12:51:09.581Z"
   },
   {
    "duration": 0,
    "start_time": "2022-05-12T12:51:09.582Z"
   },
   {
    "duration": 0,
    "start_time": "2022-05-12T12:51:09.582Z"
   },
   {
    "duration": 0,
    "start_time": "2022-05-12T12:51:09.584Z"
   },
   {
    "duration": 0,
    "start_time": "2022-05-12T12:51:09.585Z"
   },
   {
    "duration": 0,
    "start_time": "2022-05-12T12:51:09.586Z"
   },
   {
    "duration": 0,
    "start_time": "2022-05-12T12:51:09.587Z"
   },
   {
    "duration": 0,
    "start_time": "2022-05-12T12:51:09.588Z"
   },
   {
    "duration": 0,
    "start_time": "2022-05-12T12:51:09.589Z"
   },
   {
    "duration": 0,
    "start_time": "2022-05-12T12:51:09.591Z"
   },
   {
    "duration": 0,
    "start_time": "2022-05-12T12:51:09.592Z"
   },
   {
    "duration": 0,
    "start_time": "2022-05-12T12:51:09.593Z"
   },
   {
    "duration": 0,
    "start_time": "2022-05-12T12:51:09.595Z"
   },
   {
    "duration": 0,
    "start_time": "2022-05-12T12:51:09.596Z"
   },
   {
    "duration": 0,
    "start_time": "2022-05-12T12:51:09.598Z"
   },
   {
    "duration": 0,
    "start_time": "2022-05-12T12:51:09.599Z"
   },
   {
    "duration": 0,
    "start_time": "2022-05-12T12:51:09.600Z"
   },
   {
    "duration": 0,
    "start_time": "2022-05-12T12:51:09.601Z"
   },
   {
    "duration": 0,
    "start_time": "2022-05-12T12:51:09.602Z"
   },
   {
    "duration": 0,
    "start_time": "2022-05-12T12:51:09.603Z"
   },
   {
    "duration": 0,
    "start_time": "2022-05-12T12:51:09.604Z"
   },
   {
    "duration": 0,
    "start_time": "2022-05-12T12:51:09.605Z"
   },
   {
    "duration": 0,
    "start_time": "2022-05-12T12:51:09.607Z"
   },
   {
    "duration": 0,
    "start_time": "2022-05-12T12:51:09.608Z"
   },
   {
    "duration": 0,
    "start_time": "2022-05-12T12:51:09.609Z"
   },
   {
    "duration": 0,
    "start_time": "2022-05-12T12:51:09.611Z"
   },
   {
    "duration": 0,
    "start_time": "2022-05-12T12:51:09.611Z"
   },
   {
    "duration": 105,
    "start_time": "2022-05-12T12:51:25.474Z"
   },
   {
    "duration": 29,
    "start_time": "2022-05-12T12:51:25.580Z"
   },
   {
    "duration": 32,
    "start_time": "2022-05-12T12:51:25.623Z"
   },
   {
    "duration": 26,
    "start_time": "2022-05-12T12:51:25.658Z"
   },
   {
    "duration": 118,
    "start_time": "2022-05-12T12:51:25.687Z"
   },
   {
    "duration": 39,
    "start_time": "2022-05-12T12:51:25.807Z"
   },
   {
    "duration": 381,
    "start_time": "2022-05-12T12:51:25.848Z"
   },
   {
    "duration": 324,
    "start_time": "2022-05-12T12:51:26.231Z"
   },
   {
    "duration": 11,
    "start_time": "2022-05-12T12:51:26.557Z"
   },
   {
    "duration": 5310,
    "start_time": "2022-05-12T12:51:26.570Z"
   },
   {
    "duration": 0,
    "start_time": "2022-05-12T12:51:31.884Z"
   },
   {
    "duration": 0,
    "start_time": "2022-05-12T12:51:31.885Z"
   },
   {
    "duration": 0,
    "start_time": "2022-05-12T12:51:31.886Z"
   },
   {
    "duration": 0,
    "start_time": "2022-05-12T12:51:31.888Z"
   },
   {
    "duration": 0,
    "start_time": "2022-05-12T12:51:31.889Z"
   },
   {
    "duration": 0,
    "start_time": "2022-05-12T12:51:31.890Z"
   },
   {
    "duration": 0,
    "start_time": "2022-05-12T12:51:31.891Z"
   },
   {
    "duration": 0,
    "start_time": "2022-05-12T12:51:31.892Z"
   },
   {
    "duration": 0,
    "start_time": "2022-05-12T12:51:31.893Z"
   },
   {
    "duration": 0,
    "start_time": "2022-05-12T12:51:31.894Z"
   },
   {
    "duration": 0,
    "start_time": "2022-05-12T12:51:31.895Z"
   },
   {
    "duration": 0,
    "start_time": "2022-05-12T12:51:31.896Z"
   },
   {
    "duration": 0,
    "start_time": "2022-05-12T12:51:31.897Z"
   },
   {
    "duration": 0,
    "start_time": "2022-05-12T12:51:31.898Z"
   },
   {
    "duration": 0,
    "start_time": "2022-05-12T12:51:31.900Z"
   },
   {
    "duration": 0,
    "start_time": "2022-05-12T12:51:31.900Z"
   },
   {
    "duration": 0,
    "start_time": "2022-05-12T12:51:31.901Z"
   },
   {
    "duration": 0,
    "start_time": "2022-05-12T12:51:31.902Z"
   },
   {
    "duration": 0,
    "start_time": "2022-05-12T12:51:31.903Z"
   },
   {
    "duration": 834,
    "start_time": "2022-05-12T12:51:39.055Z"
   },
   {
    "duration": 973,
    "start_time": "2022-05-12T12:52:16.220Z"
   },
   {
    "duration": 1005,
    "start_time": "2022-05-12T12:52:21.381Z"
   },
   {
    "duration": 107,
    "start_time": "2022-05-12T12:52:24.127Z"
   },
   {
    "duration": 32,
    "start_time": "2022-05-12T12:52:24.236Z"
   },
   {
    "duration": 53,
    "start_time": "2022-05-12T12:52:24.270Z"
   },
   {
    "duration": 18,
    "start_time": "2022-05-12T12:52:24.326Z"
   },
   {
    "duration": 54,
    "start_time": "2022-05-12T12:52:24.345Z"
   },
   {
    "duration": 18,
    "start_time": "2022-05-12T12:52:24.422Z"
   },
   {
    "duration": 216,
    "start_time": "2022-05-12T12:52:24.442Z"
   },
   {
    "duration": 270,
    "start_time": "2022-05-12T12:52:24.660Z"
   },
   {
    "duration": 12,
    "start_time": "2022-05-12T12:52:24.932Z"
   },
   {
    "duration": 16,
    "start_time": "2022-05-12T12:52:24.947Z"
   },
   {
    "duration": 20,
    "start_time": "2022-05-12T12:52:24.965Z"
   },
   {
    "duration": 38,
    "start_time": "2022-05-12T12:52:24.987Z"
   },
   {
    "duration": 0,
    "start_time": "2022-05-12T12:52:25.027Z"
   },
   {
    "duration": 0,
    "start_time": "2022-05-12T12:52:25.028Z"
   },
   {
    "duration": 0,
    "start_time": "2022-05-12T12:52:25.029Z"
   },
   {
    "duration": 0,
    "start_time": "2022-05-12T12:52:25.031Z"
   },
   {
    "duration": 0,
    "start_time": "2022-05-12T12:52:25.033Z"
   },
   {
    "duration": 0,
    "start_time": "2022-05-12T12:52:25.034Z"
   },
   {
    "duration": 0,
    "start_time": "2022-05-12T12:52:25.035Z"
   },
   {
    "duration": 0,
    "start_time": "2022-05-12T12:52:25.036Z"
   },
   {
    "duration": 0,
    "start_time": "2022-05-12T12:52:25.038Z"
   },
   {
    "duration": 0,
    "start_time": "2022-05-12T12:52:25.039Z"
   },
   {
    "duration": 0,
    "start_time": "2022-05-12T12:52:25.040Z"
   },
   {
    "duration": 0,
    "start_time": "2022-05-12T12:52:25.041Z"
   },
   {
    "duration": 0,
    "start_time": "2022-05-12T12:52:25.042Z"
   },
   {
    "duration": 0,
    "start_time": "2022-05-12T12:52:25.043Z"
   },
   {
    "duration": 0,
    "start_time": "2022-05-12T12:52:25.044Z"
   },
   {
    "duration": 0,
    "start_time": "2022-05-12T12:52:25.045Z"
   },
   {
    "duration": 0,
    "start_time": "2022-05-12T12:52:25.046Z"
   },
   {
    "duration": 20,
    "start_time": "2022-05-12T12:53:29.154Z"
   },
   {
    "duration": 920,
    "start_time": "2022-05-12T12:53:44.909Z"
   },
   {
    "duration": 98,
    "start_time": "2022-05-12T12:53:48.883Z"
   },
   {
    "duration": 50,
    "start_time": "2022-05-12T12:53:48.982Z"
   },
   {
    "duration": 35,
    "start_time": "2022-05-12T12:53:49.034Z"
   },
   {
    "duration": 18,
    "start_time": "2022-05-12T12:53:49.071Z"
   },
   {
    "duration": 74,
    "start_time": "2022-05-12T12:53:49.092Z"
   },
   {
    "duration": 18,
    "start_time": "2022-05-12T12:53:49.168Z"
   },
   {
    "duration": 226,
    "start_time": "2022-05-12T12:53:49.188Z"
   },
   {
    "duration": 261,
    "start_time": "2022-05-12T12:53:49.416Z"
   },
   {
    "duration": 11,
    "start_time": "2022-05-12T12:53:49.679Z"
   },
   {
    "duration": 13,
    "start_time": "2022-05-12T12:53:49.691Z"
   },
   {
    "duration": 14,
    "start_time": "2022-05-12T12:53:49.723Z"
   },
   {
    "duration": 20,
    "start_time": "2022-05-12T12:53:49.738Z"
   },
   {
    "duration": 15,
    "start_time": "2022-05-12T12:53:49.760Z"
   },
   {
    "duration": 0,
    "start_time": "2022-05-12T12:53:49.777Z"
   },
   {
    "duration": 0,
    "start_time": "2022-05-12T12:53:49.778Z"
   },
   {
    "duration": 0,
    "start_time": "2022-05-12T12:53:49.780Z"
   },
   {
    "duration": 0,
    "start_time": "2022-05-12T12:53:49.781Z"
   },
   {
    "duration": 0,
    "start_time": "2022-05-12T12:53:49.782Z"
   },
   {
    "duration": 0,
    "start_time": "2022-05-12T12:53:49.783Z"
   },
   {
    "duration": 0,
    "start_time": "2022-05-12T12:53:49.784Z"
   },
   {
    "duration": 0,
    "start_time": "2022-05-12T12:53:49.785Z"
   },
   {
    "duration": 0,
    "start_time": "2022-05-12T12:53:49.823Z"
   },
   {
    "duration": 0,
    "start_time": "2022-05-12T12:53:49.825Z"
   },
   {
    "duration": 0,
    "start_time": "2022-05-12T12:53:49.826Z"
   },
   {
    "duration": 0,
    "start_time": "2022-05-12T12:53:49.827Z"
   },
   {
    "duration": 0,
    "start_time": "2022-05-12T12:53:49.828Z"
   },
   {
    "duration": 0,
    "start_time": "2022-05-12T12:53:49.829Z"
   },
   {
    "duration": 0,
    "start_time": "2022-05-12T12:53:49.832Z"
   },
   {
    "duration": 0,
    "start_time": "2022-05-12T12:53:49.833Z"
   },
   {
    "duration": 8,
    "start_time": "2022-05-12T12:57:16.234Z"
   },
   {
    "duration": 9,
    "start_time": "2022-05-12T12:57:29.863Z"
   },
   {
    "duration": 11,
    "start_time": "2022-05-12T12:57:36.426Z"
   },
   {
    "duration": 15,
    "start_time": "2022-05-12T12:57:54.934Z"
   },
   {
    "duration": 15,
    "start_time": "2022-05-12T12:59:47.164Z"
   },
   {
    "duration": 24,
    "start_time": "2022-05-12T13:00:22.764Z"
   },
   {
    "duration": 38,
    "start_time": "2022-05-12T13:00:51.292Z"
   },
   {
    "duration": 29,
    "start_time": "2022-05-12T13:00:59.034Z"
   },
   {
    "duration": 29,
    "start_time": "2022-05-12T13:01:03.052Z"
   },
   {
    "duration": 28,
    "start_time": "2022-05-12T13:01:07.677Z"
   },
   {
    "duration": 27,
    "start_time": "2022-05-12T13:01:11.049Z"
   },
   {
    "duration": 206,
    "start_time": "2022-05-12T13:02:23.805Z"
   },
   {
    "duration": 25,
    "start_time": "2022-05-12T13:02:29.477Z"
   },
   {
    "duration": 25,
    "start_time": "2022-05-12T13:02:41.351Z"
   },
   {
    "duration": 27,
    "start_time": "2022-05-12T13:02:59.327Z"
   },
   {
    "duration": 25,
    "start_time": "2022-05-12T13:03:26.912Z"
   },
   {
    "duration": 32,
    "start_time": "2022-05-12T13:03:42.975Z"
   },
   {
    "duration": 29,
    "start_time": "2022-05-12T13:03:54.901Z"
   },
   {
    "duration": 24,
    "start_time": "2022-05-12T13:04:08.745Z"
   },
   {
    "duration": 149,
    "start_time": "2022-05-12T13:07:33.826Z"
   },
   {
    "duration": 17,
    "start_time": "2022-05-12T13:08:34.348Z"
   },
   {
    "duration": 16,
    "start_time": "2022-05-12T13:09:55.707Z"
   },
   {
    "duration": 18,
    "start_time": "2022-05-12T13:10:05.281Z"
   },
   {
    "duration": 17,
    "start_time": "2022-05-12T13:10:19.708Z"
   },
   {
    "duration": 15,
    "start_time": "2022-05-12T13:10:55.184Z"
   },
   {
    "duration": 229,
    "start_time": "2022-05-12T13:11:16.862Z"
   },
   {
    "duration": 226,
    "start_time": "2022-05-12T13:11:49.121Z"
   },
   {
    "duration": 191,
    "start_time": "2022-05-12T13:11:58.992Z"
   },
   {
    "duration": 240,
    "start_time": "2022-05-12T13:12:08.338Z"
   },
   {
    "duration": 12,
    "start_time": "2022-05-12T13:12:14.024Z"
   },
   {
    "duration": 20,
    "start_time": "2022-05-12T13:13:52.992Z"
   },
   {
    "duration": 104,
    "start_time": "2022-05-12T13:13:58.517Z"
   },
   {
    "duration": 37,
    "start_time": "2022-05-12T13:13:58.622Z"
   },
   {
    "duration": 43,
    "start_time": "2022-05-12T13:13:58.660Z"
   },
   {
    "duration": 27,
    "start_time": "2022-05-12T13:13:58.723Z"
   },
   {
    "duration": 53,
    "start_time": "2022-05-12T13:13:58.754Z"
   },
   {
    "duration": 23,
    "start_time": "2022-05-12T13:13:58.823Z"
   },
   {
    "duration": 231,
    "start_time": "2022-05-12T13:13:58.849Z"
   },
   {
    "duration": 534,
    "start_time": "2022-05-12T13:13:59.082Z"
   },
   {
    "duration": 20,
    "start_time": "2022-05-12T13:13:59.618Z"
   },
   {
    "duration": 20,
    "start_time": "2022-05-12T13:13:59.642Z"
   },
   {
    "duration": 0,
    "start_time": "2022-05-12T13:13:59.664Z"
   },
   {
    "duration": 0,
    "start_time": "2022-05-12T13:13:59.665Z"
   },
   {
    "duration": 0,
    "start_time": "2022-05-12T13:13:59.667Z"
   },
   {
    "duration": 0,
    "start_time": "2022-05-12T13:13:59.668Z"
   },
   {
    "duration": 0,
    "start_time": "2022-05-12T13:13:59.669Z"
   },
   {
    "duration": 0,
    "start_time": "2022-05-12T13:13:59.670Z"
   },
   {
    "duration": 0,
    "start_time": "2022-05-12T13:13:59.672Z"
   },
   {
    "duration": 0,
    "start_time": "2022-05-12T13:13:59.673Z"
   },
   {
    "duration": 0,
    "start_time": "2022-05-12T13:13:59.674Z"
   },
   {
    "duration": 0,
    "start_time": "2022-05-12T13:13:59.675Z"
   },
   {
    "duration": 0,
    "start_time": "2022-05-12T13:13:59.676Z"
   },
   {
    "duration": 0,
    "start_time": "2022-05-12T13:13:59.677Z"
   },
   {
    "duration": 0,
    "start_time": "2022-05-12T13:13:59.679Z"
   },
   {
    "duration": 0,
    "start_time": "2022-05-12T13:13:59.679Z"
   },
   {
    "duration": 0,
    "start_time": "2022-05-12T13:13:59.727Z"
   },
   {
    "duration": 0,
    "start_time": "2022-05-12T13:13:59.729Z"
   },
   {
    "duration": 0,
    "start_time": "2022-05-12T13:13:59.730Z"
   },
   {
    "duration": 0,
    "start_time": "2022-05-12T13:13:59.732Z"
   },
   {
    "duration": 0,
    "start_time": "2022-05-12T13:13:59.733Z"
   },
   {
    "duration": 0,
    "start_time": "2022-05-12T13:13:59.735Z"
   },
   {
    "duration": 23,
    "start_time": "2022-05-12T13:14:25.345Z"
   },
   {
    "duration": 12,
    "start_time": "2022-05-12T13:15:17.291Z"
   },
   {
    "duration": 20,
    "start_time": "2022-05-12T13:15:32.124Z"
   },
   {
    "duration": 26,
    "start_time": "2022-05-12T13:17:47.144Z"
   },
   {
    "duration": 178,
    "start_time": "2022-05-12T13:18:04.395Z"
   },
   {
    "duration": 195,
    "start_time": "2022-05-12T13:18:38.409Z"
   },
   {
    "duration": 24,
    "start_time": "2022-05-12T13:20:26.819Z"
   },
   {
    "duration": 21,
    "start_time": "2022-05-12T13:20:46.558Z"
   },
   {
    "duration": 20,
    "start_time": "2022-05-12T13:22:44.204Z"
   },
   {
    "duration": 21,
    "start_time": "2022-05-12T13:23:33.756Z"
   },
   {
    "duration": 13,
    "start_time": "2022-05-12T13:23:55.901Z"
   },
   {
    "duration": 28248,
    "start_time": "2022-05-12T13:24:04.859Z"
   },
   {
    "duration": 571,
    "start_time": "2022-05-12T13:25:32.912Z"
   },
   {
    "duration": 24952,
    "start_time": "2022-05-12T13:26:27.954Z"
   },
   {
    "duration": 874,
    "start_time": "2022-05-12T13:27:08.660Z"
   },
   {
    "duration": 104,
    "start_time": "2022-05-12T13:27:12.146Z"
   },
   {
    "duration": 32,
    "start_time": "2022-05-12T13:27:12.252Z"
   },
   {
    "duration": 54,
    "start_time": "2022-05-12T13:27:12.286Z"
   },
   {
    "duration": 344,
    "start_time": "2022-05-12T13:27:12.342Z"
   },
   {
    "duration": 63,
    "start_time": "2022-05-12T13:27:12.689Z"
   },
   {
    "duration": 17,
    "start_time": "2022-05-12T13:27:12.754Z"
   },
   {
    "duration": 207,
    "start_time": "2022-05-12T13:27:12.773Z"
   },
   {
    "duration": 276,
    "start_time": "2022-05-12T13:27:12.983Z"
   },
   {
    "duration": 18,
    "start_time": "2022-05-12T13:27:13.260Z"
   },
   {
    "duration": 829,
    "start_time": "2022-05-12T13:27:13.280Z"
   },
   {
    "duration": 0,
    "start_time": "2022-05-12T13:27:14.112Z"
   },
   {
    "duration": 0,
    "start_time": "2022-05-12T13:27:14.114Z"
   },
   {
    "duration": 0,
    "start_time": "2022-05-12T13:27:14.115Z"
   },
   {
    "duration": 0,
    "start_time": "2022-05-12T13:27:14.116Z"
   },
   {
    "duration": 0,
    "start_time": "2022-05-12T13:27:14.117Z"
   },
   {
    "duration": 0,
    "start_time": "2022-05-12T13:27:14.118Z"
   },
   {
    "duration": 0,
    "start_time": "2022-05-12T13:27:14.119Z"
   },
   {
    "duration": 0,
    "start_time": "2022-05-12T13:27:14.120Z"
   },
   {
    "duration": 0,
    "start_time": "2022-05-12T13:27:14.121Z"
   },
   {
    "duration": 0,
    "start_time": "2022-05-12T13:27:14.122Z"
   },
   {
    "duration": 0,
    "start_time": "2022-05-12T13:27:14.123Z"
   },
   {
    "duration": 0,
    "start_time": "2022-05-12T13:27:14.125Z"
   },
   {
    "duration": 0,
    "start_time": "2022-05-12T13:27:14.126Z"
   },
   {
    "duration": 0,
    "start_time": "2022-05-12T13:27:14.127Z"
   },
   {
    "duration": 0,
    "start_time": "2022-05-12T13:27:14.128Z"
   },
   {
    "duration": 0,
    "start_time": "2022-05-12T13:27:14.129Z"
   },
   {
    "duration": 0,
    "start_time": "2022-05-12T13:27:14.130Z"
   },
   {
    "duration": 0,
    "start_time": "2022-05-12T13:27:14.131Z"
   },
   {
    "duration": 2769,
    "start_time": "2022-05-12T13:27:45.332Z"
   },
   {
    "duration": 89,
    "start_time": "2022-05-12T13:27:50.507Z"
   },
   {
    "duration": 43,
    "start_time": "2022-05-12T13:27:50.599Z"
   },
   {
    "duration": 35,
    "start_time": "2022-05-12T13:27:50.644Z"
   },
   {
    "duration": 19,
    "start_time": "2022-05-12T13:27:50.681Z"
   },
   {
    "duration": 51,
    "start_time": "2022-05-12T13:27:50.723Z"
   },
   {
    "duration": 22,
    "start_time": "2022-05-12T13:27:50.776Z"
   },
   {
    "duration": 213,
    "start_time": "2022-05-12T13:27:50.800Z"
   },
   {
    "duration": 262,
    "start_time": "2022-05-12T13:27:51.015Z"
   },
   {
    "duration": 16,
    "start_time": "2022-05-12T13:27:51.279Z"
   },
   {
    "duration": 831,
    "start_time": "2022-05-12T13:27:51.298Z"
   },
   {
    "duration": 0,
    "start_time": "2022-05-12T13:27:52.131Z"
   },
   {
    "duration": 0,
    "start_time": "2022-05-12T13:27:52.132Z"
   },
   {
    "duration": 0,
    "start_time": "2022-05-12T13:27:52.132Z"
   },
   {
    "duration": 0,
    "start_time": "2022-05-12T13:27:52.134Z"
   },
   {
    "duration": 0,
    "start_time": "2022-05-12T13:27:52.134Z"
   },
   {
    "duration": 0,
    "start_time": "2022-05-12T13:27:52.136Z"
   },
   {
    "duration": 0,
    "start_time": "2022-05-12T13:27:52.137Z"
   },
   {
    "duration": 0,
    "start_time": "2022-05-12T13:27:52.138Z"
   },
   {
    "duration": 0,
    "start_time": "2022-05-12T13:27:52.140Z"
   },
   {
    "duration": 0,
    "start_time": "2022-05-12T13:27:52.141Z"
   },
   {
    "duration": 0,
    "start_time": "2022-05-12T13:27:52.142Z"
   },
   {
    "duration": 0,
    "start_time": "2022-05-12T13:27:52.143Z"
   },
   {
    "duration": 0,
    "start_time": "2022-05-12T13:27:52.145Z"
   },
   {
    "duration": 0,
    "start_time": "2022-05-12T13:27:52.146Z"
   },
   {
    "duration": 0,
    "start_time": "2022-05-12T13:27:52.147Z"
   },
   {
    "duration": 0,
    "start_time": "2022-05-12T13:27:52.148Z"
   },
   {
    "duration": 0,
    "start_time": "2022-05-12T13:27:52.149Z"
   },
   {
    "duration": 0,
    "start_time": "2022-05-12T13:27:52.151Z"
   },
   {
    "duration": 11,
    "start_time": "2022-05-12T13:28:21.097Z"
   },
   {
    "duration": 11,
    "start_time": "2022-05-12T13:28:22.681Z"
   },
   {
    "duration": 1107,
    "start_time": "2022-05-12T13:28:30.872Z"
   },
   {
    "duration": 12,
    "start_time": "2022-05-12T13:28:36.595Z"
   },
   {
    "duration": 11,
    "start_time": "2022-05-12T13:28:38.001Z"
   },
   {
    "duration": 14,
    "start_time": "2022-05-12T13:30:00.948Z"
   },
   {
    "duration": 16,
    "start_time": "2022-05-12T13:30:03.039Z"
   },
   {
    "duration": 103,
    "start_time": "2022-05-12T13:30:10.167Z"
   },
   {
    "duration": 33,
    "start_time": "2022-05-12T13:30:10.272Z"
   },
   {
    "duration": 57,
    "start_time": "2022-05-12T13:30:10.307Z"
   },
   {
    "duration": 20,
    "start_time": "2022-05-12T13:30:10.367Z"
   },
   {
    "duration": 85,
    "start_time": "2022-05-12T13:30:10.388Z"
   },
   {
    "duration": 19,
    "start_time": "2022-05-12T13:30:10.475Z"
   },
   {
    "duration": 245,
    "start_time": "2022-05-12T13:30:10.496Z"
   },
   {
    "duration": 424,
    "start_time": "2022-05-12T13:30:10.743Z"
   },
   {
    "duration": 15,
    "start_time": "2022-05-12T13:30:11.170Z"
   },
   {
    "duration": 11,
    "start_time": "2022-05-12T13:30:11.188Z"
   },
   {
    "duration": 28,
    "start_time": "2022-05-12T13:30:11.226Z"
   },
   {
    "duration": 19,
    "start_time": "2022-05-12T13:30:11.256Z"
   },
   {
    "duration": 55,
    "start_time": "2022-05-12T13:30:11.277Z"
   },
   {
    "duration": 16,
    "start_time": "2022-05-12T13:30:11.334Z"
   },
   {
    "duration": 812,
    "start_time": "2022-05-12T13:30:11.352Z"
   },
   {
    "duration": 0,
    "start_time": "2022-05-12T13:30:12.166Z"
   },
   {
    "duration": 0,
    "start_time": "2022-05-12T13:30:12.168Z"
   },
   {
    "duration": 0,
    "start_time": "2022-05-12T13:30:12.169Z"
   },
   {
    "duration": 0,
    "start_time": "2022-05-12T13:30:12.170Z"
   },
   {
    "duration": 0,
    "start_time": "2022-05-12T13:30:12.171Z"
   },
   {
    "duration": 0,
    "start_time": "2022-05-12T13:30:12.172Z"
   },
   {
    "duration": 0,
    "start_time": "2022-05-12T13:30:12.174Z"
   },
   {
    "duration": 0,
    "start_time": "2022-05-12T13:30:12.175Z"
   },
   {
    "duration": 0,
    "start_time": "2022-05-12T13:30:12.176Z"
   },
   {
    "duration": 0,
    "start_time": "2022-05-12T13:30:12.177Z"
   },
   {
    "duration": 0,
    "start_time": "2022-05-12T13:30:12.178Z"
   },
   {
    "duration": 0,
    "start_time": "2022-05-12T13:30:12.179Z"
   },
   {
    "duration": 0,
    "start_time": "2022-05-12T13:30:12.181Z"
   },
   {
    "duration": 31,
    "start_time": "2022-05-12T13:30:40.892Z"
   },
   {
    "duration": 34,
    "start_time": "2022-05-12T13:31:09.643Z"
   },
   {
    "duration": 826,
    "start_time": "2022-05-12T13:31:25.029Z"
   },
   {
    "duration": 101,
    "start_time": "2022-05-12T13:31:27.734Z"
   },
   {
    "duration": 33,
    "start_time": "2022-05-12T13:31:27.838Z"
   },
   {
    "duration": 55,
    "start_time": "2022-05-12T13:31:27.873Z"
   },
   {
    "duration": 24,
    "start_time": "2022-05-12T13:31:27.932Z"
   },
   {
    "duration": 76,
    "start_time": "2022-05-12T13:31:27.958Z"
   },
   {
    "duration": 24,
    "start_time": "2022-05-12T13:31:28.036Z"
   },
   {
    "duration": 255,
    "start_time": "2022-05-12T13:31:28.062Z"
   },
   {
    "duration": 319,
    "start_time": "2022-05-12T13:31:28.319Z"
   },
   {
    "duration": 11,
    "start_time": "2022-05-12T13:31:28.640Z"
   },
   {
    "duration": 11,
    "start_time": "2022-05-12T13:31:28.654Z"
   },
   {
    "duration": 22,
    "start_time": "2022-05-12T13:31:28.667Z"
   },
   {
    "duration": 50,
    "start_time": "2022-05-12T13:31:28.691Z"
   },
   {
    "duration": 37,
    "start_time": "2022-05-12T13:31:28.743Z"
   },
   {
    "duration": 922,
    "start_time": "2022-05-12T13:31:28.782Z"
   },
   {
    "duration": 75,
    "start_time": "2022-05-12T13:31:29.707Z"
   },
   {
    "duration": 25,
    "start_time": "2022-05-12T13:31:29.784Z"
   },
   {
    "duration": 34,
    "start_time": "2022-05-12T13:31:29.824Z"
   },
   {
    "duration": 283,
    "start_time": "2022-05-12T13:31:29.861Z"
   },
   {
    "duration": 332,
    "start_time": "2022-05-12T13:31:30.147Z"
   },
   {
    "duration": 18,
    "start_time": "2022-05-12T13:31:30.482Z"
   },
   {
    "duration": 3,
    "start_time": "2022-05-12T13:31:30.501Z"
   },
   {
    "duration": 13,
    "start_time": "2022-05-12T13:31:30.506Z"
   },
   {
    "duration": 15,
    "start_time": "2022-05-12T13:31:30.520Z"
   },
   {
    "duration": 237,
    "start_time": "2022-05-12T13:31:30.537Z"
   },
   {
    "duration": 226,
    "start_time": "2022-05-12T13:31:30.776Z"
   },
   {
    "duration": 913,
    "start_time": "2022-05-12T13:31:46.382Z"
   },
   {
    "duration": 140,
    "start_time": "2022-05-12T13:31:48.610Z"
   },
   {
    "duration": 30,
    "start_time": "2022-05-12T13:31:48.752Z"
   },
   {
    "duration": 28,
    "start_time": "2022-05-12T13:31:48.784Z"
   },
   {
    "duration": 33,
    "start_time": "2022-05-12T13:31:48.815Z"
   },
   {
    "duration": 78,
    "start_time": "2022-05-12T13:31:48.850Z"
   },
   {
    "duration": 27,
    "start_time": "2022-05-12T13:31:48.933Z"
   },
   {
    "duration": 218,
    "start_time": "2022-05-12T13:31:48.962Z"
   },
   {
    "duration": 295,
    "start_time": "2022-05-12T13:31:49.181Z"
   },
   {
    "duration": 11,
    "start_time": "2022-05-12T13:31:49.478Z"
   },
   {
    "duration": 36,
    "start_time": "2022-05-12T13:31:49.492Z"
   },
   {
    "duration": 22,
    "start_time": "2022-05-12T13:31:49.530Z"
   },
   {
    "duration": 26,
    "start_time": "2022-05-12T13:31:49.554Z"
   },
   {
    "duration": 72,
    "start_time": "2022-05-12T13:31:49.582Z"
   },
   {
    "duration": 859,
    "start_time": "2022-05-12T13:31:49.657Z"
   },
   {
    "duration": 63,
    "start_time": "2022-05-12T13:31:50.518Z"
   },
   {
    "duration": 42,
    "start_time": "2022-05-12T13:31:50.583Z"
   },
   {
    "duration": 33,
    "start_time": "2022-05-12T13:31:50.627Z"
   },
   {
    "duration": 376,
    "start_time": "2022-05-12T13:31:50.662Z"
   },
   {
    "duration": 225,
    "start_time": "2022-05-12T13:31:51.039Z"
   },
   {
    "duration": 18,
    "start_time": "2022-05-12T13:31:51.266Z"
   },
   {
    "duration": 2,
    "start_time": "2022-05-12T13:31:51.286Z"
   },
   {
    "duration": 22,
    "start_time": "2022-05-12T13:31:51.290Z"
   },
   {
    "duration": 20,
    "start_time": "2022-05-12T13:31:51.313Z"
   },
   {
    "duration": 231,
    "start_time": "2022-05-12T13:31:51.335Z"
   },
   {
    "duration": 205,
    "start_time": "2022-05-12T13:31:51.568Z"
   },
   {
    "duration": 32,
    "start_time": "2022-05-12T13:32:51.115Z"
   },
   {
    "duration": 33,
    "start_time": "2022-05-12T13:32:58.409Z"
   },
   {
    "duration": 36,
    "start_time": "2022-05-12T13:33:06.530Z"
   },
   {
    "duration": 25,
    "start_time": "2022-05-12T13:33:17.659Z"
   },
   {
    "duration": 26,
    "start_time": "2022-05-12T13:34:16.735Z"
   },
   {
    "duration": 25,
    "start_time": "2022-05-12T13:35:29.980Z"
   },
   {
    "duration": 24,
    "start_time": "2022-05-12T13:35:51.563Z"
   },
   {
    "duration": 127,
    "start_time": "2022-05-12T13:38:58.766Z"
   },
   {
    "duration": 58,
    "start_time": "2022-05-12T13:38:58.896Z"
   },
   {
    "duration": 45,
    "start_time": "2022-05-12T13:38:58.956Z"
   },
   {
    "duration": 39,
    "start_time": "2022-05-12T13:38:59.003Z"
   },
   {
    "duration": 55,
    "start_time": "2022-05-12T13:38:59.047Z"
   },
   {
    "duration": 24,
    "start_time": "2022-05-12T13:38:59.104Z"
   },
   {
    "duration": 201,
    "start_time": "2022-05-12T13:38:59.135Z"
   },
   {
    "duration": 274,
    "start_time": "2022-05-12T13:38:59.337Z"
   },
   {
    "duration": 14,
    "start_time": "2022-05-12T13:38:59.612Z"
   },
   {
    "duration": 12,
    "start_time": "2022-05-12T13:38:59.628Z"
   },
   {
    "duration": 13,
    "start_time": "2022-05-12T13:38:59.642Z"
   },
   {
    "duration": 19,
    "start_time": "2022-05-12T13:38:59.656Z"
   },
   {
    "duration": 72,
    "start_time": "2022-05-12T13:38:59.676Z"
   },
   {
    "duration": 849,
    "start_time": "2022-05-12T13:38:59.751Z"
   },
   {
    "duration": 60,
    "start_time": "2022-05-12T13:39:00.602Z"
   },
   {
    "duration": 23,
    "start_time": "2022-05-12T13:39:00.664Z"
   },
   {
    "duration": 51,
    "start_time": "2022-05-12T13:39:00.689Z"
   },
   {
    "duration": 237,
    "start_time": "2022-05-12T13:39:00.742Z"
   },
   {
    "duration": 215,
    "start_time": "2022-05-12T13:39:00.980Z"
   },
   {
    "duration": 20,
    "start_time": "2022-05-12T13:39:01.197Z"
   },
   {
    "duration": 27,
    "start_time": "2022-05-12T13:39:01.219Z"
   },
   {
    "duration": 32,
    "start_time": "2022-05-12T13:39:01.248Z"
   },
   {
    "duration": 48,
    "start_time": "2022-05-12T13:39:01.282Z"
   },
   {
    "duration": 176,
    "start_time": "2022-05-12T13:39:01.332Z"
   },
   {
    "duration": 517,
    "start_time": "2022-05-12T13:39:01.511Z"
   },
   {
    "duration": 117,
    "start_time": "2022-05-12T13:43:13.227Z"
   },
   {
    "duration": 49,
    "start_time": "2022-05-12T13:43:13.347Z"
   },
   {
    "duration": 66,
    "start_time": "2022-05-12T13:43:13.399Z"
   },
   {
    "duration": 27,
    "start_time": "2022-05-12T13:43:13.468Z"
   },
   {
    "duration": 112,
    "start_time": "2022-05-12T13:43:13.497Z"
   },
   {
    "duration": 44,
    "start_time": "2022-05-12T13:43:13.611Z"
   },
   {
    "duration": 306,
    "start_time": "2022-05-12T13:43:13.658Z"
   },
   {
    "duration": 432,
    "start_time": "2022-05-12T13:43:13.966Z"
   },
   {
    "duration": 31,
    "start_time": "2022-05-12T13:43:14.401Z"
   },
   {
    "duration": 19,
    "start_time": "2022-05-12T13:43:14.436Z"
   },
   {
    "duration": 20,
    "start_time": "2022-05-12T13:43:14.457Z"
   },
   {
    "duration": 27,
    "start_time": "2022-05-12T13:43:14.479Z"
   },
   {
    "duration": 38,
    "start_time": "2022-05-12T13:43:14.524Z"
   },
   {
    "duration": 1353,
    "start_time": "2022-05-12T13:43:14.564Z"
   },
   {
    "duration": 62,
    "start_time": "2022-05-12T13:43:15.923Z"
   },
   {
    "duration": 57,
    "start_time": "2022-05-12T13:43:15.988Z"
   },
   {
    "duration": 30,
    "start_time": "2022-05-12T13:43:16.047Z"
   },
   {
    "duration": 515,
    "start_time": "2022-05-12T13:43:16.079Z"
   },
   {
    "duration": 257,
    "start_time": "2022-05-12T13:43:16.597Z"
   },
   {
    "duration": 30,
    "start_time": "2022-05-12T13:43:16.857Z"
   },
   {
    "duration": 3,
    "start_time": "2022-05-12T13:43:16.889Z"
   },
   {
    "duration": 23,
    "start_time": "2022-05-12T13:43:16.894Z"
   },
   {
    "duration": 10,
    "start_time": "2022-05-12T13:43:16.919Z"
   },
   {
    "duration": 192,
    "start_time": "2022-05-12T13:43:16.931Z"
   },
   {
    "duration": 322,
    "start_time": "2022-05-12T13:43:17.126Z"
   },
   {
    "duration": 60,
    "start_time": "2022-05-12T13:43:25.617Z"
   },
   {
    "duration": 1895,
    "start_time": "2022-05-12T13:43:44.461Z"
   },
   {
    "duration": 30,
    "start_time": "2022-05-12T13:43:46.359Z"
   },
   {
    "duration": 57,
    "start_time": "2022-05-12T13:43:46.391Z"
   },
   {
    "duration": 29,
    "start_time": "2022-05-12T13:43:46.450Z"
   },
   {
    "duration": 487,
    "start_time": "2022-05-12T13:43:46.481Z"
   },
   {
    "duration": 53,
    "start_time": "2022-05-12T13:43:46.970Z"
   },
   {
    "duration": 284,
    "start_time": "2022-05-12T13:43:47.025Z"
   },
   {
    "duration": 535,
    "start_time": "2022-05-12T13:43:47.313Z"
   },
   {
    "duration": 18,
    "start_time": "2022-05-12T13:43:47.850Z"
   },
   {
    "duration": 20,
    "start_time": "2022-05-12T13:43:47.870Z"
   },
   {
    "duration": 41,
    "start_time": "2022-05-12T13:43:47.892Z"
   },
   {
    "duration": 26,
    "start_time": "2022-05-12T13:43:47.936Z"
   },
   {
    "duration": 33,
    "start_time": "2022-05-12T13:43:47.964Z"
   },
   {
    "duration": 1027,
    "start_time": "2022-05-12T13:43:48.002Z"
   },
   {
    "duration": 81,
    "start_time": "2022-05-12T13:43:49.032Z"
   },
   {
    "duration": 40,
    "start_time": "2022-05-12T13:43:49.115Z"
   },
   {
    "duration": 21,
    "start_time": "2022-05-12T13:43:49.157Z"
   },
   {
    "duration": 299,
    "start_time": "2022-05-12T13:43:49.180Z"
   },
   {
    "duration": 313,
    "start_time": "2022-05-12T13:43:49.481Z"
   },
   {
    "duration": 21,
    "start_time": "2022-05-12T13:43:49.796Z"
   },
   {
    "duration": 7,
    "start_time": "2022-05-12T13:43:49.819Z"
   },
   {
    "duration": 13,
    "start_time": "2022-05-12T13:43:49.828Z"
   },
   {
    "duration": 10,
    "start_time": "2022-05-12T13:43:49.843Z"
   },
   {
    "duration": 209,
    "start_time": "2022-05-12T13:43:49.855Z"
   },
   {
    "duration": 324,
    "start_time": "2022-05-12T13:43:50.066Z"
   },
   {
    "duration": 36,
    "start_time": "2022-05-12T13:48:45.603Z"
   },
   {
    "duration": 115,
    "start_time": "2022-05-12T13:48:54.349Z"
   },
   {
    "duration": 31,
    "start_time": "2022-05-12T13:48:54.467Z"
   },
   {
    "duration": 48,
    "start_time": "2022-05-12T13:48:54.501Z"
   },
   {
    "duration": 21,
    "start_time": "2022-05-12T13:48:54.552Z"
   },
   {
    "duration": 86,
    "start_time": "2022-05-12T13:48:54.575Z"
   },
   {
    "duration": 19,
    "start_time": "2022-05-12T13:48:54.662Z"
   },
   {
    "duration": 224,
    "start_time": "2022-05-12T13:48:54.684Z"
   },
   {
    "duration": 318,
    "start_time": "2022-05-12T13:48:54.911Z"
   },
   {
    "duration": 17,
    "start_time": "2022-05-12T13:48:55.232Z"
   },
   {
    "duration": 15,
    "start_time": "2022-05-12T13:48:55.253Z"
   },
   {
    "duration": 19,
    "start_time": "2022-05-12T13:48:55.270Z"
   },
   {
    "duration": 46,
    "start_time": "2022-05-12T13:48:55.291Z"
   },
   {
    "duration": 142,
    "start_time": "2022-05-12T13:48:55.339Z"
   },
   {
    "duration": 968,
    "start_time": "2022-05-12T13:48:55.483Z"
   },
   {
    "duration": 53,
    "start_time": "2022-05-12T13:48:56.453Z"
   },
   {
    "duration": 52,
    "start_time": "2022-05-12T13:48:56.508Z"
   },
   {
    "duration": 32,
    "start_time": "2022-05-12T13:48:56.563Z"
   },
   {
    "duration": 325,
    "start_time": "2022-05-12T13:48:56.597Z"
   },
   {
    "duration": 258,
    "start_time": "2022-05-12T13:48:56.927Z"
   },
   {
    "duration": 20,
    "start_time": "2022-05-12T13:48:57.187Z"
   },
   {
    "duration": 2,
    "start_time": "2022-05-12T13:48:57.210Z"
   },
   {
    "duration": 19,
    "start_time": "2022-05-12T13:48:57.214Z"
   },
   {
    "duration": 10,
    "start_time": "2022-05-12T13:48:57.236Z"
   },
   {
    "duration": 222,
    "start_time": "2022-05-12T13:48:57.248Z"
   },
   {
    "duration": 237,
    "start_time": "2022-05-12T13:48:57.472Z"
   },
   {
    "duration": 208,
    "start_time": "2022-05-12T13:51:07.749Z"
   },
   {
    "duration": 212,
    "start_time": "2022-05-12T13:51:18.346Z"
   },
   {
    "duration": 198,
    "start_time": "2022-05-12T13:51:21.505Z"
   },
   {
    "duration": 67,
    "start_time": "2022-05-12T13:51:37.420Z"
   },
   {
    "duration": 18,
    "start_time": "2022-05-12T13:51:42.284Z"
   },
   {
    "duration": 71,
    "start_time": "2022-05-12T13:53:01.295Z"
   },
   {
    "duration": 301,
    "start_time": "2022-05-12T13:53:19.493Z"
   },
   {
    "duration": 424,
    "start_time": "2022-05-12T13:53:32.140Z"
   },
   {
    "duration": 1169,
    "start_time": "2022-05-12T13:53:57.928Z"
   },
   {
    "duration": 1283,
    "start_time": "2022-05-12T13:54:02.817Z"
   },
   {
    "duration": 1062,
    "start_time": "2022-05-12T13:54:15.273Z"
   },
   {
    "duration": 1132,
    "start_time": "2022-05-12T13:54:24.653Z"
   },
   {
    "duration": 926,
    "start_time": "2022-05-12T13:54:30.337Z"
   },
   {
    "duration": 1147,
    "start_time": "2022-05-12T13:54:35.426Z"
   },
   {
    "duration": 923,
    "start_time": "2022-05-12T13:54:39.693Z"
   },
   {
    "duration": 874,
    "start_time": "2022-05-12T13:54:47.662Z"
   },
   {
    "duration": 1175,
    "start_time": "2022-05-12T13:54:55.283Z"
   },
   {
    "duration": 911,
    "start_time": "2022-05-12T13:55:04.614Z"
   },
   {
    "duration": 973,
    "start_time": "2022-05-12T13:55:11.603Z"
   },
   {
    "duration": 1171,
    "start_time": "2022-05-12T13:55:18.721Z"
   },
   {
    "duration": 947,
    "start_time": "2022-05-12T13:55:24.482Z"
   },
   {
    "duration": 1336,
    "start_time": "2022-05-12T13:55:30.408Z"
   },
   {
    "duration": 880,
    "start_time": "2022-05-12T13:55:43.684Z"
   },
   {
    "duration": 883,
    "start_time": "2022-05-12T13:55:49.522Z"
   },
   {
    "duration": 886,
    "start_time": "2022-05-12T13:55:56.287Z"
   },
   {
    "duration": 1196,
    "start_time": "2022-05-12T13:56:08.102Z"
   },
   {
    "duration": 1191,
    "start_time": "2022-05-12T13:56:13.141Z"
   },
   {
    "duration": 1199,
    "start_time": "2022-05-12T13:56:19.688Z"
   },
   {
    "duration": 231,
    "start_time": "2022-05-12T13:57:02.919Z"
   },
   {
    "duration": 209,
    "start_time": "2022-05-12T13:57:08.766Z"
   },
   {
    "duration": 310,
    "start_time": "2022-05-12T13:57:13.137Z"
   },
   {
    "duration": 229,
    "start_time": "2022-05-12T13:57:26.520Z"
   },
   {
    "duration": 338,
    "start_time": "2022-05-12T13:57:30.437Z"
   },
   {
    "duration": 21,
    "start_time": "2022-05-12T14:05:25.680Z"
   },
   {
    "duration": 18,
    "start_time": "2022-05-12T14:14:24.859Z"
   },
   {
    "duration": 4,
    "start_time": "2022-05-12T14:15:10.447Z"
   },
   {
    "duration": 257,
    "start_time": "2022-05-12T14:15:16.714Z"
   },
   {
    "duration": 23,
    "start_time": "2022-05-12T14:16:23.627Z"
   },
   {
    "duration": 17,
    "start_time": "2022-05-12T14:16:30.377Z"
   },
   {
    "duration": 20,
    "start_time": "2022-05-12T14:18:18.651Z"
   },
   {
    "duration": 12,
    "start_time": "2022-05-12T14:21:03.401Z"
   },
   {
    "duration": 13,
    "start_time": "2022-05-12T14:23:37.724Z"
   },
   {
    "duration": 13,
    "start_time": "2022-05-12T14:23:54.762Z"
   },
   {
    "duration": 13,
    "start_time": "2022-05-12T14:23:59.657Z"
   },
   {
    "duration": 13,
    "start_time": "2022-05-12T14:24:12.638Z"
   },
   {
    "duration": 12,
    "start_time": "2022-05-12T14:24:30.684Z"
   },
   {
    "duration": 11,
    "start_time": "2022-05-12T14:24:32.433Z"
   },
   {
    "duration": 15,
    "start_time": "2022-05-12T14:24:37.703Z"
   },
   {
    "duration": 7,
    "start_time": "2022-05-12T14:24:39.508Z"
   },
   {
    "duration": 5,
    "start_time": "2022-05-12T14:24:50.209Z"
   },
   {
    "duration": 4,
    "start_time": "2022-05-12T14:25:04.553Z"
   },
   {
    "duration": 4,
    "start_time": "2022-05-12T14:27:22.799Z"
   },
   {
    "duration": 6,
    "start_time": "2022-05-12T14:27:39.070Z"
   },
   {
    "duration": 16,
    "start_time": "2022-05-12T14:32:03.917Z"
   },
   {
    "duration": 7,
    "start_time": "2022-05-12T14:32:39.671Z"
   },
   {
    "duration": 92,
    "start_time": "2022-05-12T14:32:44.779Z"
   },
   {
    "duration": 6,
    "start_time": "2022-05-12T14:33:33.956Z"
   },
   {
    "duration": 7,
    "start_time": "2022-05-12T14:33:38.620Z"
   },
   {
    "duration": 102,
    "start_time": "2022-05-12T14:33:40.814Z"
   },
   {
    "duration": 4,
    "start_time": "2022-05-12T14:35:43.787Z"
   },
   {
    "duration": 4,
    "start_time": "2022-05-12T14:35:57.538Z"
   },
   {
    "duration": 5,
    "start_time": "2022-05-12T14:36:07.414Z"
   },
   {
    "duration": 3,
    "start_time": "2022-05-12T14:36:13.069Z"
   },
   {
    "duration": 91,
    "start_time": "2022-05-12T14:36:26.396Z"
   },
   {
    "duration": 38,
    "start_time": "2022-05-12T14:36:26.489Z"
   },
   {
    "duration": 28,
    "start_time": "2022-05-12T14:36:26.529Z"
   },
   {
    "duration": 18,
    "start_time": "2022-05-12T14:36:26.559Z"
   },
   {
    "duration": 80,
    "start_time": "2022-05-12T14:36:26.579Z"
   },
   {
    "duration": 18,
    "start_time": "2022-05-12T14:36:26.660Z"
   },
   {
    "duration": 204,
    "start_time": "2022-05-12T14:36:26.687Z"
   },
   {
    "duration": 247,
    "start_time": "2022-05-12T14:36:26.893Z"
   },
   {
    "duration": 10,
    "start_time": "2022-05-12T14:36:27.142Z"
   },
   {
    "duration": 10,
    "start_time": "2022-05-12T14:36:27.155Z"
   },
   {
    "duration": 12,
    "start_time": "2022-05-12T14:36:27.167Z"
   },
   {
    "duration": 49,
    "start_time": "2022-05-12T14:36:27.181Z"
   },
   {
    "duration": 25,
    "start_time": "2022-05-12T14:36:27.232Z"
   },
   {
    "duration": 781,
    "start_time": "2022-05-12T14:36:27.261Z"
   },
   {
    "duration": 84,
    "start_time": "2022-05-12T14:36:28.045Z"
   },
   {
    "duration": 22,
    "start_time": "2022-05-12T14:36:28.132Z"
   },
   {
    "duration": 39,
    "start_time": "2022-05-12T14:36:28.156Z"
   },
   {
    "duration": 289,
    "start_time": "2022-05-12T14:36:28.198Z"
   },
   {
    "duration": 237,
    "start_time": "2022-05-12T14:36:28.488Z"
   },
   {
    "duration": 19,
    "start_time": "2022-05-12T14:36:28.727Z"
   },
   {
    "duration": 7,
    "start_time": "2022-05-12T14:36:28.748Z"
   },
   {
    "duration": 8,
    "start_time": "2022-05-12T14:36:28.757Z"
   },
   {
    "duration": 11,
    "start_time": "2022-05-12T14:36:28.766Z"
   },
   {
    "duration": 8,
    "start_time": "2022-05-12T14:36:28.778Z"
   },
   {
    "duration": 210,
    "start_time": "2022-05-12T14:36:28.789Z"
   },
   {
    "duration": 229,
    "start_time": "2022-05-12T14:36:29.000Z"
   },
   {
    "duration": 3,
    "start_time": "2022-05-12T14:36:35.671Z"
   },
   {
    "duration": 3,
    "start_time": "2022-05-12T14:36:43.565Z"
   },
   {
    "duration": 1614,
    "start_time": "2022-05-12T14:37:12.120Z"
   },
   {
    "duration": 32,
    "start_time": "2022-05-12T14:37:13.736Z"
   },
   {
    "duration": 39,
    "start_time": "2022-05-12T14:37:13.770Z"
   },
   {
    "duration": 33,
    "start_time": "2022-05-12T14:37:13.811Z"
   },
   {
    "duration": 449,
    "start_time": "2022-05-12T14:37:13.846Z"
   },
   {
    "duration": 28,
    "start_time": "2022-05-12T14:37:14.297Z"
   },
   {
    "duration": 249,
    "start_time": "2022-05-12T14:37:14.328Z"
   },
   {
    "duration": 271,
    "start_time": "2022-05-12T14:37:14.579Z"
   },
   {
    "duration": 11,
    "start_time": "2022-05-12T14:37:14.852Z"
   },
   {
    "duration": 22,
    "start_time": "2022-05-12T14:37:14.867Z"
   },
   {
    "duration": 131,
    "start_time": "2022-05-12T14:37:14.891Z"
   },
   {
    "duration": 23,
    "start_time": "2022-05-12T14:37:15.025Z"
   },
   {
    "duration": 54,
    "start_time": "2022-05-12T14:37:15.050Z"
   },
   {
    "duration": 1130,
    "start_time": "2022-05-12T14:37:15.106Z"
   },
   {
    "duration": 85,
    "start_time": "2022-05-12T14:37:16.239Z"
   },
   {
    "duration": 33,
    "start_time": "2022-05-12T14:37:16.327Z"
   },
   {
    "duration": 28,
    "start_time": "2022-05-12T14:37:16.362Z"
   },
   {
    "duration": 423,
    "start_time": "2022-05-12T14:37:16.393Z"
   },
   {
    "duration": 271,
    "start_time": "2022-05-12T14:37:16.823Z"
   },
   {
    "duration": 15,
    "start_time": "2022-05-12T14:37:17.096Z"
   },
   {
    "duration": 5,
    "start_time": "2022-05-12T14:37:17.113Z"
   },
   {
    "duration": 172,
    "start_time": "2022-05-12T14:37:17.120Z"
   },
   {
    "duration": 0,
    "start_time": "2022-05-12T14:37:17.294Z"
   },
   {
    "duration": 0,
    "start_time": "2022-05-12T14:37:17.295Z"
   },
   {
    "duration": 0,
    "start_time": "2022-05-12T14:37:17.296Z"
   },
   {
    "duration": 0,
    "start_time": "2022-05-12T14:37:17.299Z"
   },
   {
    "duration": 7,
    "start_time": "2022-05-12T14:38:22.954Z"
   },
   {
    "duration": 9,
    "start_time": "2022-05-12T14:38:25.418Z"
   },
   {
    "duration": 6,
    "start_time": "2022-05-12T14:38:56.982Z"
   },
   {
    "duration": 8,
    "start_time": "2022-05-12T14:38:58.938Z"
   },
   {
    "duration": 12,
    "start_time": "2022-05-12T14:39:49.158Z"
   },
   {
    "duration": 9,
    "start_time": "2022-05-12T14:40:02.595Z"
   },
   {
    "duration": 24,
    "start_time": "2022-05-12T14:40:37.018Z"
   },
   {
    "duration": 77,
    "start_time": "2022-05-12T14:40:46.054Z"
   },
   {
    "duration": 25,
    "start_time": "2022-05-12T14:41:36.230Z"
   },
   {
    "duration": 27,
    "start_time": "2022-05-12T14:42:16.378Z"
   },
   {
    "duration": 202,
    "start_time": "2022-05-12T14:42:55.990Z"
   },
   {
    "duration": 26,
    "start_time": "2022-05-12T14:43:07.914Z"
   },
   {
    "duration": 26,
    "start_time": "2022-05-12T14:43:27.401Z"
   },
   {
    "duration": 28,
    "start_time": "2022-05-12T14:43:36.806Z"
   },
   {
    "duration": 7,
    "start_time": "2022-05-12T14:46:22.330Z"
   },
   {
    "duration": 803,
    "start_time": "2022-05-12T14:47:49.668Z"
   },
   {
    "duration": 31,
    "start_time": "2022-05-12T14:47:50.474Z"
   },
   {
    "duration": 44,
    "start_time": "2022-05-12T14:47:50.507Z"
   },
   {
    "duration": 19,
    "start_time": "2022-05-12T14:47:50.554Z"
   },
   {
    "duration": 81,
    "start_time": "2022-05-12T14:47:50.575Z"
   },
   {
    "duration": 24,
    "start_time": "2022-05-12T14:47:50.658Z"
   },
   {
    "duration": 279,
    "start_time": "2022-05-12T14:47:50.683Z"
   },
   {
    "duration": 368,
    "start_time": "2022-05-12T14:47:50.964Z"
   },
   {
    "duration": 13,
    "start_time": "2022-05-12T14:47:51.335Z"
   },
   {
    "duration": 20,
    "start_time": "2022-05-12T14:47:51.352Z"
   },
   {
    "duration": 35,
    "start_time": "2022-05-12T14:47:51.375Z"
   },
   {
    "duration": 30,
    "start_time": "2022-05-12T14:47:51.412Z"
   },
   {
    "duration": 35,
    "start_time": "2022-05-12T14:47:51.444Z"
   },
   {
    "duration": 1156,
    "start_time": "2022-05-12T14:47:51.483Z"
   },
   {
    "duration": 83,
    "start_time": "2022-05-12T14:47:52.641Z"
   },
   {
    "duration": 27,
    "start_time": "2022-05-12T14:47:52.726Z"
   },
   {
    "duration": 25,
    "start_time": "2022-05-12T14:47:52.755Z"
   },
   {
    "duration": 531,
    "start_time": "2022-05-12T14:47:52.782Z"
   },
   {
    "duration": 252,
    "start_time": "2022-05-12T14:47:53.316Z"
   },
   {
    "duration": 15,
    "start_time": "2022-05-12T14:47:53.570Z"
   },
   {
    "duration": 6,
    "start_time": "2022-05-12T14:47:53.587Z"
   },
   {
    "duration": 38,
    "start_time": "2022-05-12T14:47:53.595Z"
   },
   {
    "duration": 9,
    "start_time": "2022-05-12T14:47:53.635Z"
   },
   {
    "duration": 8,
    "start_time": "2022-05-12T14:47:53.645Z"
   },
   {
    "duration": 201,
    "start_time": "2022-05-12T14:47:53.655Z"
   },
   {
    "duration": 217,
    "start_time": "2022-05-12T14:47:53.858Z"
   },
   {
    "duration": 3011,
    "start_time": "2022-05-12T15:40:18.518Z"
   },
   {
    "duration": 31,
    "start_time": "2022-05-12T15:40:21.531Z"
   },
   {
    "duration": 31,
    "start_time": "2022-05-12T15:40:21.563Z"
   },
   {
    "duration": 43,
    "start_time": "2022-05-12T15:40:21.596Z"
   },
   {
    "duration": 484,
    "start_time": "2022-05-12T15:40:21.640Z"
   },
   {
    "duration": 19,
    "start_time": "2022-05-12T15:40:22.126Z"
   },
   {
    "duration": 256,
    "start_time": "2022-05-12T15:40:22.147Z"
   },
   {
    "duration": 255,
    "start_time": "2022-05-12T15:40:22.405Z"
   },
   {
    "duration": 12,
    "start_time": "2022-05-12T15:40:22.662Z"
   },
   {
    "duration": 20,
    "start_time": "2022-05-12T15:40:22.677Z"
   },
   {
    "duration": 107,
    "start_time": "2022-05-12T15:40:22.699Z"
   },
   {
    "duration": 31,
    "start_time": "2022-05-12T15:40:22.823Z"
   },
   {
    "duration": 25,
    "start_time": "2022-05-12T15:40:22.856Z"
   },
   {
    "duration": 759,
    "start_time": "2022-05-12T15:40:22.884Z"
   },
   {
    "duration": 54,
    "start_time": "2022-05-12T15:40:23.645Z"
   },
   {
    "duration": 35,
    "start_time": "2022-05-12T15:40:23.701Z"
   },
   {
    "duration": 22,
    "start_time": "2022-05-12T15:40:23.738Z"
   },
   {
    "duration": 282,
    "start_time": "2022-05-12T15:40:23.761Z"
   },
   {
    "duration": 424,
    "start_time": "2022-05-12T15:40:24.045Z"
   },
   {
    "duration": 16,
    "start_time": "2022-05-12T15:40:24.471Z"
   },
   {
    "duration": 5,
    "start_time": "2022-05-12T15:40:24.489Z"
   },
   {
    "duration": 32,
    "start_time": "2022-05-12T15:40:24.496Z"
   },
   {
    "duration": 9,
    "start_time": "2022-05-12T15:40:24.530Z"
   },
   {
    "duration": 9,
    "start_time": "2022-05-12T15:40:24.541Z"
   },
   {
    "duration": 209,
    "start_time": "2022-05-12T15:40:24.551Z"
   },
   {
    "duration": 242,
    "start_time": "2022-05-12T15:40:24.762Z"
   },
   {
    "duration": 259,
    "start_time": "2022-05-12T15:40:50.508Z"
   },
   {
    "duration": 280,
    "start_time": "2022-05-12T15:40:59.534Z"
   },
   {
    "duration": 283,
    "start_time": "2022-05-12T15:41:05.381Z"
   },
   {
    "duration": 388,
    "start_time": "2022-05-12T15:41:13.396Z"
   },
   {
    "duration": 352,
    "start_time": "2022-05-12T15:41:21.223Z"
   },
   {
    "duration": 1368,
    "start_time": "2022-05-12T15:41:28.842Z"
   },
   {
    "duration": 28,
    "start_time": "2022-05-12T15:41:30.212Z"
   },
   {
    "duration": 59,
    "start_time": "2022-05-12T15:41:30.242Z"
   },
   {
    "duration": 19,
    "start_time": "2022-05-12T15:41:30.304Z"
   },
   {
    "duration": 406,
    "start_time": "2022-05-12T15:41:30.325Z"
   },
   {
    "duration": 18,
    "start_time": "2022-05-12T15:41:30.733Z"
   },
   {
    "duration": 252,
    "start_time": "2022-05-12T15:41:30.753Z"
   },
   {
    "duration": 233,
    "start_time": "2022-05-12T15:41:31.007Z"
   },
   {
    "duration": 9,
    "start_time": "2022-05-12T15:41:31.242Z"
   },
   {
    "duration": 11,
    "start_time": "2022-05-12T15:41:31.253Z"
   },
   {
    "duration": 109,
    "start_time": "2022-05-12T15:41:31.265Z"
   },
   {
    "duration": 16,
    "start_time": "2022-05-12T15:41:31.376Z"
   },
   {
    "duration": 48,
    "start_time": "2022-05-12T15:41:31.394Z"
   },
   {
    "duration": 697,
    "start_time": "2022-05-12T15:41:31.444Z"
   },
   {
    "duration": 48,
    "start_time": "2022-05-12T15:41:32.143Z"
   },
   {
    "duration": 33,
    "start_time": "2022-05-12T15:41:32.192Z"
   },
   {
    "duration": 18,
    "start_time": "2022-05-12T15:41:32.227Z"
   },
   {
    "duration": 268,
    "start_time": "2022-05-12T15:41:32.247Z"
   },
   {
    "duration": 252,
    "start_time": "2022-05-12T15:41:32.517Z"
   },
   {
    "duration": 13,
    "start_time": "2022-05-12T15:41:32.771Z"
   },
   {
    "duration": 6,
    "start_time": "2022-05-12T15:41:32.786Z"
   },
   {
    "duration": 24,
    "start_time": "2022-05-12T15:41:32.794Z"
   },
   {
    "duration": 8,
    "start_time": "2022-05-12T15:41:32.823Z"
   },
   {
    "duration": 8,
    "start_time": "2022-05-12T15:41:32.833Z"
   },
   {
    "duration": 191,
    "start_time": "2022-05-12T15:41:32.842Z"
   },
   {
    "duration": 212,
    "start_time": "2022-05-12T15:41:33.035Z"
   },
   {
    "duration": 236,
    "start_time": "2022-05-12T15:41:41.964Z"
   },
   {
    "duration": 1383,
    "start_time": "2022-05-12T15:41:48.825Z"
   },
   {
    "duration": 35,
    "start_time": "2022-05-12T15:41:50.211Z"
   },
   {
    "duration": 28,
    "start_time": "2022-05-12T15:41:50.248Z"
   },
   {
    "duration": 19,
    "start_time": "2022-05-12T15:41:50.279Z"
   },
   {
    "duration": 400,
    "start_time": "2022-05-12T15:41:50.323Z"
   },
   {
    "duration": 18,
    "start_time": "2022-05-12T15:41:50.724Z"
   },
   {
    "duration": 251,
    "start_time": "2022-05-12T15:41:50.744Z"
   },
   {
    "duration": 249,
    "start_time": "2022-05-12T15:41:50.997Z"
   },
   {
    "duration": 11,
    "start_time": "2022-05-12T15:41:51.248Z"
   },
   {
    "duration": 112,
    "start_time": "2022-05-12T15:41:51.263Z"
   },
   {
    "duration": 20,
    "start_time": "2022-05-12T15:41:51.377Z"
   },
   {
    "duration": 32,
    "start_time": "2022-05-12T15:41:51.399Z"
   },
   {
    "duration": 26,
    "start_time": "2022-05-12T15:41:51.433Z"
   },
   {
    "duration": 731,
    "start_time": "2022-05-12T15:41:51.461Z"
   },
   {
    "duration": 58,
    "start_time": "2022-05-12T15:41:52.194Z"
   },
   {
    "duration": 21,
    "start_time": "2022-05-12T15:41:52.254Z"
   },
   {
    "duration": 19,
    "start_time": "2022-05-12T15:41:52.277Z"
   },
   {
    "duration": 280,
    "start_time": "2022-05-12T15:41:52.298Z"
   },
   {
    "duration": 288,
    "start_time": "2022-05-12T15:41:52.581Z"
   },
   {
    "duration": 13,
    "start_time": "2022-05-12T15:41:52.870Z"
   },
   {
    "duration": 5,
    "start_time": "2022-05-12T15:41:52.885Z"
   },
   {
    "duration": 28,
    "start_time": "2022-05-12T15:41:52.891Z"
   },
   {
    "duration": 8,
    "start_time": "2022-05-12T15:41:52.921Z"
   },
   {
    "duration": 9,
    "start_time": "2022-05-12T15:41:52.930Z"
   },
   {
    "duration": 178,
    "start_time": "2022-05-12T15:41:52.940Z"
   },
   {
    "duration": 210,
    "start_time": "2022-05-12T15:41:53.122Z"
   },
   {
    "duration": 258,
    "start_time": "2022-05-12T15:42:09.667Z"
   },
   {
    "duration": 93,
    "start_time": "2022-05-12T15:42:44.144Z"
   },
   {
    "duration": 30,
    "start_time": "2022-05-12T15:42:44.241Z"
   },
   {
    "duration": 51,
    "start_time": "2022-05-12T15:42:44.273Z"
   },
   {
    "duration": 17,
    "start_time": "2022-05-12T15:42:44.325Z"
   },
   {
    "duration": 52,
    "start_time": "2022-05-12T15:42:44.344Z"
   },
   {
    "duration": 37,
    "start_time": "2022-05-12T15:42:44.398Z"
   },
   {
    "duration": 208,
    "start_time": "2022-05-12T15:42:44.437Z"
   },
   {
    "duration": 442,
    "start_time": "2022-05-12T15:42:44.647Z"
   },
   {
    "duration": 11,
    "start_time": "2022-05-12T15:42:45.090Z"
   },
   {
    "duration": 28,
    "start_time": "2022-05-12T15:42:45.103Z"
   },
   {
    "duration": 14,
    "start_time": "2022-05-12T15:42:45.133Z"
   },
   {
    "duration": 15,
    "start_time": "2022-05-12T15:42:45.149Z"
   },
   {
    "duration": 25,
    "start_time": "2022-05-12T15:42:45.166Z"
   },
   {
    "duration": 795,
    "start_time": "2022-05-12T15:42:45.194Z"
   },
   {
    "duration": 164,
    "start_time": "2022-05-12T15:42:45.991Z"
   },
   {
    "duration": 22,
    "start_time": "2022-05-12T15:42:46.157Z"
   },
   {
    "duration": 21,
    "start_time": "2022-05-12T15:42:46.180Z"
   },
   {
    "duration": 492,
    "start_time": "2022-05-12T15:42:46.202Z"
   },
   {
    "duration": 235,
    "start_time": "2022-05-12T15:42:46.696Z"
   },
   {
    "duration": 15,
    "start_time": "2022-05-12T15:42:46.932Z"
   },
   {
    "duration": 7,
    "start_time": "2022-05-12T15:42:46.949Z"
   },
   {
    "duration": 76,
    "start_time": "2022-05-12T15:42:46.958Z"
   },
   {
    "duration": 8,
    "start_time": "2022-05-12T15:42:47.036Z"
   },
   {
    "duration": 23,
    "start_time": "2022-05-12T15:42:47.045Z"
   },
   {
    "duration": 294,
    "start_time": "2022-05-12T15:42:47.070Z"
   },
   {
    "duration": 232,
    "start_time": "2022-05-12T15:42:47.366Z"
   },
   {
    "duration": 244,
    "start_time": "2022-05-12T15:43:38.065Z"
   },
   {
    "duration": 1378,
    "start_time": "2022-05-12T15:43:47.419Z"
   },
   {
    "duration": 31,
    "start_time": "2022-05-12T15:43:48.799Z"
   },
   {
    "duration": 30,
    "start_time": "2022-05-12T15:43:48.832Z"
   },
   {
    "duration": 19,
    "start_time": "2022-05-12T15:43:48.864Z"
   },
   {
    "duration": 413,
    "start_time": "2022-05-12T15:43:48.885Z"
   },
   {
    "duration": 27,
    "start_time": "2022-05-12T15:43:49.300Z"
   },
   {
    "duration": 239,
    "start_time": "2022-05-12T15:43:49.329Z"
   },
   {
    "duration": 245,
    "start_time": "2022-05-12T15:43:49.569Z"
   },
   {
    "duration": 16,
    "start_time": "2022-05-12T15:43:49.815Z"
   },
   {
    "duration": 117,
    "start_time": "2022-05-12T15:43:49.834Z"
   },
   {
    "duration": 20,
    "start_time": "2022-05-12T15:43:49.954Z"
   },
   {
    "duration": 17,
    "start_time": "2022-05-12T15:43:49.976Z"
   },
   {
    "duration": 46,
    "start_time": "2022-05-12T15:43:49.995Z"
   },
   {
    "duration": 727,
    "start_time": "2022-05-12T15:43:50.042Z"
   },
   {
    "duration": 63,
    "start_time": "2022-05-12T15:43:50.772Z"
   },
   {
    "duration": 30,
    "start_time": "2022-05-12T15:43:50.837Z"
   },
   {
    "duration": 18,
    "start_time": "2022-05-12T15:43:50.869Z"
   },
   {
    "duration": 272,
    "start_time": "2022-05-12T15:43:50.889Z"
   },
   {
    "duration": 276,
    "start_time": "2022-05-12T15:43:51.163Z"
   },
   {
    "duration": 15,
    "start_time": "2022-05-12T15:43:51.441Z"
   },
   {
    "duration": 9,
    "start_time": "2022-05-12T15:43:51.458Z"
   },
   {
    "duration": 54,
    "start_time": "2022-05-12T15:43:51.469Z"
   },
   {
    "duration": 9,
    "start_time": "2022-05-12T15:43:51.525Z"
   },
   {
    "duration": 7,
    "start_time": "2022-05-12T15:43:51.536Z"
   },
   {
    "duration": 261,
    "start_time": "2022-05-12T15:43:51.544Z"
   },
   {
    "duration": 215,
    "start_time": "2022-05-12T15:43:51.807Z"
   },
   {
    "duration": 695,
    "start_time": "2022-05-12T15:44:31.482Z"
   },
   {
    "duration": 1366,
    "start_time": "2022-05-12T15:44:47.438Z"
   },
   {
    "duration": 40,
    "start_time": "2022-05-12T15:44:48.806Z"
   },
   {
    "duration": 29,
    "start_time": "2022-05-12T15:44:48.847Z"
   },
   {
    "duration": 19,
    "start_time": "2022-05-12T15:44:48.879Z"
   },
   {
    "duration": 421,
    "start_time": "2022-05-12T15:44:48.899Z"
   },
   {
    "duration": 18,
    "start_time": "2022-05-12T15:44:49.322Z"
   },
   {
    "duration": 246,
    "start_time": "2022-05-12T15:44:49.341Z"
   },
   {
    "duration": 315,
    "start_time": "2022-05-12T15:44:49.588Z"
   },
   {
    "duration": 18,
    "start_time": "2022-05-12T15:44:49.905Z"
   },
   {
    "duration": 12,
    "start_time": "2022-05-12T15:44:49.927Z"
   },
   {
    "duration": 14,
    "start_time": "2022-05-12T15:44:49.941Z"
   },
   {
    "duration": 15,
    "start_time": "2022-05-12T15:44:49.957Z"
   },
   {
    "duration": 62,
    "start_time": "2022-05-12T15:44:49.974Z"
   },
   {
    "duration": 683,
    "start_time": "2022-05-12T15:44:50.038Z"
   },
   {
    "duration": 50,
    "start_time": "2022-05-12T15:44:50.722Z"
   },
   {
    "duration": 21,
    "start_time": "2022-05-12T15:44:50.773Z"
   },
   {
    "duration": 41,
    "start_time": "2022-05-12T15:44:50.795Z"
   },
   {
    "duration": 242,
    "start_time": "2022-05-12T15:44:50.838Z"
   },
   {
    "duration": 280,
    "start_time": "2022-05-12T15:44:51.082Z"
   },
   {
    "duration": 13,
    "start_time": "2022-05-12T15:44:51.363Z"
   },
   {
    "duration": 6,
    "start_time": "2022-05-12T15:44:51.378Z"
   },
   {
    "duration": 37,
    "start_time": "2022-05-12T15:44:51.386Z"
   },
   {
    "duration": 9,
    "start_time": "2022-05-12T15:44:51.425Z"
   },
   {
    "duration": 7,
    "start_time": "2022-05-12T15:44:51.436Z"
   },
   {
    "duration": 172,
    "start_time": "2022-05-12T15:44:51.445Z"
   },
   {
    "duration": 189,
    "start_time": "2022-05-12T15:44:51.623Z"
   },
   {
    "duration": 1505,
    "start_time": "2022-05-12T15:45:38.000Z"
   },
   {
    "duration": 34,
    "start_time": "2022-05-12T15:45:39.507Z"
   },
   {
    "duration": 29,
    "start_time": "2022-05-12T15:45:39.542Z"
   },
   {
    "duration": 19,
    "start_time": "2022-05-12T15:45:39.573Z"
   },
   {
    "duration": 424,
    "start_time": "2022-05-12T15:45:39.594Z"
   },
   {
    "duration": 18,
    "start_time": "2022-05-12T15:45:40.020Z"
   },
   {
    "duration": 243,
    "start_time": "2022-05-12T15:45:40.040Z"
   },
   {
    "duration": 240,
    "start_time": "2022-05-12T15:45:40.285Z"
   },
   {
    "duration": 10,
    "start_time": "2022-05-12T15:45:40.527Z"
   },
   {
    "duration": 104,
    "start_time": "2022-05-12T15:45:40.540Z"
   },
   {
    "duration": 12,
    "start_time": "2022-05-12T15:45:40.646Z"
   },
   {
    "duration": 20,
    "start_time": "2022-05-12T15:45:40.660Z"
   },
   {
    "duration": 46,
    "start_time": "2022-05-12T15:45:40.681Z"
   },
   {
    "duration": 707,
    "start_time": "2022-05-12T15:45:40.728Z"
   },
   {
    "duration": 51,
    "start_time": "2022-05-12T15:45:41.437Z"
   },
   {
    "duration": 38,
    "start_time": "2022-05-12T15:45:41.490Z"
   },
   {
    "duration": 20,
    "start_time": "2022-05-12T15:45:41.531Z"
   },
   {
    "duration": 255,
    "start_time": "2022-05-12T15:45:41.553Z"
   },
   {
    "duration": 278,
    "start_time": "2022-05-12T15:45:41.810Z"
   },
   {
    "duration": 17,
    "start_time": "2022-05-12T15:45:42.090Z"
   },
   {
    "duration": 6,
    "start_time": "2022-05-12T15:45:42.109Z"
   },
   {
    "duration": 30,
    "start_time": "2022-05-12T15:45:42.117Z"
   },
   {
    "duration": 8,
    "start_time": "2022-05-12T15:45:42.149Z"
   },
   {
    "duration": 7,
    "start_time": "2022-05-12T15:45:42.159Z"
   },
   {
    "duration": 195,
    "start_time": "2022-05-12T15:45:42.168Z"
   },
   {
    "duration": 207,
    "start_time": "2022-05-12T15:45:42.364Z"
   },
   {
    "duration": 737,
    "start_time": "2022-05-12T15:46:57.964Z"
   },
   {
    "duration": 799,
    "start_time": "2022-05-12T15:47:08.057Z"
   },
   {
    "duration": 1472,
    "start_time": "2022-05-12T15:47:32.587Z"
   },
   {
    "duration": 27,
    "start_time": "2022-05-12T15:47:34.061Z"
   },
   {
    "duration": 47,
    "start_time": "2022-05-12T15:47:34.090Z"
   },
   {
    "duration": 18,
    "start_time": "2022-05-12T15:47:34.139Z"
   },
   {
    "duration": 408,
    "start_time": "2022-05-12T15:47:34.159Z"
   },
   {
    "duration": 20,
    "start_time": "2022-05-12T15:47:34.569Z"
   },
   {
    "duration": 255,
    "start_time": "2022-05-12T15:47:34.591Z"
   },
   {
    "duration": 242,
    "start_time": "2022-05-12T15:47:34.848Z"
   },
   {
    "duration": 11,
    "start_time": "2022-05-12T15:47:35.092Z"
   },
   {
    "duration": 113,
    "start_time": "2022-05-12T15:47:35.105Z"
   },
   {
    "duration": 19,
    "start_time": "2022-05-12T15:47:35.224Z"
   },
   {
    "duration": 15,
    "start_time": "2022-05-12T15:47:35.245Z"
   },
   {
    "duration": 27,
    "start_time": "2022-05-12T15:47:35.262Z"
   },
   {
    "duration": 759,
    "start_time": "2022-05-12T15:47:35.291Z"
   },
   {
    "duration": 46,
    "start_time": "2022-05-12T15:47:36.052Z"
   },
   {
    "duration": 38,
    "start_time": "2022-05-12T15:47:36.100Z"
   },
   {
    "duration": 23,
    "start_time": "2022-05-12T15:47:36.140Z"
   },
   {
    "duration": 379,
    "start_time": "2022-05-12T15:47:36.165Z"
   },
   {
    "duration": 326,
    "start_time": "2022-05-12T15:47:36.546Z"
   },
   {
    "duration": 13,
    "start_time": "2022-05-12T15:47:36.873Z"
   },
   {
    "duration": 4,
    "start_time": "2022-05-12T15:47:36.888Z"
   },
   {
    "duration": 30,
    "start_time": "2022-05-12T15:47:36.894Z"
   },
   {
    "duration": 13,
    "start_time": "2022-05-12T15:47:36.927Z"
   },
   {
    "duration": 8,
    "start_time": "2022-05-12T15:47:36.942Z"
   },
   {
    "duration": 255,
    "start_time": "2022-05-12T15:47:36.952Z"
   },
   {
    "duration": 297,
    "start_time": "2022-05-12T15:47:37.209Z"
   },
   {
    "duration": 818,
    "start_time": "2022-05-12T15:47:55.065Z"
   },
   {
    "duration": 819,
    "start_time": "2022-05-12T15:47:58.231Z"
   },
   {
    "duration": 768,
    "start_time": "2022-05-12T15:48:02.992Z"
   },
   {
    "duration": 1552,
    "start_time": "2022-05-12T15:50:16.884Z"
   },
   {
    "duration": 33,
    "start_time": "2022-05-12T15:50:18.438Z"
   },
   {
    "duration": 30,
    "start_time": "2022-05-12T15:50:18.473Z"
   },
   {
    "duration": 26,
    "start_time": "2022-05-12T15:50:18.524Z"
   },
   {
    "duration": 465,
    "start_time": "2022-05-12T15:50:18.553Z"
   },
   {
    "duration": 28,
    "start_time": "2022-05-12T15:50:19.020Z"
   },
   {
    "duration": 321,
    "start_time": "2022-05-12T15:50:19.050Z"
   },
   {
    "duration": 275,
    "start_time": "2022-05-12T15:50:19.373Z"
   },
   {
    "duration": 12,
    "start_time": "2022-05-12T15:50:19.650Z"
   },
   {
    "duration": 29,
    "start_time": "2022-05-12T15:50:19.663Z"
   },
   {
    "duration": 27,
    "start_time": "2022-05-12T15:50:19.693Z"
   },
   {
    "duration": 126,
    "start_time": "2022-05-12T15:50:19.722Z"
   },
   {
    "duration": 32,
    "start_time": "2022-05-12T15:50:19.850Z"
   },
   {
    "duration": 794,
    "start_time": "2022-05-12T15:50:19.885Z"
   },
   {
    "duration": 68,
    "start_time": "2022-05-12T15:50:20.681Z"
   },
   {
    "duration": 23,
    "start_time": "2022-05-12T15:50:20.751Z"
   },
   {
    "duration": 34,
    "start_time": "2022-05-12T15:50:20.776Z"
   },
   {
    "duration": 424,
    "start_time": "2022-05-12T15:50:20.822Z"
   },
   {
    "duration": 275,
    "start_time": "2022-05-12T15:50:21.248Z"
   },
   {
    "duration": 18,
    "start_time": "2022-05-12T15:50:21.526Z"
   },
   {
    "duration": 7,
    "start_time": "2022-05-12T15:50:21.546Z"
   },
   {
    "duration": 31,
    "start_time": "2022-05-12T15:50:21.555Z"
   },
   {
    "duration": 47,
    "start_time": "2022-05-12T15:50:21.588Z"
   },
   {
    "duration": 11,
    "start_time": "2022-05-12T15:50:21.639Z"
   },
   {
    "duration": 227,
    "start_time": "2022-05-12T15:50:21.652Z"
   },
   {
    "duration": 259,
    "start_time": "2022-05-12T15:50:21.881Z"
   },
   {
    "duration": 247,
    "start_time": "2022-05-12T15:51:06.978Z"
   },
   {
    "duration": 172,
    "start_time": "2022-05-12T15:51:24.644Z"
   },
   {
    "duration": 209,
    "start_time": "2022-05-12T15:51:30.173Z"
   },
   {
    "duration": 1505,
    "start_time": "2022-05-12T15:51:40.637Z"
   },
   {
    "duration": 30,
    "start_time": "2022-05-12T15:51:42.144Z"
   },
   {
    "duration": 32,
    "start_time": "2022-05-12T15:51:42.175Z"
   },
   {
    "duration": 29,
    "start_time": "2022-05-12T15:51:42.210Z"
   },
   {
    "duration": 427,
    "start_time": "2022-05-12T15:51:42.241Z"
   },
   {
    "duration": 23,
    "start_time": "2022-05-12T15:51:42.670Z"
   },
   {
    "duration": 306,
    "start_time": "2022-05-12T15:51:42.695Z"
   },
   {
    "duration": 264,
    "start_time": "2022-05-12T15:51:43.002Z"
   },
   {
    "duration": 12,
    "start_time": "2022-05-12T15:51:43.267Z"
   },
   {
    "duration": 109,
    "start_time": "2022-05-12T15:51:43.281Z"
   },
   {
    "duration": 13,
    "start_time": "2022-05-12T15:51:43.392Z"
   },
   {
    "duration": 22,
    "start_time": "2022-05-12T15:51:43.423Z"
   },
   {
    "duration": 24,
    "start_time": "2022-05-12T15:51:43.447Z"
   },
   {
    "duration": 860,
    "start_time": "2022-05-12T15:51:43.524Z"
   },
   {
    "duration": 62,
    "start_time": "2022-05-12T15:51:44.386Z"
   },
   {
    "duration": 21,
    "start_time": "2022-05-12T15:51:44.449Z"
   },
   {
    "duration": 40,
    "start_time": "2022-05-12T15:51:44.472Z"
   },
   {
    "duration": 253,
    "start_time": "2022-05-12T15:51:44.514Z"
   },
   {
    "duration": 286,
    "start_time": "2022-05-12T15:51:44.769Z"
   },
   {
    "duration": 15,
    "start_time": "2022-05-12T15:51:45.056Z"
   },
   {
    "duration": 6,
    "start_time": "2022-05-12T15:51:45.072Z"
   },
   {
    "duration": 32,
    "start_time": "2022-05-12T15:51:45.080Z"
   },
   {
    "duration": 11,
    "start_time": "2022-05-12T15:51:45.114Z"
   },
   {
    "duration": 10,
    "start_time": "2022-05-12T15:51:45.130Z"
   },
   {
    "duration": 174,
    "start_time": "2022-05-12T15:51:45.142Z"
   },
   {
    "duration": 220,
    "start_time": "2022-05-12T15:51:45.318Z"
   },
   {
    "duration": 1475,
    "start_time": "2022-05-12T16:05:26.251Z"
   },
   {
    "duration": 32,
    "start_time": "2022-05-12T16:05:27.728Z"
   },
   {
    "duration": 28,
    "start_time": "2022-05-12T16:05:27.762Z"
   },
   {
    "duration": 42,
    "start_time": "2022-05-12T16:05:27.792Z"
   },
   {
    "duration": 431,
    "start_time": "2022-05-12T16:05:27.835Z"
   },
   {
    "duration": 27,
    "start_time": "2022-05-12T16:05:28.268Z"
   },
   {
    "duration": 272,
    "start_time": "2022-05-12T16:05:28.296Z"
   },
   {
    "duration": 252,
    "start_time": "2022-05-12T16:05:28.570Z"
   },
   {
    "duration": 11,
    "start_time": "2022-05-12T16:05:28.825Z"
   },
   {
    "duration": 115,
    "start_time": "2022-05-12T16:05:28.839Z"
   },
   {
    "duration": 20,
    "start_time": "2022-05-12T16:05:28.956Z"
   },
   {
    "duration": 16,
    "start_time": "2022-05-12T16:05:28.978Z"
   },
   {
    "duration": 45,
    "start_time": "2022-05-12T16:05:28.996Z"
   },
   {
    "duration": 1116,
    "start_time": "2022-05-12T16:05:29.043Z"
   },
   {
    "duration": 69,
    "start_time": "2022-05-12T16:05:30.161Z"
   },
   {
    "duration": 24,
    "start_time": "2022-05-12T16:05:30.233Z"
   },
   {
    "duration": 31,
    "start_time": "2022-05-12T16:05:30.259Z"
   },
   {
    "duration": 261,
    "start_time": "2022-05-12T16:05:30.292Z"
   },
   {
    "duration": 285,
    "start_time": "2022-05-12T16:05:30.555Z"
   },
   {
    "duration": 22,
    "start_time": "2022-05-12T16:05:30.843Z"
   },
   {
    "duration": 9,
    "start_time": "2022-05-12T16:05:30.868Z"
   },
   {
    "duration": 79,
    "start_time": "2022-05-12T16:05:30.879Z"
   },
   {
    "duration": 13,
    "start_time": "2022-05-12T16:05:30.961Z"
   },
   {
    "duration": 29,
    "start_time": "2022-05-12T16:05:30.977Z"
   },
   {
    "duration": 340,
    "start_time": "2022-05-12T16:05:31.009Z"
   },
   {
    "duration": 340,
    "start_time": "2022-05-12T16:05:31.352Z"
   },
   {
    "duration": 248,
    "start_time": "2022-05-12T16:07:23.921Z"
   },
   {
    "duration": 3435,
    "start_time": "2022-05-12T16:12:03.336Z"
   },
   {
    "duration": 14,
    "start_time": "2022-05-12T16:12:16.651Z"
   },
   {
    "duration": 17,
    "start_time": "2022-05-12T16:12:42.676Z"
   },
   {
    "duration": 19,
    "start_time": "2022-05-12T16:13:17.573Z"
   },
   {
    "duration": 11,
    "start_time": "2022-05-12T16:13:23.618Z"
   },
   {
    "duration": 12,
    "start_time": "2022-05-12T16:13:39.296Z"
   },
   {
    "duration": 11,
    "start_time": "2022-05-12T16:13:45.357Z"
   },
   {
    "duration": 13,
    "start_time": "2022-05-12T16:13:50.116Z"
   },
   {
    "duration": 15,
    "start_time": "2022-05-12T16:14:03.272Z"
   },
   {
    "duration": 16,
    "start_time": "2022-05-12T16:14:18.127Z"
   },
   {
    "duration": 29,
    "start_time": "2022-05-12T16:15:29.936Z"
   },
   {
    "duration": 21,
    "start_time": "2022-05-12T16:15:38.295Z"
   },
   {
    "duration": 23,
    "start_time": "2022-05-12T16:15:52.490Z"
   },
   {
    "duration": 96,
    "start_time": "2022-05-12T16:16:04.735Z"
   },
   {
    "duration": 102,
    "start_time": "2022-05-12T16:16:23.835Z"
   },
   {
    "duration": 24,
    "start_time": "2022-05-12T16:17:46.458Z"
   },
   {
    "duration": 11,
    "start_time": "2022-05-12T16:18:05.855Z"
   },
   {
    "duration": 24,
    "start_time": "2022-05-12T16:18:46.914Z"
   },
   {
    "duration": 7,
    "start_time": "2022-05-12T16:19:50.096Z"
   },
   {
    "duration": 23,
    "start_time": "2022-05-12T16:19:56.226Z"
   },
   {
    "duration": 23,
    "start_time": "2022-05-12T16:20:51.343Z"
   },
   {
    "duration": 7,
    "start_time": "2022-05-12T16:21:08.268Z"
   },
   {
    "duration": 9,
    "start_time": "2022-05-12T16:21:11.967Z"
   },
   {
    "duration": 24,
    "start_time": "2022-05-12T16:21:35.347Z"
   },
   {
    "duration": 37,
    "start_time": "2022-05-12T16:22:37.843Z"
   },
   {
    "duration": 23,
    "start_time": "2022-05-12T16:22:51.190Z"
   },
   {
    "duration": 95,
    "start_time": "2022-05-12T16:23:19.851Z"
   },
   {
    "duration": 24,
    "start_time": "2022-05-12T16:23:33.918Z"
   },
   {
    "duration": 1585,
    "start_time": "2022-05-12T18:00:45.768Z"
   },
   {
    "duration": 31,
    "start_time": "2022-05-12T18:00:47.355Z"
   },
   {
    "duration": 61,
    "start_time": "2022-05-12T18:00:47.388Z"
   },
   {
    "duration": 19,
    "start_time": "2022-05-12T18:00:47.452Z"
   },
   {
    "duration": 485,
    "start_time": "2022-05-12T18:00:47.472Z"
   },
   {
    "duration": 20,
    "start_time": "2022-05-12T18:00:47.959Z"
   },
   {
    "duration": 282,
    "start_time": "2022-05-12T18:00:47.981Z"
   },
   {
    "duration": 243,
    "start_time": "2022-05-12T18:00:48.265Z"
   },
   {
    "duration": 15,
    "start_time": "2022-05-12T18:00:48.510Z"
   },
   {
    "duration": 109,
    "start_time": "2022-05-12T18:00:48.529Z"
   },
   {
    "duration": 14,
    "start_time": "2022-05-12T18:00:48.640Z"
   },
   {
    "duration": 16,
    "start_time": "2022-05-12T18:00:48.656Z"
   },
   {
    "duration": 52,
    "start_time": "2022-05-12T18:00:48.673Z"
   },
   {
    "duration": 747,
    "start_time": "2022-05-12T18:00:48.728Z"
   },
   {
    "duration": 71,
    "start_time": "2022-05-12T18:00:49.476Z"
   },
   {
    "duration": 22,
    "start_time": "2022-05-12T18:00:49.550Z"
   },
   {
    "duration": 21,
    "start_time": "2022-05-12T18:00:49.575Z"
   },
   {
    "duration": 318,
    "start_time": "2022-05-12T18:00:49.597Z"
   },
   {
    "duration": 848,
    "start_time": "2022-05-12T18:00:49.917Z"
   },
   {
    "duration": 15,
    "start_time": "2022-05-12T18:00:50.768Z"
   },
   {
    "duration": 27,
    "start_time": "2022-05-12T18:00:50.785Z"
   },
   {
    "duration": 9,
    "start_time": "2022-05-12T18:00:50.823Z"
   },
   {
    "duration": 10,
    "start_time": "2022-05-12T18:00:50.834Z"
   },
   {
    "duration": 8,
    "start_time": "2022-05-12T18:00:50.846Z"
   },
   {
    "duration": 224,
    "start_time": "2022-05-12T18:00:50.856Z"
   },
   {
    "duration": 320,
    "start_time": "2022-05-12T18:00:51.082Z"
   },
   {
    "duration": 1503,
    "start_time": "2022-05-12T19:02:16.707Z"
   },
   {
    "duration": 36,
    "start_time": "2022-05-12T19:02:18.213Z"
   },
   {
    "duration": 30,
    "start_time": "2022-05-12T19:02:18.251Z"
   },
   {
    "duration": 41,
    "start_time": "2022-05-12T19:02:18.283Z"
   },
   {
    "duration": 406,
    "start_time": "2022-05-12T19:02:18.326Z"
   },
   {
    "duration": 18,
    "start_time": "2022-05-12T19:02:18.734Z"
   },
   {
    "duration": 271,
    "start_time": "2022-05-12T19:02:18.754Z"
   },
   {
    "duration": 245,
    "start_time": "2022-05-12T19:02:19.027Z"
   },
   {
    "duration": 12,
    "start_time": "2022-05-12T19:02:19.274Z"
   },
   {
    "duration": 113,
    "start_time": "2022-05-12T19:02:19.289Z"
   },
   {
    "duration": 23,
    "start_time": "2022-05-12T19:02:19.403Z"
   },
   {
    "duration": 17,
    "start_time": "2022-05-12T19:02:19.428Z"
   },
   {
    "duration": 25,
    "start_time": "2022-05-12T19:02:19.447Z"
   },
   {
    "duration": 839,
    "start_time": "2022-05-12T19:02:19.474Z"
   },
   {
    "duration": 50,
    "start_time": "2022-05-12T19:02:20.323Z"
   },
   {
    "duration": 23,
    "start_time": "2022-05-12T19:02:20.375Z"
   },
   {
    "duration": 37,
    "start_time": "2022-05-12T19:02:20.399Z"
   },
   {
    "duration": 250,
    "start_time": "2022-05-12T19:02:20.438Z"
   },
   {
    "duration": 266,
    "start_time": "2022-05-12T19:02:20.689Z"
   },
   {
    "duration": 15,
    "start_time": "2022-05-12T19:02:20.956Z"
   },
   {
    "duration": 26,
    "start_time": "2022-05-12T19:02:20.972Z"
   },
   {
    "duration": 26,
    "start_time": "2022-05-12T19:02:21.000Z"
   },
   {
    "duration": 14,
    "start_time": "2022-05-12T19:02:21.028Z"
   },
   {
    "duration": 10,
    "start_time": "2022-05-12T19:02:21.044Z"
   },
   {
    "duration": 194,
    "start_time": "2022-05-12T19:02:21.056Z"
   },
   {
    "duration": 206,
    "start_time": "2022-05-12T19:02:21.252Z"
   },
   {
    "duration": 1392,
    "start_time": "2022-05-12T19:23:48.713Z"
   },
   {
    "duration": 35,
    "start_time": "2022-05-12T19:23:50.107Z"
   },
   {
    "duration": 29,
    "start_time": "2022-05-12T19:23:50.143Z"
   },
   {
    "duration": 18,
    "start_time": "2022-05-12T19:23:50.174Z"
   },
   {
    "duration": 431,
    "start_time": "2022-05-12T19:23:50.222Z"
   },
   {
    "duration": 25,
    "start_time": "2022-05-12T19:23:50.655Z"
   },
   {
    "duration": 247,
    "start_time": "2022-05-12T19:23:50.682Z"
   },
   {
    "duration": 329,
    "start_time": "2022-05-12T19:23:50.931Z"
   },
   {
    "duration": 12,
    "start_time": "2022-05-12T19:23:51.262Z"
   },
   {
    "duration": 20,
    "start_time": "2022-05-12T19:23:51.276Z"
   },
   {
    "duration": 34,
    "start_time": "2022-05-12T19:23:51.297Z"
   },
   {
    "duration": 104,
    "start_time": "2022-05-12T19:23:51.333Z"
   },
   {
    "duration": 24,
    "start_time": "2022-05-12T19:23:51.439Z"
   },
   {
    "duration": 727,
    "start_time": "2022-05-12T19:23:51.466Z"
   },
   {
    "duration": 55,
    "start_time": "2022-05-12T19:23:52.195Z"
   },
   {
    "duration": 22,
    "start_time": "2022-05-12T19:23:52.252Z"
   },
   {
    "duration": 18,
    "start_time": "2022-05-12T19:23:52.276Z"
   },
   {
    "duration": 277,
    "start_time": "2022-05-12T19:23:52.296Z"
   },
   {
    "duration": 1285,
    "start_time": "2022-05-12T19:23:52.575Z"
   },
   {
    "duration": 16,
    "start_time": "2022-05-12T19:23:53.861Z"
   },
   {
    "duration": 30,
    "start_time": "2022-05-12T19:23:53.879Z"
   },
   {
    "duration": 6,
    "start_time": "2022-05-12T19:23:53.922Z"
   },
   {
    "duration": 10,
    "start_time": "2022-05-12T19:23:53.930Z"
   },
   {
    "duration": 8,
    "start_time": "2022-05-12T19:23:53.941Z"
   },
   {
    "duration": 218,
    "start_time": "2022-05-12T19:23:53.951Z"
   },
   {
    "duration": 196,
    "start_time": "2022-05-12T19:23:54.171Z"
   },
   {
    "duration": 180,
    "start_time": "2022-05-12T19:28:02.721Z"
   },
   {
    "duration": 30,
    "start_time": "2022-05-12T19:28:43.813Z"
   },
   {
    "duration": 30,
    "start_time": "2022-05-12T19:28:52.360Z"
   },
   {
    "duration": 30,
    "start_time": "2022-05-12T19:32:10.791Z"
   },
   {
    "duration": 33,
    "start_time": "2022-05-12T19:32:16.831Z"
   },
   {
    "duration": 27,
    "start_time": "2022-05-12T19:32:54.092Z"
   },
   {
    "duration": 33,
    "start_time": "2022-05-12T19:33:13.271Z"
   },
   {
    "duration": 33,
    "start_time": "2022-05-12T19:33:17.956Z"
   },
   {
    "duration": 31,
    "start_time": "2022-05-12T19:33:32.927Z"
   },
   {
    "duration": 27,
    "start_time": "2022-05-12T19:34:06.529Z"
   },
   {
    "duration": 24,
    "start_time": "2022-05-12T19:34:42.687Z"
   },
   {
    "duration": 266,
    "start_time": "2022-05-12T20:11:21.109Z"
   },
   {
    "duration": 245,
    "start_time": "2022-05-12T20:11:32.322Z"
   },
   {
    "duration": 1900,
    "start_time": "2022-05-12T23:44:43.337Z"
   },
   {
    "duration": 38,
    "start_time": "2022-05-12T23:44:45.240Z"
   },
   {
    "duration": 39,
    "start_time": "2022-05-12T23:44:45.293Z"
   },
   {
    "duration": 26,
    "start_time": "2022-05-12T23:44:45.336Z"
   },
   {
    "duration": 636,
    "start_time": "2022-05-12T23:44:45.394Z"
   },
   {
    "duration": 24,
    "start_time": "2022-05-12T23:44:46.033Z"
   },
   {
    "duration": 343,
    "start_time": "2022-05-12T23:44:46.059Z"
   },
   {
    "duration": 341,
    "start_time": "2022-05-12T23:44:46.405Z"
   },
   {
    "duration": 13,
    "start_time": "2022-05-12T23:44:46.748Z"
   },
   {
    "duration": 106,
    "start_time": "2022-05-12T23:44:46.765Z"
   },
   {
    "duration": 31,
    "start_time": "2022-05-12T23:44:46.873Z"
   },
   {
    "duration": 20,
    "start_time": "2022-05-12T23:44:46.906Z"
   },
   {
    "duration": 31,
    "start_time": "2022-05-12T23:44:46.928Z"
   },
   {
    "duration": 1023,
    "start_time": "2022-05-12T23:44:46.994Z"
   },
   {
    "duration": 78,
    "start_time": "2022-05-12T23:44:48.019Z"
   },
   {
    "duration": 26,
    "start_time": "2022-05-12T23:44:48.099Z"
   },
   {
    "duration": 24,
    "start_time": "2022-05-12T23:44:48.128Z"
   },
   {
    "duration": 383,
    "start_time": "2022-05-12T23:44:48.154Z"
   },
   {
    "duration": 310,
    "start_time": "2022-05-12T23:44:48.539Z"
   },
   {
    "duration": 18,
    "start_time": "2022-05-12T23:44:48.852Z"
   },
   {
    "duration": 35,
    "start_time": "2022-05-12T23:44:48.872Z"
   },
   {
    "duration": 7,
    "start_time": "2022-05-12T23:44:48.911Z"
   },
   {
    "duration": 11,
    "start_time": "2022-05-12T23:44:48.921Z"
   },
   {
    "duration": 11,
    "start_time": "2022-05-12T23:44:48.934Z"
   },
   {
    "duration": 322,
    "start_time": "2022-05-12T23:44:48.947Z"
   },
   {
    "duration": 312,
    "start_time": "2022-05-12T23:44:49.271Z"
   },
   {
    "duration": 233,
    "start_time": "2022-05-13T00:23:47.849Z"
   },
   {
    "duration": 3,
    "start_time": "2022-05-13T00:26:32.113Z"
   },
   {
    "duration": 788,
    "start_time": "2022-05-13T00:26:34.902Z"
   },
   {
    "duration": 1699,
    "start_time": "2022-05-13T00:26:57.813Z"
   },
   {
    "duration": 38,
    "start_time": "2022-05-13T00:26:59.515Z"
   },
   {
    "duration": 54,
    "start_time": "2022-05-13T00:26:59.555Z"
   },
   {
    "duration": 25,
    "start_time": "2022-05-13T00:26:59.612Z"
   },
   {
    "duration": 535,
    "start_time": "2022-05-13T00:26:59.639Z"
   },
   {
    "duration": 29,
    "start_time": "2022-05-13T00:27:00.176Z"
   },
   {
    "duration": 346,
    "start_time": "2022-05-13T00:27:00.207Z"
   },
   {
    "duration": 368,
    "start_time": "2022-05-13T00:27:00.555Z"
   },
   {
    "duration": 15,
    "start_time": "2022-05-13T00:27:00.925Z"
   },
   {
    "duration": 127,
    "start_time": "2022-05-13T00:27:00.943Z"
   },
   {
    "duration": 42,
    "start_time": "2022-05-13T00:27:01.073Z"
   },
   {
    "duration": 26,
    "start_time": "2022-05-13T00:27:01.117Z"
   },
   {
    "duration": 30,
    "start_time": "2022-05-13T00:27:01.145Z"
   },
   {
    "duration": 31,
    "start_time": "2022-05-13T00:27:01.177Z"
   },
   {
    "duration": 1123,
    "start_time": "2022-05-13T00:27:01.210Z"
   },
   {
    "duration": 79,
    "start_time": "2022-05-13T00:27:02.336Z"
   },
   {
    "duration": 29,
    "start_time": "2022-05-13T00:27:02.418Z"
   },
   {
    "duration": 56,
    "start_time": "2022-05-13T00:27:02.450Z"
   },
   {
    "duration": 375,
    "start_time": "2022-05-13T00:27:02.509Z"
   },
   {
    "duration": 322,
    "start_time": "2022-05-13T00:27:02.887Z"
   },
   {
    "duration": 20,
    "start_time": "2022-05-13T00:27:03.211Z"
   },
   {
    "duration": 64,
    "start_time": "2022-05-13T00:27:03.233Z"
   },
   {
    "duration": 8,
    "start_time": "2022-05-13T00:27:03.300Z"
   },
   {
    "duration": 15,
    "start_time": "2022-05-13T00:27:03.310Z"
   },
   {
    "duration": 10,
    "start_time": "2022-05-13T00:27:03.328Z"
   },
   {
    "duration": 329,
    "start_time": "2022-05-13T00:27:03.340Z"
   },
   {
    "duration": 334,
    "start_time": "2022-05-13T00:27:03.672Z"
   },
   {
    "duration": 64,
    "start_time": "2022-05-13T09:57:55.477Z"
   },
   {
    "duration": 1787,
    "start_time": "2022-05-13T09:58:32.014Z"
   },
   {
    "duration": 32,
    "start_time": "2022-05-13T09:58:33.805Z"
   },
   {
    "duration": 56,
    "start_time": "2022-05-13T09:58:33.839Z"
   },
   {
    "duration": 20,
    "start_time": "2022-05-13T09:58:33.901Z"
   },
   {
    "duration": 464,
    "start_time": "2022-05-13T09:58:33.923Z"
   },
   {
    "duration": 22,
    "start_time": "2022-05-13T09:58:34.389Z"
   },
   {
    "duration": 340,
    "start_time": "2022-05-13T09:58:34.413Z"
   },
   {
    "duration": 269,
    "start_time": "2022-05-13T09:58:34.754Z"
   },
   {
    "duration": 11,
    "start_time": "2022-05-13T09:58:35.025Z"
   },
   {
    "duration": 42,
    "start_time": "2022-05-13T09:58:35.039Z"
   },
   {
    "duration": 110,
    "start_time": "2022-05-13T09:58:35.083Z"
   },
   {
    "duration": 31,
    "start_time": "2022-05-13T09:58:35.198Z"
   },
   {
    "duration": 23,
    "start_time": "2022-05-13T09:58:35.231Z"
   },
   {
    "duration": 771,
    "start_time": "2022-05-13T09:58:35.255Z"
   },
   {
    "duration": 66,
    "start_time": "2022-05-13T09:58:36.027Z"
   },
   {
    "duration": 22,
    "start_time": "2022-05-13T09:58:36.097Z"
   },
   {
    "duration": 19,
    "start_time": "2022-05-13T09:58:36.120Z"
   },
   {
    "duration": 304,
    "start_time": "2022-05-13T09:58:36.141Z"
   },
   {
    "duration": 295,
    "start_time": "2022-05-13T09:58:36.447Z"
   },
   {
    "duration": 12,
    "start_time": "2022-05-13T09:58:36.743Z"
   },
   {
    "duration": 32,
    "start_time": "2022-05-13T09:58:36.756Z"
   },
   {
    "duration": 30,
    "start_time": "2022-05-13T09:58:36.790Z"
   },
   {
    "duration": 9,
    "start_time": "2022-05-13T09:58:36.822Z"
   },
   {
    "duration": 7,
    "start_time": "2022-05-13T09:58:36.833Z"
   },
   {
    "duration": 203,
    "start_time": "2022-05-13T09:58:36.841Z"
   },
   {
    "duration": 234,
    "start_time": "2022-05-13T09:58:37.046Z"
   },
   {
    "duration": 9,
    "start_time": "2022-05-13T09:58:47.656Z"
   },
   {
    "duration": 11,
    "start_time": "2022-05-13T10:01:09.826Z"
   },
   {
    "duration": 2173,
    "start_time": "2022-05-14T16:15:42.742Z"
   },
   {
    "duration": 38,
    "start_time": "2022-05-14T16:15:44.926Z"
   },
   {
    "duration": 59,
    "start_time": "2022-05-14T16:15:44.966Z"
   },
   {
    "duration": 8,
    "start_time": "2022-05-14T16:15:45.028Z"
   },
   {
    "duration": 46,
    "start_time": "2022-05-14T16:15:45.038Z"
   },
   {
    "duration": 575,
    "start_time": "2022-05-14T16:15:45.086Z"
   },
   {
    "duration": 25,
    "start_time": "2022-05-14T16:15:45.663Z"
   },
   {
    "duration": 371,
    "start_time": "2022-05-14T16:15:45.691Z"
   },
   {
    "duration": 390,
    "start_time": "2022-05-14T16:15:46.065Z"
   },
   {
    "duration": 147,
    "start_time": "2022-05-14T16:15:46.459Z"
   },
   {
    "duration": 662,
    "start_time": "2022-05-14T16:15:46.609Z"
   },
   {
    "duration": 14,
    "start_time": "2022-05-14T16:15:47.273Z"
   },
   {
    "duration": 37,
    "start_time": "2022-05-14T16:15:47.290Z"
   },
   {
    "duration": 21,
    "start_time": "2022-05-14T16:15:47.330Z"
   },
   {
    "duration": 22,
    "start_time": "2022-05-14T16:15:47.354Z"
   },
   {
    "duration": 71,
    "start_time": "2022-05-14T16:15:47.378Z"
   },
   {
    "duration": 1177,
    "start_time": "2022-05-14T16:15:47.451Z"
   },
   {
    "duration": 107,
    "start_time": "2022-05-14T16:15:48.630Z"
   },
   {
    "duration": 17,
    "start_time": "2022-05-14T16:15:48.740Z"
   },
   {
    "duration": 31,
    "start_time": "2022-05-14T16:15:48.759Z"
   },
   {
    "duration": 51,
    "start_time": "2022-05-14T16:15:48.793Z"
   },
   {
    "duration": 439,
    "start_time": "2022-05-14T16:15:48.846Z"
   },
   {
    "duration": 242,
    "start_time": "2022-05-14T16:15:49.287Z"
   },
   {
    "duration": 23,
    "start_time": "2022-05-14T16:15:49.532Z"
   },
   {
    "duration": 81,
    "start_time": "2022-05-14T16:15:49.558Z"
   },
   {
    "duration": 8,
    "start_time": "2022-05-14T16:15:49.641Z"
   },
   {
    "duration": 18,
    "start_time": "2022-05-14T16:15:49.652Z"
   },
   {
    "duration": 47,
    "start_time": "2022-05-14T16:15:49.678Z"
   },
   {
    "duration": 316,
    "start_time": "2022-05-14T16:15:49.728Z"
   },
   {
    "duration": 364,
    "start_time": "2022-05-14T16:15:50.047Z"
   },
   {
    "duration": 17,
    "start_time": "2022-05-14T16:16:28.935Z"
   },
   {
    "duration": 25,
    "start_time": "2022-05-14T16:16:51.856Z"
   },
   {
    "duration": 19,
    "start_time": "2022-05-14T16:32:36.369Z"
   },
   {
    "duration": 18,
    "start_time": "2022-05-14T16:54:20.930Z"
   },
   {
    "duration": 2007,
    "start_time": "2022-05-14T18:49:02.407Z"
   },
   {
    "duration": 44,
    "start_time": "2022-05-14T18:49:04.417Z"
   },
   {
    "duration": 65,
    "start_time": "2022-05-14T18:49:04.464Z"
   },
   {
    "duration": 9,
    "start_time": "2022-05-14T18:49:04.532Z"
   },
   {
    "duration": 28,
    "start_time": "2022-05-14T18:49:04.543Z"
   },
   {
    "duration": 566,
    "start_time": "2022-05-14T18:49:04.573Z"
   },
   {
    "duration": 25,
    "start_time": "2022-05-14T18:49:05.142Z"
   },
   {
    "duration": 378,
    "start_time": "2022-05-14T18:49:05.170Z"
   },
   {
    "duration": 404,
    "start_time": "2022-05-14T18:49:05.551Z"
   },
   {
    "duration": 165,
    "start_time": "2022-05-14T18:49:05.959Z"
   },
   {
    "duration": 595,
    "start_time": "2022-05-14T18:49:06.127Z"
   },
   {
    "duration": 15,
    "start_time": "2022-05-14T18:49:06.725Z"
   },
   {
    "duration": 20,
    "start_time": "2022-05-14T18:49:06.743Z"
   },
   {
    "duration": 24,
    "start_time": "2022-05-14T18:49:06.765Z"
   },
   {
    "duration": 51,
    "start_time": "2022-05-14T18:49:06.792Z"
   },
   {
    "duration": 36,
    "start_time": "2022-05-14T18:49:06.845Z"
   },
   {
    "duration": 1212,
    "start_time": "2022-05-14T18:49:06.884Z"
   },
   {
    "duration": 104,
    "start_time": "2022-05-14T18:49:08.098Z"
   },
   {
    "duration": 41,
    "start_time": "2022-05-14T18:49:08.204Z"
   },
   {
    "duration": 26,
    "start_time": "2022-05-14T18:49:08.247Z"
   },
   {
    "duration": 425,
    "start_time": "2022-05-14T18:49:08.276Z"
   },
   {
    "duration": 271,
    "start_time": "2022-05-14T18:49:08.703Z"
   },
   {
    "duration": 21,
    "start_time": "2022-05-14T18:49:08.976Z"
   },
   {
    "duration": 50,
    "start_time": "2022-05-14T18:49:08.999Z"
   },
   {
    "duration": 8,
    "start_time": "2022-05-14T18:49:09.051Z"
   },
   {
    "duration": 19,
    "start_time": "2022-05-14T18:49:09.061Z"
   },
   {
    "duration": 43,
    "start_time": "2022-05-14T18:49:09.082Z"
   },
   {
    "duration": 315,
    "start_time": "2022-05-14T18:49:09.129Z"
   },
   {
    "duration": 356,
    "start_time": "2022-05-14T18:49:09.447Z"
   },
   {
    "duration": 1513,
    "start_time": "2022-05-16T00:26:49.093Z"
   },
   {
    "duration": 31,
    "start_time": "2022-05-16T00:26:50.608Z"
   },
   {
    "duration": 28,
    "start_time": "2022-05-16T00:26:50.641Z"
   },
   {
    "duration": 39,
    "start_time": "2022-05-16T00:26:50.671Z"
   },
   {
    "duration": 20,
    "start_time": "2022-05-16T00:26:50.712Z"
   },
   {
    "duration": 22,
    "start_time": "2022-05-16T00:26:50.733Z"
   },
   {
    "duration": 6,
    "start_time": "2022-05-16T00:26:50.756Z"
   },
   {
    "duration": 46,
    "start_time": "2022-05-16T00:26:50.763Z"
   },
   {
    "duration": 377,
    "start_time": "2022-05-16T00:26:50.811Z"
   },
   {
    "duration": 25,
    "start_time": "2022-05-16T00:26:51.192Z"
   },
   {
    "duration": 252,
    "start_time": "2022-05-16T00:26:51.218Z"
   },
   {
    "duration": 316,
    "start_time": "2022-05-16T00:26:51.472Z"
   },
   {
    "duration": 35,
    "start_time": "2022-05-16T00:26:51.789Z"
   },
   {
    "duration": 442,
    "start_time": "2022-05-16T00:26:51.825Z"
   },
   {
    "duration": 9,
    "start_time": "2022-05-16T00:26:52.269Z"
   },
   {
    "duration": 10,
    "start_time": "2022-05-16T00:26:52.280Z"
   },
   {
    "duration": 25,
    "start_time": "2022-05-16T00:26:52.291Z"
   },
   {
    "duration": 13,
    "start_time": "2022-05-16T00:26:52.317Z"
   },
   {
    "duration": 20,
    "start_time": "2022-05-16T00:26:52.332Z"
   },
   {
    "duration": 695,
    "start_time": "2022-05-16T00:26:52.354Z"
   },
   {
    "duration": 27,
    "start_time": "2022-05-16T00:26:53.050Z"
   },
   {
    "duration": 31,
    "start_time": "2022-05-16T00:26:53.079Z"
   },
   {
    "duration": 17,
    "start_time": "2022-05-16T00:26:53.112Z"
   },
   {
    "duration": 268,
    "start_time": "2022-05-16T00:26:53.131Z"
   },
   {
    "duration": 220,
    "start_time": "2022-05-16T00:26:53.401Z"
   },
   {
    "duration": 14,
    "start_time": "2022-05-16T00:26:53.623Z"
   },
   {
    "duration": 24,
    "start_time": "2022-05-16T00:26:53.638Z"
   },
   {
    "duration": 6,
    "start_time": "2022-05-16T00:26:53.665Z"
   },
   {
    "duration": 38,
    "start_time": "2022-05-16T00:26:53.673Z"
   },
   {
    "duration": 8,
    "start_time": "2022-05-16T00:26:53.712Z"
   },
   {
    "duration": 201,
    "start_time": "2022-05-16T00:26:53.722Z"
   },
   {
    "duration": 223,
    "start_time": "2022-05-16T00:26:53.925Z"
   },
   {
    "duration": 15,
    "start_time": "2022-05-16T00:28:46.514Z"
   },
   {
    "duration": 14,
    "start_time": "2022-05-16T00:29:33.130Z"
   },
   {
    "duration": 11,
    "start_time": "2022-05-16T00:30:05.835Z"
   },
   {
    "duration": 71,
    "start_time": "2022-05-16T00:32:51.560Z"
   },
   {
    "duration": 77,
    "start_time": "2022-05-16T00:40:14.241Z"
   },
   {
    "duration": 1314,
    "start_time": "2022-05-16T01:08:56.098Z"
   },
   {
    "duration": 28,
    "start_time": "2022-05-16T01:08:57.413Z"
   },
   {
    "duration": 24,
    "start_time": "2022-05-16T01:08:57.444Z"
   },
   {
    "duration": 13,
    "start_time": "2022-05-16T01:08:57.470Z"
   },
   {
    "duration": 42,
    "start_time": "2022-05-16T01:08:57.484Z"
   },
   {
    "duration": 21,
    "start_time": "2022-05-16T01:08:57.527Z"
   },
   {
    "duration": 6,
    "start_time": "2022-05-16T01:08:57.549Z"
   },
   {
    "duration": 18,
    "start_time": "2022-05-16T01:08:57.557Z"
   },
   {
    "duration": 371,
    "start_time": "2022-05-16T01:08:57.608Z"
   },
   {
    "duration": 18,
    "start_time": "2022-05-16T01:08:57.981Z"
   },
   {
    "duration": 230,
    "start_time": "2022-05-16T01:08:58.000Z"
   },
   {
    "duration": 323,
    "start_time": "2022-05-16T01:08:58.232Z"
   },
   {
    "duration": 31,
    "start_time": "2022-05-16T01:08:58.557Z"
   },
   {
    "duration": 393,
    "start_time": "2022-05-16T01:08:58.589Z"
   },
   {
    "duration": 10,
    "start_time": "2022-05-16T01:08:58.983Z"
   },
   {
    "duration": 20,
    "start_time": "2022-05-16T01:08:58.995Z"
   },
   {
    "duration": 14,
    "start_time": "2022-05-16T01:08:59.017Z"
   },
   {
    "duration": 14,
    "start_time": "2022-05-16T01:08:59.033Z"
   },
   {
    "duration": 23,
    "start_time": "2022-05-16T01:08:59.048Z"
   },
   {
    "duration": 726,
    "start_time": "2022-05-16T01:08:59.073Z"
   },
   {
    "duration": 29,
    "start_time": "2022-05-16T01:08:59.801Z"
   },
   {
    "duration": 19,
    "start_time": "2022-05-16T01:08:59.831Z"
   },
   {
    "duration": 19,
    "start_time": "2022-05-16T01:08:59.852Z"
   },
   {
    "duration": 274,
    "start_time": "2022-05-16T01:08:59.872Z"
   },
   {
    "duration": 307,
    "start_time": "2022-05-16T01:09:00.148Z"
   },
   {
    "duration": 14,
    "start_time": "2022-05-16T01:09:00.457Z"
   },
   {
    "duration": 26,
    "start_time": "2022-05-16T01:09:00.473Z"
   },
   {
    "duration": 9,
    "start_time": "2022-05-16T01:09:00.502Z"
   },
   {
    "duration": 7,
    "start_time": "2022-05-16T01:09:00.513Z"
   },
   {
    "duration": 10,
    "start_time": "2022-05-16T01:09:00.522Z"
   },
   {
    "duration": 211,
    "start_time": "2022-05-16T01:09:00.534Z"
   },
   {
    "duration": 218,
    "start_time": "2022-05-16T01:09:00.747Z"
   },
   {
    "duration": 1524,
    "start_time": "2022-06-13T16:47:00.488Z"
   },
   {
    "duration": 30,
    "start_time": "2022-06-13T16:47:02.014Z"
   },
   {
    "duration": 46,
    "start_time": "2022-06-13T16:47:02.046Z"
   },
   {
    "duration": 13,
    "start_time": "2022-06-13T16:47:02.094Z"
   },
   {
    "duration": 20,
    "start_time": "2022-06-13T16:47:02.109Z"
   },
   {
    "duration": 38,
    "start_time": "2022-06-13T16:47:02.130Z"
   },
   {
    "duration": 6,
    "start_time": "2022-06-13T16:47:02.169Z"
   },
   {
    "duration": 31,
    "start_time": "2022-06-13T16:47:02.177Z"
   },
   {
    "duration": 371,
    "start_time": "2022-06-13T16:47:02.210Z"
   },
   {
    "duration": 17,
    "start_time": "2022-06-13T16:47:02.583Z"
   },
   {
    "duration": 243,
    "start_time": "2022-06-13T16:47:02.602Z"
   },
   {
    "duration": 348,
    "start_time": "2022-06-13T16:47:02.847Z"
   },
   {
    "duration": 32,
    "start_time": "2022-06-13T16:47:03.196Z"
   },
   {
    "duration": 396,
    "start_time": "2022-06-13T16:47:03.230Z"
   },
   {
    "duration": 10,
    "start_time": "2022-06-13T16:47:03.628Z"
   },
   {
    "duration": 21,
    "start_time": "2022-06-13T16:47:03.639Z"
   },
   {
    "duration": 27,
    "start_time": "2022-06-13T16:47:03.661Z"
   },
   {
    "duration": 22,
    "start_time": "2022-06-13T16:47:03.691Z"
   },
   {
    "duration": 24,
    "start_time": "2022-06-13T16:47:03.715Z"
   },
   {
    "duration": 658,
    "start_time": "2022-06-13T16:47:03.741Z"
   },
   {
    "duration": 24,
    "start_time": "2022-06-13T16:47:04.401Z"
   },
   {
    "duration": 34,
    "start_time": "2022-06-13T16:47:04.426Z"
   },
   {
    "duration": 19,
    "start_time": "2022-06-13T16:47:04.461Z"
   },
   {
    "duration": 241,
    "start_time": "2022-06-13T16:47:04.482Z"
   },
   {
    "duration": 271,
    "start_time": "2022-06-13T16:47:04.724Z"
   },
   {
    "duration": 15,
    "start_time": "2022-06-13T16:47:04.997Z"
   },
   {
    "duration": 25,
    "start_time": "2022-06-13T16:47:05.013Z"
   },
   {
    "duration": 20,
    "start_time": "2022-06-13T16:47:05.039Z"
   },
   {
    "duration": 8,
    "start_time": "2022-06-13T16:47:05.060Z"
   },
   {
    "duration": 13,
    "start_time": "2022-06-13T16:47:05.069Z"
   },
   {
    "duration": 188,
    "start_time": "2022-06-13T16:47:05.083Z"
   },
   {
    "duration": 207,
    "start_time": "2022-06-13T16:47:05.272Z"
   }
  ],
  "kernelspec": {
   "display_name": "Python 3",
   "language": "python",
   "name": "python3"
  },
  "language_info": {
   "codemirror_mode": {
    "name": "ipython",
    "version": 3
   },
   "file_extension": ".py",
   "mimetype": "text/x-python",
   "name": "python",
   "nbconvert_exporter": "python",
   "pygments_lexer": "ipython3",
   "version": "3.7.12"
  },
  "toc": {
   "base_numbering": 1,
   "nav_menu": {},
   "number_sections": true,
   "sideBar": true,
   "skip_h1_title": true,
   "title_cell": "Table of Contents",
   "title_sidebar": "Contents",
   "toc_cell": false,
   "toc_position": {
    "height": "calc(100% - 180px)",
    "left": "10px",
    "top": "150px",
    "width": "165px"
   },
   "toc_section_display": true,
   "toc_window_display": false
  }
 },
 "nbformat": 4,
 "nbformat_minor": 2
}
